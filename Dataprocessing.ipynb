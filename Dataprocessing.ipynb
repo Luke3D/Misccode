{
 "cells": [
  {
   "cell_type": "markdown",
   "metadata": {},
   "source": [
    "# Data extraction and processing\n",
    "see here for API tutorial on selecting data\n",
    "http://docs.synapse.org/rest/org/sagebionetworks/repo/web/controller/TableExamples.html"
   ]
  },
  {
   "cell_type": "code",
   "execution_count": 2,
   "metadata": {
    "collapsed": false
   },
   "outputs": [],
   "source": [
    "# # %load sc2FitModels.py"
   ]
  },
  {
   "cell_type": "code",
   "execution_count": 1,
   "metadata": {
    "collapsed": true
   },
   "outputs": [],
   "source": [
    "import pandas as pd\n",
    "import json\n",
    "import numpy as np\n",
    "from scipy.stats import skew, kurtosis, pearsonr\n",
    "from scipy.signal import butter, welch, filtfilt\n",
    "from sklearn.preprocessing import StandardScaler\n",
    "from sklearn.model_selection import LeaveOneGroupOut\n",
    "import xgboost as xgb\n",
    "from xgboost.sklearn import XGBClassifier #this is the SKlearn wrapper\n",
    "import nolds\n",
    "import time\n",
    "import matplotlib.pyplot as plt\n",
    "import seaborn as sns\n",
    "%matplotlib inline"
   ]
  },
  {
   "cell_type": "code",
   "execution_count": 2,
   "metadata": {
    "collapsed": true
   },
   "outputs": [],
   "source": [
    "from IPython.core.debugger import Tracer"
   ]
  },
  {
   "cell_type": "code",
   "execution_count": 3,
   "metadata": {
    "collapsed": false
   },
   "outputs": [],
   "source": [
    "import synapseclient"
   ]
  },
  {
   "cell_type": "code",
   "execution_count": 4,
   "metadata": {
    "collapsed": false,
    "scrolled": true
   },
   "outputs": [
    {
     "name": "stdout",
     "output_type": "stream",
     "text": [
      "Welcome, Luca Lonini!\n",
      "\n"
     ]
    }
   ],
   "source": [
    "syn=synapseclient.login()"
   ]
  },
  {
   "cell_type": "markdown",
   "metadata": {},
   "source": [
    "### Helper fcns - Feature extraction and clip generation"
   ]
  },
  {
   "cell_type": "code",
   "execution_count": 388,
   "metadata": {
    "collapsed": true
   },
   "outputs": [],
   "source": [
    "#feature extraction\n",
    "#INPUT: raw x,y,z accelerometer data (dataframe)\n",
    "def feature_extraction(rawdata):\n",
    "    \n",
    "    #drop time and magnitude feature\n",
    "    rawdata_wtime = rawdata.copy()\n",
    "    rawdata=rawdata.iloc[:,1:4]\n",
    "    \n",
    "    features_list = ['EX','EY','EZ','rangeX','rangeY','rangeZ','meanX','meanY','meanZ','varX','varY','varZ',\n",
    "                    'skewX','skewY','skewZ','kurtX','kurtY','kurtZ','xcor_peakXY','xcorr_peakXZ','xcorr_peakYZ',\n",
    "                    'xcorr_lagXY','xcorr_lagXZ','xcorr_lagYZ','Dom_freq','Pdom_rel']\n",
    "    \n",
    "\n",
    "    #cycle through all clips for current trial and save dataframe of features for current trial and sensor\n",
    "    features = []\n",
    "\n",
    "    #extract features on current clip\n",
    "\n",
    "    #Energy of signal on each axis\n",
    "    E = np.asarray(np.sum(rawdata**2,axis=0))\n",
    "\n",
    "    #range on each axis\n",
    "    min_xyz = np.min(rawdata,axis=0)\n",
    "    max_xyz = np.max(rawdata,axis=0)\n",
    "    r = np.asarray(max_xyz-min_xyz)\n",
    "\n",
    "    #Moments on each axis\n",
    "    mean = np.asarray(np.mean(rawdata,axis=0))\n",
    "    var = np.asarray(np.std(rawdata,axis=0))\n",
    "    sk = skew(rawdata)\n",
    "    kurt = kurtosis(rawdata)\n",
    "\n",
    "    #Cross-correlation between axes pairs\n",
    "    xcorr_xy = np.correlate(rawdata.iloc[:,0],rawdata.iloc[:,1],mode='same')\n",
    "    xcorr_xy = xcorr_xy/np.sum(xcorr_xy) #normalize values\n",
    "    xcorr_peak_xy = np.max(xcorr_xy)\n",
    "    xcorr_lag_xy = (np.argmax(xcorr_xy))/len(xcorr_xy) #normalized lag\n",
    "\n",
    "    xcorr_xz = np.correlate(rawdata.iloc[:,0],rawdata.iloc[:,2],mode='same')\n",
    "    xcorr_xz = xcorr_xz/np.sum(xcorr_xz) #normalize values\n",
    "    xcorr_peak_xz = np.max(xcorr_xz)\n",
    "    xcorr_lag_xz = (np.argmax(xcorr_xz))/len(xcorr_xz)\n",
    "\n",
    "    xcorr_yz = np.correlate(rawdata.iloc[:,1],rawdata.iloc[:,2],mode='same')\n",
    "    xcorr_yz = xcorr_yz/np.sum(xcorr_yz) #normalize values\n",
    "    xcorr_peak_yz = np.max(xcorr_yz)\n",
    "    xcorr_lag_yz = (np.argmax(xcorr_yz))/len(xcorr_yz)\n",
    "\n",
    "    #pack xcorr features\n",
    "    xcorr_peak = np.array([xcorr_peak_xy,xcorr_peak_xz,xcorr_peak_yz])\n",
    "    xcorr_lag = np.array([xcorr_lag_xy,xcorr_lag_xz,xcorr_lag_yz])\n",
    "    \n",
    "    #Dominant freq and relative magnitude (on acc magnitude)\n",
    "    Pxx = power_spectra_welch(rawdata_wtime,fm=1,fM=10)\n",
    "    domfreq = np.asarray([Pxx.iloc[:,-1].argmax()]) \n",
    "    Pdom_rel = Pxx.loc[domfreq].iloc[:,-1].values/Pxx.iloc[:,-1].sum() #power at dominant freq rel to total\n",
    "\n",
    "    #sample entropy raw data and FFT - COMPUTATIONALLY EXPENSIVE - TAKE OUT FOR NOW\n",
    "#     sH_raw = []; sH_fft = []\n",
    "#     for a in range(3):\n",
    "#         x = rawdata.iloc[:,a]\n",
    "#         n = len(x) #number of samples in clip\n",
    "#         Fs = np.mean(1/(np.diff(x.index)/1000)) #sampling rate in clip\n",
    "#         sH_raw.append(nolds.sampen(x)) #samp entr raw data\n",
    "#         f,Pxx_den = welch(x,Fs,nperseg=min(256,n/4))\n",
    "#         sH_fft.append(nolds.sampen(Pxx_den)) #samp entr fft\n",
    "\n",
    "    #Assemble features in array\n",
    "    X = np.concatenate((E,r,mean,var,sk,kurt,xcorr_peak,xcorr_lag,domfreq,Pdom_rel))\n",
    "#                 X = X.reshape(1,X.shape[0])\n",
    "    features.append(X)\n",
    "\n",
    "    F = np.asarray(features) #feature matrix for all clips from current trial\n",
    "    return F,features_list\n",
    "\n",
    "\n",
    "def gen_clips(rawdata,clipsize=5,overlap=0):\n",
    "    \n",
    "    len_tol = 0.8   #% of the intended clipsize below which clip is not used (deprecated for now)\n",
    "    #reindex time (relative to start)\n",
    "    t = rawdata.timestamp\n",
    "    t = t-t.iloc[0]\n",
    "    rawdata.timestamp = t\n",
    "    #create clips data\n",
    "    deltat = np.median(np.diff(rawdata.timestamp))\n",
    "    idx = np.arange(0,rawdata.timestamp.iloc[-1],clipsize*(1-overlap))\n",
    "    clips = []\n",
    "    for i in idx:\n",
    "        c = rawdata[(rawdata.timestamp>=i) & (rawdata.timestamp<i+clipsize)]\n",
    "        if len(c) > 10: #at least n data points in clip\n",
    "            clips.append(c)\n",
    "#         if len(c) > 0.8*int(clipsize/deltat): #discard clips whose length is less than len_tol% of the window size\n",
    "    return clips\n",
    "\n",
    "#returns power spectra of the signal over each channel between min and max freq at given resolution (nbins)\n",
    "#returns the labels for each bin; #if nbins = -1 does not bin the data\n",
    "#if binavg is True it averages the PSD within bins to reduce PSD noise\n",
    "#**DO NOT USE - NEED TO FIX BUG*** \n",
    "def powerspectra(x,fm,fM,nbins=-1,relative=False,binavg=True):\n",
    "    \n",
    "    #feature labels (if binned)\n",
    "    labels=[]\n",
    "    if nbins > 0:\n",
    "        s = np.linspace(fm,fM,nbins)\n",
    "        lax = ['X','Y','Z']\n",
    "        for l in lax:\n",
    "            for i in s:\n",
    "                labels.append('fft'+l+str(int(i)))\n",
    "        \n",
    "    #signal features\n",
    "    n = len(x) #number of samples in clip\n",
    "    Fs = np.nanmean(1/(np.diff(x.timestamp))) #sampling rate in clip\n",
    "    timestep = 1/Fs \n",
    "    freq = np.fft.fftfreq(n,d=timestep) #frequency bins\n",
    "\n",
    "    #run FFT on each channel \n",
    "    x = x.drop('timestamp',axis=1)\n",
    "    Xf = x.apply(np.fft.fft)\n",
    "    Xf.index = np.round(freq,decimals=1) #reindex w frequency bin\n",
    "    Pxx = Xf.apply(np.abs)\n",
    "    Pxx = Pxx**2 #power spectra\n",
    "    \n",
    "    if relative:\n",
    "        Pxx = Pxx/np.sum(Pxx,axis=0) #power relative to total\n",
    "        \n",
    "    if nbins > 0:\n",
    "        #power spectra between fm-fM Hz\n",
    "        bin1 = int(timestep*n*fm)\n",
    "        bin2 = int(timestep*n*fM)\n",
    "        bins = np.linspace(bin1,bin2,nbins,dtype=int)\n",
    "    #     print(bins/(round(timestep*n)))\n",
    "\n",
    "        #average power spectra within bins - CHECK FOR BUG!\n",
    "        if binavg:\n",
    "            deltab = int(0.5*np.diff(bins)[0]) #half the size of a bin (in samples)\n",
    "            Pxxm = []\n",
    "            for i in bins:\n",
    "                start = int(max(i-deltab,bins[0]))\n",
    "                end = int(min(i+deltab,bins[-1]))\n",
    "                Pxxm.append(np.nanmean(Pxx.iloc[start:end,:].values,axis=0))            \n",
    "            Pxxm = np.asarray(Pxxm)\n",
    "            Pxx = pd.DataFrame(data=Pxxm,index=Pxx.index[bins],columns=Pxx.columns)\n",
    "            return Pxx, labels\n",
    "\n",
    "        else:\n",
    "            return Pxx.iloc[bins,:], labels\n",
    "    #no binning\n",
    "    else:\n",
    "        return Pxx\n",
    "\n",
    "    \n",
    "#PSD on magnitude using Welch\n",
    "def power_spectra_welch(rawdata,fm,fM):\n",
    "    x = rawdata.iloc[:,-1]\n",
    "    n = len(x) #number of samples in clip\n",
    "    Fs = np.mean(1/(np.diff(rawdata.timestamp))) #sampling rate in clip\n",
    "    f,Pxx_den = welch(x,Fs,nperseg=min(256,n))\n",
    "    #return PSD in desired interval of freq\n",
    "    inds = (f<=fM)&(f>=fm)\n",
    "    f=f[inds]\n",
    "    Pxx_den=Pxx_den[inds]\n",
    "    Pxxdf = pd.DataFrame(data=Pxx_den,index=f,columns=['PSD_magnitude'])\n",
    "\n",
    "    return Pxxdf\n",
    "\n",
    "    \n",
    "#highpass (or lowpass) filter data. HP to remove gravity (offset - limb orientation) from accelerometer data from each visit (trial)\n",
    "def filter_signal(rawdata,cutoff=0.75,ftype='highpass',order=4):\n",
    "\n",
    "    t = rawdata.timestamp\n",
    "    t = t-t.iloc[0]\n",
    "    rawdata.timestamp = t\n",
    "    x = rawdata.iloc[:,1:].values\n",
    "    Fs = np.mean(1/(np.diff(rawdata.timestamp))) #sampling rate    \n",
    "    #filter design\n",
    "    cutoff_norm = cutoff/(0.5*Fs)\n",
    "    b,a = butter(order,cutoff_norm,btype=ftype,analog=False)\n",
    "    #filter data\n",
    "    xfilt = filtfilt(b,a,x,axis=0)\n",
    "    t = np.expand_dims(t,axis=1)\n",
    "    rawdatafilt = pd.DataFrame(data=np.hstack((t,xfilt)),columns=rawdata.columns)\n",
    "    return rawdatafilt\n"
   ]
  },
  {
   "cell_type": "code",
   "execution_count": 6,
   "metadata": {
    "collapsed": true
   },
   "outputs": [],
   "source": [
    "#X,y are numpy arrays with features and target\n",
    "#returns mean feature importance\n",
    "def LOSOCV(X,y,groups,models):\n",
    "\n",
    "    subj = LeaveOneGroupOut() \n",
    "\n",
    "    #train multiple classifiers\n",
    "    for m in models:\n",
    "        Sens_all=[]; Spec_all=[]; acc_all=[]; acc_train=[] #sens and spec for current model and all subject\n",
    "        fi_all=[]\n",
    "\n",
    "        clf = m[0]; model_name = m[1]            \n",
    "        print('Training %s'%model_name)\n",
    "        \n",
    "        #LOSO CV for current classifier\n",
    "        for train_index, test_index in subj.split(X, y, groups):\n",
    "            Xtr, Xte = X[train_index], X[test_index]\n",
    "            ytr, yte = y[train_index], y[test_index]\n",
    "            clf.fit(Xtr,ytr)\n",
    "            ypred = clf.predict(Xte)\n",
    "            yscore = clf.predict_proba(Xte)\n",
    "            yscore = yscore[:,1]\n",
    "            \n",
    "            #accuracy on train set\n",
    "            ypred_train = clf.predict(Xtr)\n",
    "            acc_train.append(sum(ypred_train==ytr)/len(ytr))\n",
    "\n",
    "            #compute Sens and Spec for current subject and classifier\n",
    "            if np.sum(yte==1)>0:                    \n",
    "                Sens = sum((ypred==1)&( yte==1))/sum(yte==1)\n",
    "            else:\n",
    "                print('no positive examples for current test subj')\n",
    "                Sens = np.nan\n",
    "            if np.sum(yte==0)>0:\n",
    "                Spec = sum((ypred==0) & (yte==0))/sum(yte==0)\n",
    "            else:\n",
    "                Spec = np.nan\n",
    "                print('no negative examples for current test subj')\n",
    "            Sens_all.append(Sens); Spec_all.append(Spec)\n",
    "            #compute accuracy\n",
    "            acc = sum(ypred==yte)/len(yte)\n",
    "            acc_all.append(acc)\n",
    "            #save fimp\n",
    "            fi_all.append(clf.feature_importances_)\n",
    "        \n",
    "        #mean across all subjects\n",
    "        print(('%s, mean Acc on training set = %.3f (+/- %0.3f)')%(model_name,np.nanmean(acc_train),2*np.nanstd(acc_train)/np.sqrt(len(acc_train))))\n",
    "        print(('%s, mean Sens = %.3f (+/- %0.3f)')%(model_name,np.nanmean(Sens_all),2*np.nanstd(Sens_all)/np.sqrt(len(Sens_all))))\n",
    "        print(('%s, mean Spec = %.3f (+/- %0.3f)')%(model_name,np.nanmean(Spec_all),2*np.nanstd(Spec_all)/np.sqrt(len(Spec_all))))\n",
    "        print(('%s, mean Acc = %.3f (+/- %0.3f)')%(model_name,np.nanmean(acc_all),2*np.nanstd(acc_all)/np.sqrt(len(acc_all))))\n",
    "\n",
    "    return fi_all"
   ]
  },
  {
   "cell_type": "code",
   "execution_count": 7,
   "metadata": {
    "collapsed": true
   },
   "outputs": [],
   "source": [
    "syntable = syn.tableQuery(\"SELECT * from syn10495809\")"
   ]
  },
  {
   "cell_type": "code",
   "execution_count": 5,
   "metadata": {
    "collapsed": false
   },
   "outputs": [],
   "source": [
    "table = syntable.asDataFrame()"
   ]
  },
  {
   "cell_type": "code",
   "execution_count": 6,
   "metadata": {
    "collapsed": false
   },
   "outputs": [
    {
     "name": "stdout",
     "output_type": "stream",
     "text": [
      "<class 'pandas.core.frame.DataFrame'>\n",
      "Index: 5168 entries, 25819_22 to 30986_23\n",
      "Data columns (total 11 columns):\n",
      "dataFileHandleId     5168 non-null int64\n",
      "device               5168 non-null object\n",
      "patient              5168 non-null object\n",
      "session              5168 non-null int64\n",
      "site                 5168 non-null object\n",
      "task                 5168 non-null object\n",
      "visit                5168 non-null int64\n",
      "deviceSide           5168 non-null object\n",
      "tremorScore          3667 non-null float64\n",
      "dyskinesiaScore      1556 non-null float64\n",
      "bradykinesiaScore    3016 non-null float64\n",
      "dtypes: float64(3), int64(3), object(5)\n",
      "memory usage: 484.5+ KB\n"
     ]
    }
   ],
   "source": [
    "table.info()"
   ]
  },
  {
   "cell_type": "code",
   "execution_count": 7,
   "metadata": {
    "collapsed": false
   },
   "outputs": [
    {
     "data": {
      "text/html": [
       "<div>\n",
       "<style>\n",
       "    .dataframe thead tr:only-child th {\n",
       "        text-align: right;\n",
       "    }\n",
       "\n",
       "    .dataframe thead th {\n",
       "        text-align: left;\n",
       "    }\n",
       "\n",
       "    .dataframe tbody tr th {\n",
       "        vertical-align: top;\n",
       "    }\n",
       "</style>\n",
       "<table border=\"1\" class=\"dataframe\">\n",
       "  <thead>\n",
       "    <tr style=\"text-align: right;\">\n",
       "      <th></th>\n",
       "      <th>dataFileHandleId</th>\n",
       "      <th>device</th>\n",
       "      <th>patient</th>\n",
       "      <th>session</th>\n",
       "      <th>site</th>\n",
       "      <th>task</th>\n",
       "      <th>visit</th>\n",
       "      <th>deviceSide</th>\n",
       "      <th>tremorScore</th>\n",
       "      <th>dyskinesiaScore</th>\n",
       "      <th>bradykinesiaScore</th>\n",
       "    </tr>\n",
       "  </thead>\n",
       "  <tbody>\n",
       "    <tr>\n",
       "      <th>25819_22</th>\n",
       "      <td>17286028</td>\n",
       "      <td>GENEActiv</td>\n",
       "      <td>13_BOS</td>\n",
       "      <td>1</td>\n",
       "      <td>Boston</td>\n",
       "      <td>drnkg</td>\n",
       "      <td>1</td>\n",
       "      <td>Right</td>\n",
       "      <td>1.0</td>\n",
       "      <td>NaN</td>\n",
       "      <td>1.0</td>\n",
       "    </tr>\n",
       "    <tr>\n",
       "      <th>25820_22</th>\n",
       "      <td>17286030</td>\n",
       "      <td>Pebble</td>\n",
       "      <td>13_BOS</td>\n",
       "      <td>1</td>\n",
       "      <td>Boston</td>\n",
       "      <td>drnkg</td>\n",
       "      <td>1</td>\n",
       "      <td>Left</td>\n",
       "      <td>1.0</td>\n",
       "      <td>NaN</td>\n",
       "      <td>1.0</td>\n",
       "    </tr>\n",
       "    <tr>\n",
       "      <th>25821_22</th>\n",
       "      <td>17286034</td>\n",
       "      <td>GENEActiv</td>\n",
       "      <td>13_BOS</td>\n",
       "      <td>1</td>\n",
       "      <td>Boston</td>\n",
       "      <td>fldng</td>\n",
       "      <td>1</td>\n",
       "      <td>Right</td>\n",
       "      <td>2.0</td>\n",
       "      <td>NaN</td>\n",
       "      <td>1.0</td>\n",
       "    </tr>\n",
       "    <tr>\n",
       "      <th>25822_22</th>\n",
       "      <td>17286036</td>\n",
       "      <td>Pebble</td>\n",
       "      <td>13_BOS</td>\n",
       "      <td>1</td>\n",
       "      <td>Boston</td>\n",
       "      <td>fldng</td>\n",
       "      <td>1</td>\n",
       "      <td>Left</td>\n",
       "      <td>1.0</td>\n",
       "      <td>NaN</td>\n",
       "      <td>1.0</td>\n",
       "    </tr>\n",
       "    <tr>\n",
       "      <th>25823_22</th>\n",
       "      <td>17286039</td>\n",
       "      <td>GENEActiv</td>\n",
       "      <td>13_BOS</td>\n",
       "      <td>1</td>\n",
       "      <td>Boston</td>\n",
       "      <td>ftnl1</td>\n",
       "      <td>1</td>\n",
       "      <td>Right</td>\n",
       "      <td>NaN</td>\n",
       "      <td>0.0</td>\n",
       "      <td>NaN</td>\n",
       "    </tr>\n",
       "  </tbody>\n",
       "</table>\n",
       "</div>"
      ],
      "text/plain": [
       "          dataFileHandleId     device patient  session    site   task  visit  \\\n",
       "25819_22          17286028  GENEActiv  13_BOS        1  Boston  drnkg      1   \n",
       "25820_22          17286030     Pebble  13_BOS        1  Boston  drnkg      1   \n",
       "25821_22          17286034  GENEActiv  13_BOS        1  Boston  fldng      1   \n",
       "25822_22          17286036     Pebble  13_BOS        1  Boston  fldng      1   \n",
       "25823_22          17286039  GENEActiv  13_BOS        1  Boston  ftnl1      1   \n",
       "\n",
       "         deviceSide  tremorScore  dyskinesiaScore  bradykinesiaScore  \n",
       "25819_22      Right          1.0              NaN                1.0  \n",
       "25820_22       Left          1.0              NaN                1.0  \n",
       "25821_22      Right          2.0              NaN                1.0  \n",
       "25822_22       Left          1.0              NaN                1.0  \n",
       "25823_22      Right          NaN              0.0                NaN  "
      ]
     },
     "execution_count": 7,
     "metadata": {},
     "output_type": "execute_result"
    }
   ],
   "source": [
    "table.head()"
   ]
  },
  {
   "cell_type": "code",
   "execution_count": 8,
   "metadata": {
    "collapsed": false
   },
   "outputs": [
    {
     "data": {
      "text/plain": [
       "<matplotlib.text.Text at 0x10ff46400>"
      ]
     },
     "execution_count": 8,
     "metadata": {},
     "output_type": "execute_result"
    },
    {
     "data": {
      "image/png": "[encoded data removed]",
      "text/plain": [
       "<matplotlib.figure.Figure at 0x1034dc7b8>"
      ]
     },
     "metadata": {},
     "output_type": "display_data"
    }
   ],
   "source": [
    "fig = plt.figure(figsize=(12,4))\n",
    "ax = fig.add_subplot(131)\n",
    "plt.title('tremor')\n",
    "table.tremorScore.hist()\n",
    "ax = fig.add_subplot(132)\n",
    "table.dyskinesiaScore.hist()\n",
    "plt.title('dyskinesia')\n",
    "ax = fig.add_subplot(133)\n",
    "table.bradykinesiaScore.hist()\n",
    "plt.title('bradykinesia')"
   ]
  },
  {
   "cell_type": "code",
   "execution_count": 9,
   "metadata": {
    "collapsed": false
   },
   "outputs": [
    {
     "data": {
      "text/plain": [
       "array(['drnkg', 'fldng', 'ftnl1', 'ftnl2', 'ftnr1', 'ftnr2', 'ntblt',\n",
       "       'orgpa', 'raml1', 'raml2', 'ramr1', 'ramr2'], dtype=object)"
      ]
     },
     "execution_count": 9,
     "metadata": {},
     "output_type": "execute_result"
    }
   ],
   "source": [
    "table.task.unique()"
   ]
  },
  {
   "cell_type": "code",
   "execution_count": 10,
   "metadata": {
    "collapsed": false
   },
   "outputs": [
    {
     "data": {
      "text/plain": [
       "12"
      ]
     },
     "execution_count": 10,
     "metadata": {},
     "output_type": "execute_result"
    }
   ],
   "source": [
    "sum(table.tremorScore==4)"
   ]
  },
  {
   "cell_type": "markdown",
   "metadata": {},
   "source": [
    "# Bradykinesia"
   ]
  },
  {
   "cell_type": "code",
   "execution_count": 7,
   "metadata": {
    "collapsed": true
   },
   "outputs": [],
   "source": [
    "q_brady_train = syn.tableQuery(\"SELECT * from syn10495809 where bradykinesiaScore is not null\")"
   ]
  },
  {
   "cell_type": "code",
   "execution_count": 8,
   "metadata": {
    "collapsed": false
   },
   "outputs": [
    {
     "name": "stdout",
     "output_type": "stream",
     "text": [
      "Downloading 0 files, 3016 cached locally\n"
     ]
    }
   ],
   "source": [
    "paths_train = syn.downloadTableColumns(q_brady_train,'dataFileHandleId')"
   ]
  },
  {
   "cell_type": "code",
   "execution_count": 9,
   "metadata": {
    "collapsed": true
   },
   "outputs": [],
   "source": [
    "df_train = q_brady_train.asDataFrame()"
   ]
  },
  {
   "cell_type": "code",
   "execution_count": 10,
   "metadata": {
    "collapsed": false
   },
   "outputs": [],
   "source": [
    "df_train['path']=df_train.dataFileHandleId.astype(str).map(paths_train)"
   ]
  },
  {
   "cell_type": "code",
   "execution_count": 11,
   "metadata": {
    "collapsed": false
   },
   "outputs": [
    {
     "data": {
      "text/html": [
       "<div>\n",
       "<style>\n",
       "    .dataframe thead tr:only-child th {\n",
       "        text-align: right;\n",
       "    }\n",
       "\n",
       "    .dataframe thead th {\n",
       "        text-align: left;\n",
       "    }\n",
       "\n",
       "    .dataframe tbody tr th {\n",
       "        vertical-align: top;\n",
       "    }\n",
       "</style>\n",
       "<table border=\"1\" class=\"dataframe\">\n",
       "  <thead>\n",
       "    <tr style=\"text-align: right;\">\n",
       "      <th></th>\n",
       "      <th>dataFileHandleId</th>\n",
       "      <th>device</th>\n",
       "      <th>patient</th>\n",
       "      <th>session</th>\n",
       "      <th>site</th>\n",
       "      <th>task</th>\n",
       "      <th>visit</th>\n",
       "      <th>deviceSide</th>\n",
       "      <th>tremorScore</th>\n",
       "      <th>dyskinesiaScore</th>\n",
       "      <th>bradykinesiaScore</th>\n",
       "      <th>path</th>\n",
       "    </tr>\n",
       "  </thead>\n",
       "  <tbody>\n",
       "    <tr>\n",
       "      <th>25819_22</th>\n",
       "      <td>17286028</td>\n",
       "      <td>GENEActiv</td>\n",
       "      <td>13_BOS</td>\n",
       "      <td>1</td>\n",
       "      <td>Boston</td>\n",
       "      <td>drnkg</td>\n",
       "      <td>1</td>\n",
       "      <td>Right</td>\n",
       "      <td>1</td>\n",
       "      <td>NaN</td>\n",
       "      <td>1</td>\n",
       "      <td>/Users/luca/Projects/DREAM_PD/Data/28/17286028...</td>\n",
       "    </tr>\n",
       "    <tr>\n",
       "      <th>25820_22</th>\n",
       "      <td>17286030</td>\n",
       "      <td>Pebble</td>\n",
       "      <td>13_BOS</td>\n",
       "      <td>1</td>\n",
       "      <td>Boston</td>\n",
       "      <td>drnkg</td>\n",
       "      <td>1</td>\n",
       "      <td>Left</td>\n",
       "      <td>1</td>\n",
       "      <td>NaN</td>\n",
       "      <td>1</td>\n",
       "      <td>/Users/luca/Projects/DREAM_PD/Data/30/17286030...</td>\n",
       "    </tr>\n",
       "    <tr>\n",
       "      <th>25821_22</th>\n",
       "      <td>17286034</td>\n",
       "      <td>GENEActiv</td>\n",
       "      <td>13_BOS</td>\n",
       "      <td>1</td>\n",
       "      <td>Boston</td>\n",
       "      <td>fldng</td>\n",
       "      <td>1</td>\n",
       "      <td>Right</td>\n",
       "      <td>2</td>\n",
       "      <td>NaN</td>\n",
       "      <td>1</td>\n",
       "      <td>/Users/luca/Projects/DREAM_PD/Data/34/17286034...</td>\n",
       "    </tr>\n",
       "    <tr>\n",
       "      <th>25822_22</th>\n",
       "      <td>17286036</td>\n",
       "      <td>Pebble</td>\n",
       "      <td>13_BOS</td>\n",
       "      <td>1</td>\n",
       "      <td>Boston</td>\n",
       "      <td>fldng</td>\n",
       "      <td>1</td>\n",
       "      <td>Left</td>\n",
       "      <td>1</td>\n",
       "      <td>NaN</td>\n",
       "      <td>1</td>\n",
       "      <td>/Users/luca/Projects/DREAM_PD/Data/36/17286036...</td>\n",
       "    </tr>\n",
       "    <tr>\n",
       "      <th>25824_22</th>\n",
       "      <td>17286042</td>\n",
       "      <td>Pebble</td>\n",
       "      <td>13_BOS</td>\n",
       "      <td>1</td>\n",
       "      <td>Boston</td>\n",
       "      <td>ftnl1</td>\n",
       "      <td>1</td>\n",
       "      <td>Left</td>\n",
       "      <td>2</td>\n",
       "      <td>NaN</td>\n",
       "      <td>1</td>\n",
       "      <td>/Users/luca/Projects/DREAM_PD/Data/42/17286042...</td>\n",
       "    </tr>\n",
       "  </tbody>\n",
       "</table>\n",
       "</div>"
      ],
      "text/plain": [
       "          dataFileHandleId     device patient  session    site   task  visit  \\\n",
       "25819_22          17286028  GENEActiv  13_BOS        1  Boston  drnkg      1   \n",
       "25820_22          17286030     Pebble  13_BOS        1  Boston  drnkg      1   \n",
       "25821_22          17286034  GENEActiv  13_BOS        1  Boston  fldng      1   \n",
       "25822_22          17286036     Pebble  13_BOS        1  Boston  fldng      1   \n",
       "25824_22          17286042     Pebble  13_BOS        1  Boston  ftnl1      1   \n",
       "\n",
       "         deviceSide  tremorScore  dyskinesiaScore  bradykinesiaScore  \\\n",
       "25819_22      Right            1              NaN                  1   \n",
       "25820_22       Left            1              NaN                  1   \n",
       "25821_22      Right            2              NaN                  1   \n",
       "25822_22       Left            1              NaN                  1   \n",
       "25824_22       Left            2              NaN                  1   \n",
       "\n",
       "                                                       path  \n",
       "25819_22  /Users/luca/Projects/DREAM_PD/Data/28/17286028...  \n",
       "25820_22  /Users/luca/Projects/DREAM_PD/Data/30/17286030...  \n",
       "25821_22  /Users/luca/Projects/DREAM_PD/Data/34/17286034...  \n",
       "25822_22  /Users/luca/Projects/DREAM_PD/Data/36/17286036...  \n",
       "25824_22  /Users/luca/Projects/DREAM_PD/Data/42/17286042...  "
      ]
     },
     "execution_count": 11,
     "metadata": {},
     "output_type": "execute_result"
    }
   ],
   "source": [
    "df_train.head(5)"
   ]
  },
  {
   "cell_type": "code",
   "execution_count": 12,
   "metadata": {
    "collapsed": true
   },
   "outputs": [],
   "source": [
    "df_train_brady = df_train"
   ]
  },
  {
   "cell_type": "markdown",
   "metadata": {},
   "source": [
    "## Train a baseline classifier using the metadata only"
   ]
  },
  {
   "cell_type": "code",
   "execution_count": 13,
   "metadata": {
    "collapsed": false
   },
   "outputs": [
    {
     "data": {
      "text/plain": [
       "19"
      ]
     },
     "execution_count": 13,
     "metadata": {},
     "output_type": "execute_result"
    }
   ],
   "source": [
    "len(df_train.patient.unique())"
   ]
  },
  {
   "cell_type": "code",
   "execution_count": 14,
   "metadata": {
    "collapsed": false
   },
   "outputs": [],
   "source": [
    "X_meta = df_train[['dataFileHandleId','device','patient','session','site','task','visit','deviceSide']]\n",
    "y_meta = df_train['bradykinesiaScore']"
   ]
  },
  {
   "cell_type": "markdown",
   "metadata": {},
   "source": [
    "## Encode categorical variables with dummy values"
   ]
  },
  {
   "cell_type": "code",
   "execution_count": 15,
   "metadata": {
    "collapsed": true
   },
   "outputs": [],
   "source": [
    "from sklearn import preprocessing\n",
    "le = preprocessing.LabelEncoder()"
   ]
  },
  {
   "cell_type": "code",
   "execution_count": 16,
   "metadata": {
    "collapsed": false
   },
   "outputs": [
    {
     "data": {
      "text/html": [
       "<div>\n",
       "<style>\n",
       "    .dataframe thead tr:only-child th {\n",
       "        text-align: right;\n",
       "    }\n",
       "\n",
       "    .dataframe thead th {\n",
       "        text-align: left;\n",
       "    }\n",
       "\n",
       "    .dataframe tbody tr th {\n",
       "        vertical-align: top;\n",
       "    }\n",
       "</style>\n",
       "<table border=\"1\" class=\"dataframe\">\n",
       "  <thead>\n",
       "    <tr style=\"text-align: right;\">\n",
       "      <th></th>\n",
       "      <th>dataFileHandleId</th>\n",
       "      <th>device</th>\n",
       "      <th>patient</th>\n",
       "      <th>session</th>\n",
       "      <th>site</th>\n",
       "      <th>task</th>\n",
       "      <th>visit</th>\n",
       "      <th>deviceSide</th>\n",
       "    </tr>\n",
       "  </thead>\n",
       "  <tbody>\n",
       "    <tr>\n",
       "      <th>25819_22</th>\n",
       "      <td>17286028</td>\n",
       "      <td>GENEActiv</td>\n",
       "      <td>13_BOS</td>\n",
       "      <td>1</td>\n",
       "      <td>Boston</td>\n",
       "      <td>drnkg</td>\n",
       "      <td>1</td>\n",
       "      <td>Right</td>\n",
       "    </tr>\n",
       "    <tr>\n",
       "      <th>25820_22</th>\n",
       "      <td>17286030</td>\n",
       "      <td>Pebble</td>\n",
       "      <td>13_BOS</td>\n",
       "      <td>1</td>\n",
       "      <td>Boston</td>\n",
       "      <td>drnkg</td>\n",
       "      <td>1</td>\n",
       "      <td>Left</td>\n",
       "    </tr>\n",
       "    <tr>\n",
       "      <th>25821_22</th>\n",
       "      <td>17286034</td>\n",
       "      <td>GENEActiv</td>\n",
       "      <td>13_BOS</td>\n",
       "      <td>1</td>\n",
       "      <td>Boston</td>\n",
       "      <td>fldng</td>\n",
       "      <td>1</td>\n",
       "      <td>Right</td>\n",
       "    </tr>\n",
       "    <tr>\n",
       "      <th>25822_22</th>\n",
       "      <td>17286036</td>\n",
       "      <td>Pebble</td>\n",
       "      <td>13_BOS</td>\n",
       "      <td>1</td>\n",
       "      <td>Boston</td>\n",
       "      <td>fldng</td>\n",
       "      <td>1</td>\n",
       "      <td>Left</td>\n",
       "    </tr>\n",
       "    <tr>\n",
       "      <th>25824_22</th>\n",
       "      <td>17286042</td>\n",
       "      <td>Pebble</td>\n",
       "      <td>13_BOS</td>\n",
       "      <td>1</td>\n",
       "      <td>Boston</td>\n",
       "      <td>ftnl1</td>\n",
       "      <td>1</td>\n",
       "      <td>Left</td>\n",
       "    </tr>\n",
       "  </tbody>\n",
       "</table>\n",
       "</div>"
      ],
      "text/plain": [
       "          dataFileHandleId     device patient  session    site   task  visit  \\\n",
       "25819_22          17286028  GENEActiv  13_BOS        1  Boston  drnkg      1   \n",
       "25820_22          17286030     Pebble  13_BOS        1  Boston  drnkg      1   \n",
       "25821_22          17286034  GENEActiv  13_BOS        1  Boston  fldng      1   \n",
       "25822_22          17286036     Pebble  13_BOS        1  Boston  fldng      1   \n",
       "25824_22          17286042     Pebble  13_BOS        1  Boston  ftnl1      1   \n",
       "\n",
       "         deviceSide  \n",
       "25819_22      Right  \n",
       "25820_22       Left  \n",
       "25821_22      Right  \n",
       "25822_22       Left  \n",
       "25824_22       Left  "
      ]
     },
     "execution_count": 16,
     "metadata": {},
     "output_type": "execute_result"
    }
   ],
   "source": [
    "X_meta.head()"
   ]
  },
  {
   "cell_type": "code",
   "execution_count": 17,
   "metadata": {
    "collapsed": false
   },
   "outputs": [],
   "source": [
    "X_meta_copy = X_meta.copy()\n",
    "cat_cols = X_meta.select_dtypes(['object']).columns\n",
    "for c in cat_cols:\n",
    "    X_meta_copy[c]=le.fit_transform(X_meta[c])"
   ]
  },
  {
   "cell_type": "code",
   "execution_count": 18,
   "metadata": {
    "collapsed": false
   },
   "outputs": [
    {
     "data": {
      "text/html": [
       "<div>\n",
       "<style>\n",
       "    .dataframe thead tr:only-child th {\n",
       "        text-align: right;\n",
       "    }\n",
       "\n",
       "    .dataframe thead th {\n",
       "        text-align: left;\n",
       "    }\n",
       "\n",
       "    .dataframe tbody tr th {\n",
       "        vertical-align: top;\n",
       "    }\n",
       "</style>\n",
       "<table border=\"1\" class=\"dataframe\">\n",
       "  <thead>\n",
       "    <tr style=\"text-align: right;\">\n",
       "      <th></th>\n",
       "      <th>dataFileHandleId</th>\n",
       "      <th>device</th>\n",
       "      <th>patient</th>\n",
       "      <th>session</th>\n",
       "      <th>site</th>\n",
       "      <th>task</th>\n",
       "      <th>visit</th>\n",
       "      <th>deviceSide</th>\n",
       "    </tr>\n",
       "  </thead>\n",
       "  <tbody>\n",
       "    <tr>\n",
       "      <th>25819_22</th>\n",
       "      <td>17286028</td>\n",
       "      <td>0</td>\n",
       "      <td>2</td>\n",
       "      <td>1</td>\n",
       "      <td>0</td>\n",
       "      <td>0</td>\n",
       "      <td>1</td>\n",
       "      <td>1</td>\n",
       "    </tr>\n",
       "    <tr>\n",
       "      <th>25820_22</th>\n",
       "      <td>17286030</td>\n",
       "      <td>1</td>\n",
       "      <td>2</td>\n",
       "      <td>1</td>\n",
       "      <td>0</td>\n",
       "      <td>0</td>\n",
       "      <td>1</td>\n",
       "      <td>0</td>\n",
       "    </tr>\n",
       "    <tr>\n",
       "      <th>25821_22</th>\n",
       "      <td>17286034</td>\n",
       "      <td>0</td>\n",
       "      <td>2</td>\n",
       "      <td>1</td>\n",
       "      <td>0</td>\n",
       "      <td>1</td>\n",
       "      <td>1</td>\n",
       "      <td>1</td>\n",
       "    </tr>\n",
       "    <tr>\n",
       "      <th>25822_22</th>\n",
       "      <td>17286036</td>\n",
       "      <td>1</td>\n",
       "      <td>2</td>\n",
       "      <td>1</td>\n",
       "      <td>0</td>\n",
       "      <td>1</td>\n",
       "      <td>1</td>\n",
       "      <td>0</td>\n",
       "    </tr>\n",
       "    <tr>\n",
       "      <th>25824_22</th>\n",
       "      <td>17286042</td>\n",
       "      <td>1</td>\n",
       "      <td>2</td>\n",
       "      <td>1</td>\n",
       "      <td>0</td>\n",
       "      <td>2</td>\n",
       "      <td>1</td>\n",
       "      <td>0</td>\n",
       "    </tr>\n",
       "  </tbody>\n",
       "</table>\n",
       "</div>"
      ],
      "text/plain": [
       "          dataFileHandleId  device  patient  session  site  task  visit  \\\n",
       "25819_22          17286028       0        2        1     0     0      1   \n",
       "25820_22          17286030       1        2        1     0     0      1   \n",
       "25821_22          17286034       0        2        1     0     1      1   \n",
       "25822_22          17286036       1        2        1     0     1      1   \n",
       "25824_22          17286042       1        2        1     0     2      1   \n",
       "\n",
       "          deviceSide  \n",
       "25819_22           1  \n",
       "25820_22           0  \n",
       "25821_22           1  \n",
       "25822_22           0  \n",
       "25824_22           0  "
      ]
     },
     "execution_count": 18,
     "metadata": {},
     "output_type": "execute_result"
    }
   ],
   "source": [
    "X_meta_copy.head()"
   ]
  },
  {
   "cell_type": "code",
   "execution_count": 19,
   "metadata": {
    "collapsed": true
   },
   "outputs": [],
   "source": [
    "X_meta=X_meta_copy"
   ]
  },
  {
   "cell_type": "markdown",
   "metadata": {},
   "source": [
    "# Make dummy submission file to test score fcn"
   ]
  },
  {
   "cell_type": "code",
   "execution_count": 28,
   "metadata": {
    "collapsed": false
   },
   "outputs": [],
   "source": [
    "X_meta.to_csv('DummySubmission.csv',index=False)"
   ]
  },
  {
   "cell_type": "code",
   "execution_count": 29,
   "metadata": {
    "collapsed": false,
    "scrolled": false
   },
   "outputs": [
    {
     "name": "stdout",
     "output_type": "stream",
     "text": [
      "Welcome, Luca Lonini!\n",
      "\n",
      "AUPRC: 0.9898671060750107\n"
     ]
    }
   ],
   "source": [
    "%run sc2FitModels.py 'bradykinesia' DummySubmission.csv"
   ]
  },
  {
   "cell_type": "markdown",
   "metadata": {},
   "source": [
    "## Explore data"
   ]
  },
  {
   "cell_type": "code",
   "execution_count": 18,
   "metadata": {
    "collapsed": false
   },
   "outputs": [
    {
     "name": "stdout",
     "output_type": "stream",
     "text": [
      "dataFileHandleId                                              17286072\n",
      "device                                                          Pebble\n",
      "patient                                                         13_BOS\n",
      "session                                                              1\n",
      "site                                                            Boston\n",
      "task                                                             orgpa\n",
      "visit                                                                1\n",
      "deviceSide                                                        Left\n",
      "tremorScore                                                          1\n",
      "dyskinesiaScore                                                    NaN\n",
      "bradykinesiaScore                                                    1\n",
      "path                 /Users/luca/Projects/DREAM_PD/Data/72/17286072...\n",
      "Name: 25834_22, dtype: object\n"
     ]
    },
    {
     "data": {
      "text/plain": [
       "<matplotlib.axes._subplots.AxesSubplot at 0x112fc2588>"
      ]
     },
     "execution_count": 18,
     "metadata": {},
     "output_type": "execute_result"
    },
    {
     "data": {
      "image/png": "[encoded data removed]",
      "text/plain": [
       "<matplotlib.figure.Figure at 0x112fd60b8>"
      ]
     },
     "metadata": {},
     "output_type": "display_data"
    }
   ],
   "source": [
    "#plot task\n",
    "idx=9\n",
    "print(df_train.iloc[idx,:]) \n",
    "p1 = df_train.path[idx]\n",
    "rawdata = pd.read_csv(p1,sep='\\t')\n",
    "rawdata.iloc[:,1:4].plot()"
   ]
  },
  {
   "cell_type": "code",
   "execution_count": 20,
   "metadata": {
    "collapsed": false
   },
   "outputs": [],
   "source": [
    "#durations of tasks\n",
    "c = 0\n",
    "Dur = []\n",
    "for f in df_train.path:\n",
    "    rawdata = pd.read_csv(f,sep='\\t')\n",
    "    t = rawdata.timestamp\n",
    "    t = t-t[0]\n",
    "    rawdata.timestamp = t\n",
    "    Dur.append(rawdata.timestamp.iloc[-1])\n",
    "    c+=1\n",
    "Dur = np.asarray(Dur)"
   ]
  },
  {
   "cell_type": "code",
   "execution_count": 21,
   "metadata": {
    "collapsed": false
   },
   "outputs": [
    {
     "data": {
      "text/plain": [
       "<matplotlib.figure.Figure at 0x1138ce1d0>"
      ]
     },
     "metadata": {},
     "output_type": "display_data"
    },
    {
     "data": {
      "image/png": "[encoded data removed]",
      "text/plain": [
       "<matplotlib.figure.Figure at 0x1138ce780>"
      ]
     },
     "metadata": {},
     "output_type": "display_data"
    }
   ],
   "source": [
    "plt.figure(figsize=(12,4))\n",
    "df_train['Duration']=Dur\n",
    "ax = df_train.hist(column='Duration',by='task',figsize=(12,9))"
   ]
  },
  {
   "cell_type": "code",
   "execution_count": 22,
   "metadata": {
    "collapsed": false
   },
   "outputs": [
    {
     "data": {
      "text/html": [
       "<div>\n",
       "<style>\n",
       "    .dataframe thead tr:only-child th {\n",
       "        text-align: right;\n",
       "    }\n",
       "\n",
       "    .dataframe thead th {\n",
       "        text-align: left;\n",
       "    }\n",
       "\n",
       "    .dataframe tbody tr th {\n",
       "        vertical-align: top;\n",
       "    }\n",
       "</style>\n",
       "<table border=\"1\" class=\"dataframe\">\n",
       "  <thead>\n",
       "    <tr style=\"text-align: right;\">\n",
       "      <th></th>\n",
       "      <th>dataFileHandleId</th>\n",
       "      <th>device</th>\n",
       "      <th>patient</th>\n",
       "      <th>session</th>\n",
       "      <th>site</th>\n",
       "      <th>task</th>\n",
       "      <th>visit</th>\n",
       "      <th>deviceSide</th>\n",
       "      <th>tremorScore</th>\n",
       "      <th>dyskinesiaScore</th>\n",
       "      <th>bradykinesiaScore</th>\n",
       "      <th>path</th>\n",
       "      <th>Duration</th>\n",
       "    </tr>\n",
       "  </thead>\n",
       "  <tbody>\n",
       "    <tr>\n",
       "      <th>25819_22</th>\n",
       "      <td>17286028</td>\n",
       "      <td>GENEActiv</td>\n",
       "      <td>13_BOS</td>\n",
       "      <td>1</td>\n",
       "      <td>Boston</td>\n",
       "      <td>drnkg</td>\n",
       "      <td>1</td>\n",
       "      <td>Right</td>\n",
       "      <td>1</td>\n",
       "      <td>NaN</td>\n",
       "      <td>1</td>\n",
       "      <td>/Users/luca/Projects/DREAM_PD/Data/28/17286028...</td>\n",
       "      <td>38.98</td>\n",
       "    </tr>\n",
       "    <tr>\n",
       "      <th>25820_22</th>\n",
       "      <td>17286030</td>\n",
       "      <td>Pebble</td>\n",
       "      <td>13_BOS</td>\n",
       "      <td>1</td>\n",
       "      <td>Boston</td>\n",
       "      <td>drnkg</td>\n",
       "      <td>1</td>\n",
       "      <td>Left</td>\n",
       "      <td>1</td>\n",
       "      <td>NaN</td>\n",
       "      <td>1</td>\n",
       "      <td>/Users/luca/Projects/DREAM_PD/Data/30/17286030...</td>\n",
       "      <td>38.98</td>\n",
       "    </tr>\n",
       "    <tr>\n",
       "      <th>25821_22</th>\n",
       "      <td>17286034</td>\n",
       "      <td>GENEActiv</td>\n",
       "      <td>13_BOS</td>\n",
       "      <td>1</td>\n",
       "      <td>Boston</td>\n",
       "      <td>fldng</td>\n",
       "      <td>1</td>\n",
       "      <td>Right</td>\n",
       "      <td>2</td>\n",
       "      <td>NaN</td>\n",
       "      <td>1</td>\n",
       "      <td>/Users/luca/Projects/DREAM_PD/Data/34/17286034...</td>\n",
       "      <td>101.98</td>\n",
       "    </tr>\n",
       "    <tr>\n",
       "      <th>25822_22</th>\n",
       "      <td>17286036</td>\n",
       "      <td>Pebble</td>\n",
       "      <td>13_BOS</td>\n",
       "      <td>1</td>\n",
       "      <td>Boston</td>\n",
       "      <td>fldng</td>\n",
       "      <td>1</td>\n",
       "      <td>Left</td>\n",
       "      <td>1</td>\n",
       "      <td>NaN</td>\n",
       "      <td>1</td>\n",
       "      <td>/Users/luca/Projects/DREAM_PD/Data/36/17286036...</td>\n",
       "      <td>101.98</td>\n",
       "    </tr>\n",
       "    <tr>\n",
       "      <th>25824_22</th>\n",
       "      <td>17286042</td>\n",
       "      <td>Pebble</td>\n",
       "      <td>13_BOS</td>\n",
       "      <td>1</td>\n",
       "      <td>Boston</td>\n",
       "      <td>ftnl1</td>\n",
       "      <td>1</td>\n",
       "      <td>Left</td>\n",
       "      <td>2</td>\n",
       "      <td>NaN</td>\n",
       "      <td>1</td>\n",
       "      <td>/Users/luca/Projects/DREAM_PD/Data/42/17286042...</td>\n",
       "      <td>17.98</td>\n",
       "    </tr>\n",
       "  </tbody>\n",
       "</table>\n",
       "</div>"
      ],
      "text/plain": [
       "          dataFileHandleId     device patient  session    site   task  visit  \\\n",
       "25819_22          17286028  GENEActiv  13_BOS        1  Boston  drnkg      1   \n",
       "25820_22          17286030     Pebble  13_BOS        1  Boston  drnkg      1   \n",
       "25821_22          17286034  GENEActiv  13_BOS        1  Boston  fldng      1   \n",
       "25822_22          17286036     Pebble  13_BOS        1  Boston  fldng      1   \n",
       "25824_22          17286042     Pebble  13_BOS        1  Boston  ftnl1      1   \n",
       "\n",
       "         deviceSide  tremorScore  dyskinesiaScore  bradykinesiaScore  \\\n",
       "25819_22      Right            1              NaN                  1   \n",
       "25820_22       Left            1              NaN                  1   \n",
       "25821_22      Right            2              NaN                  1   \n",
       "25822_22       Left            1              NaN                  1   \n",
       "25824_22       Left            2              NaN                  1   \n",
       "\n",
       "                                                       path  Duration  \n",
       "25819_22  /Users/luca/Projects/DREAM_PD/Data/28/17286028...     38.98  \n",
       "25820_22  /Users/luca/Projects/DREAM_PD/Data/30/17286030...     38.98  \n",
       "25821_22  /Users/luca/Projects/DREAM_PD/Data/34/17286034...    101.98  \n",
       "25822_22  /Users/luca/Projects/DREAM_PD/Data/36/17286036...    101.98  \n",
       "25824_22  /Users/luca/Projects/DREAM_PD/Data/42/17286042...     17.98  "
      ]
     },
     "execution_count": 22,
     "metadata": {},
     "output_type": "execute_result"
    }
   ],
   "source": [
    "df_train.head()"
   ]
  },
  {
   "cell_type": "code",
   "execution_count": 124,
   "metadata": {
    "collapsed": false,
    "scrolled": true
   },
   "outputs": [],
   "source": [
    "# #display duration based on presence of bradykinesia\n",
    "# for t in df_train.task.unique():\n",
    "#     fig = plt.figure()\n",
    "#     for i in range(2):\n",
    "#         d = df_train[(df_train['bradykinesiaScore']==i) & (df_train['task']==t)]\n",
    "#         if ~d.empty:\n",
    "#             try:\n",
    "#                 sns.distplot(d['Duration'])\n",
    "#             except(ZeroDivisionError):\n",
    "#                 print(d.empty)\n",
    "#     plt.title(t)"
   ]
  },
  {
   "cell_type": "markdown",
   "metadata": {},
   "source": [
    "## Try Metadata features + Duration feature"
   ]
  },
  {
   "cell_type": "code",
   "execution_count": 24,
   "metadata": {
    "collapsed": false
   },
   "outputs": [],
   "source": [
    "X_meta['Duration']=df_train['Duration']"
   ]
  },
  {
   "cell_type": "code",
   "execution_count": 25,
   "metadata": {
    "collapsed": false
   },
   "outputs": [
    {
     "data": {
      "text/html": [
       "<div>\n",
       "<style>\n",
       "    .dataframe thead tr:only-child th {\n",
       "        text-align: right;\n",
       "    }\n",
       "\n",
       "    .dataframe thead th {\n",
       "        text-align: left;\n",
       "    }\n",
       "\n",
       "    .dataframe tbody tr th {\n",
       "        vertical-align: top;\n",
       "    }\n",
       "</style>\n",
       "<table border=\"1\" class=\"dataframe\">\n",
       "  <thead>\n",
       "    <tr style=\"text-align: right;\">\n",
       "      <th></th>\n",
       "      <th>dataFileHandleId</th>\n",
       "      <th>device</th>\n",
       "      <th>patient</th>\n",
       "      <th>session</th>\n",
       "      <th>site</th>\n",
       "      <th>task</th>\n",
       "      <th>visit</th>\n",
       "      <th>deviceSide</th>\n",
       "      <th>Duration</th>\n",
       "    </tr>\n",
       "  </thead>\n",
       "  <tbody>\n",
       "    <tr>\n",
       "      <th>25819_22</th>\n",
       "      <td>17286028</td>\n",
       "      <td>0</td>\n",
       "      <td>2</td>\n",
       "      <td>1</td>\n",
       "      <td>0</td>\n",
       "      <td>0</td>\n",
       "      <td>1</td>\n",
       "      <td>1</td>\n",
       "      <td>38.98</td>\n",
       "    </tr>\n",
       "    <tr>\n",
       "      <th>25820_22</th>\n",
       "      <td>17286030</td>\n",
       "      <td>1</td>\n",
       "      <td>2</td>\n",
       "      <td>1</td>\n",
       "      <td>0</td>\n",
       "      <td>0</td>\n",
       "      <td>1</td>\n",
       "      <td>0</td>\n",
       "      <td>38.98</td>\n",
       "    </tr>\n",
       "    <tr>\n",
       "      <th>25821_22</th>\n",
       "      <td>17286034</td>\n",
       "      <td>0</td>\n",
       "      <td>2</td>\n",
       "      <td>1</td>\n",
       "      <td>0</td>\n",
       "      <td>1</td>\n",
       "      <td>1</td>\n",
       "      <td>1</td>\n",
       "      <td>101.98</td>\n",
       "    </tr>\n",
       "    <tr>\n",
       "      <th>25822_22</th>\n",
       "      <td>17286036</td>\n",
       "      <td>1</td>\n",
       "      <td>2</td>\n",
       "      <td>1</td>\n",
       "      <td>0</td>\n",
       "      <td>1</td>\n",
       "      <td>1</td>\n",
       "      <td>0</td>\n",
       "      <td>101.98</td>\n",
       "    </tr>\n",
       "    <tr>\n",
       "      <th>25824_22</th>\n",
       "      <td>17286042</td>\n",
       "      <td>1</td>\n",
       "      <td>2</td>\n",
       "      <td>1</td>\n",
       "      <td>0</td>\n",
       "      <td>2</td>\n",
       "      <td>1</td>\n",
       "      <td>0</td>\n",
       "      <td>17.98</td>\n",
       "    </tr>\n",
       "  </tbody>\n",
       "</table>\n",
       "</div>"
      ],
      "text/plain": [
       "          dataFileHandleId  device  patient  session  site  task  visit  \\\n",
       "25819_22          17286028       0        2        1     0     0      1   \n",
       "25820_22          17286030       1        2        1     0     0      1   \n",
       "25821_22          17286034       0        2        1     0     1      1   \n",
       "25822_22          17286036       1        2        1     0     1      1   \n",
       "25824_22          17286042       1        2        1     0     2      1   \n",
       "\n",
       "          deviceSide  Duration  \n",
       "25819_22           1     38.98  \n",
       "25820_22           0     38.98  \n",
       "25821_22           1    101.98  \n",
       "25822_22           0    101.98  \n",
       "25824_22           0     17.98  "
      ]
     },
     "execution_count": 25,
     "metadata": {},
     "output_type": "execute_result"
    }
   ],
   "source": [
    "X_meta.head()"
   ]
  },
  {
   "cell_type": "code",
   "execution_count": 963,
   "metadata": {
    "collapsed": true
   },
   "outputs": [],
   "source": [
    "X = X_meta\n",
    "scaler = StandardScaler()\n",
    "X.iloc[:,-1]=scaler.fit_transform(X.iloc[:,8:])"
   ]
  },
  {
   "cell_type": "code",
   "execution_count": 965,
   "metadata": {
    "collapsed": false
   },
   "outputs": [],
   "source": [
    "X.to_csv('Meta_wDur.csv',index=False)"
   ]
  },
  {
   "cell_type": "code",
   "execution_count": 966,
   "metadata": {
    "collapsed": false,
    "scrolled": false
   },
   "outputs": [
    {
     "name": "stdout",
     "output_type": "stream",
     "text": [
      "Welcome, Luca Lonini!\n",
      "\n",
      "AUPRC: [0.94398336312474074, 0.1478882617202292, 0.94182279342107333, 0.96200299957554858, 0.77537483776358485, 0.99019019019019017, 0.99118165784832446, 0.9531456387497157, 0.41141654065110317, 0.98894009216589862, 0.34097351815805521, 0.4423668371328594, 0.18253298531557141, 0.90168575227823167, 0.75958758503401358, 0.4158965898076592, 0.95355067798597348, 0.28619378306878307, 0.98987841405218802]\n"
     ]
    }
   ],
   "source": [
    "%run sc2FitModels_LOSOCV.py 'bradykinesia' Meta_wDur.csv"
   ]
  },
  {
   "cell_type": "code",
   "execution_count": 840,
   "metadata": {
    "collapsed": false
   },
   "outputs": [
    {
     "name": "stdout",
     "output_type": "stream",
     "text": [
      "Welcome, Luca Lonini!\n",
      "\n",
      "AUPRC: [0.96418540805444453, 0.14027760685472601, 0.93497830075740962, 0.95911290159512474, 0.88405791313831983, 0.99019019019019017, 0.99118165784832446, 0.95310487912775166, 0.53794863427354733, 0.98894009216589862, 0.3443364414391421, 0.43842766253874399, 0.20572814485384885, 0.90425993036445451, 0.81553996598639455, 0.48223919859596359, 0.97285450032294607, 0.23109434865900383, 0.98636489479512734]\n"
     ]
    }
   ],
   "source": [
    "%run sc2FitModels_LOSOCV.py 'bradykinesia' DummySubmission.csv"
   ]
  },
  {
   "cell_type": "code",
   "execution_count": 964,
   "metadata": {
    "collapsed": false,
    "scrolled": true
   },
   "outputs": [
    {
     "data": {
      "text/html": [
       "<div>\n",
       "<style>\n",
       "    .dataframe thead tr:only-child th {\n",
       "        text-align: right;\n",
       "    }\n",
       "\n",
       "    .dataframe thead th {\n",
       "        text-align: left;\n",
       "    }\n",
       "\n",
       "    .dataframe tbody tr th {\n",
       "        vertical-align: top;\n",
       "    }\n",
       "</style>\n",
       "<table border=\"1\" class=\"dataframe\">\n",
       "  <thead>\n",
       "    <tr style=\"text-align: right;\">\n",
       "      <th></th>\n",
       "      <th>dataFileHandleId</th>\n",
       "      <th>device</th>\n",
       "      <th>patient</th>\n",
       "      <th>session</th>\n",
       "      <th>site</th>\n",
       "      <th>task</th>\n",
       "      <th>visit</th>\n",
       "      <th>deviceSide</th>\n",
       "      <th>Duration</th>\n",
       "    </tr>\n",
       "  </thead>\n",
       "  <tbody>\n",
       "    <tr>\n",
       "      <th>25819_22</th>\n",
       "      <td>17286028</td>\n",
       "      <td>0</td>\n",
       "      <td>2</td>\n",
       "      <td>1</td>\n",
       "      <td>0</td>\n",
       "      <td>0</td>\n",
       "      <td>1</td>\n",
       "      <td>1</td>\n",
       "      <td>1.042534</td>\n",
       "    </tr>\n",
       "    <tr>\n",
       "      <th>25820_22</th>\n",
       "      <td>17286030</td>\n",
       "      <td>1</td>\n",
       "      <td>2</td>\n",
       "      <td>1</td>\n",
       "      <td>0</td>\n",
       "      <td>0</td>\n",
       "      <td>1</td>\n",
       "      <td>0</td>\n",
       "      <td>1.042534</td>\n",
       "    </tr>\n",
       "    <tr>\n",
       "      <th>25821_22</th>\n",
       "      <td>17286034</td>\n",
       "      <td>0</td>\n",
       "      <td>2</td>\n",
       "      <td>1</td>\n",
       "      <td>0</td>\n",
       "      <td>1</td>\n",
       "      <td>1</td>\n",
       "      <td>1</td>\n",
       "      <td>6.784089</td>\n",
       "    </tr>\n",
       "    <tr>\n",
       "      <th>25822_22</th>\n",
       "      <td>17286036</td>\n",
       "      <td>1</td>\n",
       "      <td>2</td>\n",
       "      <td>1</td>\n",
       "      <td>0</td>\n",
       "      <td>1</td>\n",
       "      <td>1</td>\n",
       "      <td>0</td>\n",
       "      <td>6.784089</td>\n",
       "    </tr>\n",
       "    <tr>\n",
       "      <th>25824_22</th>\n",
       "      <td>17286042</td>\n",
       "      <td>1</td>\n",
       "      <td>2</td>\n",
       "      <td>1</td>\n",
       "      <td>0</td>\n",
       "      <td>2</td>\n",
       "      <td>1</td>\n",
       "      <td>0</td>\n",
       "      <td>-0.871318</td>\n",
       "    </tr>\n",
       "  </tbody>\n",
       "</table>\n",
       "</div>"
      ],
      "text/plain": [
       "          dataFileHandleId  device  patient  session  site  task  visit  \\\n",
       "25819_22          17286028       0        2        1     0     0      1   \n",
       "25820_22          17286030       1        2        1     0     0      1   \n",
       "25821_22          17286034       0        2        1     0     1      1   \n",
       "25822_22          17286036       1        2        1     0     1      1   \n",
       "25824_22          17286042       1        2        1     0     2      1   \n",
       "\n",
       "          deviceSide  Duration  \n",
       "25819_22           1  1.042534  \n",
       "25820_22           0  1.042534  \n",
       "25821_22           1  6.784089  \n",
       "25822_22           0  6.784089  \n",
       "25824_22           0 -0.871318  "
      ]
     },
     "execution_count": 964,
     "metadata": {},
     "output_type": "execute_result"
    }
   ],
   "source": [
    "X.head()"
   ]
  },
  {
   "cell_type": "markdown",
   "metadata": {},
   "source": [
    "## Clips generation and feature extraction"
   ]
  },
  {
   "cell_type": "markdown",
   "metadata": {},
   "source": [
    "### Test fcns"
   ]
  },
  {
   "cell_type": "code",
   "execution_count": 60,
   "metadata": {
    "collapsed": false
   },
   "outputs": [
    {
     "name": "stdout",
     "output_type": "stream",
     "text": [
      "dataFileHandleId                                              17286084\n",
      "device                                                          Pebble\n",
      "patient                                                         13_BOS\n",
      "session                                                              1\n",
      "site                                                            Boston\n",
      "task                                                             raml2\n",
      "visit                                                                1\n",
      "deviceSide                                                        Left\n",
      "tremorScore                                                          2\n",
      "dyskinesiaScore                                                    NaN\n",
      "bradykinesiaScore                                                    1\n",
      "path                 /Users/luca/Projects/DREAM_PD/Data/84/17286084...\n",
      "Duration                                                         18.98\n",
      "Name: 25838_22, dtype: object\n"
     ]
    },
    {
     "data": {
      "image/png": "[encoded data removed]",
      "text/plain": [
       "<matplotlib.figure.Figure at 0x113891c88>"
      ]
     },
     "metadata": {},
     "output_type": "display_data"
    }
   ],
   "source": [
    "#plot task\n",
    "idx=11\n",
    "print(df_train.iloc[idx,:]) \n",
    "p1 = df_train.path[idx]\n",
    "rawdata = pd.read_csv(p1,sep='\\t')\n",
    "rawdata = filter_signal(rawdata,order=2)\n",
    "ax = rawdata.plot(x='timestamp')"
   ]
  },
  {
   "cell_type": "code",
   "execution_count": 61,
   "metadata": {
    "collapsed": false
   },
   "outputs": [
    {
     "data": {
      "image/png": "[encoded data removed]",
      "text/plain": [
       "<matplotlib.figure.Figure at 0x114c30fd0>"
      ]
     },
     "metadata": {},
     "output_type": "display_data"
    }
   ],
   "source": [
    "Pxx,fl=powerspectra(rawdata,1,10,nbins=10)\n",
    "ax = Pxx.plot(subplots=True)"
   ]
  },
  {
   "cell_type": "code",
   "execution_count": 62,
   "metadata": {
    "collapsed": false,
    "scrolled": true
   },
   "outputs": [
    {
     "data": {
      "image/png": "[encoded data removed]",
      "text/plain": [
       "<matplotlib.figure.Figure at 0x117fc6400>"
      ]
     },
     "metadata": {},
     "output_type": "display_data"
    }
   ],
   "source": [
    "Pxx,fl=powerspectra(rawdata,1,10,nbins=50)\n",
    "ax = Pxx.plot(subplots=True)"
   ]
  },
  {
   "cell_type": "code",
   "execution_count": 26,
   "metadata": {
    "collapsed": false
   },
   "outputs": [
    {
     "data": {
      "text/plain": [
       "array([ 1.3])"
      ]
     },
     "execution_count": 26,
     "metadata": {},
     "output_type": "execute_result"
    }
   ],
   "source": [
    "domfreq = np.asarray([Pxx.iloc[:,-1].argmax()])\n",
    "domfreq"
   ]
  },
  {
   "cell_type": "code",
   "execution_count": 27,
   "metadata": {
    "collapsed": false
   },
   "outputs": [
    {
     "data": {
      "text/plain": [
       "array([ 0.47673788])"
      ]
     },
     "execution_count": 27,
     "metadata": {},
     "output_type": "execute_result"
    }
   ],
   "source": [
    "Pxx.loc[domfreq].iloc[:,-1].values/Pxx.iloc[:,-1].sum()"
   ]
  },
  {
   "cell_type": "markdown",
   "metadata": {},
   "source": [
    "## Compute features on all rows and time it"
   ]
  },
  {
   "cell_type": "markdown",
   "metadata": {},
   "source": [
    "#### Test on 1 row"
   ]
  },
  {
   "cell_type": "code",
   "execution_count": 187,
   "metadata": {
    "collapsed": false
   },
   "outputs": [],
   "source": [
    "F,flist = feature_extraction(rawdata)"
   ]
  },
  {
   "cell_type": "code",
   "execution_count": 188,
   "metadata": {
    "collapsed": false
   },
   "outputs": [
    {
     "data": {
      "text/plain": [
       "(1, 26)"
      ]
     },
     "execution_count": 188,
     "metadata": {},
     "output_type": "execute_result"
    }
   ],
   "source": [
    "F.shape"
   ]
  },
  {
   "cell_type": "code",
   "execution_count": 458,
   "metadata": {
    "collapsed": false,
    "scrolled": true
   },
   "outputs": [
    {
     "name": "stdout",
     "output_type": "stream",
     "text": [
      "0\n",
      "1000\n",
      "2000\n",
      "3000\n",
      "Elapsed Time:[s] 58.6\n",
      "Files w nans: 190\n",
      "Files w 0 non-nan rows 103\n",
      "Tot rows: 3016\n"
     ]
    }
   ],
   "source": [
    "row = 0\n",
    "nans_found=0; n_empty=0\n",
    "Features = []\n",
    "t1 = time.time()\n",
    "# for f in df_train.path:\n",
    "for i in range(len(df_train)):\n",
    "\n",
    "    f = df_train.iloc[i,:].path\n",
    "    if row%1000==0:\n",
    "        print(row)\n",
    "    rawdata = pd.read_csv(f,sep='\\t') #load file\n",
    "   \n",
    "    #remove nans\n",
    "    rawdata = rawdata.astype('float64') #make sure everything is float\n",
    "    if sum(np.sum(rawdata.isnull())) > 0:\n",
    "        nans_found+=1 # of files w nans\n",
    "        rawdata = rawdata.dropna() #drop nans\n",
    "        \n",
    "    #compute features if at least one data point is there\n",
    "    if rawdata.empty != True:\n",
    "        #reindex timestamp data relative to start \n",
    "        t = rawdata.timestamp\n",
    "        t = t-t.iloc[0]\n",
    "        rawdata.timestamp = t\n",
    "\n",
    "        #HP filter data (remove gravity)\n",
    "        rawdata = filter_signal(rawdata,order=2)\n",
    "\n",
    "        #compute features on entire recording\n",
    "        try:\n",
    "            F,flist = feature_extraction(rawdata)\n",
    "            Features.append(F)\n",
    "        except(TypeError):\n",
    "            print('found incompatible datatype')\n",
    "    else:\n",
    "        F = np.empty((1,len(flist))) #empty array of features\n",
    "        F[:]=np.nan\n",
    "        Features.append(F)\n",
    "        n_empty+=1\n",
    "\n",
    "    row+=1\n",
    "        \n",
    "elapsed = time.time()-t1\n",
    "print('Elapsed Time:[s] %.1f'%elapsed)\n",
    "print('Files w nans: %d'%nans_found)\n",
    "print('Files w 0 non-nan rows %d'%n_empty)\n",
    "print('Tot rows: %d'%row)"
   ]
  },
  {
   "cell_type": "code",
   "execution_count": null,
   "metadata": {
    "collapsed": false
   },
   "outputs": [],
   "source": [
    "Features = np.asarray(Features)\n",
    "Features = Features.squeeze(axis=1)\n",
    "print(Features.shape)"
   ]
  },
  {
   "cell_type": "markdown",
   "metadata": {},
   "source": [
    "## Compute features on windows and take stats over windows"
   ]
  },
  {
   "cell_type": "code",
   "execution_count": 692,
   "metadata": {
    "collapsed": false
   },
   "outputs": [
    {
     "name": "stdout",
     "output_type": "stream",
     "text": [
      "0\n",
      "1000\n",
      "2000\n",
      "3000\n",
      "Elapsed Time:[s] 134.1\n",
      "Files w nans: 190\n",
      "Files w 0 non-nan rows 103\n",
      "Tot rows: 3016\n"
     ]
    }
   ],
   "source": [
    "row = 0\n",
    "nans_found=0; n_empty=0\n",
    "max_nans = []\n",
    "Features = []; \n",
    "t1 = time.time()\n",
    "# for f in df_train.path:\n",
    "for i in range(len(df_train)):\n",
    "\n",
    "    f = df_train.iloc[i,:].path\n",
    "    if row%1000==0:\n",
    "        print(row)\n",
    "    rawdata = pd.read_csv(f,sep='\\t') #load file\n",
    "   \n",
    "    #remove nans\n",
    "    rawdata = rawdata.astype('float64') #make sure everything is float\n",
    "    if sum(np.sum(rawdata.isnull())) > 0:\n",
    "        nans_found+=1 # of files w nans\n",
    "        if np.sum(rawdata.isnull()).max() < len(rawdata):\n",
    "            max_nans.append((np.sum(rawdata.isnull()).max())/len(rawdata))\n",
    "        rawdata = rawdata.dropna() #drop nans\n",
    "        \n",
    "    #compute features if at least one data point is there\n",
    "    if rawdata.empty != True:\n",
    "        #reindex timestamp data relative to start \n",
    "        t = rawdata.timestamp\n",
    "        t = t-t.iloc[0]\n",
    "        rawdata.timestamp = t\n",
    "\n",
    "        #HP filter data (remove gravity)\n",
    "        rawdata = filter_signal(rawdata,order=2)\n",
    "\n",
    "        #compute features on each clip and stats over clips\n",
    "        try:\n",
    "            Fclips=[]\n",
    "            clips = gen_clips(rawdata,overlap=0) #take clips\n",
    "            for clip in clips:\n",
    "                F,flist = feature_extraction(clip)\n",
    "                Fclips.append(F) #the features from all the clips\n",
    "            #stack mean and std over clips\n",
    "            flist = flist+['s_'+n for n in flist] #update feature list w std\n",
    "            Fmean = np.mean(Fclips,axis=0)\n",
    "            Fstd = np.std(Fclips,axis=0)\n",
    "            F = np.hstack((Fmean,Fstd))\n",
    "            if F.size != 52:\n",
    "                print(F.shape)\n",
    "                sys.exit()\n",
    "            Features.append(F)\n",
    "        except(TypeError):\n",
    "            print('found incompatible datatype')\n",
    "            \n",
    "    else:\n",
    "        F = np.empty((1,len(flist))) #empty array of features\n",
    "        F[:]=np.nan\n",
    "        Features.append(F)\n",
    "        n_empty+=1\n",
    "\n",
    "    row+=1\n",
    "        \n",
    "elapsed = time.time()-t1\n",
    "print('Elapsed Time:[s] %.1f'%elapsed)\n",
    "print('Files w nans: %d'%nans_found)\n",
    "print('Files w 0 non-nan rows %d'%n_empty)\n",
    "print('Tot rows: %d'%row)"
   ]
  },
  {
   "cell_type": "code",
   "execution_count": 630,
   "metadata": {
    "collapsed": false,
    "scrolled": true
   },
   "outputs": [
    {
     "data": {
      "text/plain": [
       "(array([ 44.,   8.,   7.,   5.,   4.,   2.,   2.,   5.,   7.,   3.]),\n",
       " array([  4.87804878e-04,   9.77467167e-02,   1.95005629e-01,\n",
       "          2.92264540e-01,   3.89523452e-01,   4.86782364e-01,\n",
       "          5.84041276e-01,   6.81300188e-01,   7.78559099e-01,\n",
       "          8.75818011e-01,   9.73076923e-01]),\n",
       " <a list of 10 Patch objects>)"
      ]
     },
     "execution_count": 630,
     "metadata": {},
     "output_type": "execute_result"
    },
    {
     "data": {
      "image/png": "[encoded data removed]",
      "text/plain": [
       "<matplotlib.figure.Figure at 0x11eb33dd8>"
      ]
     },
     "metadata": {},
     "output_type": "display_data"
    }
   ],
   "source": [
    "plt.hist(np.asarray(max_nans))"
   ]
  },
  {
   "cell_type": "code",
   "execution_count": 696,
   "metadata": {
    "collapsed": false
   },
   "outputs": [
    {
     "name": "stdout",
     "output_type": "stream",
     "text": [
      "(3016, 52)\n"
     ]
    }
   ],
   "source": [
    "Features = np.asarray(Features)\n",
    "Features = Features.squeeze(axis=1)\n",
    "print(Features.shape)"
   ]
  },
  {
   "cell_type": "markdown",
   "metadata": {},
   "source": [
    "### append feature to df_train"
   ]
  },
  {
   "cell_type": "code",
   "execution_count": 697,
   "metadata": {
    "collapsed": false
   },
   "outputs": [],
   "source": [
    "df_feat = pd.DataFrame(data=Features,columns=flist,dtype='float64')\n",
    "df_feat.index = df_train.index\n",
    "df_train = pd.concat((df_train,df_feat),axis=1)"
   ]
  },
  {
   "cell_type": "code",
   "execution_count": 698,
   "metadata": {
    "collapsed": false
   },
   "outputs": [
    {
     "data": {
      "text/html": [
       "<div>\n",
       "<style>\n",
       "    .dataframe thead tr:only-child th {\n",
       "        text-align: right;\n",
       "    }\n",
       "\n",
       "    .dataframe thead th {\n",
       "        text-align: left;\n",
       "    }\n",
       "\n",
       "    .dataframe tbody tr th {\n",
       "        vertical-align: top;\n",
       "    }\n",
       "</style>\n",
       "<table border=\"1\" class=\"dataframe\">\n",
       "  <thead>\n",
       "    <tr style=\"text-align: right;\">\n",
       "      <th></th>\n",
       "      <th>dataFileHandleId</th>\n",
       "      <th>device</th>\n",
       "      <th>patient</th>\n",
       "      <th>session</th>\n",
       "      <th>site</th>\n",
       "      <th>task</th>\n",
       "      <th>visit</th>\n",
       "      <th>deviceSide</th>\n",
       "      <th>tremorScore</th>\n",
       "      <th>dyskinesiaScore</th>\n",
       "      <th>...</th>\n",
       "      <th>s_kurtY</th>\n",
       "      <th>s_kurtZ</th>\n",
       "      <th>s_xcor_peakXY</th>\n",
       "      <th>s_xcorr_peakXZ</th>\n",
       "      <th>s_xcorr_peakYZ</th>\n",
       "      <th>s_xcorr_lagXY</th>\n",
       "      <th>s_xcorr_lagXZ</th>\n",
       "      <th>s_xcorr_lagYZ</th>\n",
       "      <th>s_Dom_freq</th>\n",
       "      <th>s_Pdom_rel</th>\n",
       "    </tr>\n",
       "  </thead>\n",
       "  <tbody>\n",
       "    <tr>\n",
       "      <th>25819_22</th>\n",
       "      <td>17286028</td>\n",
       "      <td>GENEActiv</td>\n",
       "      <td>13_BOS</td>\n",
       "      <td>1</td>\n",
       "      <td>Boston</td>\n",
       "      <td>drnkg</td>\n",
       "      <td>1</td>\n",
       "      <td>Right</td>\n",
       "      <td>1</td>\n",
       "      <td>NaN</td>\n",
       "      <td>...</td>\n",
       "      <td>2.718469</td>\n",
       "      <td>20.048757</td>\n",
       "      <td>6.220360</td>\n",
       "      <td>3.633610</td>\n",
       "      <td>5.631900</td>\n",
       "      <td>0.146203</td>\n",
       "      <td>0.164618</td>\n",
       "      <td>0.166045</td>\n",
       "      <td>1.857743</td>\n",
       "      <td>0.032124</td>\n",
       "    </tr>\n",
       "    <tr>\n",
       "      <th>25820_22</th>\n",
       "      <td>17286030</td>\n",
       "      <td>Pebble</td>\n",
       "      <td>13_BOS</td>\n",
       "      <td>1</td>\n",
       "      <td>Boston</td>\n",
       "      <td>drnkg</td>\n",
       "      <td>1</td>\n",
       "      <td>Left</td>\n",
       "      <td>1</td>\n",
       "      <td>NaN</td>\n",
       "      <td>...</td>\n",
       "      <td>1.825242</td>\n",
       "      <td>1.637227</td>\n",
       "      <td>1.072114</td>\n",
       "      <td>6.525817</td>\n",
       "      <td>33.721069</td>\n",
       "      <td>0.207634</td>\n",
       "      <td>0.165770</td>\n",
       "      <td>0.063750</td>\n",
       "      <td>0.606701</td>\n",
       "      <td>0.116089</td>\n",
       "    </tr>\n",
       "    <tr>\n",
       "      <th>25821_22</th>\n",
       "      <td>17286034</td>\n",
       "      <td>GENEActiv</td>\n",
       "      <td>13_BOS</td>\n",
       "      <td>1</td>\n",
       "      <td>Boston</td>\n",
       "      <td>fldng</td>\n",
       "      <td>1</td>\n",
       "      <td>Right</td>\n",
       "      <td>2</td>\n",
       "      <td>NaN</td>\n",
       "      <td>...</td>\n",
       "      <td>2.591783</td>\n",
       "      <td>2.380954</td>\n",
       "      <td>9.405408</td>\n",
       "      <td>1.620735</td>\n",
       "      <td>5.773385</td>\n",
       "      <td>0.154786</td>\n",
       "      <td>0.131271</td>\n",
       "      <td>0.156614</td>\n",
       "      <td>2.731325</td>\n",
       "      <td>0.033724</td>\n",
       "    </tr>\n",
       "    <tr>\n",
       "      <th>25822_22</th>\n",
       "      <td>17286036</td>\n",
       "      <td>Pebble</td>\n",
       "      <td>13_BOS</td>\n",
       "      <td>1</td>\n",
       "      <td>Boston</td>\n",
       "      <td>fldng</td>\n",
       "      <td>1</td>\n",
       "      <td>Left</td>\n",
       "      <td>1</td>\n",
       "      <td>NaN</td>\n",
       "      <td>...</td>\n",
       "      <td>3.727310</td>\n",
       "      <td>1.659374</td>\n",
       "      <td>1.449201</td>\n",
       "      <td>4.550834</td>\n",
       "      <td>1.551287</td>\n",
       "      <td>0.186340</td>\n",
       "      <td>0.172658</td>\n",
       "      <td>0.084203</td>\n",
       "      <td>0.571667</td>\n",
       "      <td>0.066273</td>\n",
       "    </tr>\n",
       "    <tr>\n",
       "      <th>25824_22</th>\n",
       "      <td>17286042</td>\n",
       "      <td>Pebble</td>\n",
       "      <td>13_BOS</td>\n",
       "      <td>1</td>\n",
       "      <td>Boston</td>\n",
       "      <td>ftnl1</td>\n",
       "      <td>1</td>\n",
       "      <td>Left</td>\n",
       "      <td>2</td>\n",
       "      <td>NaN</td>\n",
       "      <td>...</td>\n",
       "      <td>0.968188</td>\n",
       "      <td>0.450623</td>\n",
       "      <td>0.445990</td>\n",
       "      <td>0.695895</td>\n",
       "      <td>0.705364</td>\n",
       "      <td>0.052412</td>\n",
       "      <td>0.017292</td>\n",
       "      <td>0.112824</td>\n",
       "      <td>0.086603</td>\n",
       "      <td>0.062471</td>\n",
       "    </tr>\n",
       "  </tbody>\n",
       "</table>\n",
       "<p>5 rows × 65 columns</p>\n",
       "</div>"
      ],
      "text/plain": [
       "          dataFileHandleId     device patient  session    site   task  visit  \\\n",
       "25819_22          17286028  GENEActiv  13_BOS        1  Boston  drnkg      1   \n",
       "25820_22          17286030     Pebble  13_BOS        1  Boston  drnkg      1   \n",
       "25821_22          17286034  GENEActiv  13_BOS        1  Boston  fldng      1   \n",
       "25822_22          17286036     Pebble  13_BOS        1  Boston  fldng      1   \n",
       "25824_22          17286042     Pebble  13_BOS        1  Boston  ftnl1      1   \n",
       "\n",
       "         deviceSide  tremorScore  dyskinesiaScore     ...       s_kurtY  \\\n",
       "25819_22      Right            1              NaN     ...      2.718469   \n",
       "25820_22       Left            1              NaN     ...      1.825242   \n",
       "25821_22      Right            2              NaN     ...      2.591783   \n",
       "25822_22       Left            1              NaN     ...      3.727310   \n",
       "25824_22       Left            2              NaN     ...      0.968188   \n",
       "\n",
       "            s_kurtZ  s_xcor_peakXY  s_xcorr_peakXZ  s_xcorr_peakYZ  \\\n",
       "25819_22  20.048757       6.220360        3.633610        5.631900   \n",
       "25820_22   1.637227       1.072114        6.525817       33.721069   \n",
       "25821_22   2.380954       9.405408        1.620735        5.773385   \n",
       "25822_22   1.659374       1.449201        4.550834        1.551287   \n",
       "25824_22   0.450623       0.445990        0.695895        0.705364   \n",
       "\n",
       "          s_xcorr_lagXY  s_xcorr_lagXZ  s_xcorr_lagYZ  s_Dom_freq  s_Pdom_rel  \n",
       "25819_22       0.146203       0.164618       0.166045    1.857743    0.032124  \n",
       "25820_22       0.207634       0.165770       0.063750    0.606701    0.116089  \n",
       "25821_22       0.154786       0.131271       0.156614    2.731325    0.033724  \n",
       "25822_22       0.186340       0.172658       0.084203    0.571667    0.066273  \n",
       "25824_22       0.052412       0.017292       0.112824    0.086603    0.062471  \n",
       "\n",
       "[5 rows x 65 columns]"
      ]
     },
     "execution_count": 698,
     "metadata": {},
     "output_type": "execute_result"
    }
   ],
   "source": [
    "df_train.head()"
   ]
  },
  {
   "cell_type": "markdown",
   "metadata": {},
   "source": [
    "### Test performance"
   ]
  },
  {
   "cell_type": "code",
   "execution_count": 699,
   "metadata": {
    "collapsed": false
   },
   "outputs": [],
   "source": [
    "X = pd.concat((X_meta,df_train.iloc[:,13:]),axis=1)"
   ]
  },
  {
   "cell_type": "code",
   "execution_count": 700,
   "metadata": {
    "collapsed": true
   },
   "outputs": [],
   "source": [
    "X['bradykinesiaScore']=df_train['bradykinesiaScore']"
   ]
  },
  {
   "cell_type": "code",
   "execution_count": 701,
   "metadata": {
    "collapsed": false
   },
   "outputs": [
    {
     "data": {
      "text/html": [
       "<div>\n",
       "<style>\n",
       "    .dataframe thead tr:only-child th {\n",
       "        text-align: right;\n",
       "    }\n",
       "\n",
       "    .dataframe thead th {\n",
       "        text-align: left;\n",
       "    }\n",
       "\n",
       "    .dataframe tbody tr th {\n",
       "        vertical-align: top;\n",
       "    }\n",
       "</style>\n",
       "<table border=\"1\" class=\"dataframe\">\n",
       "  <thead>\n",
       "    <tr style=\"text-align: right;\">\n",
       "      <th></th>\n",
       "      <th>dataFileHandleId</th>\n",
       "      <th>device</th>\n",
       "      <th>patient</th>\n",
       "      <th>session</th>\n",
       "      <th>site</th>\n",
       "      <th>task</th>\n",
       "      <th>visit</th>\n",
       "      <th>deviceSide</th>\n",
       "      <th>EX</th>\n",
       "      <th>EY</th>\n",
       "      <th>...</th>\n",
       "      <th>s_kurtZ</th>\n",
       "      <th>s_xcor_peakXY</th>\n",
       "      <th>s_xcorr_peakXZ</th>\n",
       "      <th>s_xcorr_peakYZ</th>\n",
       "      <th>s_xcorr_lagXY</th>\n",
       "      <th>s_xcorr_lagXZ</th>\n",
       "      <th>s_xcorr_lagYZ</th>\n",
       "      <th>s_Dom_freq</th>\n",
       "      <th>s_Pdom_rel</th>\n",
       "      <th>bradykinesiaScore</th>\n",
       "    </tr>\n",
       "  </thead>\n",
       "  <tbody>\n",
       "    <tr>\n",
       "      <th>25819_22</th>\n",
       "      <td>17286028</td>\n",
       "      <td>0</td>\n",
       "      <td>2</td>\n",
       "      <td>1</td>\n",
       "      <td>0</td>\n",
       "      <td>0</td>\n",
       "      <td>1</td>\n",
       "      <td>1</td>\n",
       "      <td>32.743096</td>\n",
       "      <td>8.294654</td>\n",
       "      <td>...</td>\n",
       "      <td>20.048757</td>\n",
       "      <td>6.220360</td>\n",
       "      <td>3.633610</td>\n",
       "      <td>5.631900</td>\n",
       "      <td>0.146203</td>\n",
       "      <td>0.164618</td>\n",
       "      <td>0.166045</td>\n",
       "      <td>1.857743</td>\n",
       "      <td>0.032124</td>\n",
       "      <td>1</td>\n",
       "    </tr>\n",
       "    <tr>\n",
       "      <th>25820_22</th>\n",
       "      <td>17286030</td>\n",
       "      <td>1</td>\n",
       "      <td>2</td>\n",
       "      <td>1</td>\n",
       "      <td>0</td>\n",
       "      <td>0</td>\n",
       "      <td>1</td>\n",
       "      <td>0</td>\n",
       "      <td>142.506737</td>\n",
       "      <td>259.988610</td>\n",
       "      <td>...</td>\n",
       "      <td>1.637227</td>\n",
       "      <td>1.072114</td>\n",
       "      <td>6.525817</td>\n",
       "      <td>33.721069</td>\n",
       "      <td>0.207634</td>\n",
       "      <td>0.165770</td>\n",
       "      <td>0.063750</td>\n",
       "      <td>0.606701</td>\n",
       "      <td>0.116089</td>\n",
       "      <td>1</td>\n",
       "    </tr>\n",
       "    <tr>\n",
       "      <th>25821_22</th>\n",
       "      <td>17286034</td>\n",
       "      <td>0</td>\n",
       "      <td>2</td>\n",
       "      <td>1</td>\n",
       "      <td>0</td>\n",
       "      <td>1</td>\n",
       "      <td>1</td>\n",
       "      <td>1</td>\n",
       "      <td>129.048050</td>\n",
       "      <td>104.939176</td>\n",
       "      <td>...</td>\n",
       "      <td>2.380954</td>\n",
       "      <td>9.405408</td>\n",
       "      <td>1.620735</td>\n",
       "      <td>5.773385</td>\n",
       "      <td>0.154786</td>\n",
       "      <td>0.131271</td>\n",
       "      <td>0.156614</td>\n",
       "      <td>2.731325</td>\n",
       "      <td>0.033724</td>\n",
       "      <td>1</td>\n",
       "    </tr>\n",
       "    <tr>\n",
       "      <th>25822_22</th>\n",
       "      <td>17286036</td>\n",
       "      <td>1</td>\n",
       "      <td>2</td>\n",
       "      <td>1</td>\n",
       "      <td>0</td>\n",
       "      <td>1</td>\n",
       "      <td>1</td>\n",
       "      <td>0</td>\n",
       "      <td>113.334655</td>\n",
       "      <td>117.228067</td>\n",
       "      <td>...</td>\n",
       "      <td>1.659374</td>\n",
       "      <td>1.449201</td>\n",
       "      <td>4.550834</td>\n",
       "      <td>1.551287</td>\n",
       "      <td>0.186340</td>\n",
       "      <td>0.172658</td>\n",
       "      <td>0.084203</td>\n",
       "      <td>0.571667</td>\n",
       "      <td>0.066273</td>\n",
       "      <td>1</td>\n",
       "    </tr>\n",
       "    <tr>\n",
       "      <th>25824_22</th>\n",
       "      <td>17286042</td>\n",
       "      <td>1</td>\n",
       "      <td>2</td>\n",
       "      <td>1</td>\n",
       "      <td>0</td>\n",
       "      <td>2</td>\n",
       "      <td>1</td>\n",
       "      <td>0</td>\n",
       "      <td>84.982941</td>\n",
       "      <td>153.201798</td>\n",
       "      <td>...</td>\n",
       "      <td>0.450623</td>\n",
       "      <td>0.445990</td>\n",
       "      <td>0.695895</td>\n",
       "      <td>0.705364</td>\n",
       "      <td>0.052412</td>\n",
       "      <td>0.017292</td>\n",
       "      <td>0.112824</td>\n",
       "      <td>0.086603</td>\n",
       "      <td>0.062471</td>\n",
       "      <td>1</td>\n",
       "    </tr>\n",
       "  </tbody>\n",
       "</table>\n",
       "<p>5 rows × 61 columns</p>\n",
       "</div>"
      ],
      "text/plain": [
       "          dataFileHandleId  device  patient  session  site  task  visit  \\\n",
       "25819_22          17286028       0        2        1     0     0      1   \n",
       "25820_22          17286030       1        2        1     0     0      1   \n",
       "25821_22          17286034       0        2        1     0     1      1   \n",
       "25822_22          17286036       1        2        1     0     1      1   \n",
       "25824_22          17286042       1        2        1     0     2      1   \n",
       "\n",
       "          deviceSide          EX          EY        ...            s_kurtZ  \\\n",
       "25819_22           1   32.743096    8.294654        ...          20.048757   \n",
       "25820_22           0  142.506737  259.988610        ...           1.637227   \n",
       "25821_22           1  129.048050  104.939176        ...           2.380954   \n",
       "25822_22           0  113.334655  117.228067        ...           1.659374   \n",
       "25824_22           0   84.982941  153.201798        ...           0.450623   \n",
       "\n",
       "          s_xcor_peakXY  s_xcorr_peakXZ  s_xcorr_peakYZ  s_xcorr_lagXY  \\\n",
       "25819_22       6.220360        3.633610        5.631900       0.146203   \n",
       "25820_22       1.072114        6.525817       33.721069       0.207634   \n",
       "25821_22       9.405408        1.620735        5.773385       0.154786   \n",
       "25822_22       1.449201        4.550834        1.551287       0.186340   \n",
       "25824_22       0.445990        0.695895        0.705364       0.052412   \n",
       "\n",
       "          s_xcorr_lagXZ  s_xcorr_lagYZ  s_Dom_freq  s_Pdom_rel  \\\n",
       "25819_22       0.164618       0.166045    1.857743    0.032124   \n",
       "25820_22       0.165770       0.063750    0.606701    0.116089   \n",
       "25821_22       0.131271       0.156614    2.731325    0.033724   \n",
       "25822_22       0.172658       0.084203    0.571667    0.066273   \n",
       "25824_22       0.017292       0.112824    0.086603    0.062471   \n",
       "\n",
       "          bradykinesiaScore  \n",
       "25819_22                  1  \n",
       "25820_22                  1  \n",
       "25821_22                  1  \n",
       "25822_22                  1  \n",
       "25824_22                  1  \n",
       "\n",
       "[5 rows x 61 columns]"
      ]
     },
     "execution_count": 701,
     "metadata": {},
     "output_type": "execute_result"
    }
   ],
   "source": [
    "X.head()"
   ]
  },
  {
   "cell_type": "code",
   "execution_count": 702,
   "metadata": {
    "collapsed": false
   },
   "outputs": [
    {
     "data": {
      "text/plain": [
       "(3016, 61)"
      ]
     },
     "execution_count": 702,
     "metadata": {},
     "output_type": "execute_result"
    }
   ],
   "source": [
    "X.shape"
   ]
  },
  {
   "cell_type": "code",
   "execution_count": 703,
   "metadata": {
    "collapsed": false
   },
   "outputs": [
    {
     "data": {
      "text/plain": [
       "Index(['dataFileHandleId', 'device', 'patient', 'session', 'site', 'task',\n",
       "       'visit', 'deviceSide', 'EX', 'EY', 'EZ', 'rangeX', 'rangeY', 'rangeZ',\n",
       "       'meanX', 'meanY', 'meanZ', 'varX', 'varY', 'varZ', 'skewX', 'skewY',\n",
       "       'skewZ', 'kurtX', 'kurtY', 'kurtZ', 'xcor_peakXY', 'xcorr_peakXZ',\n",
       "       'xcorr_peakYZ', 'xcorr_lagXY', 'xcorr_lagXZ', 'xcorr_lagYZ', 'Dom_freq',\n",
       "       'Pdom_rel', 's_EX', 's_EY', 's_EZ', 's_rangeX', 's_rangeY', 's_rangeZ',\n",
       "       's_meanX', 's_meanY', 's_meanZ', 's_varX', 's_varY', 's_varZ',\n",
       "       's_skewX', 's_skewY', 's_skewZ', 's_kurtX', 's_kurtY', 's_kurtZ',\n",
       "       's_xcor_peakXY', 's_xcorr_peakXZ', 's_xcorr_peakYZ', 's_xcorr_lagXY',\n",
       "       's_xcorr_lagXZ', 's_xcorr_lagYZ', 's_Dom_freq', 's_Pdom_rel',\n",
       "       'bradykinesiaScore'],\n",
       "      dtype='object')"
      ]
     },
     "execution_count": 703,
     "metadata": {},
     "output_type": "execute_result"
    }
   ],
   "source": [
    "X.columns"
   ]
  },
  {
   "cell_type": "code",
   "execution_count": 704,
   "metadata": {
    "collapsed": false
   },
   "outputs": [],
   "source": [
    "X=X.dropna()"
   ]
  },
  {
   "cell_type": "code",
   "execution_count": 705,
   "metadata": {
    "collapsed": false
   },
   "outputs": [],
   "source": [
    "#drop target col\n",
    "y = X['bradykinesiaScore'].values\n",
    "X = X.drop('bradykinesiaScore',axis=1)"
   ]
  },
  {
   "cell_type": "markdown",
   "metadata": {},
   "source": [
    "** Standardize features **"
   ]
  },
  {
   "cell_type": "code",
   "execution_count": 706,
   "metadata": {
    "collapsed": true
   },
   "outputs": [],
   "source": [
    "#standardize features\n",
    "scaler = StandardScaler()\n",
    "X.iloc[:,8:]=scaler.fit_transform(X.iloc[:,8:])"
   ]
  },
  {
   "cell_type": "code",
   "execution_count": 707,
   "metadata": {
    "collapsed": false
   },
   "outputs": [
    {
     "data": {
      "text/html": [
       "<div>\n",
       "<style>\n",
       "    .dataframe thead tr:only-child th {\n",
       "        text-align: right;\n",
       "    }\n",
       "\n",
       "    .dataframe thead th {\n",
       "        text-align: left;\n",
       "    }\n",
       "\n",
       "    .dataframe tbody tr th {\n",
       "        vertical-align: top;\n",
       "    }\n",
       "</style>\n",
       "<table border=\"1\" class=\"dataframe\">\n",
       "  <thead>\n",
       "    <tr style=\"text-align: right;\">\n",
       "      <th></th>\n",
       "      <th>dataFileHandleId</th>\n",
       "      <th>device</th>\n",
       "      <th>patient</th>\n",
       "      <th>session</th>\n",
       "      <th>site</th>\n",
       "      <th>task</th>\n",
       "      <th>visit</th>\n",
       "      <th>deviceSide</th>\n",
       "      <th>EX</th>\n",
       "      <th>EY</th>\n",
       "      <th>...</th>\n",
       "      <th>s_kurtY</th>\n",
       "      <th>s_kurtZ</th>\n",
       "      <th>s_xcor_peakXY</th>\n",
       "      <th>s_xcorr_peakXZ</th>\n",
       "      <th>s_xcorr_peakYZ</th>\n",
       "      <th>s_xcorr_lagXY</th>\n",
       "      <th>s_xcorr_lagXZ</th>\n",
       "      <th>s_xcorr_lagYZ</th>\n",
       "      <th>s_Dom_freq</th>\n",
       "      <th>s_Pdom_rel</th>\n",
       "    </tr>\n",
       "  </thead>\n",
       "  <tbody>\n",
       "    <tr>\n",
       "      <th>25819_22</th>\n",
       "      <td>17286028</td>\n",
       "      <td>0</td>\n",
       "      <td>2</td>\n",
       "      <td>1</td>\n",
       "      <td>0</td>\n",
       "      <td>0</td>\n",
       "      <td>1</td>\n",
       "      <td>1</td>\n",
       "      <td>-0.413492</td>\n",
       "      <td>-0.492503</td>\n",
       "      <td>...</td>\n",
       "      <td>-0.051645</td>\n",
       "      <td>2.568390</td>\n",
       "      <td>-0.025605</td>\n",
       "      <td>-0.084616</td>\n",
       "      <td>-0.027269</td>\n",
       "      <td>0.631907</td>\n",
       "      <td>0.986645</td>\n",
       "      <td>1.033993</td>\n",
       "      <td>0.746156</td>\n",
       "      <td>-0.736288</td>\n",
       "    </tr>\n",
       "    <tr>\n",
       "      <th>25820_22</th>\n",
       "      <td>17286030</td>\n",
       "      <td>1</td>\n",
       "      <td>2</td>\n",
       "      <td>1</td>\n",
       "      <td>0</td>\n",
       "      <td>0</td>\n",
       "      <td>1</td>\n",
       "      <td>0</td>\n",
       "      <td>-0.386449</td>\n",
       "      <td>-0.402976</td>\n",
       "      <td>...</td>\n",
       "      <td>-0.211256</td>\n",
       "      <td>-0.269512</td>\n",
       "      <td>-0.076323</td>\n",
       "      <td>-0.011616</td>\n",
       "      <td>0.279385</td>\n",
       "      <td>1.541076</td>\n",
       "      <td>1.004108</td>\n",
       "      <td>-0.512818</td>\n",
       "      <td>-0.653833</td>\n",
       "      <td>1.925762</td>\n",
       "    </tr>\n",
       "  </tbody>\n",
       "</table>\n",
       "<p>2 rows × 60 columns</p>\n",
       "</div>"
      ],
      "text/plain": [
       "          dataFileHandleId  device  patient  session  site  task  visit  \\\n",
       "25819_22          17286028       0        2        1     0     0      1   \n",
       "25820_22          17286030       1        2        1     0     0      1   \n",
       "\n",
       "          deviceSide        EX        EY     ...       s_kurtY   s_kurtZ  \\\n",
       "25819_22           1 -0.413492 -0.492503     ...     -0.051645  2.568390   \n",
       "25820_22           0 -0.386449 -0.402976     ...     -0.211256 -0.269512   \n",
       "\n",
       "          s_xcor_peakXY  s_xcorr_peakXZ  s_xcorr_peakYZ  s_xcorr_lagXY  \\\n",
       "25819_22      -0.025605       -0.084616       -0.027269       0.631907   \n",
       "25820_22      -0.076323       -0.011616        0.279385       1.541076   \n",
       "\n",
       "          s_xcorr_lagXZ  s_xcorr_lagYZ  s_Dom_freq  s_Pdom_rel  \n",
       "25819_22       0.986645       1.033993    0.746156   -0.736288  \n",
       "25820_22       1.004108      -0.512818   -0.653833    1.925762  \n",
       "\n",
       "[2 rows x 60 columns]"
      ]
     },
     "execution_count": 707,
     "metadata": {},
     "output_type": "execute_result"
    }
   ],
   "source": [
    "X.head(2)"
   ]
  },
  {
   "cell_type": "code",
   "execution_count": 708,
   "metadata": {
    "collapsed": true
   },
   "outputs": [],
   "source": [
    "#Save a copy for later use\n",
    "X_copy = X.copy()"
   ]
  },
  {
   "cell_type": "markdown",
   "metadata": {},
   "source": [
    "## Check feature importance with XGBoost classifier"
   ]
  },
  {
   "cell_type": "code",
   "execution_count": 709,
   "metadata": {
    "collapsed": true
   },
   "outputs": [],
   "source": [
    "#LOSO CV\n",
    "groups = X.patient.as_matrix()"
   ]
  },
  {
   "cell_type": "code",
   "execution_count": 710,
   "metadata": {
    "collapsed": true
   },
   "outputs": [],
   "source": [
    "models = [XGBClassifier()]\n",
    "model_name = ['XGB']\n",
    "models = list(zip(models,model_name))"
   ]
  },
  {
   "cell_type": "code",
   "execution_count": 711,
   "metadata": {
    "collapsed": false
   },
   "outputs": [],
   "source": [
    "X = X.drop('patient',axis=1)"
   ]
  },
  {
   "cell_type": "code",
   "execution_count": 712,
   "metadata": {
    "collapsed": false
   },
   "outputs": [
    {
     "name": "stdout",
     "output_type": "stream",
     "text": [
      "Training XGB\n",
      "XGB, mean Acc on training set = 0.945 (+/- 0.002)\n",
      "XGB, mean Sens = 0.535 (+/- 0.180)\n",
      "XGB, mean Spec = 0.973 (+/- 0.024)\n",
      "XGB, mean Acc = 0.896 (+/- 0.047)\n"
     ]
    }
   ],
   "source": [
    "fimp_all = LOSOCV(X.iloc[:,1:].as_matrix(),y,groups,models)"
   ]
  },
  {
   "cell_type": "code",
   "execution_count": 713,
   "metadata": {
    "collapsed": false
   },
   "outputs": [],
   "source": [
    "fimp_all=np.asarray(fimp_all)"
   ]
  },
  {
   "cell_type": "code",
   "execution_count": 714,
   "metadata": {
    "collapsed": false
   },
   "outputs": [],
   "source": [
    "fimp_mean=np.mean(fimp_all,axis=0)"
   ]
  },
  {
   "cell_type": "code",
   "execution_count": 715,
   "metadata": {
    "collapsed": false
   },
   "outputs": [
    {
     "data": {
      "text/plain": [
       "<matplotlib.text.Text at 0x11e573e48>"
      ]
     },
     "execution_count": 715,
     "metadata": {},
     "output_type": "execute_result"
    },
    {
     "data": {
      "image/png": "[encoded data removed]",
      "text/plain": [
       "<matplotlib.figure.Figure at 0x120bc3160>"
      ]
     },
     "metadata": {},
     "output_type": "display_data"
    }
   ],
   "source": [
    "clf = models[0][0]\n",
    "fimp = pd.Series(index=X.columns[1:],data=fimp_mean)\n",
    "plt.figure(figsize=(20,8))\n",
    "ax = sns.barplot(x=fimp.index,y=fimp.values)\n",
    "_ = plt.xticks(rotation=75)\n",
    "plt.title('XGBoost w windowed features')"
   ]
  },
  {
   "cell_type": "code",
   "execution_count": 169,
   "metadata": {
    "collapsed": false
   },
   "outputs": [
    {
     "data": {
      "text/plain": [
       "<matplotlib.text.Text at 0x116c17160>"
      ]
     },
     "execution_count": 169,
     "metadata": {},
     "output_type": "execute_result"
    },
    {
     "data": {
      "image/png": "[encoded data removed]",
      "text/plain": [
       "<matplotlib.figure.Figure at 0x1031f5978>"
      ]
     },
     "metadata": {},
     "output_type": "display_data"
    }
   ],
   "source": [
    "clf = models[0][0]\n",
    "fimp = pd.Series(index=X.columns[1:],data=fimp_mean)\n",
    "plt.figure(figsize=(20,8))\n",
    "ax = sns.barplot(x=fimp.index,y=fimp.values)\n",
    "_ = plt.xticks(rotation=75)\n",
    "plt.title('XGBoost')"
   ]
  },
  {
   "cell_type": "markdown",
   "metadata": {},
   "source": [
    "## Submission"
   ]
  },
  {
   "cell_type": "code",
   "execution_count": 717,
   "metadata": {
    "collapsed": true
   },
   "outputs": [],
   "source": [
    "X = X_copy"
   ]
  },
  {
   "cell_type": "code",
   "execution_count": 718,
   "metadata": {
    "collapsed": false
   },
   "outputs": [],
   "source": [
    "X.to_csv('Submission_winFeat.csv',index=False)"
   ]
  },
  {
   "cell_type": "code",
   "execution_count": 722,
   "metadata": {
    "collapsed": false
   },
   "outputs": [
    {
     "name": "stdout",
     "output_type": "stream",
     "text": [
      "Welcome, Luca Lonini!\n",
      "\n",
      "AUPRC: 0.891\n"
     ]
    }
   ],
   "source": [
    "%run sc2FitModels_LOSOCV.py 'bradykinesia' Submission_basicFeat.csv #feat on entire recording"
   ]
  },
  {
   "cell_type": "code",
   "execution_count": 723,
   "metadata": {
    "collapsed": false,
    "scrolled": false
   },
   "outputs": [
    {
     "name": "stdout",
     "output_type": "stream",
     "text": [
      "Welcome, Luca Lonini!\n",
      "\n",
      "AUPRC: 0.868\n"
     ]
    }
   ],
   "source": [
    "%run sc2FitModels_LOSOCV.py 'bradykinesia' Submission_winFeat.csv"
   ]
  },
  {
   "cell_type": "code",
   "execution_count": 721,
   "metadata": {
    "collapsed": false,
    "scrolled": false
   },
   "outputs": [
    {
     "name": "stdout",
     "output_type": "stream",
     "text": [
      "Welcome, Luca Lonini!\n",
      "\n",
      "AUPRC: 0.823\n"
     ]
    }
   ],
   "source": [
    "%run sc2FitModels_LOSOCV.py 'bradykinesia' Meta_wDur.csv"
   ]
  },
  {
   "cell_type": "code",
   "execution_count": 716,
   "metadata": {
    "collapsed": false
   },
   "outputs": [
    {
     "name": "stdout",
     "output_type": "stream",
     "text": [
      "Welcome, Luca Lonini!\n",
      "\n",
      "AUPRC: 0.814\n"
     ]
    }
   ],
   "source": [
    "%run sc2FitModels_LOSOCV.py 'bradykinesia' DummySubmission.csv"
   ]
  },
  {
   "cell_type": "code",
   "execution_count": 875,
   "metadata": {
    "collapsed": false
   },
   "outputs": [],
   "source": [
    "coldrop=list(X.columns)[1:8]\n",
    "coldrop.remove('patient')"
   ]
  },
  {
   "cell_type": "code",
   "execution_count": 877,
   "metadata": {
    "collapsed": false
   },
   "outputs": [],
   "source": [
    "X_featonly=X.drop(coldrop,axis=1)"
   ]
  },
  {
   "cell_type": "code",
   "execution_count": 878,
   "metadata": {
    "collapsed": true
   },
   "outputs": [],
   "source": [
    "X_featonly.to_csv('Featonly.csv',index=False)"
   ]
  },
  {
   "cell_type": "code",
   "execution_count": 879,
   "metadata": {
    "collapsed": false
   },
   "outputs": [
    {
     "name": "stdout",
     "output_type": "stream",
     "text": [
      "Welcome, Luca Lonini!\n",
      "\n",
      "AUPRC: [0.92813597493628708, 0.10489913015856153, 0.93836956015802164, 0.95887173606110998, 0.79884693703799836, 0.95417932750479961, 0.87578096294956786, 0.51731107929267139, 0.16323291374897519, 0.89098782593317161, 0.1532074956641859, 0.19316931567203727, 0.093671750656162539, 0.81906306768680603, 0.060397277662888209, 0.35731165553082878, 0.96290579105755925, 0.01161578417073357, 0.97793564316195969]\n"
     ]
    }
   ],
   "source": [
    "%run sc2FitModels_LOSOCV.py 'bradykinesia' Featonly.csv"
   ]
  },
  {
   "cell_type": "markdown",
   "metadata": {},
   "source": [
    "** Feature computation time on 1 clip **"
   ]
  },
  {
   "cell_type": "code",
   "execution_count": 323,
   "metadata": {
    "collapsed": false
   },
   "outputs": [
    {
     "name": "stdout",
     "output_type": "stream",
     "text": [
      "0.003940105438232422\n",
      "0.009171009063720703\n"
     ]
    }
   ],
   "source": [
    "t1 = time.time()\n",
    "rawdata = pd.read_csv(f,sep='\\t')\n",
    "print(time.time()-t1)\n",
    "t1 = time.time()\n",
    "F,flist = feature_extraction(rawdata)\n",
    "print(time.time()-t1)\n"
   ]
  },
  {
   "cell_type": "markdown",
   "metadata": {},
   "source": [
    "# Dyskinesia"
   ]
  },
  {
   "cell_type": "code",
   "execution_count": 9,
   "metadata": {
    "collapsed": false
   },
   "outputs": [
    {
     "name": "stdout",
     "output_type": "stream",
     "text": [
      "Downloading 0 files, 1556 cached locally\n"
     ]
    }
   ],
   "source": [
    "q_dysk_train = syn.tableQuery(\"SELECT * from syn10495809 where dyskinesiaScore is not null\")\n",
    "paths_train = syn.downloadTableColumns(q_dysk_train,'dataFileHandleId')"
   ]
  },
  {
   "cell_type": "code",
   "execution_count": 10,
   "metadata": {
    "collapsed": true
   },
   "outputs": [],
   "source": [
    "df_train_dysk = q_dysk_train.asDataFrame()"
   ]
  },
  {
   "cell_type": "code",
   "execution_count": 11,
   "metadata": {
    "collapsed": true
   },
   "outputs": [],
   "source": [
    "df_train_dysk['path']=df_train_dysk.dataFileHandleId.astype(str).map(paths_train)"
   ]
  },
  {
   "cell_type": "code",
   "execution_count": 12,
   "metadata": {
    "collapsed": false
   },
   "outputs": [
    {
     "data": {
      "text/html": [
       "<div>\n",
       "<table border=\"1\" class=\"dataframe\">\n",
       "  <thead>\n",
       "    <tr style=\"text-align: right;\">\n",
       "      <th></th>\n",
       "      <th>dataFileHandleId</th>\n",
       "      <th>device</th>\n",
       "      <th>patient</th>\n",
       "      <th>session</th>\n",
       "      <th>site</th>\n",
       "      <th>task</th>\n",
       "      <th>visit</th>\n",
       "      <th>deviceSide</th>\n",
       "      <th>tremorScore</th>\n",
       "      <th>dyskinesiaScore</th>\n",
       "      <th>bradykinesiaScore</th>\n",
       "      <th>path</th>\n",
       "    </tr>\n",
       "  </thead>\n",
       "  <tbody>\n",
       "    <tr>\n",
       "      <th>25823_22</th>\n",
       "      <td>17286039</td>\n",
       "      <td>GENEActiv</td>\n",
       "      <td>13_BOS</td>\n",
       "      <td>1</td>\n",
       "      <td>Boston</td>\n",
       "      <td>ftnl1</td>\n",
       "      <td>1</td>\n",
       "      <td>Right</td>\n",
       "      <td>NaN</td>\n",
       "      <td>0</td>\n",
       "      <td>NaN</td>\n",
       "      <td>/Users/luca/Projects/DREAM_PD/Data/39/17286039...</td>\n",
       "    </tr>\n",
       "    <tr>\n",
       "      <th>25825_22</th>\n",
       "      <td>17286045</td>\n",
       "      <td>GENEActiv</td>\n",
       "      <td>13_BOS</td>\n",
       "      <td>1</td>\n",
       "      <td>Boston</td>\n",
       "      <td>ftnl2</td>\n",
       "      <td>1</td>\n",
       "      <td>Right</td>\n",
       "      <td>NaN</td>\n",
       "      <td>0</td>\n",
       "      <td>NaN</td>\n",
       "      <td>/Users/luca/Projects/DREAM_PD/Data/45/17286045...</td>\n",
       "    </tr>\n",
       "  </tbody>\n",
       "</table>\n",
       "</div>"
      ],
      "text/plain": [
       "          dataFileHandleId     device patient  session    site   task  visit  \\\n",
       "25823_22          17286039  GENEActiv  13_BOS        1  Boston  ftnl1      1   \n",
       "25825_22          17286045  GENEActiv  13_BOS        1  Boston  ftnl2      1   \n",
       "\n",
       "         deviceSide  tremorScore  dyskinesiaScore  bradykinesiaScore  \\\n",
       "25823_22      Right          NaN                0                NaN   \n",
       "25825_22      Right          NaN                0                NaN   \n",
       "\n",
       "                                                       path  \n",
       "25823_22  /Users/luca/Projects/DREAM_PD/Data/39/17286039...  \n",
       "25825_22  /Users/luca/Projects/DREAM_PD/Data/45/17286045...  "
      ]
     },
     "execution_count": 12,
     "metadata": {},
     "output_type": "execute_result"
    }
   ],
   "source": [
    "df_train_dysk.head(2)"
   ]
  },
  {
   "cell_type": "code",
   "execution_count": 886,
   "metadata": {
    "collapsed": true
   },
   "outputs": [],
   "source": [
    "df_train = df_train_dysk"
   ]
  },
  {
   "cell_type": "code",
   "execution_count": 887,
   "metadata": {
    "collapsed": false
   },
   "outputs": [
    {
     "name": "stdout",
     "output_type": "stream",
     "text": [
      "0\n"
     ]
    },
    {
     "name": "stderr",
     "output_type": "stream",
     "text": [
      "/Users/luca/anaconda/envs/py35_pd20/lib/python3.5/site-packages/ipykernel/__main__.py:42: RuntimeWarning: Mean of empty slice\n"
     ]
    },
    {
     "name": "stdout",
     "output_type": "stream",
     "text": [
      "1000\n",
      "Elapsed Time:[s] 38.7\n",
      "Files w nans: 88\n",
      "Files w 0 non-nan rows 56\n"
     ]
    }
   ],
   "source": [
    "row = 0\n",
    "nans_found=0; n_empty=0\n",
    "Features = []\n",
    "t1 = time.time()\n",
    "# for f in df_train.path:\n",
    "for i in range(len(df_train)):\n",
    "\n",
    "    f = df_train.iloc[i,:].path\n",
    "    if row%1000==0:\n",
    "        print(row)\n",
    "    rawdata = pd.read_csv(f,sep='\\t') #load file\n",
    "   \n",
    "    #remove nans\n",
    "    rawdata = rawdata.astype('float64') #make sure everything is float\n",
    "    if sum(np.sum(rawdata.isnull())) > 0:\n",
    "        nans_found+=1 # of files w nans\n",
    "        rawdata = rawdata.dropna() #drop nans\n",
    "        \n",
    "    #compute features if at least one data point is there\n",
    "    if rawdata.empty != True:\n",
    "        #reindex timestamp data relative to start \n",
    "        t = rawdata.timestamp\n",
    "        t = t-t.iloc[0]\n",
    "        rawdata.timestamp = t\n",
    "\n",
    "        #HP filter data (remove gravity)\n",
    "        rawdata = filter_signal(rawdata,order=2)\n",
    "\n",
    "        #compute features on entire recording\n",
    "        try:\n",
    "            F,flist = feature_extraction(rawdata)\n",
    "            Features.append(F)\n",
    "        except(TypeError):\n",
    "            print('found incompatible datatype')\n",
    "    else:\n",
    "        F = np.empty((1,len(flist))) #empty array of features\n",
    "        F[:]=np.nan\n",
    "        Features.append(F)\n",
    "        n_empty+=1\n",
    "\n",
    "    row+=1\n",
    "        \n",
    "elapsed = time.time()-t1\n",
    "print('Elapsed Time:[s] %.1f'%elapsed)\n",
    "print('Files w nans: %d'%nans_found)\n",
    "print('Files w 0 non-nan rows %d'%n_empty)"
   ]
  },
  {
   "cell_type": "code",
   "execution_count": 891,
   "metadata": {
    "collapsed": false
   },
   "outputs": [
    {
     "name": "stdout",
     "output_type": "stream",
     "text": [
      "(1556, 26)\n"
     ]
    }
   ],
   "source": [
    "Features = np.asarray(Features)\n",
    "Features = Features.squeeze(axis=1)\n",
    "print(Features.shape)"
   ]
  },
  {
   "cell_type": "code",
   "execution_count": 893,
   "metadata": {
    "collapsed": false
   },
   "outputs": [],
   "source": [
    "df_feat = pd.DataFrame(data=Features,columns=flist,dtype='float64')\n",
    "df_feat.index = df_train.index\n",
    "df_train = pd.concat((df_train,df_feat),axis=1)"
   ]
  },
  {
   "cell_type": "code",
   "execution_count": 894,
   "metadata": {
    "collapsed": false
   },
   "outputs": [
    {
     "data": {
      "text/html": [
       "<div>\n",
       "<style>\n",
       "    .dataframe thead tr:only-child th {\n",
       "        text-align: right;\n",
       "    }\n",
       "\n",
       "    .dataframe thead th {\n",
       "        text-align: left;\n",
       "    }\n",
       "\n",
       "    .dataframe tbody tr th {\n",
       "        vertical-align: top;\n",
       "    }\n",
       "</style>\n",
       "<table border=\"1\" class=\"dataframe\">\n",
       "  <thead>\n",
       "    <tr style=\"text-align: right;\">\n",
       "      <th></th>\n",
       "      <th>dataFileHandleId</th>\n",
       "      <th>device</th>\n",
       "      <th>patient</th>\n",
       "      <th>session</th>\n",
       "      <th>site</th>\n",
       "      <th>task</th>\n",
       "      <th>visit</th>\n",
       "      <th>deviceSide</th>\n",
       "      <th>tremorScore</th>\n",
       "      <th>dyskinesiaScore</th>\n",
       "      <th>...</th>\n",
       "      <th>kurtY</th>\n",
       "      <th>kurtZ</th>\n",
       "      <th>xcor_peakXY</th>\n",
       "      <th>xcorr_peakXZ</th>\n",
       "      <th>xcorr_peakYZ</th>\n",
       "      <th>xcorr_lagXY</th>\n",
       "      <th>xcorr_lagXZ</th>\n",
       "      <th>xcorr_lagYZ</th>\n",
       "      <th>Dom_freq</th>\n",
       "      <th>Pdom_rel</th>\n",
       "    </tr>\n",
       "  </thead>\n",
       "  <tbody>\n",
       "    <tr>\n",
       "      <th>25823_22</th>\n",
       "      <td>17286039</td>\n",
       "      <td>GENEActiv</td>\n",
       "      <td>13_BOS</td>\n",
       "      <td>1</td>\n",
       "      <td>Boston</td>\n",
       "      <td>ftnl1</td>\n",
       "      <td>1</td>\n",
       "      <td>Right</td>\n",
       "      <td>NaN</td>\n",
       "      <td>0</td>\n",
       "      <td>...</td>\n",
       "      <td>0.162701</td>\n",
       "      <td>-0.079857</td>\n",
       "      <td>4.745927</td>\n",
       "      <td>0.734146</td>\n",
       "      <td>0.546572</td>\n",
       "      <td>0.506667</td>\n",
       "      <td>0.503333</td>\n",
       "      <td>0.497778</td>\n",
       "      <td>8.1</td>\n",
       "      <td>0.072784</td>\n",
       "    </tr>\n",
       "    <tr>\n",
       "      <th>25825_22</th>\n",
       "      <td>17286045</td>\n",
       "      <td>GENEActiv</td>\n",
       "      <td>13_BOS</td>\n",
       "      <td>1</td>\n",
       "      <td>Boston</td>\n",
       "      <td>ftnl2</td>\n",
       "      <td>1</td>\n",
       "      <td>Right</td>\n",
       "      <td>NaN</td>\n",
       "      <td>0</td>\n",
       "      <td>...</td>\n",
       "      <td>0.134648</td>\n",
       "      <td>-0.026859</td>\n",
       "      <td>1.458933</td>\n",
       "      <td>1.109415</td>\n",
       "      <td>41.765466</td>\n",
       "      <td>0.515556</td>\n",
       "      <td>0.503333</td>\n",
       "      <td>0.496667</td>\n",
       "      <td>6.1</td>\n",
       "      <td>0.058848</td>\n",
       "    </tr>\n",
       "    <tr>\n",
       "      <th>25828_22</th>\n",
       "      <td>17286054</td>\n",
       "      <td>Pebble</td>\n",
       "      <td>13_BOS</td>\n",
       "      <td>1</td>\n",
       "      <td>Boston</td>\n",
       "      <td>ftnr1</td>\n",
       "      <td>1</td>\n",
       "      <td>Left</td>\n",
       "      <td>NaN</td>\n",
       "      <td>0</td>\n",
       "      <td>...</td>\n",
       "      <td>7.689771</td>\n",
       "      <td>1.385359</td>\n",
       "      <td>0.359814</td>\n",
       "      <td>0.669308</td>\n",
       "      <td>0.856794</td>\n",
       "      <td>0.505556</td>\n",
       "      <td>0.543333</td>\n",
       "      <td>0.485556</td>\n",
       "      <td>1.3</td>\n",
       "      <td>0.083133</td>\n",
       "    </tr>\n",
       "    <tr>\n",
       "      <th>25830_22</th>\n",
       "      <td>17286060</td>\n",
       "      <td>Pebble</td>\n",
       "      <td>13_BOS</td>\n",
       "      <td>1</td>\n",
       "      <td>Boston</td>\n",
       "      <td>ftnr2</td>\n",
       "      <td>1</td>\n",
       "      <td>Left</td>\n",
       "      <td>NaN</td>\n",
       "      <td>0</td>\n",
       "      <td>...</td>\n",
       "      <td>11.841003</td>\n",
       "      <td>3.249798</td>\n",
       "      <td>2.058724</td>\n",
       "      <td>1.980309</td>\n",
       "      <td>0.381623</td>\n",
       "      <td>0.498947</td>\n",
       "      <td>0.521053</td>\n",
       "      <td>0.500000</td>\n",
       "      <td>1.0</td>\n",
       "      <td>0.145483</td>\n",
       "    </tr>\n",
       "    <tr>\n",
       "      <th>25835_22</th>\n",
       "      <td>17286076</td>\n",
       "      <td>GENEActiv</td>\n",
       "      <td>13_BOS</td>\n",
       "      <td>1</td>\n",
       "      <td>Boston</td>\n",
       "      <td>raml1</td>\n",
       "      <td>1</td>\n",
       "      <td>Right</td>\n",
       "      <td>NaN</td>\n",
       "      <td>0</td>\n",
       "      <td>...</td>\n",
       "      <td>0.566197</td>\n",
       "      <td>0.002158</td>\n",
       "      <td>1.541055</td>\n",
       "      <td>2.828754</td>\n",
       "      <td>31.930616</td>\n",
       "      <td>0.482105</td>\n",
       "      <td>0.549474</td>\n",
       "      <td>0.557895</td>\n",
       "      <td>5.7</td>\n",
       "      <td>0.515168</td>\n",
       "    </tr>\n",
       "  </tbody>\n",
       "</table>\n",
       "<p>5 rows × 38 columns</p>\n",
       "</div>"
      ],
      "text/plain": [
       "          dataFileHandleId     device patient  session    site   task  visit  \\\n",
       "25823_22          17286039  GENEActiv  13_BOS        1  Boston  ftnl1      1   \n",
       "25825_22          17286045  GENEActiv  13_BOS        1  Boston  ftnl2      1   \n",
       "25828_22          17286054     Pebble  13_BOS        1  Boston  ftnr1      1   \n",
       "25830_22          17286060     Pebble  13_BOS        1  Boston  ftnr2      1   \n",
       "25835_22          17286076  GENEActiv  13_BOS        1  Boston  raml1      1   \n",
       "\n",
       "         deviceSide  tremorScore  dyskinesiaScore    ...         kurtY  \\\n",
       "25823_22      Right          NaN                0    ...      0.162701   \n",
       "25825_22      Right          NaN                0    ...      0.134648   \n",
       "25828_22       Left          NaN                0    ...      7.689771   \n",
       "25830_22       Left          NaN                0    ...     11.841003   \n",
       "25835_22      Right          NaN                0    ...      0.566197   \n",
       "\n",
       "             kurtZ  xcor_peakXY  xcorr_peakXZ  xcorr_peakYZ  xcorr_lagXY  \\\n",
       "25823_22 -0.079857     4.745927      0.734146      0.546572     0.506667   \n",
       "25825_22 -0.026859     1.458933      1.109415     41.765466     0.515556   \n",
       "25828_22  1.385359     0.359814      0.669308      0.856794     0.505556   \n",
       "25830_22  3.249798     2.058724      1.980309      0.381623     0.498947   \n",
       "25835_22  0.002158     1.541055      2.828754     31.930616     0.482105   \n",
       "\n",
       "          xcorr_lagXZ  xcorr_lagYZ  Dom_freq  Pdom_rel  \n",
       "25823_22     0.503333     0.497778       8.1  0.072784  \n",
       "25825_22     0.503333     0.496667       6.1  0.058848  \n",
       "25828_22     0.543333     0.485556       1.3  0.083133  \n",
       "25830_22     0.521053     0.500000       1.0  0.145483  \n",
       "25835_22     0.549474     0.557895       5.7  0.515168  \n",
       "\n",
       "[5 rows x 38 columns]"
      ]
     },
     "execution_count": 894,
     "metadata": {},
     "output_type": "execute_result"
    }
   ],
   "source": [
    "df_train.head()"
   ]
  },
  {
   "cell_type": "code",
   "execution_count": 911,
   "metadata": {
    "collapsed": true
   },
   "outputs": [],
   "source": [
    "X = df_train.copy()\n",
    "cat_cols = df_train.select_dtypes(['object']).columns\n",
    "for c in cat_cols:\n",
    "    X[c]=le.fit_transform(df_train[c])"
   ]
  },
  {
   "cell_type": "code",
   "execution_count": 913,
   "metadata": {
    "collapsed": false
   },
   "outputs": [],
   "source": [
    "#drop scores cols\n",
    "X = X.drop(['tremorScore','dyskinesiaScore','bradykinesiaScore','path'],axis=1)\n",
    "#drop nans\n",
    "X=X.dropna()"
   ]
  },
  {
   "cell_type": "code",
   "execution_count": 939,
   "metadata": {
    "collapsed": false
   },
   "outputs": [],
   "source": [
    "#normalize features\n",
    "from sklearn.preprocessing import StandardScaler\n",
    "scaler = StandardScaler()\n",
    "X.iloc[:,8:]=scaler.fit_transform(X.iloc[:,8:])"
   ]
  },
  {
   "cell_type": "code",
   "execution_count": 940,
   "metadata": {
    "collapsed": false
   },
   "outputs": [
    {
     "data": {
      "text/html": [
       "<div>\n",
       "<style>\n",
       "    .dataframe thead tr:only-child th {\n",
       "        text-align: right;\n",
       "    }\n",
       "\n",
       "    .dataframe thead th {\n",
       "        text-align: left;\n",
       "    }\n",
       "\n",
       "    .dataframe tbody tr th {\n",
       "        vertical-align: top;\n",
       "    }\n",
       "</style>\n",
       "<table border=\"1\" class=\"dataframe\">\n",
       "  <thead>\n",
       "    <tr style=\"text-align: right;\">\n",
       "      <th></th>\n",
       "      <th>dataFileHandleId</th>\n",
       "      <th>device</th>\n",
       "      <th>patient</th>\n",
       "      <th>session</th>\n",
       "      <th>site</th>\n",
       "      <th>task</th>\n",
       "      <th>visit</th>\n",
       "      <th>deviceSide</th>\n",
       "      <th>EX</th>\n",
       "      <th>EY</th>\n",
       "      <th>...</th>\n",
       "      <th>kurtY</th>\n",
       "      <th>kurtZ</th>\n",
       "      <th>xcor_peakXY</th>\n",
       "      <th>xcorr_peakXZ</th>\n",
       "      <th>xcorr_peakYZ</th>\n",
       "      <th>xcorr_lagXY</th>\n",
       "      <th>xcorr_lagXZ</th>\n",
       "      <th>xcorr_lagYZ</th>\n",
       "      <th>Dom_freq</th>\n",
       "      <th>Pdom_rel</th>\n",
       "    </tr>\n",
       "  </thead>\n",
       "  <tbody>\n",
       "    <tr>\n",
       "      <th>25823_22</th>\n",
       "      <td>17286039</td>\n",
       "      <td>0</td>\n",
       "      <td>2</td>\n",
       "      <td>1</td>\n",
       "      <td>0</td>\n",
       "      <td>0</td>\n",
       "      <td>1</td>\n",
       "      <td>1</td>\n",
       "      <td>-0.295024</td>\n",
       "      <td>-0.155948</td>\n",
       "      <td>...</td>\n",
       "      <td>-0.360872</td>\n",
       "      <td>-0.366179</td>\n",
       "      <td>-0.048514</td>\n",
       "      <td>-0.032020</td>\n",
       "      <td>-0.177740</td>\n",
       "      <td>0.156770</td>\n",
       "      <td>0.029291</td>\n",
       "      <td>-0.042929</td>\n",
       "      <td>1.964716</td>\n",
       "      <td>-0.667609</td>\n",
       "    </tr>\n",
       "    <tr>\n",
       "      <th>25825_22</th>\n",
       "      <td>17286045</td>\n",
       "      <td>0</td>\n",
       "      <td>2</td>\n",
       "      <td>1</td>\n",
       "      <td>0</td>\n",
       "      <td>1</td>\n",
       "      <td>1</td>\n",
       "      <td>1</td>\n",
       "      <td>-0.294555</td>\n",
       "      <td>-0.155654</td>\n",
       "      <td>...</td>\n",
       "      <td>-0.361554</td>\n",
       "      <td>-0.365204</td>\n",
       "      <td>-0.059190</td>\n",
       "      <td>-0.031821</td>\n",
       "      <td>0.641065</td>\n",
       "      <td>0.323521</td>\n",
       "      <td>0.029291</td>\n",
       "      <td>-0.061885</td>\n",
       "      <td>1.084997</td>\n",
       "      <td>-0.812262</td>\n",
       "    </tr>\n",
       "    <tr>\n",
       "      <th>25828_22</th>\n",
       "      <td>17286054</td>\n",
       "      <td>1</td>\n",
       "      <td>2</td>\n",
       "      <td>1</td>\n",
       "      <td>0</td>\n",
       "      <td>2</td>\n",
       "      <td>1</td>\n",
       "      <td>0</td>\n",
       "      <td>-0.291026</td>\n",
       "      <td>-0.150657</td>\n",
       "      <td>...</td>\n",
       "      <td>-0.177960</td>\n",
       "      <td>-0.339220</td>\n",
       "      <td>-0.062759</td>\n",
       "      <td>-0.032054</td>\n",
       "      <td>-0.171578</td>\n",
       "      <td>0.135926</td>\n",
       "      <td>0.667479</td>\n",
       "      <td>-0.251452</td>\n",
       "      <td>-1.026329</td>\n",
       "      <td>-0.560191</td>\n",
       "    </tr>\n",
       "    <tr>\n",
       "      <th>25830_22</th>\n",
       "      <td>17286060</td>\n",
       "      <td>1</td>\n",
       "      <td>2</td>\n",
       "      <td>1</td>\n",
       "      <td>0</td>\n",
       "      <td>3</td>\n",
       "      <td>1</td>\n",
       "      <td>0</td>\n",
       "      <td>-0.285960</td>\n",
       "      <td>-0.131261</td>\n",
       "      <td>...</td>\n",
       "      <td>-0.077083</td>\n",
       "      <td>-0.304915</td>\n",
       "      <td>-0.057242</td>\n",
       "      <td>-0.031361</td>\n",
       "      <td>-0.181017</td>\n",
       "      <td>0.011959</td>\n",
       "      <td>0.311997</td>\n",
       "      <td>-0.005015</td>\n",
       "      <td>-1.158287</td>\n",
       "      <td>0.086963</td>\n",
       "    </tr>\n",
       "    <tr>\n",
       "      <th>25835_22</th>\n",
       "      <td>17286076</td>\n",
       "      <td>0</td>\n",
       "      <td>2</td>\n",
       "      <td>1</td>\n",
       "      <td>0</td>\n",
       "      <td>4</td>\n",
       "      <td>1</td>\n",
       "      <td>1</td>\n",
       "      <td>-0.287749</td>\n",
       "      <td>-0.157567</td>\n",
       "      <td>...</td>\n",
       "      <td>-0.351067</td>\n",
       "      <td>-0.364670</td>\n",
       "      <td>-0.058923</td>\n",
       "      <td>-0.030912</td>\n",
       "      <td>0.445698</td>\n",
       "      <td>-0.303991</td>\n",
       "      <td>0.765446</td>\n",
       "      <td>0.982726</td>\n",
       "      <td>0.909053</td>\n",
       "      <td>3.924082</td>\n",
       "    </tr>\n",
       "  </tbody>\n",
       "</table>\n",
       "<p>5 rows × 34 columns</p>\n",
       "</div>"
      ],
      "text/plain": [
       "          dataFileHandleId  device  patient  session  site  task  visit  \\\n",
       "25823_22          17286039       0        2        1     0     0      1   \n",
       "25825_22          17286045       0        2        1     0     1      1   \n",
       "25828_22          17286054       1        2        1     0     2      1   \n",
       "25830_22          17286060       1        2        1     0     3      1   \n",
       "25835_22          17286076       0        2        1     0     4      1   \n",
       "\n",
       "          deviceSide        EX        EY    ...        kurtY     kurtZ  \\\n",
       "25823_22           1 -0.295024 -0.155948    ...    -0.360872 -0.366179   \n",
       "25825_22           1 -0.294555 -0.155654    ...    -0.361554 -0.365204   \n",
       "25828_22           0 -0.291026 -0.150657    ...    -0.177960 -0.339220   \n",
       "25830_22           0 -0.285960 -0.131261    ...    -0.077083 -0.304915   \n",
       "25835_22           1 -0.287749 -0.157567    ...    -0.351067 -0.364670   \n",
       "\n",
       "          xcor_peakXY  xcorr_peakXZ  xcorr_peakYZ  xcorr_lagXY  xcorr_lagXZ  \\\n",
       "25823_22    -0.048514     -0.032020     -0.177740     0.156770     0.029291   \n",
       "25825_22    -0.059190     -0.031821      0.641065     0.323521     0.029291   \n",
       "25828_22    -0.062759     -0.032054     -0.171578     0.135926     0.667479   \n",
       "25830_22    -0.057242     -0.031361     -0.181017     0.011959     0.311997   \n",
       "25835_22    -0.058923     -0.030912      0.445698    -0.303991     0.765446   \n",
       "\n",
       "          xcorr_lagYZ  Dom_freq  Pdom_rel  \n",
       "25823_22    -0.042929  1.964716 -0.667609  \n",
       "25825_22    -0.061885  1.084997 -0.812262  \n",
       "25828_22    -0.251452 -1.026329 -0.560191  \n",
       "25830_22    -0.005015 -1.158287  0.086963  \n",
       "25835_22     0.982726  0.909053  3.924082  \n",
       "\n",
       "[5 rows x 34 columns]"
      ]
     },
     "execution_count": 940,
     "metadata": {},
     "output_type": "execute_result"
    }
   ],
   "source": [
    "X.head()"
   ]
  },
  {
   "cell_type": "code",
   "execution_count": 916,
   "metadata": {
    "collapsed": true
   },
   "outputs": [],
   "source": [
    "#only meta features\n",
    "X_meta = X.iloc[:,1:7]"
   ]
  },
  {
   "cell_type": "code",
   "execution_count": 928,
   "metadata": {
    "collapsed": false
   },
   "outputs": [],
   "source": [
    "X_meta['dataFileHandleId'] = X['dataFileHandleId']"
   ]
  },
  {
   "cell_type": "code",
   "execution_count": 930,
   "metadata": {
    "collapsed": true
   },
   "outputs": [],
   "source": [
    "X_meta.to_csv('Submission_Dysk_meta.csv',index=False)"
   ]
  },
  {
   "cell_type": "code",
   "execution_count": 931,
   "metadata": {
    "collapsed": false
   },
   "outputs": [
    {
     "name": "stdout",
     "output_type": "stream",
     "text": [
      "Welcome, Luca Lonini!\n",
      "\n",
      "AUPRC: 0.9871336130604139\n"
     ]
    }
   ],
   "source": [
    "%run sc2FitModels.py 'dyskinesia' Submission_Dysk_meta.csv"
   ]
  },
  {
   "cell_type": "code",
   "execution_count": 941,
   "metadata": {
    "collapsed": false
   },
   "outputs": [],
   "source": [
    "X.to_csv('Submission_Dysk.csv',index=False)"
   ]
  },
  {
   "cell_type": "code",
   "execution_count": 942,
   "metadata": {
    "collapsed": false,
    "scrolled": false
   },
   "outputs": [
    {
     "name": "stdout",
     "output_type": "stream",
     "text": [
      "Welcome, Luca Lonini!\n",
      "\n",
      "AUPRC: [0.17473357112568672, nan, 0.64130760600690595, nan, 0.75690683126336022, 0.96273329545072728, 0.35635302180995548, 0.33691768312514736, nan, 0.95759631691876423, nan, nan, nan, 0.088568145949117549, 0.042427884615384617, 0.12694342694342695, 0.005208333333333333, nan, 0.099259911942920886]\n"
     ]
    }
   ],
   "source": [
    "%run sc2FitModels_LOSOCV.py 'dyskinesia' Submission_Dysk.csv"
   ]
  },
  {
   "cell_type": "code",
   "execution_count": 943,
   "metadata": {
    "collapsed": false
   },
   "outputs": [
    {
     "name": "stdout",
     "output_type": "stream",
     "text": [
      "Welcome, Luca Lonini!\n",
      "\n",
      "AUPRC: 0.9640081852084357\n"
     ]
    }
   ],
   "source": [
    "%run sc2FitModels.py 'dyskinesia' Submission_Dysk.csv"
   ]
  },
  {
   "cell_type": "markdown",
   "metadata": {},
   "source": [
    "# Tremor"
   ]
  },
  {
   "cell_type": "code",
   "execution_count": 38,
   "metadata": {
    "collapsed": true
   },
   "outputs": [],
   "source": [
    "q_tremor = syn.tableQuery(\"SELECT * from syn10495809 where tremorScore is not null\")"
   ]
  },
  {
   "cell_type": "code",
   "execution_count": 39,
   "metadata": {
    "collapsed": true
   },
   "outputs": [],
   "source": [
    "Train_tremor = q_tremor.asDataFrame()"
   ]
  },
  {
   "cell_type": "code",
   "execution_count": 40,
   "metadata": {
    "collapsed": false
   },
   "outputs": [
    {
     "data": {
      "text/html": [
       "<div>\n",
       "<style>\n",
       "    .dataframe thead tr:only-child th {\n",
       "        text-align: right;\n",
       "    }\n",
       "\n",
       "    .dataframe thead th {\n",
       "        text-align: left;\n",
       "    }\n",
       "\n",
       "    .dataframe tbody tr th {\n",
       "        vertical-align: top;\n",
       "    }\n",
       "</style>\n",
       "<table border=\"1\" class=\"dataframe\">\n",
       "  <thead>\n",
       "    <tr style=\"text-align: right;\">\n",
       "      <th></th>\n",
       "      <th>dataFileHandleId</th>\n",
       "      <th>device</th>\n",
       "      <th>patient</th>\n",
       "      <th>session</th>\n",
       "      <th>site</th>\n",
       "      <th>task</th>\n",
       "      <th>visit</th>\n",
       "      <th>deviceSide</th>\n",
       "      <th>tremorScore</th>\n",
       "      <th>dyskinesiaScore</th>\n",
       "      <th>bradykinesiaScore</th>\n",
       "    </tr>\n",
       "  </thead>\n",
       "  <tbody>\n",
       "    <tr>\n",
       "      <th>25819_22</th>\n",
       "      <td>17286028</td>\n",
       "      <td>GENEActiv</td>\n",
       "      <td>13_BOS</td>\n",
       "      <td>1</td>\n",
       "      <td>Boston</td>\n",
       "      <td>drnkg</td>\n",
       "      <td>1</td>\n",
       "      <td>Right</td>\n",
       "      <td>1</td>\n",
       "      <td>NaN</td>\n",
       "      <td>1.0</td>\n",
       "    </tr>\n",
       "    <tr>\n",
       "      <th>25820_22</th>\n",
       "      <td>17286030</td>\n",
       "      <td>Pebble</td>\n",
       "      <td>13_BOS</td>\n",
       "      <td>1</td>\n",
       "      <td>Boston</td>\n",
       "      <td>drnkg</td>\n",
       "      <td>1</td>\n",
       "      <td>Left</td>\n",
       "      <td>1</td>\n",
       "      <td>NaN</td>\n",
       "      <td>1.0</td>\n",
       "    </tr>\n",
       "    <tr>\n",
       "      <th>25821_22</th>\n",
       "      <td>17286034</td>\n",
       "      <td>GENEActiv</td>\n",
       "      <td>13_BOS</td>\n",
       "      <td>1</td>\n",
       "      <td>Boston</td>\n",
       "      <td>fldng</td>\n",
       "      <td>1</td>\n",
       "      <td>Right</td>\n",
       "      <td>2</td>\n",
       "      <td>NaN</td>\n",
       "      <td>1.0</td>\n",
       "    </tr>\n",
       "    <tr>\n",
       "      <th>25822_22</th>\n",
       "      <td>17286036</td>\n",
       "      <td>Pebble</td>\n",
       "      <td>13_BOS</td>\n",
       "      <td>1</td>\n",
       "      <td>Boston</td>\n",
       "      <td>fldng</td>\n",
       "      <td>1</td>\n",
       "      <td>Left</td>\n",
       "      <td>1</td>\n",
       "      <td>NaN</td>\n",
       "      <td>1.0</td>\n",
       "    </tr>\n",
       "    <tr>\n",
       "      <th>25824_22</th>\n",
       "      <td>17286042</td>\n",
       "      <td>Pebble</td>\n",
       "      <td>13_BOS</td>\n",
       "      <td>1</td>\n",
       "      <td>Boston</td>\n",
       "      <td>ftnl1</td>\n",
       "      <td>1</td>\n",
       "      <td>Left</td>\n",
       "      <td>2</td>\n",
       "      <td>NaN</td>\n",
       "      <td>1.0</td>\n",
       "    </tr>\n",
       "  </tbody>\n",
       "</table>\n",
       "</div>"
      ],
      "text/plain": [
       "          dataFileHandleId     device patient  session    site   task  visit  \\\n",
       "25819_22          17286028  GENEActiv  13_BOS        1  Boston  drnkg      1   \n",
       "25820_22          17286030     Pebble  13_BOS        1  Boston  drnkg      1   \n",
       "25821_22          17286034  GENEActiv  13_BOS        1  Boston  fldng      1   \n",
       "25822_22          17286036     Pebble  13_BOS        1  Boston  fldng      1   \n",
       "25824_22          17286042     Pebble  13_BOS        1  Boston  ftnl1      1   \n",
       "\n",
       "         deviceSide  tremorScore  dyskinesiaScore  bradykinesiaScore  \n",
       "25819_22      Right            1              NaN                1.0  \n",
       "25820_22       Left            1              NaN                1.0  \n",
       "25821_22      Right            2              NaN                1.0  \n",
       "25822_22       Left            1              NaN                1.0  \n",
       "25824_22       Left            2              NaN                1.0  "
      ]
     },
     "execution_count": 40,
     "metadata": {},
     "output_type": "execute_result"
    }
   ],
   "source": [
    "Train_tremor.head()"
   ]
  },
  {
   "cell_type": "code",
   "execution_count": 56,
   "metadata": {
    "collapsed": false
   },
   "outputs": [],
   "source": [
    "data = {}\n",
    "for file_handle_id, path in paths_train.items():\n",
    "        with open(path) as f:\n",
    "            data[file_handle_id] = f.read()"
   ]
  },
  {
   "cell_type": "code",
   "execution_count": 4,
   "metadata": {
    "collapsed": false
   },
   "outputs": [
    {
     "name": "stdout",
     "output_type": "stream",
     "text": [
      "Downloading 100 files, 0 cached locally\n"
     ]
    }
   ],
   "source": [
    "# q = syn.tableQuery(\"SELECT * from syn10495809 where tremorScore > 3\")\n",
    "q = syn.tableQuery(\"SELECT * from syn10495809 LIMIT 100\")\n",
    "paths_train = syn.downloadTableColumns(q,'dataFileHandleId')"
   ]
  },
  {
   "cell_type": "code",
   "execution_count": 5,
   "metadata": {
    "collapsed": false
   },
   "outputs": [],
   "source": [
    "df_train = q.asDataFrame()\n",
    "df_train['path']=df_train.dataFileHandleId.astype(str).map(paths_train)"
   ]
  },
  {
   "cell_type": "code",
   "execution_count": 6,
   "metadata": {
    "collapsed": false
   },
   "outputs": [
    {
     "data": {
      "text/html": [
       "<div>\n",
       "<style>\n",
       "    .dataframe thead tr:only-child th {\n",
       "        text-align: right;\n",
       "    }\n",
       "\n",
       "    .dataframe thead th {\n",
       "        text-align: left;\n",
       "    }\n",
       "\n",
       "    .dataframe tbody tr th {\n",
       "        vertical-align: top;\n",
       "    }\n",
       "</style>\n",
       "<table border=\"1\" class=\"dataframe\">\n",
       "  <thead>\n",
       "    <tr style=\"text-align: right;\">\n",
       "      <th></th>\n",
       "      <th>dataFileHandleId</th>\n",
       "      <th>device</th>\n",
       "      <th>patient</th>\n",
       "      <th>session</th>\n",
       "      <th>site</th>\n",
       "      <th>task</th>\n",
       "      <th>visit</th>\n",
       "      <th>deviceSide</th>\n",
       "      <th>tremorScore</th>\n",
       "      <th>dyskinesiaScore</th>\n",
       "      <th>bradykinesiaScore</th>\n",
       "      <th>path</th>\n",
       "    </tr>\n",
       "  </thead>\n",
       "  <tbody>\n",
       "    <tr>\n",
       "      <th>25819_22</th>\n",
       "      <td>17286028</td>\n",
       "      <td>GENEActiv</td>\n",
       "      <td>13_BOS</td>\n",
       "      <td>1</td>\n",
       "      <td>Boston</td>\n",
       "      <td>drnkg</td>\n",
       "      <td>1</td>\n",
       "      <td>Right</td>\n",
       "      <td>1.0</td>\n",
       "      <td>NaN</td>\n",
       "      <td>1.0</td>\n",
       "      <td>Data/28/17286028/drnkg_GENEActiv.tsv</td>\n",
       "    </tr>\n",
       "    <tr>\n",
       "      <th>25820_22</th>\n",
       "      <td>17286030</td>\n",
       "      <td>Pebble</td>\n",
       "      <td>13_BOS</td>\n",
       "      <td>1</td>\n",
       "      <td>Boston</td>\n",
       "      <td>drnkg</td>\n",
       "      <td>1</td>\n",
       "      <td>Left</td>\n",
       "      <td>1.0</td>\n",
       "      <td>NaN</td>\n",
       "      <td>1.0</td>\n",
       "      <td>Data/30/17286030/drnkg_Pebble.tsv</td>\n",
       "    </tr>\n",
       "    <tr>\n",
       "      <th>25821_22</th>\n",
       "      <td>17286034</td>\n",
       "      <td>GENEActiv</td>\n",
       "      <td>13_BOS</td>\n",
       "      <td>1</td>\n",
       "      <td>Boston</td>\n",
       "      <td>fldng</td>\n",
       "      <td>1</td>\n",
       "      <td>Right</td>\n",
       "      <td>2.0</td>\n",
       "      <td>NaN</td>\n",
       "      <td>1.0</td>\n",
       "      <td>Data/34/17286034/fldng_GENEActiv.tsv</td>\n",
       "    </tr>\n",
       "    <tr>\n",
       "      <th>25822_22</th>\n",
       "      <td>17286036</td>\n",
       "      <td>Pebble</td>\n",
       "      <td>13_BOS</td>\n",
       "      <td>1</td>\n",
       "      <td>Boston</td>\n",
       "      <td>fldng</td>\n",
       "      <td>1</td>\n",
       "      <td>Left</td>\n",
       "      <td>1.0</td>\n",
       "      <td>NaN</td>\n",
       "      <td>1.0</td>\n",
       "      <td>Data/36/17286036/fldng_Pebble.tsv</td>\n",
       "    </tr>\n",
       "    <tr>\n",
       "      <th>25823_22</th>\n",
       "      <td>17286039</td>\n",
       "      <td>GENEActiv</td>\n",
       "      <td>13_BOS</td>\n",
       "      <td>1</td>\n",
       "      <td>Boston</td>\n",
       "      <td>ftnl1</td>\n",
       "      <td>1</td>\n",
       "      <td>Right</td>\n",
       "      <td>NaN</td>\n",
       "      <td>0.0</td>\n",
       "      <td>NaN</td>\n",
       "      <td>Data/39/17286039/ftnl1_GENEActiv.tsv</td>\n",
       "    </tr>\n",
       "  </tbody>\n",
       "</table>\n",
       "</div>"
      ],
      "text/plain": [
       "          dataFileHandleId     device patient  session    site   task  visit  \\\n",
       "25819_22          17286028  GENEActiv  13_BOS        1  Boston  drnkg      1   \n",
       "25820_22          17286030     Pebble  13_BOS        1  Boston  drnkg      1   \n",
       "25821_22          17286034  GENEActiv  13_BOS        1  Boston  fldng      1   \n",
       "25822_22          17286036     Pebble  13_BOS        1  Boston  fldng      1   \n",
       "25823_22          17286039  GENEActiv  13_BOS        1  Boston  ftnl1      1   \n",
       "\n",
       "         deviceSide  tremorScore  dyskinesiaScore  bradykinesiaScore  \\\n",
       "25819_22      Right          1.0              NaN                1.0   \n",
       "25820_22       Left          1.0              NaN                1.0   \n",
       "25821_22      Right          2.0              NaN                1.0   \n",
       "25822_22       Left          1.0              NaN                1.0   \n",
       "25823_22      Right          NaN              0.0                NaN   \n",
       "\n",
       "                                          path  \n",
       "25819_22  Data/28/17286028/drnkg_GENEActiv.tsv  \n",
       "25820_22     Data/30/17286030/drnkg_Pebble.tsv  \n",
       "25821_22  Data/34/17286034/fldng_GENEActiv.tsv  \n",
       "25822_22     Data/36/17286036/fldng_Pebble.tsv  \n",
       "25823_22  Data/39/17286039/ftnl1_GENEActiv.tsv  "
      ]
     },
     "execution_count": 6,
     "metadata": {},
     "output_type": "execute_result"
    }
   ],
   "source": [
    "df_train.head()"
   ]
  },
  {
   "cell_type": "code",
   "execution_count": null,
   "metadata": {
    "collapsed": true
   },
   "outputs": [],
   "source": []
  },
  {
   "cell_type": "code",
   "execution_count": 15,
   "metadata": {
    "collapsed": false
   },
   "outputs": [],
   "source": [
    "p1 = df_train.path[0]"
   ]
  },
  {
   "cell_type": "code",
   "execution_count": 20,
   "metadata": {
    "collapsed": false
   },
   "outputs": [],
   "source": [
    "rawdata = pd.read_csv(p1,sep='\\t')"
   ]
  },
  {
   "cell_type": "code",
   "execution_count": 24,
   "metadata": {
    "collapsed": false
   },
   "outputs": [
    {
     "data": {
      "text/plain": [
       "<matplotlib.axes._subplots.AxesSubplot at 0x104539ba8>"
      ]
     },
     "execution_count": 24,
     "metadata": {},
     "output_type": "execute_result"
    },
    {
     "data": {
      "image/png": "[encoded data removed]",
      "text/plain": [
       "<matplotlib.figure.Figure at 0x110a2b080>"
      ]
     },
     "metadata": {},
     "output_type": "display_data"
    }
   ],
   "source": [
    "rawdata.iloc[:,1:4].plot()"
   ]
  },
  {
   "cell_type": "code",
   "execution_count": 25,
   "metadata": {
    "collapsed": false
   },
   "outputs": [
    {
     "data": {
      "text/html": [
       "<div>\n",
       "<style>\n",
       "    .dataframe thead tr:only-child th {\n",
       "        text-align: right;\n",
       "    }\n",
       "\n",
       "    .dataframe thead th {\n",
       "        text-align: left;\n",
       "    }\n",
       "\n",
       "    .dataframe tbody tr th {\n",
       "        vertical-align: top;\n",
       "    }\n",
       "</style>\n",
       "<table border=\"1\" class=\"dataframe\">\n",
       "  <thead>\n",
       "    <tr style=\"text-align: right;\">\n",
       "      <th></th>\n",
       "      <th>timestamp</th>\n",
       "      <th>GENEActiv_X</th>\n",
       "      <th>GENEActiv_Y</th>\n",
       "      <th>GENEActiv_Z</th>\n",
       "      <th>GENEActiv_Magnitude</th>\n",
       "    </tr>\n",
       "  </thead>\n",
       "  <tbody>\n",
       "    <tr>\n",
       "      <th>0</th>\n",
       "      <td>1.434973e+09</td>\n",
       "      <td>-7.51189</td>\n",
       "      <td>-3.56766</td>\n",
       "      <td>-4.28453</td>\n",
       "      <td>9.35489</td>\n",
       "    </tr>\n",
       "    <tr>\n",
       "      <th>1</th>\n",
       "      <td>1.434973e+09</td>\n",
       "      <td>-7.55112</td>\n",
       "      <td>-3.95894</td>\n",
       "      <td>-4.05407</td>\n",
       "      <td>9.44077</td>\n",
       "    </tr>\n",
       "    <tr>\n",
       "      <th>2</th>\n",
       "      <td>1.434973e+09</td>\n",
       "      <td>-7.86689</td>\n",
       "      <td>-4.15409</td>\n",
       "      <td>-3.78537</td>\n",
       "      <td>9.66817</td>\n",
       "    </tr>\n",
       "    <tr>\n",
       "      <th>3</th>\n",
       "      <td>1.434973e+09</td>\n",
       "      <td>-7.86690</td>\n",
       "      <td>-4.27178</td>\n",
       "      <td>-4.13055</td>\n",
       "      <td>9.85889</td>\n",
       "    </tr>\n",
       "    <tr>\n",
       "      <th>4</th>\n",
       "      <td>1.434973e+09</td>\n",
       "      <td>-7.90612</td>\n",
       "      <td>-3.88050</td>\n",
       "      <td>-4.36101</td>\n",
       "      <td>9.82769</td>\n",
       "    </tr>\n",
       "  </tbody>\n",
       "</table>\n",
       "</div>"
      ],
      "text/plain": [
       "      timestamp  GENEActiv_X  GENEActiv_Y  GENEActiv_Z  GENEActiv_Magnitude\n",
       "0  1.434973e+09     -7.51189     -3.56766     -4.28453              9.35489\n",
       "1  1.434973e+09     -7.55112     -3.95894     -4.05407              9.44077\n",
       "2  1.434973e+09     -7.86689     -4.15409     -3.78537              9.66817\n",
       "3  1.434973e+09     -7.86690     -4.27178     -4.13055              9.85889\n",
       "4  1.434973e+09     -7.90612     -3.88050     -4.36101              9.82769"
      ]
     },
     "execution_count": 25,
     "metadata": {},
     "output_type": "execute_result"
    }
   ],
   "source": [
    "rawdata.head()"
   ]
  },
  {
   "cell_type": "code",
   "execution_count": null,
   "metadata": {
    "collapsed": true
   },
   "outputs": [],
   "source": []
  }
 ],
 "metadata": {
  "anaconda-cloud": {},
  "kernelspec": {
   "display_name": "Python [conda env:py35_pd20]",
   "language": "python",
   "name": "conda-env-py35_pd20-py"
  },
  "language_info": {
   "codemirror_mode": {
    "name": "ipython",
    "version": 3
   },
   "file_extension": ".py",
   "mimetype": "text/x-python",
   "name": "python",
   "nbconvert_exporter": "python",
   "pygments_lexer": "ipython3",
   "version": "3.5.2"
  }
 },
 "nbformat": 4,
 "nbformat_minor": 1
}
