{
 "cells": [
  {
   "cell_type": "markdown",
   "metadata": {},
   "source": [
    "# Data extraction and processing\n",
    "see here for API tutorial on selecting data\n",
    "http://docs.synapse.org/rest/org/sagebionetworks/repo/web/controller/TableExamples.html"
   ]
  },
  {
   "cell_type": "code",
   "execution_count": 1,
   "metadata": {
    "collapsed": true
   },
   "outputs": [],
   "source": [
    "import synapseclient"
   ]
  },
  {
   "cell_type": "code",
   "execution_count": 2,
   "metadata": {
    "collapsed": false
   },
   "outputs": [
    {
     "name": "stdout",
     "output_type": "stream",
     "text": [
      "Welcome, Luca Lonini!\n",
      "\n"
     ]
    }
   ],
   "source": [
    "syn=synapseclient.login()"
   ]
  },
  {
   "cell_type": "code",
   "execution_count": 3,
   "metadata": {
    "collapsed": true
   },
   "outputs": [],
   "source": [
    "import pandas as pd\n",
    "import json\n",
    "import numpy as np\n",
    "import matplotlib.pyplot as plt\n",
    "%matplotlib inline"
   ]
  },
  {
   "cell_type": "code",
   "execution_count": 4,
   "metadata": {
    "collapsed": true
   },
   "outputs": [],
   "source": [
    "syntable = syn.tableQuery(\"SELECT * from syn10495809\")"
   ]
  },
  {
   "cell_type": "code",
   "execution_count": 5,
   "metadata": {
    "collapsed": false
   },
   "outputs": [],
   "source": [
    "table = syntable.asDataFrame()"
   ]
  },
  {
   "cell_type": "code",
   "execution_count": 6,
   "metadata": {
    "collapsed": false
   },
   "outputs": [
    {
     "name": "stdout",
     "output_type": "stream",
     "text": [
      "<class 'pandas.core.frame.DataFrame'>\n",
      "Index: 5168 entries, 25819_22 to 30986_23\n",
      "Data columns (total 11 columns):\n",
      "dataFileHandleId     5168 non-null int64\n",
      "device               5168 non-null object\n",
      "patient              5168 non-null object\n",
      "session              5168 non-null int64\n",
      "site                 5168 non-null object\n",
      "task                 5168 non-null object\n",
      "visit                5168 non-null int64\n",
      "deviceSide           5168 non-null object\n",
      "tremorScore          3667 non-null float64\n",
      "dyskinesiaScore      1556 non-null float64\n",
      "bradykinesiaScore    3016 non-null float64\n",
      "dtypes: float64(3), int64(3), object(5)\n",
      "memory usage: 484.5+ KB\n"
     ]
    }
   ],
   "source": [
    "table.info()"
   ]
  },
  {
   "cell_type": "code",
   "execution_count": 7,
   "metadata": {
    "collapsed": false
   },
   "outputs": [
    {
     "data": {
      "text/html": [
       "<div>\n",
       "<style>\n",
       "    .dataframe thead tr:only-child th {\n",
       "        text-align: right;\n",
       "    }\n",
       "\n",
       "    .dataframe thead th {\n",
       "        text-align: left;\n",
       "    }\n",
       "\n",
       "    .dataframe tbody tr th {\n",
       "        vertical-align: top;\n",
       "    }\n",
       "</style>\n",
       "<table border=\"1\" class=\"dataframe\">\n",
       "  <thead>\n",
       "    <tr style=\"text-align: right;\">\n",
       "      <th></th>\n",
       "      <th>dataFileHandleId</th>\n",
       "      <th>device</th>\n",
       "      <th>patient</th>\n",
       "      <th>session</th>\n",
       "      <th>site</th>\n",
       "      <th>task</th>\n",
       "      <th>visit</th>\n",
       "      <th>deviceSide</th>\n",
       "      <th>tremorScore</th>\n",
       "      <th>dyskinesiaScore</th>\n",
       "      <th>bradykinesiaScore</th>\n",
       "    </tr>\n",
       "  </thead>\n",
       "  <tbody>\n",
       "    <tr>\n",
       "      <th>25819_22</th>\n",
       "      <td>17286028</td>\n",
       "      <td>GENEActiv</td>\n",
       "      <td>13_BOS</td>\n",
       "      <td>1</td>\n",
       "      <td>Boston</td>\n",
       "      <td>drnkg</td>\n",
       "      <td>1</td>\n",
       "      <td>Right</td>\n",
       "      <td>1.0</td>\n",
       "      <td>NaN</td>\n",
       "      <td>1.0</td>\n",
       "    </tr>\n",
       "    <tr>\n",
       "      <th>25820_22</th>\n",
       "      <td>17286030</td>\n",
       "      <td>Pebble</td>\n",
       "      <td>13_BOS</td>\n",
       "      <td>1</td>\n",
       "      <td>Boston</td>\n",
       "      <td>drnkg</td>\n",
       "      <td>1</td>\n",
       "      <td>Left</td>\n",
       "      <td>1.0</td>\n",
       "      <td>NaN</td>\n",
       "      <td>1.0</td>\n",
       "    </tr>\n",
       "    <tr>\n",
       "      <th>25821_22</th>\n",
       "      <td>17286034</td>\n",
       "      <td>GENEActiv</td>\n",
       "      <td>13_BOS</td>\n",
       "      <td>1</td>\n",
       "      <td>Boston</td>\n",
       "      <td>fldng</td>\n",
       "      <td>1</td>\n",
       "      <td>Right</td>\n",
       "      <td>2.0</td>\n",
       "      <td>NaN</td>\n",
       "      <td>1.0</td>\n",
       "    </tr>\n",
       "    <tr>\n",
       "      <th>25822_22</th>\n",
       "      <td>17286036</td>\n",
       "      <td>Pebble</td>\n",
       "      <td>13_BOS</td>\n",
       "      <td>1</td>\n",
       "      <td>Boston</td>\n",
       "      <td>fldng</td>\n",
       "      <td>1</td>\n",
       "      <td>Left</td>\n",
       "      <td>1.0</td>\n",
       "      <td>NaN</td>\n",
       "      <td>1.0</td>\n",
       "    </tr>\n",
       "    <tr>\n",
       "      <th>25823_22</th>\n",
       "      <td>17286039</td>\n",
       "      <td>GENEActiv</td>\n",
       "      <td>13_BOS</td>\n",
       "      <td>1</td>\n",
       "      <td>Boston</td>\n",
       "      <td>ftnl1</td>\n",
       "      <td>1</td>\n",
       "      <td>Right</td>\n",
       "      <td>NaN</td>\n",
       "      <td>0.0</td>\n",
       "      <td>NaN</td>\n",
       "    </tr>\n",
       "  </tbody>\n",
       "</table>\n",
       "</div>"
      ],
      "text/plain": [
       "          dataFileHandleId     device patient  session    site   task  visit  \\\n",
       "25819_22          17286028  GENEActiv  13_BOS        1  Boston  drnkg      1   \n",
       "25820_22          17286030     Pebble  13_BOS        1  Boston  drnkg      1   \n",
       "25821_22          17286034  GENEActiv  13_BOS        1  Boston  fldng      1   \n",
       "25822_22          17286036     Pebble  13_BOS        1  Boston  fldng      1   \n",
       "25823_22          17286039  GENEActiv  13_BOS        1  Boston  ftnl1      1   \n",
       "\n",
       "         deviceSide  tremorScore  dyskinesiaScore  bradykinesiaScore  \n",
       "25819_22      Right          1.0              NaN                1.0  \n",
       "25820_22       Left          1.0              NaN                1.0  \n",
       "25821_22      Right          2.0              NaN                1.0  \n",
       "25822_22       Left          1.0              NaN                1.0  \n",
       "25823_22      Right          NaN              0.0                NaN  "
      ]
     },
     "execution_count": 7,
     "metadata": {},
     "output_type": "execute_result"
    }
   ],
   "source": [
    "table.head()"
   ]
  },
  {
   "cell_type": "code",
   "execution_count": 8,
   "metadata": {
    "collapsed": false
   },
   "outputs": [
    {
     "data": {
      "text/plain": [
       "<matplotlib.text.Text at 0x10ff46400>"
      ]
     },
     "execution_count": 8,
     "metadata": {},
     "output_type": "execute_result"
    },
    {
     "data": {
      "image/png": "[encoded data removed]",
      "text/plain": [
       "<matplotlib.figure.Figure at 0x1034dc7b8>"
      ]
     },
     "metadata": {},
     "output_type": "display_data"
    }
   ],
   "source": [
    "fig = plt.figure(figsize=(12,4))\n",
    "ax = fig.add_subplot(131)\n",
    "plt.title('tremor')\n",
    "table.tremorScore.hist()\n",
    "ax = fig.add_subplot(132)\n",
    "table.dyskinesiaScore.hist()\n",
    "plt.title('dyskinesia')\n",
    "ax = fig.add_subplot(133)\n",
    "table.bradykinesiaScore.hist()\n",
    "plt.title('bradykinesia')"
   ]
  },
  {
   "cell_type": "code",
   "execution_count": 9,
   "metadata": {
    "collapsed": false
   },
   "outputs": [
    {
     "data": {
      "text/plain": [
       "array(['drnkg', 'fldng', 'ftnl1', 'ftnl2', 'ftnr1', 'ftnr2', 'ntblt',\n",
       "       'orgpa', 'raml1', 'raml2', 'ramr1', 'ramr2'], dtype=object)"
      ]
     },
     "execution_count": 9,
     "metadata": {},
     "output_type": "execute_result"
    }
   ],
   "source": [
    "table.task.unique()"
   ]
  },
  {
   "cell_type": "code",
   "execution_count": 10,
   "metadata": {
    "collapsed": false
   },
   "outputs": [
    {
     "data": {
      "text/plain": [
       "12"
      ]
     },
     "execution_count": 10,
     "metadata": {},
     "output_type": "execute_result"
    }
   ],
   "source": [
    "sum(table.tremorScore==4)"
   ]
  },
  {
   "cell_type": "markdown",
   "metadata": {},
   "source": [
    "# Extract data for Dyskinesia"
   ]
  },
  {
   "cell_type": "code",
   "execution_count": null,
   "metadata": {
    "collapsed": true
   },
   "outputs": [],
   "source": []
  },
  {
   "cell_type": "markdown",
   "metadata": {},
   "source": [
    "# Extract data for Tremor"
   ]
  },
  {
   "cell_type": "code",
   "execution_count": 38,
   "metadata": {
    "collapsed": true
   },
   "outputs": [],
   "source": [
    "q_tremor = syn.tableQuery(\"SELECT * from syn10495809 where tremorScore is not null\")"
   ]
  },
  {
   "cell_type": "code",
   "execution_count": 39,
   "metadata": {
    "collapsed": true
   },
   "outputs": [],
   "source": [
    "Train_tremor = q_tremor.asDataFrame()"
   ]
  },
  {
   "cell_type": "code",
   "execution_count": 40,
   "metadata": {
    "collapsed": false
   },
   "outputs": [
    {
     "data": {
      "text/html": [
       "<div>\n",
       "<style>\n",
       "    .dataframe thead tr:only-child th {\n",
       "        text-align: right;\n",
       "    }\n",
       "\n",
       "    .dataframe thead th {\n",
       "        text-align: left;\n",
       "    }\n",
       "\n",
       "    .dataframe tbody tr th {\n",
       "        vertical-align: top;\n",
       "    }\n",
       "</style>\n",
       "<table border=\"1\" class=\"dataframe\">\n",
       "  <thead>\n",
       "    <tr style=\"text-align: right;\">\n",
       "      <th></th>\n",
       "      <th>dataFileHandleId</th>\n",
       "      <th>device</th>\n",
       "      <th>patient</th>\n",
       "      <th>session</th>\n",
       "      <th>site</th>\n",
       "      <th>task</th>\n",
       "      <th>visit</th>\n",
       "      <th>deviceSide</th>\n",
       "      <th>tremorScore</th>\n",
       "      <th>dyskinesiaScore</th>\n",
       "      <th>bradykinesiaScore</th>\n",
       "    </tr>\n",
       "  </thead>\n",
       "  <tbody>\n",
       "    <tr>\n",
       "      <th>25819_22</th>\n",
       "      <td>17286028</td>\n",
       "      <td>GENEActiv</td>\n",
       "      <td>13_BOS</td>\n",
       "      <td>1</td>\n",
       "      <td>Boston</td>\n",
       "      <td>drnkg</td>\n",
       "      <td>1</td>\n",
       "      <td>Right</td>\n",
       "      <td>1</td>\n",
       "      <td>NaN</td>\n",
       "      <td>1.0</td>\n",
       "    </tr>\n",
       "    <tr>\n",
       "      <th>25820_22</th>\n",
       "      <td>17286030</td>\n",
       "      <td>Pebble</td>\n",
       "      <td>13_BOS</td>\n",
       "      <td>1</td>\n",
       "      <td>Boston</td>\n",
       "      <td>drnkg</td>\n",
       "      <td>1</td>\n",
       "      <td>Left</td>\n",
       "      <td>1</td>\n",
       "      <td>NaN</td>\n",
       "      <td>1.0</td>\n",
       "    </tr>\n",
       "    <tr>\n",
       "      <th>25821_22</th>\n",
       "      <td>17286034</td>\n",
       "      <td>GENEActiv</td>\n",
       "      <td>13_BOS</td>\n",
       "      <td>1</td>\n",
       "      <td>Boston</td>\n",
       "      <td>fldng</td>\n",
       "      <td>1</td>\n",
       "      <td>Right</td>\n",
       "      <td>2</td>\n",
       "      <td>NaN</td>\n",
       "      <td>1.0</td>\n",
       "    </tr>\n",
       "    <tr>\n",
       "      <th>25822_22</th>\n",
       "      <td>17286036</td>\n",
       "      <td>Pebble</td>\n",
       "      <td>13_BOS</td>\n",
       "      <td>1</td>\n",
       "      <td>Boston</td>\n",
       "      <td>fldng</td>\n",
       "      <td>1</td>\n",
       "      <td>Left</td>\n",
       "      <td>1</td>\n",
       "      <td>NaN</td>\n",
       "      <td>1.0</td>\n",
       "    </tr>\n",
       "    <tr>\n",
       "      <th>25824_22</th>\n",
       "      <td>17286042</td>\n",
       "      <td>Pebble</td>\n",
       "      <td>13_BOS</td>\n",
       "      <td>1</td>\n",
       "      <td>Boston</td>\n",
       "      <td>ftnl1</td>\n",
       "      <td>1</td>\n",
       "      <td>Left</td>\n",
       "      <td>2</td>\n",
       "      <td>NaN</td>\n",
       "      <td>1.0</td>\n",
       "    </tr>\n",
       "  </tbody>\n",
       "</table>\n",
       "</div>"
      ],
      "text/plain": [
       "          dataFileHandleId     device patient  session    site   task  visit  \\\n",
       "25819_22          17286028  GENEActiv  13_BOS        1  Boston  drnkg      1   \n",
       "25820_22          17286030     Pebble  13_BOS        1  Boston  drnkg      1   \n",
       "25821_22          17286034  GENEActiv  13_BOS        1  Boston  fldng      1   \n",
       "25822_22          17286036     Pebble  13_BOS        1  Boston  fldng      1   \n",
       "25824_22          17286042     Pebble  13_BOS        1  Boston  ftnl1      1   \n",
       "\n",
       "         deviceSide  tremorScore  dyskinesiaScore  bradykinesiaScore  \n",
       "25819_22      Right            1              NaN                1.0  \n",
       "25820_22       Left            1              NaN                1.0  \n",
       "25821_22      Right            2              NaN                1.0  \n",
       "25822_22       Left            1              NaN                1.0  \n",
       "25824_22       Left            2              NaN                1.0  "
      ]
     },
     "execution_count": 40,
     "metadata": {},
     "output_type": "execute_result"
    }
   ],
   "source": [
    "Train_tremor.head()"
   ]
  },
  {
   "cell_type": "code",
   "execution_count": 56,
   "metadata": {
    "collapsed": false
   },
   "outputs": [],
   "source": [
    "data = {}\n",
    "for file_handle_id, path in paths_train.items():\n",
    "        with open(path) as f:\n",
    "            data[file_handle_id] = f.read()"
   ]
  },
  {
   "cell_type": "code",
   "execution_count": 11,
   "metadata": {
    "collapsed": false
   },
   "outputs": [
    {
     "name": "stdout",
     "output_type": "stream",
     "text": [
      "Downloading 0 files, 100 cached locally\n"
     ]
    }
   ],
   "source": [
    "# q = syn.tableQuery(\"SELECT * from syn10495809 where tremorScore > 3\")\n",
    "q = syn.tableQuery(\"SELECT * from syn10495809 LIMIT 100\")\n",
    "paths_train = syn.downloadTableColumns(q,'dataFileHandleId')"
   ]
  },
  {
   "cell_type": "code",
   "execution_count": 12,
   "metadata": {
    "collapsed": false
   },
   "outputs": [],
   "source": [
    "df_train = q.asDataFrame()\n",
    "df_train['path']=df_train.dataFileHandleId.astype(str).map(paths_train)"
   ]
  },
  {
   "cell_type": "code",
   "execution_count": 13,
   "metadata": {
    "collapsed": false
   },
   "outputs": [
    {
     "data": {
      "text/html": [
       "<div>\n",
       "<style>\n",
       "    .dataframe thead tr:only-child th {\n",
       "        text-align: right;\n",
       "    }\n",
       "\n",
       "    .dataframe thead th {\n",
       "        text-align: left;\n",
       "    }\n",
       "\n",
       "    .dataframe tbody tr th {\n",
       "        vertical-align: top;\n",
       "    }\n",
       "</style>\n",
       "<table border=\"1\" class=\"dataframe\">\n",
       "  <thead>\n",
       "    <tr style=\"text-align: right;\">\n",
       "      <th></th>\n",
       "      <th>dataFileHandleId</th>\n",
       "      <th>device</th>\n",
       "      <th>patient</th>\n",
       "      <th>session</th>\n",
       "      <th>site</th>\n",
       "      <th>task</th>\n",
       "      <th>visit</th>\n",
       "      <th>deviceSide</th>\n",
       "      <th>tremorScore</th>\n",
       "      <th>dyskinesiaScore</th>\n",
       "      <th>bradykinesiaScore</th>\n",
       "      <th>path</th>\n",
       "    </tr>\n",
       "  </thead>\n",
       "  <tbody>\n",
       "    <tr>\n",
       "      <th>25819_22</th>\n",
       "      <td>17286028</td>\n",
       "      <td>GENEActiv</td>\n",
       "      <td>13_BOS</td>\n",
       "      <td>1</td>\n",
       "      <td>Boston</td>\n",
       "      <td>drnkg</td>\n",
       "      <td>1</td>\n",
       "      <td>Right</td>\n",
       "      <td>1.0</td>\n",
       "      <td>NaN</td>\n",
       "      <td>1.0</td>\n",
       "      <td>/Users/luca/.synapseCache/28/17286028/drnkg_GE...</td>\n",
       "    </tr>\n",
       "    <tr>\n",
       "      <th>25820_22</th>\n",
       "      <td>17286030</td>\n",
       "      <td>Pebble</td>\n",
       "      <td>13_BOS</td>\n",
       "      <td>1</td>\n",
       "      <td>Boston</td>\n",
       "      <td>drnkg</td>\n",
       "      <td>1</td>\n",
       "      <td>Left</td>\n",
       "      <td>1.0</td>\n",
       "      <td>NaN</td>\n",
       "      <td>1.0</td>\n",
       "      <td>/Users/luca/.synapseCache/30/17286030/drnkg_Pe...</td>\n",
       "    </tr>\n",
       "    <tr>\n",
       "      <th>25821_22</th>\n",
       "      <td>17286034</td>\n",
       "      <td>GENEActiv</td>\n",
       "      <td>13_BOS</td>\n",
       "      <td>1</td>\n",
       "      <td>Boston</td>\n",
       "      <td>fldng</td>\n",
       "      <td>1</td>\n",
       "      <td>Right</td>\n",
       "      <td>2.0</td>\n",
       "      <td>NaN</td>\n",
       "      <td>1.0</td>\n",
       "      <td>/Users/luca/.synapseCache/34/17286034/fldng_GE...</td>\n",
       "    </tr>\n",
       "    <tr>\n",
       "      <th>25822_22</th>\n",
       "      <td>17286036</td>\n",
       "      <td>Pebble</td>\n",
       "      <td>13_BOS</td>\n",
       "      <td>1</td>\n",
       "      <td>Boston</td>\n",
       "      <td>fldng</td>\n",
       "      <td>1</td>\n",
       "      <td>Left</td>\n",
       "      <td>1.0</td>\n",
       "      <td>NaN</td>\n",
       "      <td>1.0</td>\n",
       "      <td>/Users/luca/.synapseCache/36/17286036/fldng_Pe...</td>\n",
       "    </tr>\n",
       "    <tr>\n",
       "      <th>25823_22</th>\n",
       "      <td>17286039</td>\n",
       "      <td>GENEActiv</td>\n",
       "      <td>13_BOS</td>\n",
       "      <td>1</td>\n",
       "      <td>Boston</td>\n",
       "      <td>ftnl1</td>\n",
       "      <td>1</td>\n",
       "      <td>Right</td>\n",
       "      <td>NaN</td>\n",
       "      <td>0.0</td>\n",
       "      <td>NaN</td>\n",
       "      <td>/Users/luca/.synapseCache/39/17286039/ftnl1_GE...</td>\n",
       "    </tr>\n",
       "  </tbody>\n",
       "</table>\n",
       "</div>"
      ],
      "text/plain": [
       "          dataFileHandleId     device patient  session    site   task  visit  \\\n",
       "25819_22          17286028  GENEActiv  13_BOS        1  Boston  drnkg      1   \n",
       "25820_22          17286030     Pebble  13_BOS        1  Boston  drnkg      1   \n",
       "25821_22          17286034  GENEActiv  13_BOS        1  Boston  fldng      1   \n",
       "25822_22          17286036     Pebble  13_BOS        1  Boston  fldng      1   \n",
       "25823_22          17286039  GENEActiv  13_BOS        1  Boston  ftnl1      1   \n",
       "\n",
       "         deviceSide  tremorScore  dyskinesiaScore  bradykinesiaScore  \\\n",
       "25819_22      Right          1.0              NaN                1.0   \n",
       "25820_22       Left          1.0              NaN                1.0   \n",
       "25821_22      Right          2.0              NaN                1.0   \n",
       "25822_22       Left          1.0              NaN                1.0   \n",
       "25823_22      Right          NaN              0.0                NaN   \n",
       "\n",
       "                                                       path  \n",
       "25819_22  /Users/luca/.synapseCache/28/17286028/drnkg_GE...  \n",
       "25820_22  /Users/luca/.synapseCache/30/17286030/drnkg_Pe...  \n",
       "25821_22  /Users/luca/.synapseCache/34/17286034/fldng_GE...  \n",
       "25822_22  /Users/luca/.synapseCache/36/17286036/fldng_Pe...  \n",
       "25823_22  /Users/luca/.synapseCache/39/17286039/ftnl1_GE...  "
      ]
     },
     "execution_count": 13,
     "metadata": {},
     "output_type": "execute_result"
    }
   ],
   "source": [
    "df_train.head()"
   ]
  },
  {
   "cell_type": "code",
   "execution_count": 15,
   "metadata": {
    "collapsed": false
   },
   "outputs": [],
   "source": [
    "p1 = df_train.path[0]"
   ]
  },
  {
   "cell_type": "code",
   "execution_count": 20,
   "metadata": {
    "collapsed": false
   },
   "outputs": [],
   "source": [
    "rawdata = pd.read_csv(p1,sep='\\t')"
   ]
  },
  {
   "cell_type": "code",
   "execution_count": 24,
   "metadata": {
    "collapsed": false
   },
   "outputs": [
    {
     "data": {
      "text/plain": [
       "<matplotlib.axes._subplots.AxesSubplot at 0x104539ba8>"
      ]
     },
     "execution_count": 24,
     "metadata": {},
     "output_type": "execute_result"
    },
    {
     "data": {
      "image/png": "[encoded data removed]",
      "text/plain": [
       "<matplotlib.figure.Figure at 0x110a2b080>"
      ]
     },
     "metadata": {},
     "output_type": "display_data"
    }
   ],
   "source": [
    "rawdata.iloc[:,1:4].plot()"
   ]
  },
  {
   "cell_type": "code",
   "execution_count": 25,
   "metadata": {
    "collapsed": false
   },
   "outputs": [
    {
     "data": {
      "text/html": [
       "<div>\n",
       "<style>\n",
       "    .dataframe thead tr:only-child th {\n",
       "        text-align: right;\n",
       "    }\n",
       "\n",
       "    .dataframe thead th {\n",
       "        text-align: left;\n",
       "    }\n",
       "\n",
       "    .dataframe tbody tr th {\n",
       "        vertical-align: top;\n",
       "    }\n",
       "</style>\n",
       "<table border=\"1\" class=\"dataframe\">\n",
       "  <thead>\n",
       "    <tr style=\"text-align: right;\">\n",
       "      <th></th>\n",
       "      <th>timestamp</th>\n",
       "      <th>GENEActiv_X</th>\n",
       "      <th>GENEActiv_Y</th>\n",
       "      <th>GENEActiv_Z</th>\n",
       "      <th>GENEActiv_Magnitude</th>\n",
       "    </tr>\n",
       "  </thead>\n",
       "  <tbody>\n",
       "    <tr>\n",
       "      <th>0</th>\n",
       "      <td>1.434973e+09</td>\n",
       "      <td>-7.51189</td>\n",
       "      <td>-3.56766</td>\n",
       "      <td>-4.28453</td>\n",
       "      <td>9.35489</td>\n",
       "    </tr>\n",
       "    <tr>\n",
       "      <th>1</th>\n",
       "      <td>1.434973e+09</td>\n",
       "      <td>-7.55112</td>\n",
       "      <td>-3.95894</td>\n",
       "      <td>-4.05407</td>\n",
       "      <td>9.44077</td>\n",
       "    </tr>\n",
       "    <tr>\n",
       "      <th>2</th>\n",
       "      <td>1.434973e+09</td>\n",
       "      <td>-7.86689</td>\n",
       "      <td>-4.15409</td>\n",
       "      <td>-3.78537</td>\n",
       "      <td>9.66817</td>\n",
       "    </tr>\n",
       "    <tr>\n",
       "      <th>3</th>\n",
       "      <td>1.434973e+09</td>\n",
       "      <td>-7.86690</td>\n",
       "      <td>-4.27178</td>\n",
       "      <td>-4.13055</td>\n",
       "      <td>9.85889</td>\n",
       "    </tr>\n",
       "    <tr>\n",
       "      <th>4</th>\n",
       "      <td>1.434973e+09</td>\n",
       "      <td>-7.90612</td>\n",
       "      <td>-3.88050</td>\n",
       "      <td>-4.36101</td>\n",
       "      <td>9.82769</td>\n",
       "    </tr>\n",
       "  </tbody>\n",
       "</table>\n",
       "</div>"
      ],
      "text/plain": [
       "      timestamp  GENEActiv_X  GENEActiv_Y  GENEActiv_Z  GENEActiv_Magnitude\n",
       "0  1.434973e+09     -7.51189     -3.56766     -4.28453              9.35489\n",
       "1  1.434973e+09     -7.55112     -3.95894     -4.05407              9.44077\n",
       "2  1.434973e+09     -7.86689     -4.15409     -3.78537              9.66817\n",
       "3  1.434973e+09     -7.86690     -4.27178     -4.13055              9.85889\n",
       "4  1.434973e+09     -7.90612     -3.88050     -4.36101              9.82769"
      ]
     },
     "execution_count": 25,
     "metadata": {},
     "output_type": "execute_result"
    }
   ],
   "source": [
    "rawdata.head()"
   ]
  },
  {
   "cell_type": "code",
   "execution_count": null,
   "metadata": {
    "collapsed": true
   },
   "outputs": [],
   "source": []
  }
 ],
 "metadata": {
  "anaconda-cloud": {},
  "kernelspec": {
   "display_name": "Python [conda env:py35_pd20]",
   "language": "python",
   "name": "conda-env-py35_pd20-py"
  },
  "language_info": {
   "codemirror_mode": {
    "name": "ipython",
    "version": 3
   },
   "file_extension": ".py",
   "mimetype": "text/x-python",
   "name": "python",
   "nbconvert_exporter": "python",
   "pygments_lexer": "ipython3",
   "version": "3.5.2"
  }
 },
 "nbformat": 4,
 "nbformat_minor": 1
}
