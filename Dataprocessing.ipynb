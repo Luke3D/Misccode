{
 "cells": [
  {
   "cell_type": "markdown",
   "metadata": {},
   "source": [
    "# Data extraction and processing\n",
    "see here for API tutorial on selecting data\n",
    "http://docs.synapse.org/rest/org/sagebionetworks/repo/web/controller/TableExamples.html"
   ]
  },
  {
   "cell_type": "code",
   "execution_count": 4,
   "metadata": {
    "collapsed": false
   },
   "outputs": [
    {
     "name": "stdout",
     "output_type": "stream",
     "text": [
      "Welcome, Luca Lonini!\n",
      "\n"
     ]
    }
   ],
   "source": [
    "# %run sc2FitModels.py\n",
    "# %load sc2FitModels.py\n",
    "\"\"\" Score a feature matrix on either tremor, dyskinesia, or bradykinesia tasks.\n",
    "\n",
    "See function `score` if calling from within Python.\n",
    "Pass the -h flag if calling from the command line.\n",
    "\n",
    "Author: Phil Snyder (phil [dot] snyder [at] sagebase [dot] org)\n",
    "\"\"\"\n",
    "from __future__ import print_function, division\n",
    "import numpy as np\n",
    "import pandas as pd\n",
    "import synapseclient as sc\n",
    "import argparse\n",
    "from nonLinearInterpAUPRC import getAUROC_PR\n",
    "from sklearn.metrics.base import _average_binary_score\n",
    "from sklearn.metrics import precision_recall_curve, auc\n",
    "from sklearn.multiclass import OneVsRestClassifier\n",
    "from sklearn.ensemble import RandomForestClassifier, VotingClassifier\n",
    "from sklearn.linear_model import LogisticRegressionCV\n",
    "from sklearn.svm import SVC\n",
    "from sklearn.preprocessing import label_binarize\n",
    "\n",
    "TRAINING_TABLE = \"syn10495809\"\n",
    "INDEX_COL = \"dataFileHandleId\"\n",
    "CATEGORY_WEIGHTS = {\n",
    "        'tremor':[896, 381, 214, 9, 0],\n",
    "        'dyskinesia':[531, 129], # no weighting is done when\n",
    "        'bradykinesia':[990, 419]} # scoring the binary cases\n",
    "SUBMISSION_TEMPLATES = {\n",
    "        'tremor': 'syn11315931',\n",
    "        'dyskinesia': 'syn11315929',\n",
    "        'bradykinesia': 'syn11315927'}\n",
    "\n",
    "syn = sc.login()\n",
    "np.random.seed(0) # reproducible results for stochastic training elements\n",
    "\n",
    "def read_args():\n",
    "    \"\"\" Relevant only if calling from command line. \"\"\"\n",
    "    parser = argparse.ArgumentParser(\n",
    "            description=\"Score an L-Dopa Submission file (AUPRC).\")\n",
    "    parser.add_argument(\"phenotype\",\n",
    "            help=\"One of 'tremor', 'dyskinesia', or 'bradykinesia'\")\n",
    "    parser.add_argument(\"submission\",\n",
    "            help=\"filepath to submissions file\")\n",
    "    args = parser.parse_args()\n",
    "    return args\n",
    "\n",
    "def read_data(path, phenotype):\n",
    "    \"\"\" Read in training data from `path` and fetch targets for `phenotype`.\n",
    "\n",
    "    Parameters\n",
    "    ----------\n",
    "    path (str) - filepath to submission feature matrix\n",
    "    phenotype (str) - one of 'tremor', 'dyskinesia', 'bradykinesia'\n",
    "\n",
    "    Returns\n",
    "    -------\n",
    "    train_X, train_y (numpy.ndarray)\n",
    "    \"\"\"\n",
    "    df = pd.read_csv(path, index_col=INDEX_COL, header=0)\n",
    "    train_table = get_table(TRAINING_TABLE)\n",
    "    train = df.join(\n",
    "            train_table[['tremorScore', 'dyskinesiaScore', 'bradykinesiaScore']], how='inner')\n",
    "    submission_template = syn.get(SUBMISSION_TEMPLATES[phenotype])\n",
    "    submission_template = pd.read_csv(submission_template.path, index_col='dataFileHandleId')\n",
    "    to_keep = submission_template.index\n",
    "    train = train.loc[to_keep.intersection(train.index)]\n",
    "    train_X = train.drop(['tremorScore', 'dyskinesiaScore', 'bradykinesiaScore'],\n",
    "            axis=1).values\n",
    "    train_y = train[\"{}Score\".format(phenotype)].values\n",
    "    return train_X, train_y\n",
    "\n",
    "def get_table(synId):\n",
    "    \"\"\" Returns all rows from a Synapse Table as a DataFrame \"\"\"\n",
    "    q = syn.tableQuery(\"select * from {}\".format(synId))\n",
    "    df = q.asDataFrame()\n",
    "    df = df.set_index(INDEX_COL, drop=True)\n",
    "    return df\n",
    "\n",
    "def train_ensemble(X, y):\n",
    "    \"\"\" Trains a soft-voting ensemble consisting of a random forest,\n",
    "    logistic regression with L2 regularization, and support vector\n",
    "    machine (RBF kernel).\n",
    "\n",
    "    Parameters\n",
    "    ----------\n",
    "    X (numpy.ndarray) - feature matrix\n",
    "    y (numpy.ndarray) - target array\n",
    "\n",
    "    Returns\n",
    "    -------\n",
    "    ensemble (VotingClassifier)\n",
    "    \"\"\"\n",
    "    rf = OneVsRestClassifier(RandomForestClassifier(n_estimators=500))\n",
    "    lr = OneVsRestClassifier(LogisticRegressionCV())\n",
    "    svm = OneVsRestClassifier(SVC(probability=True))\n",
    "    ensemble = VotingClassifier(\n",
    "            estimators=[('rf', rf), ('lr', lr), ('svm', svm)], voting='soft')\n",
    "    ensemble.fit(X, y)\n",
    "    return ensemble\n",
    "\n",
    "def getNonLinearInterpAupr(X, y, y_labels, clf):\n",
    "    \"\"\" Given data, targets, a list of unique target values, and an\n",
    "    sklearn classifier, return the weighted non-linear interpolated AUPRC.\n",
    "\n",
    "    Parameters\n",
    "    ----------\n",
    "    X (np.ndarray) - feature matrix\n",
    "    y (np.ndarray) - target values\n",
    "    y_labels (np.ndarray) - unique list of target values (in case missing target\n",
    "        values in test set)\n",
    "    clf (sklearn.base.BaseEstimator) - an sklearn object with method `predict_proba`\n",
    "    average (str, default 'micro') - one of 'micro', 'macro', 'samples', 'weighted'\n",
    "        (see http://scikit-learn.org/stable/modules/generated/sklearn.metrics.roc_auc_score.html)\n",
    "    \"\"\"\n",
    "    n_classes = len(y_labels)\n",
    "    if n_classes > 2:\n",
    "        y_true = label_binarize(y, y_labels)\n",
    "    else:\n",
    "        y_true = y\n",
    "    y_score = clf.predict_proba(X) if n_classes > 2 else clf.predict_proba(X).T[1]\n",
    "    return nonLinearInterpAupr(y_score, y_true)\n",
    "\n",
    "def nonLinearInterpAupr(y_score, y_true):\n",
    "    \"\"\" Given ground truth targets and predicted targets, calculates\n",
    "    weighted non-linear interpolated AUPRC.\n",
    "\n",
    "    Parameters\n",
    "    ----------\n",
    "    y_true (list-like) - actual target values\n",
    "    y_score (list-like) - predicted target values\n",
    "    average (str, default 'micro') - one of 'micro', 'macro', 'samples', 'weighted'\n",
    "        (see http://scikit-learn.org/stable/modules/generated/sklearn.metrics.roc_auc_score.html)\n",
    "    sample_weight (list-like, optional) - of shape (n_samples,)\n",
    "\n",
    "    Returns\n",
    "    -------\n",
    "    results (list), y_score (np.ndarray), y_true (np.ndarray)\n",
    "    \"\"\"\n",
    "    if y_score.ndim > 1:\n",
    "        sub_stats = pd.DataFrame(np.concatenate((y_score, y_true), axis=1),\n",
    "                dtype='float64')\n",
    "    else:\n",
    "        sub_stats = pd.DataFrame(np.array([y_score, y_true]).T)\n",
    "    results = getAUROC_PR(sub_stats)\n",
    "    return results, y_score, y_true\n",
    "\n",
    "def getWeightedMean(phenotype, scores):\n",
    "    numer = 0\n",
    "    denom = sum(CATEGORY_WEIGHTS[phenotype])\n",
    "    for w, s in zip(CATEGORY_WEIGHTS[phenotype], scores):\n",
    "        if pd.notnull(s):\n",
    "            numer += w * s\n",
    "    return numer / denom\n",
    "\n",
    "def calculatePVal(y_score, y_true, trueAupr, phenotype):\n",
    "    \"\"\" Calculate P-value for a set of predictions.\n",
    "\n",
    "    Parameters\n",
    "    ---------\n",
    "    y_score (np.ndarray) - predicted targets\n",
    "    y_true (np.ndarray) - actual targets\n",
    "    trueAupr (float, optional) - actual AUPRC\n",
    "    phenotype (str) - one of 'tremor', 'dyskinesia', 'bradykinesia'\n",
    "\n",
    "    Returns\n",
    "    -------\n",
    "    pval (float)\n",
    "    \"\"\"\n",
    "    auprs = []\n",
    "    n_iterations = 10\n",
    "    for i in range(n_iterations):\n",
    "        np.random.shuffle(y_score)\n",
    "        results = nonLinearInterpAupr(y_score, y_true)\n",
    "        if phenotype == 'tremor':\n",
    "            weighted_results = getWeightedMean(phenotype, results)\n",
    "        else:\n",
    "            weighted_results = results[0]\n",
    "        auprs.append(weighted_results)\n",
    "    return sum([a > trueAupr for a in auprs]) / n_iterations\n",
    "\n",
    "def score(phenotype, submission):\n",
    "    \"\"\" Returns AUPRC, predicted and actual targets on\n",
    "    training data given a feature matrix.\n",
    "\n",
    "    Parameters\n",
    "    ----------\n",
    "    phenotype (str) - one of 'tremor', 'dyskinesia', 'bradykinesia'\n",
    "    submission (str) - filepath to submissions file\n",
    "\n",
    "    Returns\n",
    "    -------\n",
    "    aupr (float)\n",
    "    pval (float)\n",
    "    y_score (np.ndarray)\n",
    "    y_true (np.ndarray)\n",
    "    \"\"\"\n",
    "    train_X, train_y = read_data(submission, phenotype)\n",
    "    ensemble = train_ensemble(train_X, train_y)\n",
    "    results, y_score, y_true = getNonLinearInterpAupr(train_X, train_y,\n",
    "            np.arange(len(CATEGORY_WEIGHTS[phenotype])), ensemble)\n",
    "    if phenotype == 'tremor':\n",
    "        weighted_aupr = getWeightedMean(phenotype, results)\n",
    "    else:\n",
    "        weighted_aupr = results[0]\n",
    "    # pval calculation is very slow\n",
    "    #pval = calculatePVal(y_score, y_true, weighted_aupr, phenotype)\n",
    "    return weighted_aupr, y_score, y_true\n",
    "\n",
    "# def main():\n",
    "#     \"\"\" For use on command line. Only returns AUPRC\"\"\"\n",
    "#     args = read_args()\n",
    "#     aupr, y_score, y_true = score(args.phenotype, args.submission)\n",
    "#     print(\"AUPRC: {}\".format(aupr))\n",
    "#     return aupr\n",
    "\n",
    "# if __name__ == \"__main__\":\n",
    "#     main()\n"
   ]
  },
  {
   "cell_type": "code",
   "execution_count": 5,
   "metadata": {
    "collapsed": false
   },
   "outputs": [],
   "source": [
    "import synapseclient"
   ]
  },
  {
   "cell_type": "code",
   "execution_count": 6,
   "metadata": {
    "collapsed": false,
    "scrolled": true
   },
   "outputs": [
    {
     "name": "stdout",
     "output_type": "stream",
     "text": [
      "Welcome, Luca Lonini!\n",
      "\n"
     ]
    }
   ],
   "source": [
    "syn=synapseclient.login()"
   ]
  },
  {
   "cell_type": "code",
   "execution_count": 605,
   "metadata": {
    "collapsed": true
   },
   "outputs": [],
   "source": [
    "import pandas as pd\n",
    "import json\n",
    "import numpy as np\n",
    "from scipy.stats import skew, kurtosis, pearsonr\n",
    "from scipy.signal import butter, welch, filtfilt\n",
    "import nolds\n",
    "import time\n",
    "import matplotlib.pyplot as plt\n",
    "import seaborn as sns\n",
    "%matplotlib inline\n",
    "\n",
    "plt.rcParams['figure.figsize'] = (5.0, 4.0) # set default size of plots"
   ]
  },
  {
   "cell_type": "code",
   "execution_count": 4,
   "metadata": {
    "collapsed": true
   },
   "outputs": [],
   "source": [
    "syntable = syn.tableQuery(\"SELECT * from syn10495809\")"
   ]
  },
  {
   "cell_type": "code",
   "execution_count": 5,
   "metadata": {
    "collapsed": false
   },
   "outputs": [],
   "source": [
    "table = syntable.asDataFrame()"
   ]
  },
  {
   "cell_type": "code",
   "execution_count": 6,
   "metadata": {
    "collapsed": false
   },
   "outputs": [
    {
     "name": "stdout",
     "output_type": "stream",
     "text": [
      "<class 'pandas.core.frame.DataFrame'>\n",
      "Index: 5168 entries, 25819_22 to 30986_23\n",
      "Data columns (total 11 columns):\n",
      "dataFileHandleId     5168 non-null int64\n",
      "device               5168 non-null object\n",
      "patient              5168 non-null object\n",
      "session              5168 non-null int64\n",
      "site                 5168 non-null object\n",
      "task                 5168 non-null object\n",
      "visit                5168 non-null int64\n",
      "deviceSide           5168 non-null object\n",
      "tremorScore          3667 non-null float64\n",
      "dyskinesiaScore      1556 non-null float64\n",
      "bradykinesiaScore    3016 non-null float64\n",
      "dtypes: float64(3), int64(3), object(5)\n",
      "memory usage: 484.5+ KB\n"
     ]
    }
   ],
   "source": [
    "table.info()"
   ]
  },
  {
   "cell_type": "code",
   "execution_count": 7,
   "metadata": {
    "collapsed": false
   },
   "outputs": [
    {
     "data": {
      "text/html": [
       "<div>\n",
       "<style>\n",
       "    .dataframe thead tr:only-child th {\n",
       "        text-align: right;\n",
       "    }\n",
       "\n",
       "    .dataframe thead th {\n",
       "        text-align: left;\n",
       "    }\n",
       "\n",
       "    .dataframe tbody tr th {\n",
       "        vertical-align: top;\n",
       "    }\n",
       "</style>\n",
       "<table border=\"1\" class=\"dataframe\">\n",
       "  <thead>\n",
       "    <tr style=\"text-align: right;\">\n",
       "      <th></th>\n",
       "      <th>dataFileHandleId</th>\n",
       "      <th>device</th>\n",
       "      <th>patient</th>\n",
       "      <th>session</th>\n",
       "      <th>site</th>\n",
       "      <th>task</th>\n",
       "      <th>visit</th>\n",
       "      <th>deviceSide</th>\n",
       "      <th>tremorScore</th>\n",
       "      <th>dyskinesiaScore</th>\n",
       "      <th>bradykinesiaScore</th>\n",
       "    </tr>\n",
       "  </thead>\n",
       "  <tbody>\n",
       "    <tr>\n",
       "      <th>25819_22</th>\n",
       "      <td>17286028</td>\n",
       "      <td>GENEActiv</td>\n",
       "      <td>13_BOS</td>\n",
       "      <td>1</td>\n",
       "      <td>Boston</td>\n",
       "      <td>drnkg</td>\n",
       "      <td>1</td>\n",
       "      <td>Right</td>\n",
       "      <td>1.0</td>\n",
       "      <td>NaN</td>\n",
       "      <td>1.0</td>\n",
       "    </tr>\n",
       "    <tr>\n",
       "      <th>25820_22</th>\n",
       "      <td>17286030</td>\n",
       "      <td>Pebble</td>\n",
       "      <td>13_BOS</td>\n",
       "      <td>1</td>\n",
       "      <td>Boston</td>\n",
       "      <td>drnkg</td>\n",
       "      <td>1</td>\n",
       "      <td>Left</td>\n",
       "      <td>1.0</td>\n",
       "      <td>NaN</td>\n",
       "      <td>1.0</td>\n",
       "    </tr>\n",
       "    <tr>\n",
       "      <th>25821_22</th>\n",
       "      <td>17286034</td>\n",
       "      <td>GENEActiv</td>\n",
       "      <td>13_BOS</td>\n",
       "      <td>1</td>\n",
       "      <td>Boston</td>\n",
       "      <td>fldng</td>\n",
       "      <td>1</td>\n",
       "      <td>Right</td>\n",
       "      <td>2.0</td>\n",
       "      <td>NaN</td>\n",
       "      <td>1.0</td>\n",
       "    </tr>\n",
       "    <tr>\n",
       "      <th>25822_22</th>\n",
       "      <td>17286036</td>\n",
       "      <td>Pebble</td>\n",
       "      <td>13_BOS</td>\n",
       "      <td>1</td>\n",
       "      <td>Boston</td>\n",
       "      <td>fldng</td>\n",
       "      <td>1</td>\n",
       "      <td>Left</td>\n",
       "      <td>1.0</td>\n",
       "      <td>NaN</td>\n",
       "      <td>1.0</td>\n",
       "    </tr>\n",
       "    <tr>\n",
       "      <th>25823_22</th>\n",
       "      <td>17286039</td>\n",
       "      <td>GENEActiv</td>\n",
       "      <td>13_BOS</td>\n",
       "      <td>1</td>\n",
       "      <td>Boston</td>\n",
       "      <td>ftnl1</td>\n",
       "      <td>1</td>\n",
       "      <td>Right</td>\n",
       "      <td>NaN</td>\n",
       "      <td>0.0</td>\n",
       "      <td>NaN</td>\n",
       "    </tr>\n",
       "  </tbody>\n",
       "</table>\n",
       "</div>"
      ],
      "text/plain": [
       "          dataFileHandleId     device patient  session    site   task  visit  \\\n",
       "25819_22          17286028  GENEActiv  13_BOS        1  Boston  drnkg      1   \n",
       "25820_22          17286030     Pebble  13_BOS        1  Boston  drnkg      1   \n",
       "25821_22          17286034  GENEActiv  13_BOS        1  Boston  fldng      1   \n",
       "25822_22          17286036     Pebble  13_BOS        1  Boston  fldng      1   \n",
       "25823_22          17286039  GENEActiv  13_BOS        1  Boston  ftnl1      1   \n",
       "\n",
       "         deviceSide  tremorScore  dyskinesiaScore  bradykinesiaScore  \n",
       "25819_22      Right          1.0              NaN                1.0  \n",
       "25820_22       Left          1.0              NaN                1.0  \n",
       "25821_22      Right          2.0              NaN                1.0  \n",
       "25822_22       Left          1.0              NaN                1.0  \n",
       "25823_22      Right          NaN              0.0                NaN  "
      ]
     },
     "execution_count": 7,
     "metadata": {},
     "output_type": "execute_result"
    }
   ],
   "source": [
    "table.head()"
   ]
  },
  {
   "cell_type": "code",
   "execution_count": 8,
   "metadata": {
    "collapsed": false
   },
   "outputs": [
    {
     "data": {
      "text/plain": [
       "<matplotlib.text.Text at 0x10ff46400>"
      ]
     },
     "execution_count": 8,
     "metadata": {},
     "output_type": "execute_result"
    },
    {
     "data": {
      "image/png": "[encoded data removed]",
      "text/plain": [
       "<matplotlib.figure.Figure at 0x1034dc7b8>"
      ]
     },
     "metadata": {},
     "output_type": "display_data"
    }
   ],
   "source": [
    "fig = plt.figure(figsize=(12,4))\n",
    "ax = fig.add_subplot(131)\n",
    "plt.title('tremor')\n",
    "table.tremorScore.hist()\n",
    "ax = fig.add_subplot(132)\n",
    "table.dyskinesiaScore.hist()\n",
    "plt.title('dyskinesia')\n",
    "ax = fig.add_subplot(133)\n",
    "table.bradykinesiaScore.hist()\n",
    "plt.title('bradykinesia')"
   ]
  },
  {
   "cell_type": "code",
   "execution_count": 9,
   "metadata": {
    "collapsed": false
   },
   "outputs": [
    {
     "data": {
      "text/plain": [
       "array(['drnkg', 'fldng', 'ftnl1', 'ftnl2', 'ftnr1', 'ftnr2', 'ntblt',\n",
       "       'orgpa', 'raml1', 'raml2', 'ramr1', 'ramr2'], dtype=object)"
      ]
     },
     "execution_count": 9,
     "metadata": {},
     "output_type": "execute_result"
    }
   ],
   "source": [
    "table.task.unique()"
   ]
  },
  {
   "cell_type": "code",
   "execution_count": 10,
   "metadata": {
    "collapsed": false
   },
   "outputs": [
    {
     "data": {
      "text/plain": [
       "12"
      ]
     },
     "execution_count": 10,
     "metadata": {},
     "output_type": "execute_result"
    }
   ],
   "source": [
    "sum(table.tremorScore==4)"
   ]
  },
  {
   "cell_type": "markdown",
   "metadata": {},
   "source": [
    "# Dyskinesia"
   ]
  },
  {
   "cell_type": "code",
   "execution_count": 880,
   "metadata": {
    "collapsed": false
   },
   "outputs": [
    {
     "name": "stdout",
     "output_type": "stream",
     "text": [
      "Downloading 1524 files, 32 cached locally\n"
     ]
    }
   ],
   "source": [
    "q_dysk_train = syn.tableQuery(\"SELECT * from syn10495809 where dyskinesiaScore is not null\")\n",
    "paths_train = syn.downloadTableColumns(q_dysk_train,'dataFileHandleId')"
   ]
  },
  {
   "cell_type": "code",
   "execution_count": 881,
   "metadata": {
    "collapsed": true
   },
   "outputs": [],
   "source": [
    "df_train_dysk = q_dysk_train.asDataFrame()"
   ]
  },
  {
   "cell_type": "code",
   "execution_count": 884,
   "metadata": {
    "collapsed": true
   },
   "outputs": [],
   "source": [
    "df_train_dysk['path']=df_train_dysk.dataFileHandleId.astype(str).map(paths_train)"
   ]
  },
  {
   "cell_type": "code",
   "execution_count": 885,
   "metadata": {
    "collapsed": false
   },
   "outputs": [
    {
     "data": {
      "text/html": [
       "<div>\n",
       "<style>\n",
       "    .dataframe thead tr:only-child th {\n",
       "        text-align: right;\n",
       "    }\n",
       "\n",
       "    .dataframe thead th {\n",
       "        text-align: left;\n",
       "    }\n",
       "\n",
       "    .dataframe tbody tr th {\n",
       "        vertical-align: top;\n",
       "    }\n",
       "</style>\n",
       "<table border=\"1\" class=\"dataframe\">\n",
       "  <thead>\n",
       "    <tr style=\"text-align: right;\">\n",
       "      <th></th>\n",
       "      <th>dataFileHandleId</th>\n",
       "      <th>device</th>\n",
       "      <th>patient</th>\n",
       "      <th>session</th>\n",
       "      <th>site</th>\n",
       "      <th>task</th>\n",
       "      <th>visit</th>\n",
       "      <th>deviceSide</th>\n",
       "      <th>tremorScore</th>\n",
       "      <th>dyskinesiaScore</th>\n",
       "      <th>bradykinesiaScore</th>\n",
       "      <th>path</th>\n",
       "    </tr>\n",
       "  </thead>\n",
       "  <tbody>\n",
       "    <tr>\n",
       "      <th>25823_22</th>\n",
       "      <td>17286039</td>\n",
       "      <td>GENEActiv</td>\n",
       "      <td>13_BOS</td>\n",
       "      <td>1</td>\n",
       "      <td>Boston</td>\n",
       "      <td>ftnl1</td>\n",
       "      <td>1</td>\n",
       "      <td>Right</td>\n",
       "      <td>NaN</td>\n",
       "      <td>0</td>\n",
       "      <td>NaN</td>\n",
       "      <td>/Users/luca/Projects/DREAM_PD/Data/39/17286039...</td>\n",
       "    </tr>\n",
       "    <tr>\n",
       "      <th>25825_22</th>\n",
       "      <td>17286045</td>\n",
       "      <td>GENEActiv</td>\n",
       "      <td>13_BOS</td>\n",
       "      <td>1</td>\n",
       "      <td>Boston</td>\n",
       "      <td>ftnl2</td>\n",
       "      <td>1</td>\n",
       "      <td>Right</td>\n",
       "      <td>NaN</td>\n",
       "      <td>0</td>\n",
       "      <td>NaN</td>\n",
       "      <td>/Users/luca/Projects/DREAM_PD/Data/45/17286045...</td>\n",
       "    </tr>\n",
       "  </tbody>\n",
       "</table>\n",
       "</div>"
      ],
      "text/plain": [
       "          dataFileHandleId     device patient  session    site   task  visit  \\\n",
       "25823_22          17286039  GENEActiv  13_BOS        1  Boston  ftnl1      1   \n",
       "25825_22          17286045  GENEActiv  13_BOS        1  Boston  ftnl2      1   \n",
       "\n",
       "         deviceSide  tremorScore  dyskinesiaScore  bradykinesiaScore  \\\n",
       "25823_22      Right          NaN                0                NaN   \n",
       "25825_22      Right          NaN                0                NaN   \n",
       "\n",
       "                                                       path  \n",
       "25823_22  /Users/luca/Projects/DREAM_PD/Data/39/17286039...  \n",
       "25825_22  /Users/luca/Projects/DREAM_PD/Data/45/17286045...  "
      ]
     },
     "execution_count": 885,
     "metadata": {},
     "output_type": "execute_result"
    }
   ],
   "source": [
    "df_train_dysk.head(2)"
   ]
  },
  {
   "cell_type": "code",
   "execution_count": 886,
   "metadata": {
    "collapsed": true
   },
   "outputs": [],
   "source": [
    "df_train = df_train_dysk"
   ]
  },
  {
   "cell_type": "code",
   "execution_count": 887,
   "metadata": {
    "collapsed": false
   },
   "outputs": [
    {
     "name": "stdout",
     "output_type": "stream",
     "text": [
      "0\n"
     ]
    },
    {
     "name": "stderr",
     "output_type": "stream",
     "text": [
      "/Users/luca/anaconda/envs/py35_pd20/lib/python3.5/site-packages/ipykernel/__main__.py:42: RuntimeWarning: Mean of empty slice\n"
     ]
    },
    {
     "name": "stdout",
     "output_type": "stream",
     "text": [
      "1000\n",
      "Elapsed Time:[s] 38.7\n",
      "Files w nans: 88\n",
      "Files w 0 non-nan rows 56\n"
     ]
    }
   ],
   "source": [
    "row = 0\n",
    "nans_found=0; n_empty=0\n",
    "Features = []\n",
    "t1 = time.time()\n",
    "# for f in df_train.path:\n",
    "for i in range(len(df_train)):\n",
    "\n",
    "    f = df_train.iloc[i,:].path\n",
    "    if row%1000==0:\n",
    "        print(row)\n",
    "    rawdata = pd.read_csv(f,sep='\\t') #load file\n",
    "   \n",
    "    #remove nans\n",
    "    rawdata = rawdata.astype('float64') #make sure everything is float\n",
    "    if sum(np.sum(rawdata.isnull())) > 0:\n",
    "        nans_found+=1 # of files w nans\n",
    "        rawdata = rawdata.dropna() #drop nans\n",
    "        \n",
    "    #compute features if at least one data point is there\n",
    "    if rawdata.empty != True:\n",
    "        #reindex timestamp data relative to start \n",
    "        t = rawdata.timestamp\n",
    "        t = t-t.iloc[0]\n",
    "        rawdata.timestamp = t\n",
    "\n",
    "        #HP filter data (remove gravity)\n",
    "        rawdata = filter_signal(rawdata,order=2)\n",
    "\n",
    "        #compute features on entire recording\n",
    "        try:\n",
    "            F,flist = feature_extraction(rawdata)\n",
    "            Features.append(F)\n",
    "        except(TypeError):\n",
    "            print('found incompatible datatype')\n",
    "    else:\n",
    "        F = np.empty((1,len(flist))) #empty array of features\n",
    "        F[:]=np.nan\n",
    "        Features.append(F)\n",
    "        n_empty+=1\n",
    "\n",
    "    row+=1\n",
    "        \n",
    "elapsed = time.time()-t1\n",
    "print('Elapsed Time:[s] %.1f'%elapsed)\n",
    "print('Files w nans: %d'%nans_found)\n",
    "print('Files w 0 non-nan rows %d'%n_empty)"
   ]
  },
  {
   "cell_type": "code",
   "execution_count": 891,
   "metadata": {
    "collapsed": false
   },
   "outputs": [
    {
     "name": "stdout",
     "output_type": "stream",
     "text": [
      "(1556, 26)\n"
     ]
    }
   ],
   "source": [
    "Features = np.asarray(Features)\n",
    "Features = Features.squeeze(axis=1)\n",
    "print(Features.shape)"
   ]
  },
  {
   "cell_type": "code",
   "execution_count": 893,
   "metadata": {
    "collapsed": false
   },
   "outputs": [],
   "source": [
    "df_feat = pd.DataFrame(data=Features,columns=flist,dtype='float64')\n",
    "df_feat.index = df_train.index\n",
    "df_train = pd.concat((df_train,df_feat),axis=1)"
   ]
  },
  {
   "cell_type": "code",
   "execution_count": 894,
   "metadata": {
    "collapsed": false
   },
   "outputs": [
    {
     "data": {
      "text/html": [
       "<div>\n",
       "<style>\n",
       "    .dataframe thead tr:only-child th {\n",
       "        text-align: right;\n",
       "    }\n",
       "\n",
       "    .dataframe thead th {\n",
       "        text-align: left;\n",
       "    }\n",
       "\n",
       "    .dataframe tbody tr th {\n",
       "        vertical-align: top;\n",
       "    }\n",
       "</style>\n",
       "<table border=\"1\" class=\"dataframe\">\n",
       "  <thead>\n",
       "    <tr style=\"text-align: right;\">\n",
       "      <th></th>\n",
       "      <th>dataFileHandleId</th>\n",
       "      <th>device</th>\n",
       "      <th>patient</th>\n",
       "      <th>session</th>\n",
       "      <th>site</th>\n",
       "      <th>task</th>\n",
       "      <th>visit</th>\n",
       "      <th>deviceSide</th>\n",
       "      <th>tremorScore</th>\n",
       "      <th>dyskinesiaScore</th>\n",
       "      <th>...</th>\n",
       "      <th>kurtY</th>\n",
       "      <th>kurtZ</th>\n",
       "      <th>xcor_peakXY</th>\n",
       "      <th>xcorr_peakXZ</th>\n",
       "      <th>xcorr_peakYZ</th>\n",
       "      <th>xcorr_lagXY</th>\n",
       "      <th>xcorr_lagXZ</th>\n",
       "      <th>xcorr_lagYZ</th>\n",
       "      <th>Dom_freq</th>\n",
       "      <th>Pdom_rel</th>\n",
       "    </tr>\n",
       "  </thead>\n",
       "  <tbody>\n",
       "    <tr>\n",
       "      <th>25823_22</th>\n",
       "      <td>17286039</td>\n",
       "      <td>GENEActiv</td>\n",
       "      <td>13_BOS</td>\n",
       "      <td>1</td>\n",
       "      <td>Boston</td>\n",
       "      <td>ftnl1</td>\n",
       "      <td>1</td>\n",
       "      <td>Right</td>\n",
       "      <td>NaN</td>\n",
       "      <td>0</td>\n",
       "      <td>...</td>\n",
       "      <td>0.162701</td>\n",
       "      <td>-0.079857</td>\n",
       "      <td>4.745927</td>\n",
       "      <td>0.734146</td>\n",
       "      <td>0.546572</td>\n",
       "      <td>0.506667</td>\n",
       "      <td>0.503333</td>\n",
       "      <td>0.497778</td>\n",
       "      <td>8.1</td>\n",
       "      <td>0.072784</td>\n",
       "    </tr>\n",
       "    <tr>\n",
       "      <th>25825_22</th>\n",
       "      <td>17286045</td>\n",
       "      <td>GENEActiv</td>\n",
       "      <td>13_BOS</td>\n",
       "      <td>1</td>\n",
       "      <td>Boston</td>\n",
       "      <td>ftnl2</td>\n",
       "      <td>1</td>\n",
       "      <td>Right</td>\n",
       "      <td>NaN</td>\n",
       "      <td>0</td>\n",
       "      <td>...</td>\n",
       "      <td>0.134648</td>\n",
       "      <td>-0.026859</td>\n",
       "      <td>1.458933</td>\n",
       "      <td>1.109415</td>\n",
       "      <td>41.765466</td>\n",
       "      <td>0.515556</td>\n",
       "      <td>0.503333</td>\n",
       "      <td>0.496667</td>\n",
       "      <td>6.1</td>\n",
       "      <td>0.058848</td>\n",
       "    </tr>\n",
       "    <tr>\n",
       "      <th>25828_22</th>\n",
       "      <td>17286054</td>\n",
       "      <td>Pebble</td>\n",
       "      <td>13_BOS</td>\n",
       "      <td>1</td>\n",
       "      <td>Boston</td>\n",
       "      <td>ftnr1</td>\n",
       "      <td>1</td>\n",
       "      <td>Left</td>\n",
       "      <td>NaN</td>\n",
       "      <td>0</td>\n",
       "      <td>...</td>\n",
       "      <td>7.689771</td>\n",
       "      <td>1.385359</td>\n",
       "      <td>0.359814</td>\n",
       "      <td>0.669308</td>\n",
       "      <td>0.856794</td>\n",
       "      <td>0.505556</td>\n",
       "      <td>0.543333</td>\n",
       "      <td>0.485556</td>\n",
       "      <td>1.3</td>\n",
       "      <td>0.083133</td>\n",
       "    </tr>\n",
       "    <tr>\n",
       "      <th>25830_22</th>\n",
       "      <td>17286060</td>\n",
       "      <td>Pebble</td>\n",
       "      <td>13_BOS</td>\n",
       "      <td>1</td>\n",
       "      <td>Boston</td>\n",
       "      <td>ftnr2</td>\n",
       "      <td>1</td>\n",
       "      <td>Left</td>\n",
       "      <td>NaN</td>\n",
       "      <td>0</td>\n",
       "      <td>...</td>\n",
       "      <td>11.841003</td>\n",
       "      <td>3.249798</td>\n",
       "      <td>2.058724</td>\n",
       "      <td>1.980309</td>\n",
       "      <td>0.381623</td>\n",
       "      <td>0.498947</td>\n",
       "      <td>0.521053</td>\n",
       "      <td>0.500000</td>\n",
       "      <td>1.0</td>\n",
       "      <td>0.145483</td>\n",
       "    </tr>\n",
       "    <tr>\n",
       "      <th>25835_22</th>\n",
       "      <td>17286076</td>\n",
       "      <td>GENEActiv</td>\n",
       "      <td>13_BOS</td>\n",
       "      <td>1</td>\n",
       "      <td>Boston</td>\n",
       "      <td>raml1</td>\n",
       "      <td>1</td>\n",
       "      <td>Right</td>\n",
       "      <td>NaN</td>\n",
       "      <td>0</td>\n",
       "      <td>...</td>\n",
       "      <td>0.566197</td>\n",
       "      <td>0.002158</td>\n",
       "      <td>1.541055</td>\n",
       "      <td>2.828754</td>\n",
       "      <td>31.930616</td>\n",
       "      <td>0.482105</td>\n",
       "      <td>0.549474</td>\n",
       "      <td>0.557895</td>\n",
       "      <td>5.7</td>\n",
       "      <td>0.515168</td>\n",
       "    </tr>\n",
       "  </tbody>\n",
       "</table>\n",
       "<p>5 rows × 38 columns</p>\n",
       "</div>"
      ],
      "text/plain": [
       "          dataFileHandleId     device patient  session    site   task  visit  \\\n",
       "25823_22          17286039  GENEActiv  13_BOS        1  Boston  ftnl1      1   \n",
       "25825_22          17286045  GENEActiv  13_BOS        1  Boston  ftnl2      1   \n",
       "25828_22          17286054     Pebble  13_BOS        1  Boston  ftnr1      1   \n",
       "25830_22          17286060     Pebble  13_BOS        1  Boston  ftnr2      1   \n",
       "25835_22          17286076  GENEActiv  13_BOS        1  Boston  raml1      1   \n",
       "\n",
       "         deviceSide  tremorScore  dyskinesiaScore    ...         kurtY  \\\n",
       "25823_22      Right          NaN                0    ...      0.162701   \n",
       "25825_22      Right          NaN                0    ...      0.134648   \n",
       "25828_22       Left          NaN                0    ...      7.689771   \n",
       "25830_22       Left          NaN                0    ...     11.841003   \n",
       "25835_22      Right          NaN                0    ...      0.566197   \n",
       "\n",
       "             kurtZ  xcor_peakXY  xcorr_peakXZ  xcorr_peakYZ  xcorr_lagXY  \\\n",
       "25823_22 -0.079857     4.745927      0.734146      0.546572     0.506667   \n",
       "25825_22 -0.026859     1.458933      1.109415     41.765466     0.515556   \n",
       "25828_22  1.385359     0.359814      0.669308      0.856794     0.505556   \n",
       "25830_22  3.249798     2.058724      1.980309      0.381623     0.498947   \n",
       "25835_22  0.002158     1.541055      2.828754     31.930616     0.482105   \n",
       "\n",
       "          xcorr_lagXZ  xcorr_lagYZ  Dom_freq  Pdom_rel  \n",
       "25823_22     0.503333     0.497778       8.1  0.072784  \n",
       "25825_22     0.503333     0.496667       6.1  0.058848  \n",
       "25828_22     0.543333     0.485556       1.3  0.083133  \n",
       "25830_22     0.521053     0.500000       1.0  0.145483  \n",
       "25835_22     0.549474     0.557895       5.7  0.515168  \n",
       "\n",
       "[5 rows x 38 columns]"
      ]
     },
     "execution_count": 894,
     "metadata": {},
     "output_type": "execute_result"
    }
   ],
   "source": [
    "df_train.head()"
   ]
  },
  {
   "cell_type": "code",
   "execution_count": 911,
   "metadata": {
    "collapsed": true
   },
   "outputs": [],
   "source": [
    "X = df_train.copy()\n",
    "cat_cols = df_train.select_dtypes(['object']).columns\n",
    "for c in cat_cols:\n",
    "    X[c]=le.fit_transform(df_train[c])"
   ]
  },
  {
   "cell_type": "code",
   "execution_count": 913,
   "metadata": {
    "collapsed": false
   },
   "outputs": [],
   "source": [
    "#drop scores cols\n",
    "X = X.drop(['tremorScore','dyskinesiaScore','bradykinesiaScore','path'],axis=1)\n",
    "#drop nans\n",
    "X=X.dropna()"
   ]
  },
  {
   "cell_type": "code",
   "execution_count": 939,
   "metadata": {
    "collapsed": false
   },
   "outputs": [],
   "source": [
    "#normalize features\n",
    "from sklearn.preprocessing import StandardScaler\n",
    "scaler = StandardScaler()\n",
    "X.iloc[:,8:]=scaler.fit_transform(X.iloc[:,8:])"
   ]
  },
  {
   "cell_type": "code",
   "execution_count": 940,
   "metadata": {
    "collapsed": false
   },
   "outputs": [
    {
     "data": {
      "text/html": [
       "<div>\n",
       "<style>\n",
       "    .dataframe thead tr:only-child th {\n",
       "        text-align: right;\n",
       "    }\n",
       "\n",
       "    .dataframe thead th {\n",
       "        text-align: left;\n",
       "    }\n",
       "\n",
       "    .dataframe tbody tr th {\n",
       "        vertical-align: top;\n",
       "    }\n",
       "</style>\n",
       "<table border=\"1\" class=\"dataframe\">\n",
       "  <thead>\n",
       "    <tr style=\"text-align: right;\">\n",
       "      <th></th>\n",
       "      <th>dataFileHandleId</th>\n",
       "      <th>device</th>\n",
       "      <th>patient</th>\n",
       "      <th>session</th>\n",
       "      <th>site</th>\n",
       "      <th>task</th>\n",
       "      <th>visit</th>\n",
       "      <th>deviceSide</th>\n",
       "      <th>EX</th>\n",
       "      <th>EY</th>\n",
       "      <th>...</th>\n",
       "      <th>kurtY</th>\n",
       "      <th>kurtZ</th>\n",
       "      <th>xcor_peakXY</th>\n",
       "      <th>xcorr_peakXZ</th>\n",
       "      <th>xcorr_peakYZ</th>\n",
       "      <th>xcorr_lagXY</th>\n",
       "      <th>xcorr_lagXZ</th>\n",
       "      <th>xcorr_lagYZ</th>\n",
       "      <th>Dom_freq</th>\n",
       "      <th>Pdom_rel</th>\n",
       "    </tr>\n",
       "  </thead>\n",
       "  <tbody>\n",
       "    <tr>\n",
       "      <th>25823_22</th>\n",
       "      <td>17286039</td>\n",
       "      <td>0</td>\n",
       "      <td>2</td>\n",
       "      <td>1</td>\n",
       "      <td>0</td>\n",
       "      <td>0</td>\n",
       "      <td>1</td>\n",
       "      <td>1</td>\n",
       "      <td>-0.295024</td>\n",
       "      <td>-0.155948</td>\n",
       "      <td>...</td>\n",
       "      <td>-0.360872</td>\n",
       "      <td>-0.366179</td>\n",
       "      <td>-0.048514</td>\n",
       "      <td>-0.032020</td>\n",
       "      <td>-0.177740</td>\n",
       "      <td>0.156770</td>\n",
       "      <td>0.029291</td>\n",
       "      <td>-0.042929</td>\n",
       "      <td>1.964716</td>\n",
       "      <td>-0.667609</td>\n",
       "    </tr>\n",
       "    <tr>\n",
       "      <th>25825_22</th>\n",
       "      <td>17286045</td>\n",
       "      <td>0</td>\n",
       "      <td>2</td>\n",
       "      <td>1</td>\n",
       "      <td>0</td>\n",
       "      <td>1</td>\n",
       "      <td>1</td>\n",
       "      <td>1</td>\n",
       "      <td>-0.294555</td>\n",
       "      <td>-0.155654</td>\n",
       "      <td>...</td>\n",
       "      <td>-0.361554</td>\n",
       "      <td>-0.365204</td>\n",
       "      <td>-0.059190</td>\n",
       "      <td>-0.031821</td>\n",
       "      <td>0.641065</td>\n",
       "      <td>0.323521</td>\n",
       "      <td>0.029291</td>\n",
       "      <td>-0.061885</td>\n",
       "      <td>1.084997</td>\n",
       "      <td>-0.812262</td>\n",
       "    </tr>\n",
       "    <tr>\n",
       "      <th>25828_22</th>\n",
       "      <td>17286054</td>\n",
       "      <td>1</td>\n",
       "      <td>2</td>\n",
       "      <td>1</td>\n",
       "      <td>0</td>\n",
       "      <td>2</td>\n",
       "      <td>1</td>\n",
       "      <td>0</td>\n",
       "      <td>-0.291026</td>\n",
       "      <td>-0.150657</td>\n",
       "      <td>...</td>\n",
       "      <td>-0.177960</td>\n",
       "      <td>-0.339220</td>\n",
       "      <td>-0.062759</td>\n",
       "      <td>-0.032054</td>\n",
       "      <td>-0.171578</td>\n",
       "      <td>0.135926</td>\n",
       "      <td>0.667479</td>\n",
       "      <td>-0.251452</td>\n",
       "      <td>-1.026329</td>\n",
       "      <td>-0.560191</td>\n",
       "    </tr>\n",
       "    <tr>\n",
       "      <th>25830_22</th>\n",
       "      <td>17286060</td>\n",
       "      <td>1</td>\n",
       "      <td>2</td>\n",
       "      <td>1</td>\n",
       "      <td>0</td>\n",
       "      <td>3</td>\n",
       "      <td>1</td>\n",
       "      <td>0</td>\n",
       "      <td>-0.285960</td>\n",
       "      <td>-0.131261</td>\n",
       "      <td>...</td>\n",
       "      <td>-0.077083</td>\n",
       "      <td>-0.304915</td>\n",
       "      <td>-0.057242</td>\n",
       "      <td>-0.031361</td>\n",
       "      <td>-0.181017</td>\n",
       "      <td>0.011959</td>\n",
       "      <td>0.311997</td>\n",
       "      <td>-0.005015</td>\n",
       "      <td>-1.158287</td>\n",
       "      <td>0.086963</td>\n",
       "    </tr>\n",
       "    <tr>\n",
       "      <th>25835_22</th>\n",
       "      <td>17286076</td>\n",
       "      <td>0</td>\n",
       "      <td>2</td>\n",
       "      <td>1</td>\n",
       "      <td>0</td>\n",
       "      <td>4</td>\n",
       "      <td>1</td>\n",
       "      <td>1</td>\n",
       "      <td>-0.287749</td>\n",
       "      <td>-0.157567</td>\n",
       "      <td>...</td>\n",
       "      <td>-0.351067</td>\n",
       "      <td>-0.364670</td>\n",
       "      <td>-0.058923</td>\n",
       "      <td>-0.030912</td>\n",
       "      <td>0.445698</td>\n",
       "      <td>-0.303991</td>\n",
       "      <td>0.765446</td>\n",
       "      <td>0.982726</td>\n",
       "      <td>0.909053</td>\n",
       "      <td>3.924082</td>\n",
       "    </tr>\n",
       "  </tbody>\n",
       "</table>\n",
       "<p>5 rows × 34 columns</p>\n",
       "</div>"
      ],
      "text/plain": [
       "          dataFileHandleId  device  patient  session  site  task  visit  \\\n",
       "25823_22          17286039       0        2        1     0     0      1   \n",
       "25825_22          17286045       0        2        1     0     1      1   \n",
       "25828_22          17286054       1        2        1     0     2      1   \n",
       "25830_22          17286060       1        2        1     0     3      1   \n",
       "25835_22          17286076       0        2        1     0     4      1   \n",
       "\n",
       "          deviceSide        EX        EY    ...        kurtY     kurtZ  \\\n",
       "25823_22           1 -0.295024 -0.155948    ...    -0.360872 -0.366179   \n",
       "25825_22           1 -0.294555 -0.155654    ...    -0.361554 -0.365204   \n",
       "25828_22           0 -0.291026 -0.150657    ...    -0.177960 -0.339220   \n",
       "25830_22           0 -0.285960 -0.131261    ...    -0.077083 -0.304915   \n",
       "25835_22           1 -0.287749 -0.157567    ...    -0.351067 -0.364670   \n",
       "\n",
       "          xcor_peakXY  xcorr_peakXZ  xcorr_peakYZ  xcorr_lagXY  xcorr_lagXZ  \\\n",
       "25823_22    -0.048514     -0.032020     -0.177740     0.156770     0.029291   \n",
       "25825_22    -0.059190     -0.031821      0.641065     0.323521     0.029291   \n",
       "25828_22    -0.062759     -0.032054     -0.171578     0.135926     0.667479   \n",
       "25830_22    -0.057242     -0.031361     -0.181017     0.011959     0.311997   \n",
       "25835_22    -0.058923     -0.030912      0.445698    -0.303991     0.765446   \n",
       "\n",
       "          xcorr_lagYZ  Dom_freq  Pdom_rel  \n",
       "25823_22    -0.042929  1.964716 -0.667609  \n",
       "25825_22    -0.061885  1.084997 -0.812262  \n",
       "25828_22    -0.251452 -1.026329 -0.560191  \n",
       "25830_22    -0.005015 -1.158287  0.086963  \n",
       "25835_22     0.982726  0.909053  3.924082  \n",
       "\n",
       "[5 rows x 34 columns]"
      ]
     },
     "execution_count": 940,
     "metadata": {},
     "output_type": "execute_result"
    }
   ],
   "source": [
    "X.head()"
   ]
  },
  {
   "cell_type": "code",
   "execution_count": 916,
   "metadata": {
    "collapsed": true
   },
   "outputs": [],
   "source": [
    "#only meta features\n",
    "X_meta = X.iloc[:,1:7]"
   ]
  },
  {
   "cell_type": "code",
   "execution_count": 928,
   "metadata": {
    "collapsed": false
   },
   "outputs": [],
   "source": [
    "X_meta['dataFileHandleId'] = X['dataFileHandleId']"
   ]
  },
  {
   "cell_type": "code",
   "execution_count": 930,
   "metadata": {
    "collapsed": true
   },
   "outputs": [],
   "source": [
    "X_meta.to_csv('Submission_Dysk_meta.csv',index=False)"
   ]
  },
  {
   "cell_type": "code",
   "execution_count": 931,
   "metadata": {
    "collapsed": false
   },
   "outputs": [
    {
     "name": "stdout",
     "output_type": "stream",
     "text": [
      "Welcome, Luca Lonini!\n",
      "\n",
      "AUPRC: 0.9871336130604139\n"
     ]
    }
   ],
   "source": [
    "%run sc2FitModels.py 'dyskinesia' Submission_Dysk_meta.csv"
   ]
  },
  {
   "cell_type": "code",
   "execution_count": 941,
   "metadata": {
    "collapsed": false
   },
   "outputs": [],
   "source": [
    "X.to_csv('Submission_Dysk.csv',index=False)"
   ]
  },
  {
   "cell_type": "code",
   "execution_count": 942,
   "metadata": {
    "collapsed": false,
    "scrolled": false
   },
   "outputs": [
    {
     "name": "stdout",
     "output_type": "stream",
     "text": [
      "Welcome, Luca Lonini!\n",
      "\n",
      "AUPRC: [0.17473357112568672, nan, 0.64130760600690595, nan, 0.75690683126336022, 0.96273329545072728, 0.35635302180995548, 0.33691768312514736, nan, 0.95759631691876423, nan, nan, nan, 0.088568145949117549, 0.042427884615384617, 0.12694342694342695, 0.005208333333333333, nan, 0.099259911942920886]\n"
     ]
    }
   ],
   "source": [
    "%run sc2FitModels_LOSOCV.py 'dyskinesia' Submission_Dysk.csv"
   ]
  },
  {
   "cell_type": "code",
   "execution_count": 943,
   "metadata": {
    "collapsed": false
   },
   "outputs": [
    {
     "name": "stdout",
     "output_type": "stream",
     "text": [
      "Welcome, Luca Lonini!\n",
      "\n",
      "AUPRC: 0.9640081852084357\n"
     ]
    }
   ],
   "source": [
    "%run sc2FitModels.py 'dyskinesia' Submission_Dysk.csv"
   ]
  },
  {
   "cell_type": "markdown",
   "metadata": {},
   "source": [
    "# Bradykinesia"
   ]
  },
  {
   "cell_type": "code",
   "execution_count": 8,
   "metadata": {
    "collapsed": true
   },
   "outputs": [],
   "source": [
    "q_brady_train = syn.tableQuery(\"SELECT * from syn10495809 where bradykinesiaScore is not null\")"
   ]
  },
  {
   "cell_type": "code",
   "execution_count": 9,
   "metadata": {
    "collapsed": false
   },
   "outputs": [
    {
     "name": "stdout",
     "output_type": "stream",
     "text": [
      "Downloading 0 files, 3016 cached locally\n"
     ]
    }
   ],
   "source": [
    "paths_train = syn.downloadTableColumns(q_brady_train,'dataFileHandleId')"
   ]
  },
  {
   "cell_type": "code",
   "execution_count": 553,
   "metadata": {
    "collapsed": true
   },
   "outputs": [],
   "source": [
    "df_train = q_brady_train.asDataFrame()"
   ]
  },
  {
   "cell_type": "code",
   "execution_count": 554,
   "metadata": {
    "collapsed": false
   },
   "outputs": [],
   "source": [
    "df_train['path']=df_train.dataFileHandleId.astype(str).map(paths_train)"
   ]
  },
  {
   "cell_type": "code",
   "execution_count": 555,
   "metadata": {
    "collapsed": false
   },
   "outputs": [
    {
     "data": {
      "text/html": [
       "<div>\n",
       "<style>\n",
       "    .dataframe thead tr:only-child th {\n",
       "        text-align: right;\n",
       "    }\n",
       "\n",
       "    .dataframe thead th {\n",
       "        text-align: left;\n",
       "    }\n",
       "\n",
       "    .dataframe tbody tr th {\n",
       "        vertical-align: top;\n",
       "    }\n",
       "</style>\n",
       "<table border=\"1\" class=\"dataframe\">\n",
       "  <thead>\n",
       "    <tr style=\"text-align: right;\">\n",
       "      <th></th>\n",
       "      <th>dataFileHandleId</th>\n",
       "      <th>device</th>\n",
       "      <th>patient</th>\n",
       "      <th>session</th>\n",
       "      <th>site</th>\n",
       "      <th>task</th>\n",
       "      <th>visit</th>\n",
       "      <th>deviceSide</th>\n",
       "      <th>tremorScore</th>\n",
       "      <th>dyskinesiaScore</th>\n",
       "      <th>bradykinesiaScore</th>\n",
       "      <th>path</th>\n",
       "    </tr>\n",
       "  </thead>\n",
       "  <tbody>\n",
       "    <tr>\n",
       "      <th>25819_22</th>\n",
       "      <td>17286028</td>\n",
       "      <td>GENEActiv</td>\n",
       "      <td>13_BOS</td>\n",
       "      <td>1</td>\n",
       "      <td>Boston</td>\n",
       "      <td>drnkg</td>\n",
       "      <td>1</td>\n",
       "      <td>Right</td>\n",
       "      <td>1</td>\n",
       "      <td>NaN</td>\n",
       "      <td>1</td>\n",
       "      <td>/Users/luca/Projects/DREAM_PD/Data/28/17286028...</td>\n",
       "    </tr>\n",
       "    <tr>\n",
       "      <th>25820_22</th>\n",
       "      <td>17286030</td>\n",
       "      <td>Pebble</td>\n",
       "      <td>13_BOS</td>\n",
       "      <td>1</td>\n",
       "      <td>Boston</td>\n",
       "      <td>drnkg</td>\n",
       "      <td>1</td>\n",
       "      <td>Left</td>\n",
       "      <td>1</td>\n",
       "      <td>NaN</td>\n",
       "      <td>1</td>\n",
       "      <td>/Users/luca/Projects/DREAM_PD/Data/30/17286030...</td>\n",
       "    </tr>\n",
       "    <tr>\n",
       "      <th>25821_22</th>\n",
       "      <td>17286034</td>\n",
       "      <td>GENEActiv</td>\n",
       "      <td>13_BOS</td>\n",
       "      <td>1</td>\n",
       "      <td>Boston</td>\n",
       "      <td>fldng</td>\n",
       "      <td>1</td>\n",
       "      <td>Right</td>\n",
       "      <td>2</td>\n",
       "      <td>NaN</td>\n",
       "      <td>1</td>\n",
       "      <td>/Users/luca/Projects/DREAM_PD/Data/34/17286034...</td>\n",
       "    </tr>\n",
       "    <tr>\n",
       "      <th>25822_22</th>\n",
       "      <td>17286036</td>\n",
       "      <td>Pebble</td>\n",
       "      <td>13_BOS</td>\n",
       "      <td>1</td>\n",
       "      <td>Boston</td>\n",
       "      <td>fldng</td>\n",
       "      <td>1</td>\n",
       "      <td>Left</td>\n",
       "      <td>1</td>\n",
       "      <td>NaN</td>\n",
       "      <td>1</td>\n",
       "      <td>/Users/luca/Projects/DREAM_PD/Data/36/17286036...</td>\n",
       "    </tr>\n",
       "    <tr>\n",
       "      <th>25824_22</th>\n",
       "      <td>17286042</td>\n",
       "      <td>Pebble</td>\n",
       "      <td>13_BOS</td>\n",
       "      <td>1</td>\n",
       "      <td>Boston</td>\n",
       "      <td>ftnl1</td>\n",
       "      <td>1</td>\n",
       "      <td>Left</td>\n",
       "      <td>2</td>\n",
       "      <td>NaN</td>\n",
       "      <td>1</td>\n",
       "      <td>/Users/luca/Projects/DREAM_PD/Data/42/17286042...</td>\n",
       "    </tr>\n",
       "  </tbody>\n",
       "</table>\n",
       "</div>"
      ],
      "text/plain": [
       "          dataFileHandleId     device patient  session    site   task  visit  \\\n",
       "25819_22          17286028  GENEActiv  13_BOS        1  Boston  drnkg      1   \n",
       "25820_22          17286030     Pebble  13_BOS        1  Boston  drnkg      1   \n",
       "25821_22          17286034  GENEActiv  13_BOS        1  Boston  fldng      1   \n",
       "25822_22          17286036     Pebble  13_BOS        1  Boston  fldng      1   \n",
       "25824_22          17286042     Pebble  13_BOS        1  Boston  ftnl1      1   \n",
       "\n",
       "         deviceSide  tremorScore  dyskinesiaScore  bradykinesiaScore  \\\n",
       "25819_22      Right            1              NaN                  1   \n",
       "25820_22       Left            1              NaN                  1   \n",
       "25821_22      Right            2              NaN                  1   \n",
       "25822_22       Left            1              NaN                  1   \n",
       "25824_22       Left            2              NaN                  1   \n",
       "\n",
       "                                                       path  \n",
       "25819_22  /Users/luca/Projects/DREAM_PD/Data/28/17286028...  \n",
       "25820_22  /Users/luca/Projects/DREAM_PD/Data/30/17286030...  \n",
       "25821_22  /Users/luca/Projects/DREAM_PD/Data/34/17286034...  \n",
       "25822_22  /Users/luca/Projects/DREAM_PD/Data/36/17286036...  \n",
       "25824_22  /Users/luca/Projects/DREAM_PD/Data/42/17286042...  "
      ]
     },
     "execution_count": 555,
     "metadata": {},
     "output_type": "execute_result"
    }
   ],
   "source": [
    "df_train.head(5)"
   ]
  },
  {
   "cell_type": "markdown",
   "metadata": {},
   "source": [
    "## Train a baseline classifier using the metadata only"
   ]
  },
  {
   "cell_type": "code",
   "execution_count": 94,
   "metadata": {
    "collapsed": false
   },
   "outputs": [
    {
     "data": {
      "text/plain": [
       "19"
      ]
     },
     "execution_count": 94,
     "metadata": {},
     "output_type": "execute_result"
    }
   ],
   "source": [
    "len(df_train.patient.unique())"
   ]
  },
  {
   "cell_type": "code",
   "execution_count": 95,
   "metadata": {
    "collapsed": false
   },
   "outputs": [],
   "source": [
    "X_meta = df_train[['dataFileHandleId','device','patient','session','site','task','visit','deviceSide']]\n",
    "y_meta = df_train['bradykinesiaScore']"
   ]
  },
  {
   "cell_type": "markdown",
   "metadata": {},
   "source": [
    "## Encode categorical variables with dummy values"
   ]
  },
  {
   "cell_type": "code",
   "execution_count": 96,
   "metadata": {
    "collapsed": true
   },
   "outputs": [],
   "source": [
    "from sklearn import preprocessing\n",
    "le = preprocessing.LabelEncoder()"
   ]
  },
  {
   "cell_type": "code",
   "execution_count": 97,
   "metadata": {
    "collapsed": false
   },
   "outputs": [
    {
     "data": {
      "text/html": [
       "<div>\n",
       "<style>\n",
       "    .dataframe thead tr:only-child th {\n",
       "        text-align: right;\n",
       "    }\n",
       "\n",
       "    .dataframe thead th {\n",
       "        text-align: left;\n",
       "    }\n",
       "\n",
       "    .dataframe tbody tr th {\n",
       "        vertical-align: top;\n",
       "    }\n",
       "</style>\n",
       "<table border=\"1\" class=\"dataframe\">\n",
       "  <thead>\n",
       "    <tr style=\"text-align: right;\">\n",
       "      <th></th>\n",
       "      <th>dataFileHandleId</th>\n",
       "      <th>device</th>\n",
       "      <th>patient</th>\n",
       "      <th>session</th>\n",
       "      <th>site</th>\n",
       "      <th>task</th>\n",
       "      <th>visit</th>\n",
       "      <th>deviceSide</th>\n",
       "    </tr>\n",
       "  </thead>\n",
       "  <tbody>\n",
       "    <tr>\n",
       "      <th>25819_22</th>\n",
       "      <td>17286028</td>\n",
       "      <td>GENEActiv</td>\n",
       "      <td>13_BOS</td>\n",
       "      <td>1</td>\n",
       "      <td>Boston</td>\n",
       "      <td>drnkg</td>\n",
       "      <td>1</td>\n",
       "      <td>Right</td>\n",
       "    </tr>\n",
       "    <tr>\n",
       "      <th>25820_22</th>\n",
       "      <td>17286030</td>\n",
       "      <td>Pebble</td>\n",
       "      <td>13_BOS</td>\n",
       "      <td>1</td>\n",
       "      <td>Boston</td>\n",
       "      <td>drnkg</td>\n",
       "      <td>1</td>\n",
       "      <td>Left</td>\n",
       "    </tr>\n",
       "    <tr>\n",
       "      <th>25821_22</th>\n",
       "      <td>17286034</td>\n",
       "      <td>GENEActiv</td>\n",
       "      <td>13_BOS</td>\n",
       "      <td>1</td>\n",
       "      <td>Boston</td>\n",
       "      <td>fldng</td>\n",
       "      <td>1</td>\n",
       "      <td>Right</td>\n",
       "    </tr>\n",
       "    <tr>\n",
       "      <th>25822_22</th>\n",
       "      <td>17286036</td>\n",
       "      <td>Pebble</td>\n",
       "      <td>13_BOS</td>\n",
       "      <td>1</td>\n",
       "      <td>Boston</td>\n",
       "      <td>fldng</td>\n",
       "      <td>1</td>\n",
       "      <td>Left</td>\n",
       "    </tr>\n",
       "    <tr>\n",
       "      <th>25824_22</th>\n",
       "      <td>17286042</td>\n",
       "      <td>Pebble</td>\n",
       "      <td>13_BOS</td>\n",
       "      <td>1</td>\n",
       "      <td>Boston</td>\n",
       "      <td>ftnl1</td>\n",
       "      <td>1</td>\n",
       "      <td>Left</td>\n",
       "    </tr>\n",
       "  </tbody>\n",
       "</table>\n",
       "</div>"
      ],
      "text/plain": [
       "          dataFileHandleId     device patient  session    site   task  visit  \\\n",
       "25819_22          17286028  GENEActiv  13_BOS        1  Boston  drnkg      1   \n",
       "25820_22          17286030     Pebble  13_BOS        1  Boston  drnkg      1   \n",
       "25821_22          17286034  GENEActiv  13_BOS        1  Boston  fldng      1   \n",
       "25822_22          17286036     Pebble  13_BOS        1  Boston  fldng      1   \n",
       "25824_22          17286042     Pebble  13_BOS        1  Boston  ftnl1      1   \n",
       "\n",
       "         deviceSide  \n",
       "25819_22      Right  \n",
       "25820_22       Left  \n",
       "25821_22      Right  \n",
       "25822_22       Left  \n",
       "25824_22       Left  "
      ]
     },
     "execution_count": 97,
     "metadata": {},
     "output_type": "execute_result"
    }
   ],
   "source": [
    "X_meta.head()"
   ]
  },
  {
   "cell_type": "code",
   "execution_count": 98,
   "metadata": {
    "collapsed": false
   },
   "outputs": [],
   "source": [
    "X_meta_copy = X_meta.copy()\n",
    "cat_cols = X_meta.select_dtypes(['object']).columns\n",
    "for c in cat_cols:\n",
    "    X_meta_copy[c]=le.fit_transform(X_meta[c])"
   ]
  },
  {
   "cell_type": "code",
   "execution_count": 99,
   "metadata": {
    "collapsed": false
   },
   "outputs": [
    {
     "data": {
      "text/html": [
       "<div>\n",
       "<style>\n",
       "    .dataframe thead tr:only-child th {\n",
       "        text-align: right;\n",
       "    }\n",
       "\n",
       "    .dataframe thead th {\n",
       "        text-align: left;\n",
       "    }\n",
       "\n",
       "    .dataframe tbody tr th {\n",
       "        vertical-align: top;\n",
       "    }\n",
       "</style>\n",
       "<table border=\"1\" class=\"dataframe\">\n",
       "  <thead>\n",
       "    <tr style=\"text-align: right;\">\n",
       "      <th></th>\n",
       "      <th>dataFileHandleId</th>\n",
       "      <th>device</th>\n",
       "      <th>patient</th>\n",
       "      <th>session</th>\n",
       "      <th>site</th>\n",
       "      <th>task</th>\n",
       "      <th>visit</th>\n",
       "      <th>deviceSide</th>\n",
       "    </tr>\n",
       "  </thead>\n",
       "  <tbody>\n",
       "    <tr>\n",
       "      <th>25819_22</th>\n",
       "      <td>17286028</td>\n",
       "      <td>0</td>\n",
       "      <td>2</td>\n",
       "      <td>1</td>\n",
       "      <td>0</td>\n",
       "      <td>0</td>\n",
       "      <td>1</td>\n",
       "      <td>1</td>\n",
       "    </tr>\n",
       "    <tr>\n",
       "      <th>25820_22</th>\n",
       "      <td>17286030</td>\n",
       "      <td>1</td>\n",
       "      <td>2</td>\n",
       "      <td>1</td>\n",
       "      <td>0</td>\n",
       "      <td>0</td>\n",
       "      <td>1</td>\n",
       "      <td>0</td>\n",
       "    </tr>\n",
       "    <tr>\n",
       "      <th>25821_22</th>\n",
       "      <td>17286034</td>\n",
       "      <td>0</td>\n",
       "      <td>2</td>\n",
       "      <td>1</td>\n",
       "      <td>0</td>\n",
       "      <td>1</td>\n",
       "      <td>1</td>\n",
       "      <td>1</td>\n",
       "    </tr>\n",
       "    <tr>\n",
       "      <th>25822_22</th>\n",
       "      <td>17286036</td>\n",
       "      <td>1</td>\n",
       "      <td>2</td>\n",
       "      <td>1</td>\n",
       "      <td>0</td>\n",
       "      <td>1</td>\n",
       "      <td>1</td>\n",
       "      <td>0</td>\n",
       "    </tr>\n",
       "    <tr>\n",
       "      <th>25824_22</th>\n",
       "      <td>17286042</td>\n",
       "      <td>1</td>\n",
       "      <td>2</td>\n",
       "      <td>1</td>\n",
       "      <td>0</td>\n",
       "      <td>2</td>\n",
       "      <td>1</td>\n",
       "      <td>0</td>\n",
       "    </tr>\n",
       "  </tbody>\n",
       "</table>\n",
       "</div>"
      ],
      "text/plain": [
       "          dataFileHandleId  device  patient  session  site  task  visit  \\\n",
       "25819_22          17286028       0        2        1     0     0      1   \n",
       "25820_22          17286030       1        2        1     0     0      1   \n",
       "25821_22          17286034       0        2        1     0     1      1   \n",
       "25822_22          17286036       1        2        1     0     1      1   \n",
       "25824_22          17286042       1        2        1     0     2      1   \n",
       "\n",
       "          deviceSide  \n",
       "25819_22           1  \n",
       "25820_22           0  \n",
       "25821_22           1  \n",
       "25822_22           0  \n",
       "25824_22           0  "
      ]
     },
     "execution_count": 99,
     "metadata": {},
     "output_type": "execute_result"
    }
   ],
   "source": [
    "X_meta_copy.head()"
   ]
  },
  {
   "cell_type": "code",
   "execution_count": 100,
   "metadata": {
    "collapsed": true
   },
   "outputs": [],
   "source": [
    "X_meta=X_meta_copy"
   ]
  },
  {
   "cell_type": "markdown",
   "metadata": {},
   "source": [
    "# Make dummy submission file to test score fcn"
   ]
  },
  {
   "cell_type": "code",
   "execution_count": 28,
   "metadata": {
    "collapsed": false
   },
   "outputs": [],
   "source": [
    "X_meta.to_csv('DummySubmission.csv',index=False)"
   ]
  },
  {
   "cell_type": "code",
   "execution_count": 29,
   "metadata": {
    "collapsed": false,
    "scrolled": false
   },
   "outputs": [
    {
     "name": "stdout",
     "output_type": "stream",
     "text": [
      "Welcome, Luca Lonini!\n",
      "\n",
      "AUPRC: 0.9898671060750107\n"
     ]
    }
   ],
   "source": [
    "%run sc2FitModels.py 'bradykinesia' DummySubmission.csv"
   ]
  },
  {
   "cell_type": "markdown",
   "metadata": {},
   "source": [
    "## Explore data"
   ]
  },
  {
   "cell_type": "code",
   "execution_count": 101,
   "metadata": {
    "collapsed": false
   },
   "outputs": [
    {
     "name": "stdout",
     "output_type": "stream",
     "text": [
      "dataFileHandleId                                              17286072\n",
      "device                                                          Pebble\n",
      "patient                                                         13_BOS\n",
      "session                                                              1\n",
      "site                                                            Boston\n",
      "task                                                             orgpa\n",
      "visit                                                                1\n",
      "deviceSide                                                        Left\n",
      "tremorScore                                                          1\n",
      "dyskinesiaScore                                                    NaN\n",
      "bradykinesiaScore                                                    1\n",
      "path                 /Users/luca/Projects/DREAM_PD/Data/72/17286072...\n",
      "Name: 25834_22, dtype: object\n"
     ]
    },
    {
     "data": {
      "text/plain": [
       "<matplotlib.axes._subplots.AxesSubplot at 0x11edee5f8>"
      ]
     },
     "execution_count": 101,
     "metadata": {},
     "output_type": "execute_result"
    },
    {
     "data": {
      "image/png": "[encoded data removed]",
      "text/plain": [
       "<matplotlib.figure.Figure at 0x11ddbe128>"
      ]
     },
     "metadata": {},
     "output_type": "display_data"
    }
   ],
   "source": [
    "#plot task\n",
    "idx=9\n",
    "print(df_train.iloc[idx,:]) \n",
    "p1 = df_train.path[idx]\n",
    "rawdata = pd.read_csv(p1,sep='\\t')\n",
    "rawdata.iloc[:,1:4].plot()"
   ]
  },
  {
   "cell_type": "code",
   "execution_count": null,
   "metadata": {
    "collapsed": false
   },
   "outputs": [],
   "source": [
    "#durations of tasks\n",
    "c = 0\n",
    "Dur = []\n",
    "for f in df_train.path:\n",
    "    rawdata = pd.read_csv(f,sep='\\t')\n",
    "    t = rawdata.timestamp\n",
    "    t = t-t[0]\n",
    "    rawdata.timestamp = t\n",
    "    Dur.append(rawdata.timestamp.iloc[-1])\n",
    "    c+=1\n",
    "Dur = np.asarray(Dur)"
   ]
  },
  {
   "cell_type": "code",
   "execution_count": 103,
   "metadata": {
    "collapsed": false
   },
   "outputs": [
    {
     "data": {
      "text/plain": [
       "<matplotlib.figure.Figure at 0x11e09f240>"
      ]
     },
     "metadata": {},
     "output_type": "display_data"
    },
    {
     "data": {
      "image/png": "[encoded data removed]",
      "text/plain": [
       "<matplotlib.figure.Figure at 0x11d5936d8>"
      ]
     },
     "metadata": {},
     "output_type": "display_data"
    }
   ],
   "source": [
    "plt.figure(figsize=(12,4))\n",
    "df_train['Duration']=Dur\n",
    "ax = df_train.hist(column='Duration',by='task',figsize=(12,9))"
   ]
  },
  {
   "cell_type": "code",
   "execution_count": 105,
   "metadata": {
    "collapsed": false
   },
   "outputs": [
    {
     "data": {
      "text/html": [
       "<div>\n",
       "<style>\n",
       "    .dataframe thead tr:only-child th {\n",
       "        text-align: right;\n",
       "    }\n",
       "\n",
       "    .dataframe thead th {\n",
       "        text-align: left;\n",
       "    }\n",
       "\n",
       "    .dataframe tbody tr th {\n",
       "        vertical-align: top;\n",
       "    }\n",
       "</style>\n",
       "<table border=\"1\" class=\"dataframe\">\n",
       "  <thead>\n",
       "    <tr style=\"text-align: right;\">\n",
       "      <th></th>\n",
       "      <th>dataFileHandleId</th>\n",
       "      <th>device</th>\n",
       "      <th>patient</th>\n",
       "      <th>session</th>\n",
       "      <th>site</th>\n",
       "      <th>task</th>\n",
       "      <th>visit</th>\n",
       "      <th>deviceSide</th>\n",
       "      <th>tremorScore</th>\n",
       "      <th>dyskinesiaScore</th>\n",
       "      <th>bradykinesiaScore</th>\n",
       "      <th>path</th>\n",
       "      <th>Duration</th>\n",
       "    </tr>\n",
       "  </thead>\n",
       "  <tbody>\n",
       "    <tr>\n",
       "      <th>25819_22</th>\n",
       "      <td>17286028</td>\n",
       "      <td>GENEActiv</td>\n",
       "      <td>13_BOS</td>\n",
       "      <td>1</td>\n",
       "      <td>Boston</td>\n",
       "      <td>drnkg</td>\n",
       "      <td>1</td>\n",
       "      <td>Right</td>\n",
       "      <td>1</td>\n",
       "      <td>NaN</td>\n",
       "      <td>1</td>\n",
       "      <td>/Users/luca/Projects/DREAM_PD/Data/28/17286028...</td>\n",
       "      <td>38.98</td>\n",
       "    </tr>\n",
       "    <tr>\n",
       "      <th>25820_22</th>\n",
       "      <td>17286030</td>\n",
       "      <td>Pebble</td>\n",
       "      <td>13_BOS</td>\n",
       "      <td>1</td>\n",
       "      <td>Boston</td>\n",
       "      <td>drnkg</td>\n",
       "      <td>1</td>\n",
       "      <td>Left</td>\n",
       "      <td>1</td>\n",
       "      <td>NaN</td>\n",
       "      <td>1</td>\n",
       "      <td>/Users/luca/Projects/DREAM_PD/Data/30/17286030...</td>\n",
       "      <td>38.98</td>\n",
       "    </tr>\n",
       "    <tr>\n",
       "      <th>25821_22</th>\n",
       "      <td>17286034</td>\n",
       "      <td>GENEActiv</td>\n",
       "      <td>13_BOS</td>\n",
       "      <td>1</td>\n",
       "      <td>Boston</td>\n",
       "      <td>fldng</td>\n",
       "      <td>1</td>\n",
       "      <td>Right</td>\n",
       "      <td>2</td>\n",
       "      <td>NaN</td>\n",
       "      <td>1</td>\n",
       "      <td>/Users/luca/Projects/DREAM_PD/Data/34/17286034...</td>\n",
       "      <td>101.98</td>\n",
       "    </tr>\n",
       "    <tr>\n",
       "      <th>25822_22</th>\n",
       "      <td>17286036</td>\n",
       "      <td>Pebble</td>\n",
       "      <td>13_BOS</td>\n",
       "      <td>1</td>\n",
       "      <td>Boston</td>\n",
       "      <td>fldng</td>\n",
       "      <td>1</td>\n",
       "      <td>Left</td>\n",
       "      <td>1</td>\n",
       "      <td>NaN</td>\n",
       "      <td>1</td>\n",
       "      <td>/Users/luca/Projects/DREAM_PD/Data/36/17286036...</td>\n",
       "      <td>101.98</td>\n",
       "    </tr>\n",
       "    <tr>\n",
       "      <th>25824_22</th>\n",
       "      <td>17286042</td>\n",
       "      <td>Pebble</td>\n",
       "      <td>13_BOS</td>\n",
       "      <td>1</td>\n",
       "      <td>Boston</td>\n",
       "      <td>ftnl1</td>\n",
       "      <td>1</td>\n",
       "      <td>Left</td>\n",
       "      <td>2</td>\n",
       "      <td>NaN</td>\n",
       "      <td>1</td>\n",
       "      <td>/Users/luca/Projects/DREAM_PD/Data/42/17286042...</td>\n",
       "      <td>17.98</td>\n",
       "    </tr>\n",
       "  </tbody>\n",
       "</table>\n",
       "</div>"
      ],
      "text/plain": [
       "          dataFileHandleId     device patient  session    site   task  visit  \\\n",
       "25819_22          17286028  GENEActiv  13_BOS        1  Boston  drnkg      1   \n",
       "25820_22          17286030     Pebble  13_BOS        1  Boston  drnkg      1   \n",
       "25821_22          17286034  GENEActiv  13_BOS        1  Boston  fldng      1   \n",
       "25822_22          17286036     Pebble  13_BOS        1  Boston  fldng      1   \n",
       "25824_22          17286042     Pebble  13_BOS        1  Boston  ftnl1      1   \n",
       "\n",
       "         deviceSide  tremorScore  dyskinesiaScore  bradykinesiaScore  \\\n",
       "25819_22      Right            1              NaN                  1   \n",
       "25820_22       Left            1              NaN                  1   \n",
       "25821_22      Right            2              NaN                  1   \n",
       "25822_22       Left            1              NaN                  1   \n",
       "25824_22       Left            2              NaN                  1   \n",
       "\n",
       "                                                       path  Duration  \n",
       "25819_22  /Users/luca/Projects/DREAM_PD/Data/28/17286028...     38.98  \n",
       "25820_22  /Users/luca/Projects/DREAM_PD/Data/30/17286030...     38.98  \n",
       "25821_22  /Users/luca/Projects/DREAM_PD/Data/34/17286034...    101.98  \n",
       "25822_22  /Users/luca/Projects/DREAM_PD/Data/36/17286036...    101.98  \n",
       "25824_22  /Users/luca/Projects/DREAM_PD/Data/42/17286042...     17.98  "
      ]
     },
     "execution_count": 105,
     "metadata": {},
     "output_type": "execute_result"
    }
   ],
   "source": [
    "df_train.head()"
   ]
  },
  {
   "cell_type": "code",
   "execution_count": 124,
   "metadata": {
    "collapsed": false,
    "scrolled": true
   },
   "outputs": [],
   "source": [
    "# #display duration based on presence of bradykinesia\n",
    "# for t in df_train.task.unique():\n",
    "#     fig = plt.figure()\n",
    "#     for i in range(2):\n",
    "#         d = df_train[(df_train['bradykinesiaScore']==i) & (df_train['task']==t)]\n",
    "#         if ~d.empty:\n",
    "#             try:\n",
    "#                 sns.distplot(d['Duration'])\n",
    "#             except(ZeroDivisionError):\n",
    "#                 print(d.empty)\n",
    "#     plt.title(t)"
   ]
  },
  {
   "cell_type": "markdown",
   "metadata": {},
   "source": [
    "## Clips generation and feature extraction"
   ]
  },
  {
   "cell_type": "markdown",
   "metadata": {},
   "source": [
    "### Helper fcns"
   ]
  },
  {
   "cell_type": "code",
   "execution_count": 804,
   "metadata": {
    "collapsed": true
   },
   "outputs": [],
   "source": [
    "#feature extraction\n",
    "#INPUT: raw x,y,z accelerometer data (dataframe)\n",
    "def feature_extraction(rawdata):\n",
    "    \n",
    "    #drop time and magnitude feature\n",
    "    rawdata_wtime = rawdata.copy()\n",
    "    rawdata=rawdata.iloc[:,1:4]\n",
    "    \n",
    "    features_list = ['EX','EY','EZ','rangeX','rangeY','rangeZ','meanX','meanY','meanZ','varX','varY','varZ',\n",
    "                    'skewX','skewY','skewZ','kurtX','kurtY','kurtZ','xcor_peakXY','xcorr_peakXZ','xcorr_peakYZ',\n",
    "                    'xcorr_lagXY','xcorr_lagXZ','xcorr_lagYZ','Dom_freq','Pdom_rel']\n",
    "    \n",
    "\n",
    "    #cycle through all clips for current trial and save dataframe of features for current trial and sensor\n",
    "    features = []\n",
    "\n",
    "    #extract features on current clip\n",
    "\n",
    "    #Energy of signal on each axis\n",
    "    E = np.asarray(np.sum(rawdata**2,axis=0))\n",
    "\n",
    "    #range on each axis\n",
    "    min_xyz = np.min(rawdata,axis=0)\n",
    "    max_xyz = np.max(rawdata,axis=0)\n",
    "    r = np.asarray(max_xyz-min_xyz)\n",
    "\n",
    "    #Moments on each axis\n",
    "    mean = np.asarray(np.mean(rawdata,axis=0))\n",
    "    var = np.asarray(np.std(rawdata,axis=0))\n",
    "    sk = skew(rawdata)\n",
    "    kurt = kurtosis(rawdata)\n",
    "\n",
    "    #Cross-correlation between axes pairs\n",
    "    xcorr_xy = np.correlate(rawdata.iloc[:,0],rawdata.iloc[:,1],mode='same')\n",
    "    xcorr_xy = xcorr_xy/np.sum(xcorr_xy) #normalize values\n",
    "    xcorr_peak_xy = np.max(xcorr_xy)\n",
    "    xcorr_lag_xy = (np.argmax(xcorr_xy))/len(xcorr_xy) #normalized lag\n",
    "\n",
    "    xcorr_xz = np.correlate(rawdata.iloc[:,0],rawdata.iloc[:,2],mode='same')\n",
    "    xcorr_xz = xcorr_xz/np.sum(xcorr_xz) #normalize values\n",
    "    xcorr_peak_xz = np.max(xcorr_xz)\n",
    "    xcorr_lag_xz = (np.argmax(xcorr_xz))/len(xcorr_xz)\n",
    "\n",
    "    xcorr_yz = np.correlate(rawdata.iloc[:,1],rawdata.iloc[:,2],mode='same')\n",
    "    xcorr_yz = xcorr_yz/np.sum(xcorr_yz) #normalize values\n",
    "    xcorr_peak_yz = np.max(xcorr_yz)\n",
    "    xcorr_lag_yz = (np.argmax(xcorr_yz))/len(xcorr_yz)\n",
    "\n",
    "    #pack xcorr features\n",
    "    xcorr_peak = np.array([xcorr_peak_xy,xcorr_peak_xz,xcorr_peak_yz])\n",
    "    xcorr_lag = np.array([xcorr_lag_xy,xcorr_lag_xz,xcorr_lag_yz])\n",
    "\n",
    "    #Power of FFT between 1-10 Hz\n",
    "#     Pxx,fft_labels = powerspectra(rawdata_wtime,1,10) #dataframe with power spectra for each axis\n",
    "#     xfft = np.asarray([Pxx.iloc[:,0].values, Pxx.iloc[:,1].values, Pxx.iloc[:,2].values])\n",
    "#     xfft = np.reshape(xfft,(1,xfft.size)) #row vector\n",
    "#     xfft = xfft.reshape(-1)\n",
    "#     features_list += fft_labels #add fft labels\n",
    "    \n",
    "    #Dominant freq and relative magnitude (on acc magnitude)\n",
    "    Pxx,_ = powerspectra(rawdata_wtime,1,10,nbins=50) #dataframe with power spectra for each axis\n",
    "    domfreq = np.asarray([Pxx.iloc[:,-1].argmax()]) \n",
    "    Pdom_rel = Pxx.loc[domfreq].iloc[:,-1].values/Pxx.iloc[:,-1].sum() #power at dominant freq rel to total\n",
    "\n",
    "    #sample entropy raw data and FFT - COMPUTATIONALLY EXPENSIVE - TAKE OUT FOR NOW\n",
    "#     sH_raw = []; sH_fft = []\n",
    "#     for a in range(3):\n",
    "#         x = rawdata.iloc[:,a]\n",
    "#         n = len(x) #number of samples in clip\n",
    "#         Fs = np.mean(1/(np.diff(x.index)/1000)) #sampling rate in clip\n",
    "#         sH_raw.append(nolds.sampen(x)) #samp entr raw data\n",
    "#         f,Pxx_den = welch(x,Fs,nperseg=min(256,n/4))\n",
    "#         sH_fft.append(nolds.sampen(Pxx_den)) #samp entr fft\n",
    "\n",
    "    #Assemble features in array\n",
    "    X = np.concatenate((E,r,mean,var,sk,kurt,xcorr_peak,xcorr_lag,domfreq,Pdom_rel))\n",
    "#                 X = X.reshape(1,X.shape[0])\n",
    "    features.append(X)\n",
    "\n",
    "    F = np.asarray(features) #feature matrix for all clips from current trial\n",
    "    return F,features_list"
   ]
  },
  {
   "cell_type": "code",
   "execution_count": 760,
   "metadata": {
    "collapsed": true
   },
   "outputs": [],
   "source": [
    "def gen_clips(rawdata,clipsize=5,overlap=0):\n",
    "    \n",
    "    len_tol = 0.8   #% of the intended clipsize below which clip is not used\n",
    "    #reindex time (relative to start)\n",
    "    t = rawdata.timestamp\n",
    "    t = t-t.iloc[0]\n",
    "    rawdata.timestamp = t\n",
    "    #create clips data\n",
    "    deltat = np.median(np.diff(rawdata.timestamp))\n",
    "    idx = np.arange(0,rawdata.timestamp.iloc[-1],clipsize*(1-overlap))\n",
    "    clips = []\n",
    "    for i in idx:\n",
    "        c = rawdata[(rawdata.timestamp>=i) & (rawdata.timestamp<i+clipsize)]\n",
    "        if len(c) > 0.8*int(clipsize/deltat): #discard clips whose length is less than len_tol% of the window size\n",
    "            clips.append(c)\n",
    "\n",
    "    return clips\n"
   ]
  },
  {
   "cell_type": "code",
   "execution_count": 761,
   "metadata": {
    "collapsed": true
   },
   "outputs": [],
   "source": [
    "#returns power spectra of the signal over each channel between min and max freq at given resolution (nbins)\n",
    "#returns the labels for each bin\n",
    "#if binavg is True it averages the PSD within bins to reduce PSD noise\n",
    "def powerspectra(x,fm,fM,nbins=10,relative=False,binavg=True):\n",
    "    \n",
    "    #feature labels\n",
    "    labels=[]\n",
    "    s = np.linspace(fm,fM,nbins)\n",
    "    lax = ['X','Y','Z']\n",
    "    for l in lax:\n",
    "        for i in s:\n",
    "            labels.append('fft'+l+str(int(i)))\n",
    "            \n",
    "    #signal features\n",
    "    n = len(x) #number of samples in clip\n",
    "    Fs = np.nanmean(1/(np.diff(x.timestamp))) #sampling rate in clip\n",
    "    timestep = 1/Fs \n",
    "    freq = np.fft.fftfreq(n,d=timestep) #frequency bins\n",
    "\n",
    "    #run FFT on each channel \n",
    "    x = x.drop('timestamp',axis=1)\n",
    "    Xf = x.apply(np.fft.fft)\n",
    "    Xf.index = np.round(freq,decimals=1) #reindex w frequency bin\n",
    "    Pxx = Xf.apply(np.abs)\n",
    "    Pxx = Pxx**2 #power spectra\n",
    "    if relative:\n",
    "        Pxx = Pxx/np.sum(Pxx,axis=0) #power relative to total\n",
    "    \n",
    "    #power spectra between fm-fM Hz\n",
    "    bin1 = int(timestep*n*fm)\n",
    "    bin2 = int(timestep*n*fM)\n",
    "    bins = np.linspace(bin1,bin2,nbins,dtype=int)\n",
    "#     print(bins/(round(timestep*n)))\n",
    "\n",
    "    #average power spectra within bins\n",
    "    if binavg:\n",
    "        deltab = int(0.5*np.diff(bins)[0]) #half the size of a bin (in samples)\n",
    "        Pxxm = []\n",
    "        for i in bins:\n",
    "            start = int(max(i-deltab,bins[0]))\n",
    "            end = int(min(i+deltab,bins[-1]))\n",
    "            Pxxm.append(np.nanmean(Pxx.iloc[start:end,:].values,axis=0))            \n",
    "        Pxxm = np.asarray(Pxxm)\n",
    "        Pxx = pd.DataFrame(data=Pxxm,index=Pxx.index[bins],columns=Pxx.columns)\n",
    "        return Pxx, labels\n",
    "    \n",
    "    else:\n",
    "        return Pxx.iloc[bins,:], labels\n",
    "\n"
   ]
  },
  {
   "cell_type": "code",
   "execution_count": 762,
   "metadata": {
    "collapsed": true
   },
   "outputs": [],
   "source": [
    "#highpass (or lowpass) filter data. HP to remove gravity (offset - limb orientation) from accelerometer data from each visit (trial)\n",
    "def filter_signal(rawdata,cutoff=0.75,ftype='highpass',order=4):\n",
    "\n",
    "    t = rawdata.timestamp\n",
    "    t = t-t.iloc[0]\n",
    "    rawdata.timestamp = t\n",
    "    x = rawdata.iloc[:,1:].values\n",
    "    Fs = np.mean(1/(np.diff(rawdata.timestamp))) #sampling rate    \n",
    "    #filter design\n",
    "    cutoff_norm = cutoff/(0.5*Fs)\n",
    "    b,a = butter(order,cutoff_norm,btype=ftype,analog=False)\n",
    "    #filter data\n",
    "    xfilt = filtfilt(b,a,x,axis=0)\n",
    "    t = np.expand_dims(t,axis=1)\n",
    "    rawdatafilt = pd.DataFrame(data=np.hstack((t,xfilt)),columns=rawdata.columns)\n",
    "    return rawdatafilt\n"
   ]
  },
  {
   "cell_type": "markdown",
   "metadata": {},
   "source": [
    "### Test fcns"
   ]
  },
  {
   "cell_type": "code",
   "execution_count": 805,
   "metadata": {
    "collapsed": false
   },
   "outputs": [
    {
     "name": "stdout",
     "output_type": "stream",
     "text": [
      "dataFileHandleId                                              17286084\n",
      "device                                                          Pebble\n",
      "patient                                                         13_BOS\n",
      "session                                                              1\n",
      "site                                                            Boston\n",
      "task                                                             raml2\n",
      "visit                                                                1\n",
      "deviceSide                                                        Left\n",
      "tremorScore                                                          2\n",
      "dyskinesiaScore                                                    NaN\n",
      "bradykinesiaScore                                                    1\n",
      "path                 /Users/luca/Projects/DREAM_PD/Data/84/17286084...\n",
      "Name: 25838_22, dtype: object\n"
     ]
    },
    {
     "data": {
      "image/png": "[encoded data removed]",
      "text/plain": [
       "<matplotlib.figure.Figure at 0x120f5ecf8>"
      ]
     },
     "metadata": {},
     "output_type": "display_data"
    }
   ],
   "source": [
    "#plot task\n",
    "idx=11\n",
    "print(df_train.iloc[idx,:]) \n",
    "p1 = df_train.path[idx]\n",
    "rawdata = pd.read_csv(p1,sep='\\t')\n",
    "rawdata = filter_signal(rawdata,order=2)\n",
    "ax = rawdata.plot(x='timestamp')"
   ]
  },
  {
   "cell_type": "code",
   "execution_count": 749,
   "metadata": {
    "collapsed": false
   },
   "outputs": [
    {
     "data": {
      "image/png": "[encoded data removed]",
      "text/plain": [
       "<matplotlib.figure.Figure at 0x11ebc9c18>"
      ]
     },
     "metadata": {},
     "output_type": "display_data"
    }
   ],
   "source": [
    "Pxx,fl=powerspectra(rawdata,1,10,nbins=10)\n",
    "ax = Pxx.plot(subplots=True)"
   ]
  },
  {
   "cell_type": "code",
   "execution_count": 750,
   "metadata": {
    "collapsed": false,
    "scrolled": true
   },
   "outputs": [
    {
     "data": {
      "image/png": "[encoded data removed]",
      "text/plain": [
       "<matplotlib.figure.Figure at 0x12727cf98>"
      ]
     },
     "metadata": {},
     "output_type": "display_data"
    }
   ],
   "source": [
    "Pxx,fl=powerspectra(rawdata,1,10,nbins=50)\n",
    "ax = Pxx.plot(subplots=True)"
   ]
  },
  {
   "cell_type": "code",
   "execution_count": 792,
   "metadata": {
    "collapsed": false
   },
   "outputs": [
    {
     "data": {
      "text/plain": [
       "array([ 1.3])"
      ]
     },
     "execution_count": 792,
     "metadata": {},
     "output_type": "execute_result"
    }
   ],
   "source": [
    "domfreq = np.asarray([Pxx.iloc[:,-1].argmax()])\n",
    "domfreq"
   ]
  },
  {
   "cell_type": "code",
   "execution_count": 803,
   "metadata": {
    "collapsed": false
   },
   "outputs": [
    {
     "data": {
      "text/plain": [
       "array([ 0.47673788])"
      ]
     },
     "execution_count": 803,
     "metadata": {},
     "output_type": "execute_result"
    }
   ],
   "source": [
    "Pxx.loc[domfreq].iloc[:,-1].values/Pxx.iloc[:,-1].sum()"
   ]
  },
  {
   "cell_type": "markdown",
   "metadata": {},
   "source": [
    "## Compute features on all rows and time it"
   ]
  },
  {
   "cell_type": "markdown",
   "metadata": {},
   "source": [
    "#### Test on 1 row"
   ]
  },
  {
   "cell_type": "code",
   "execution_count": 806,
   "metadata": {
    "collapsed": false
   },
   "outputs": [],
   "source": [
    "F,flist = feature_extraction(rawdata)"
   ]
  },
  {
   "cell_type": "code",
   "execution_count": 807,
   "metadata": {
    "collapsed": false
   },
   "outputs": [
    {
     "data": {
      "text/plain": [
       "(1, 26)"
      ]
     },
     "execution_count": 807,
     "metadata": {},
     "output_type": "execute_result"
    }
   ],
   "source": [
    "F.shape"
   ]
  },
  {
   "cell_type": "code",
   "execution_count": 809,
   "metadata": {
    "collapsed": false,
    "scrolled": true
   },
   "outputs": [
    {
     "name": "stdout",
     "output_type": "stream",
     "text": [
      "0\n"
     ]
    },
    {
     "name": "stderr",
     "output_type": "stream",
     "text": [
      "/Users/luca/anaconda/envs/py35_pd20/lib/python3.5/site-packages/ipykernel/__main__.py:42: RuntimeWarning: Mean of empty slice\n"
     ]
    },
    {
     "name": "stdout",
     "output_type": "stream",
     "text": [
      "1000\n",
      "2000\n",
      "3000\n",
      "Elapsed Time:[s] 76.9\n",
      "Files w nans: 190\n",
      "Files w 0 non-nan rows 103\n"
     ]
    }
   ],
   "source": [
    "row = 0\n",
    "nans_found=0; n_empty=0\n",
    "Features = []\n",
    "t1 = time.time()\n",
    "# for f in df_train.path:\n",
    "for i in range(len(df_train)):\n",
    "\n",
    "    f = df_train.iloc[i,:].path\n",
    "    if row%1000==0:\n",
    "        print(row)\n",
    "    rawdata = pd.read_csv(f,sep='\\t') #load file\n",
    "   \n",
    "    #remove nans\n",
    "    rawdata = rawdata.astype('float64') #make sure everything is float\n",
    "    if sum(np.sum(rawdata.isnull())) > 0:\n",
    "        nans_found+=1 # of files w nans\n",
    "        rawdata = rawdata.dropna() #drop nans\n",
    "        \n",
    "    #compute features if at least one data point is there\n",
    "    if rawdata.empty != True:\n",
    "        #reindex timestamp data relative to start \n",
    "        t = rawdata.timestamp\n",
    "        t = t-t.iloc[0]\n",
    "        rawdata.timestamp = t\n",
    "\n",
    "        #HP filter data (remove gravity)\n",
    "        rawdata = filter_signal(rawdata,order=2)\n",
    "\n",
    "        #compute features on entire recording\n",
    "        try:\n",
    "            F,flist = feature_extraction(rawdata)\n",
    "            Features.append(F)\n",
    "        except(TypeError):\n",
    "            print('found incompatible datatype')\n",
    "    else:\n",
    "        F = np.empty((1,len(flist))) #empty array of features\n",
    "        F[:]=np.nan\n",
    "        Features.append(F)\n",
    "        n_empty+=1\n",
    "\n",
    "    row+=1\n",
    "        \n",
    "elapsed = time.time()-t1\n",
    "print('Elapsed Time:[s] %.1f'%elapsed)\n",
    "print('Files w nans: %d'%nans_found)\n",
    "print('Files w 0 non-nan rows %d'%n_empty)"
   ]
  },
  {
   "cell_type": "code",
   "execution_count": 810,
   "metadata": {
    "collapsed": false
   },
   "outputs": [
    {
     "name": "stdout",
     "output_type": "stream",
     "text": [
      "(3016, 26)\n"
     ]
    }
   ],
   "source": [
    "Features = np.asarray(Features)\n",
    "Features = Features.squeeze(axis=1)\n",
    "print(Features.shape)"
   ]
  },
  {
   "cell_type": "markdown",
   "metadata": {},
   "source": [
    "### append feature to df_train"
   ]
  },
  {
   "cell_type": "code",
   "execution_count": 811,
   "metadata": {
    "collapsed": false
   },
   "outputs": [],
   "source": [
    "df_feat = pd.DataFrame(data=Features,columns=flist,dtype='float64')\n",
    "df_feat.index = df_train.index\n",
    "df_train = pd.concat((df_train,df_feat),axis=1)"
   ]
  },
  {
   "cell_type": "code",
   "execution_count": 812,
   "metadata": {
    "collapsed": false
   },
   "outputs": [
    {
     "data": {
      "text/html": [
       "<div>\n",
       "<style>\n",
       "    .dataframe thead tr:only-child th {\n",
       "        text-align: right;\n",
       "    }\n",
       "\n",
       "    .dataframe thead th {\n",
       "        text-align: left;\n",
       "    }\n",
       "\n",
       "    .dataframe tbody tr th {\n",
       "        vertical-align: top;\n",
       "    }\n",
       "</style>\n",
       "<table border=\"1\" class=\"dataframe\">\n",
       "  <thead>\n",
       "    <tr style=\"text-align: right;\">\n",
       "      <th></th>\n",
       "      <th>dataFileHandleId</th>\n",
       "      <th>device</th>\n",
       "      <th>patient</th>\n",
       "      <th>session</th>\n",
       "      <th>site</th>\n",
       "      <th>task</th>\n",
       "      <th>visit</th>\n",
       "      <th>deviceSide</th>\n",
       "      <th>tremorScore</th>\n",
       "      <th>dyskinesiaScore</th>\n",
       "      <th>...</th>\n",
       "      <th>kurtY</th>\n",
       "      <th>kurtZ</th>\n",
       "      <th>xcor_peakXY</th>\n",
       "      <th>xcorr_peakXZ</th>\n",
       "      <th>xcorr_peakYZ</th>\n",
       "      <th>xcorr_lagXY</th>\n",
       "      <th>xcorr_lagXZ</th>\n",
       "      <th>xcorr_lagYZ</th>\n",
       "      <th>Dom_freq</th>\n",
       "      <th>Pdom_rel</th>\n",
       "    </tr>\n",
       "  </thead>\n",
       "  <tbody>\n",
       "    <tr>\n",
       "      <th>25819_22</th>\n",
       "      <td>17286028</td>\n",
       "      <td>GENEActiv</td>\n",
       "      <td>13_BOS</td>\n",
       "      <td>1</td>\n",
       "      <td>Boston</td>\n",
       "      <td>drnkg</td>\n",
       "      <td>1</td>\n",
       "      <td>Right</td>\n",
       "      <td>1</td>\n",
       "      <td>NaN</td>\n",
       "      <td>...</td>\n",
       "      <td>3.005594</td>\n",
       "      <td>37.937341</td>\n",
       "      <td>10.171132</td>\n",
       "      <td>30.574186</td>\n",
       "      <td>4.866523</td>\n",
       "      <td>0.487692</td>\n",
       "      <td>0.499487</td>\n",
       "      <td>0.499487</td>\n",
       "      <td>1.7</td>\n",
       "      <td>0.039560</td>\n",
       "    </tr>\n",
       "    <tr>\n",
       "      <th>25820_22</th>\n",
       "      <td>17286030</td>\n",
       "      <td>Pebble</td>\n",
       "      <td>13_BOS</td>\n",
       "      <td>1</td>\n",
       "      <td>Boston</td>\n",
       "      <td>drnkg</td>\n",
       "      <td>1</td>\n",
       "      <td>Left</td>\n",
       "      <td>1</td>\n",
       "      <td>NaN</td>\n",
       "      <td>...</td>\n",
       "      <td>3.009667</td>\n",
       "      <td>3.613391</td>\n",
       "      <td>1.335482</td>\n",
       "      <td>7.076296</td>\n",
       "      <td>1.686165</td>\n",
       "      <td>0.533846</td>\n",
       "      <td>0.493333</td>\n",
       "      <td>0.495897</td>\n",
       "      <td>1.4</td>\n",
       "      <td>0.122879</td>\n",
       "    </tr>\n",
       "    <tr>\n",
       "      <th>25821_22</th>\n",
       "      <td>17286034</td>\n",
       "      <td>GENEActiv</td>\n",
       "      <td>13_BOS</td>\n",
       "      <td>1</td>\n",
       "      <td>Boston</td>\n",
       "      <td>fldng</td>\n",
       "      <td>1</td>\n",
       "      <td>Right</td>\n",
       "      <td>2</td>\n",
       "      <td>NaN</td>\n",
       "      <td>...</td>\n",
       "      <td>15.285717</td>\n",
       "      <td>5.924917</td>\n",
       "      <td>1.450262</td>\n",
       "      <td>0.650105</td>\n",
       "      <td>7.815301</td>\n",
       "      <td>0.502745</td>\n",
       "      <td>0.502941</td>\n",
       "      <td>0.502157</td>\n",
       "      <td>2.3</td>\n",
       "      <td>0.048426</td>\n",
       "    </tr>\n",
       "    <tr>\n",
       "      <th>25822_22</th>\n",
       "      <td>17286036</td>\n",
       "      <td>Pebble</td>\n",
       "      <td>13_BOS</td>\n",
       "      <td>1</td>\n",
       "      <td>Boston</td>\n",
       "      <td>fldng</td>\n",
       "      <td>1</td>\n",
       "      <td>Left</td>\n",
       "      <td>1</td>\n",
       "      <td>NaN</td>\n",
       "      <td>...</td>\n",
       "      <td>4.032697</td>\n",
       "      <td>4.244208</td>\n",
       "      <td>1.415601</td>\n",
       "      <td>0.288619</td>\n",
       "      <td>6.536107</td>\n",
       "      <td>0.489020</td>\n",
       "      <td>0.497059</td>\n",
       "      <td>0.500196</td>\n",
       "      <td>1.5</td>\n",
       "      <td>0.095789</td>\n",
       "    </tr>\n",
       "    <tr>\n",
       "      <th>25824_22</th>\n",
       "      <td>17286042</td>\n",
       "      <td>Pebble</td>\n",
       "      <td>13_BOS</td>\n",
       "      <td>1</td>\n",
       "      <td>Boston</td>\n",
       "      <td>ftnl1</td>\n",
       "      <td>1</td>\n",
       "      <td>Left</td>\n",
       "      <td>2</td>\n",
       "      <td>NaN</td>\n",
       "      <td>...</td>\n",
       "      <td>0.859362</td>\n",
       "      <td>0.322129</td>\n",
       "      <td>0.195136</td>\n",
       "      <td>1.345204</td>\n",
       "      <td>0.497435</td>\n",
       "      <td>0.465556</td>\n",
       "      <td>0.472222</td>\n",
       "      <td>0.501111</td>\n",
       "      <td>1.7</td>\n",
       "      <td>0.406246</td>\n",
       "    </tr>\n",
       "  </tbody>\n",
       "</table>\n",
       "<p>5 rows × 38 columns</p>\n",
       "</div>"
      ],
      "text/plain": [
       "          dataFileHandleId     device patient  session    site   task  visit  \\\n",
       "25819_22          17286028  GENEActiv  13_BOS        1  Boston  drnkg      1   \n",
       "25820_22          17286030     Pebble  13_BOS        1  Boston  drnkg      1   \n",
       "25821_22          17286034  GENEActiv  13_BOS        1  Boston  fldng      1   \n",
       "25822_22          17286036     Pebble  13_BOS        1  Boston  fldng      1   \n",
       "25824_22          17286042     Pebble  13_BOS        1  Boston  ftnl1      1   \n",
       "\n",
       "         deviceSide  tremorScore  dyskinesiaScore    ...         kurtY  \\\n",
       "25819_22      Right            1              NaN    ...      3.005594   \n",
       "25820_22       Left            1              NaN    ...      3.009667   \n",
       "25821_22      Right            2              NaN    ...     15.285717   \n",
       "25822_22       Left            1              NaN    ...      4.032697   \n",
       "25824_22       Left            2              NaN    ...      0.859362   \n",
       "\n",
       "              kurtZ  xcor_peakXY  xcorr_peakXZ  xcorr_peakYZ  xcorr_lagXY  \\\n",
       "25819_22  37.937341    10.171132     30.574186      4.866523     0.487692   \n",
       "25820_22   3.613391     1.335482      7.076296      1.686165     0.533846   \n",
       "25821_22   5.924917     1.450262      0.650105      7.815301     0.502745   \n",
       "25822_22   4.244208     1.415601      0.288619      6.536107     0.489020   \n",
       "25824_22   0.322129     0.195136      1.345204      0.497435     0.465556   \n",
       "\n",
       "          xcorr_lagXZ  xcorr_lagYZ  Dom_freq  Pdom_rel  \n",
       "25819_22     0.499487     0.499487       1.7  0.039560  \n",
       "25820_22     0.493333     0.495897       1.4  0.122879  \n",
       "25821_22     0.502941     0.502157       2.3  0.048426  \n",
       "25822_22     0.497059     0.500196       1.5  0.095789  \n",
       "25824_22     0.472222     0.501111       1.7  0.406246  \n",
       "\n",
       "[5 rows x 38 columns]"
      ]
     },
     "execution_count": 812,
     "metadata": {},
     "output_type": "execute_result"
    }
   ],
   "source": [
    "df_train.head()"
   ]
  },
  {
   "cell_type": "markdown",
   "metadata": {},
   "source": [
    "### Test performance"
   ]
  },
  {
   "cell_type": "code",
   "execution_count": 824,
   "metadata": {
    "collapsed": false
   },
   "outputs": [],
   "source": [
    "X = pd.concat((X_meta,df_train.iloc[:,12:]),axis=1)"
   ]
  },
  {
   "cell_type": "code",
   "execution_count": 826,
   "metadata": {
    "collapsed": false
   },
   "outputs": [
    {
     "data": {
      "text/html": [
       "<div>\n",
       "<style>\n",
       "    .dataframe thead tr:only-child th {\n",
       "        text-align: right;\n",
       "    }\n",
       "\n",
       "    .dataframe thead th {\n",
       "        text-align: left;\n",
       "    }\n",
       "\n",
       "    .dataframe tbody tr th {\n",
       "        vertical-align: top;\n",
       "    }\n",
       "</style>\n",
       "<table border=\"1\" class=\"dataframe\">\n",
       "  <thead>\n",
       "    <tr style=\"text-align: right;\">\n",
       "      <th></th>\n",
       "      <th>dataFileHandleId</th>\n",
       "      <th>device</th>\n",
       "      <th>patient</th>\n",
       "      <th>session</th>\n",
       "      <th>site</th>\n",
       "      <th>task</th>\n",
       "      <th>visit</th>\n",
       "      <th>deviceSide</th>\n",
       "      <th>EX</th>\n",
       "      <th>EY</th>\n",
       "      <th>...</th>\n",
       "      <th>kurtY</th>\n",
       "      <th>kurtZ</th>\n",
       "      <th>xcor_peakXY</th>\n",
       "      <th>xcorr_peakXZ</th>\n",
       "      <th>xcorr_peakYZ</th>\n",
       "      <th>xcorr_lagXY</th>\n",
       "      <th>xcorr_lagXZ</th>\n",
       "      <th>xcorr_lagYZ</th>\n",
       "      <th>Dom_freq</th>\n",
       "      <th>Pdom_rel</th>\n",
       "    </tr>\n",
       "  </thead>\n",
       "  <tbody>\n",
       "    <tr>\n",
       "      <th>25819_22</th>\n",
       "      <td>17286028</td>\n",
       "      <td>0</td>\n",
       "      <td>2</td>\n",
       "      <td>1</td>\n",
       "      <td>0</td>\n",
       "      <td>0</td>\n",
       "      <td>1</td>\n",
       "      <td>1</td>\n",
       "      <td>261.944772</td>\n",
       "      <td>66.357233</td>\n",
       "      <td>...</td>\n",
       "      <td>3.005594</td>\n",
       "      <td>37.937341</td>\n",
       "      <td>10.171132</td>\n",
       "      <td>30.574186</td>\n",
       "      <td>4.866523</td>\n",
       "      <td>0.487692</td>\n",
       "      <td>0.499487</td>\n",
       "      <td>0.499487</td>\n",
       "      <td>1.7</td>\n",
       "      <td>0.039560</td>\n",
       "    </tr>\n",
       "    <tr>\n",
       "      <th>25820_22</th>\n",
       "      <td>17286030</td>\n",
       "      <td>1</td>\n",
       "      <td>2</td>\n",
       "      <td>1</td>\n",
       "      <td>0</td>\n",
       "      <td>0</td>\n",
       "      <td>1</td>\n",
       "      <td>0</td>\n",
       "      <td>1140.053894</td>\n",
       "      <td>2079.908881</td>\n",
       "      <td>...</td>\n",
       "      <td>3.009667</td>\n",
       "      <td>3.613391</td>\n",
       "      <td>1.335482</td>\n",
       "      <td>7.076296</td>\n",
       "      <td>1.686165</td>\n",
       "      <td>0.533846</td>\n",
       "      <td>0.493333</td>\n",
       "      <td>0.495897</td>\n",
       "      <td>1.4</td>\n",
       "      <td>0.122879</td>\n",
       "    </tr>\n",
       "    <tr>\n",
       "      <th>25821_22</th>\n",
       "      <td>17286034</td>\n",
       "      <td>0</td>\n",
       "      <td>2</td>\n",
       "      <td>1</td>\n",
       "      <td>0</td>\n",
       "      <td>1</td>\n",
       "      <td>1</td>\n",
       "      <td>1</td>\n",
       "      <td>2710.009059</td>\n",
       "      <td>2203.722703</td>\n",
       "      <td>...</td>\n",
       "      <td>15.285717</td>\n",
       "      <td>5.924917</td>\n",
       "      <td>1.450262</td>\n",
       "      <td>0.650105</td>\n",
       "      <td>7.815301</td>\n",
       "      <td>0.502745</td>\n",
       "      <td>0.502941</td>\n",
       "      <td>0.502157</td>\n",
       "      <td>2.3</td>\n",
       "      <td>0.048426</td>\n",
       "    </tr>\n",
       "  </tbody>\n",
       "</table>\n",
       "<p>3 rows × 34 columns</p>\n",
       "</div>"
      ],
      "text/plain": [
       "          dataFileHandleId  device  patient  session  site  task  visit  \\\n",
       "25819_22          17286028       0        2        1     0     0      1   \n",
       "25820_22          17286030       1        2        1     0     0      1   \n",
       "25821_22          17286034       0        2        1     0     1      1   \n",
       "\n",
       "          deviceSide           EX           EY    ...         kurtY  \\\n",
       "25819_22           1   261.944772    66.357233    ...      3.005594   \n",
       "25820_22           0  1140.053894  2079.908881    ...      3.009667   \n",
       "25821_22           1  2710.009059  2203.722703    ...     15.285717   \n",
       "\n",
       "              kurtZ  xcor_peakXY  xcorr_peakXZ  xcorr_peakYZ  xcorr_lagXY  \\\n",
       "25819_22  37.937341    10.171132     30.574186      4.866523     0.487692   \n",
       "25820_22   3.613391     1.335482      7.076296      1.686165     0.533846   \n",
       "25821_22   5.924917     1.450262      0.650105      7.815301     0.502745   \n",
       "\n",
       "          xcorr_lagXZ  xcorr_lagYZ  Dom_freq  Pdom_rel  \n",
       "25819_22     0.499487     0.499487       1.7  0.039560  \n",
       "25820_22     0.493333     0.495897       1.4  0.122879  \n",
       "25821_22     0.502941     0.502157       2.3  0.048426  \n",
       "\n",
       "[3 rows x 34 columns]"
      ]
     },
     "execution_count": 826,
     "metadata": {},
     "output_type": "execute_result"
    }
   ],
   "source": [
    "X.head(3)"
   ]
  },
  {
   "cell_type": "code",
   "execution_count": 825,
   "metadata": {
    "collapsed": false
   },
   "outputs": [
    {
     "data": {
      "text/plain": [
       "(3016, 34)"
      ]
     },
     "execution_count": 825,
     "metadata": {},
     "output_type": "execute_result"
    }
   ],
   "source": [
    "X.shape"
   ]
  },
  {
   "cell_type": "code",
   "execution_count": 837,
   "metadata": {
    "collapsed": false
   },
   "outputs": [],
   "source": [
    "X=X.dropna()"
   ]
  },
  {
   "cell_type": "code",
   "execution_count": 838,
   "metadata": {
    "collapsed": false
   },
   "outputs": [],
   "source": [
    "X.to_csv('Submission1.csv',index=False)"
   ]
  },
  {
   "cell_type": "code",
   "execution_count": 839,
   "metadata": {
    "collapsed": false,
    "scrolled": false
   },
   "outputs": [
    {
     "name": "stdout",
     "output_type": "stream",
     "text": [
      "Welcome, Luca Lonini!\n",
      "\n",
      "AUPRC: [0.97364174575430207, 0.089678074162617305, 0.98317435444612755, 0.96224627164914089, 0.88201793500057923, 0.98801569100988673, 0.98211388924264609, 0.88953980994775783, 0.25791072640894114, 0.97517051290602819, 0.1991493959703724, 0.25319256343243618, 0.1226020944027876, 0.87344057456019064, 0.081323576865198643, 0.32600614174539366, 0.97264982019855961, 0.018294362613575386, 0.98691666286667235]\n"
     ]
    }
   ],
   "source": [
    "%run sc2FitModels_LOSOCV.py 'bradykinesia' Submission1.csv"
   ]
  },
  {
   "cell_type": "code",
   "execution_count": 840,
   "metadata": {
    "collapsed": false
   },
   "outputs": [
    {
     "name": "stdout",
     "output_type": "stream",
     "text": [
      "Welcome, Luca Lonini!\n",
      "\n",
      "AUPRC: [0.96418540805444453, 0.14027760685472601, 0.93497830075740962, 0.95911290159512474, 0.88405791313831983, 0.99019019019019017, 0.99118165784832446, 0.95310487912775166, 0.53794863427354733, 0.98894009216589862, 0.3443364414391421, 0.43842766253874399, 0.20572814485384885, 0.90425993036445451, 0.81553996598639455, 0.48223919859596359, 0.97285450032294607, 0.23109434865900383, 0.98636489479512734]\n"
     ]
    }
   ],
   "source": [
    "%run sc2FitModels_LOSOCV.py 'bradykinesia' DummySubmission.csv"
   ]
  },
  {
   "cell_type": "code",
   "execution_count": 875,
   "metadata": {
    "collapsed": false
   },
   "outputs": [],
   "source": [
    "coldrop=list(X.columns)[1:8]\n",
    "coldrop.remove('patient')"
   ]
  },
  {
   "cell_type": "code",
   "execution_count": 877,
   "metadata": {
    "collapsed": false
   },
   "outputs": [],
   "source": [
    "X_featonly=X.drop(coldrop,axis=1)"
   ]
  },
  {
   "cell_type": "code",
   "execution_count": 878,
   "metadata": {
    "collapsed": true
   },
   "outputs": [],
   "source": [
    "X_featonly.to_csv('Featonly.csv',index=False)"
   ]
  },
  {
   "cell_type": "code",
   "execution_count": 879,
   "metadata": {
    "collapsed": false
   },
   "outputs": [
    {
     "name": "stdout",
     "output_type": "stream",
     "text": [
      "Welcome, Luca Lonini!\n",
      "\n",
      "AUPRC: [0.92813597493628708, 0.10489913015856153, 0.93836956015802164, 0.95887173606110998, 0.79884693703799836, 0.95417932750479961, 0.87578096294956786, 0.51731107929267139, 0.16323291374897519, 0.89098782593317161, 0.1532074956641859, 0.19316931567203727, 0.093671750656162539, 0.81906306768680603, 0.060397277662888209, 0.35731165553082878, 0.96290579105755925, 0.01161578417073357, 0.97793564316195969]\n"
     ]
    }
   ],
   "source": [
    "%run sc2FitModels_LOSOCV.py 'bradykinesia' Featonly.csv"
   ]
  },
  {
   "cell_type": "markdown",
   "metadata": {},
   "source": [
    "** Feature computation time on 1 clip **"
   ]
  },
  {
   "cell_type": "code",
   "execution_count": 323,
   "metadata": {
    "collapsed": false
   },
   "outputs": [
    {
     "name": "stdout",
     "output_type": "stream",
     "text": [
      "0.003940105438232422\n",
      "0.009171009063720703\n"
     ]
    }
   ],
   "source": [
    "t1 = time.time()\n",
    "rawdata = pd.read_csv(f,sep='\\t')\n",
    "print(time.time()-t1)\n",
    "t1 = time.time()\n",
    "F,flist = feature_extraction(rawdata)\n",
    "print(time.time()-t1)\n"
   ]
  },
  {
   "cell_type": "markdown",
   "metadata": {},
   "source": [
    "# Extract data for Tremor"
   ]
  },
  {
   "cell_type": "code",
   "execution_count": 38,
   "metadata": {
    "collapsed": true
   },
   "outputs": [],
   "source": [
    "q_tremor = syn.tableQuery(\"SELECT * from syn10495809 where tremorScore is not null\")"
   ]
  },
  {
   "cell_type": "code",
   "execution_count": 39,
   "metadata": {
    "collapsed": true
   },
   "outputs": [],
   "source": [
    "Train_tremor = q_tremor.asDataFrame()"
   ]
  },
  {
   "cell_type": "code",
   "execution_count": 40,
   "metadata": {
    "collapsed": false
   },
   "outputs": [
    {
     "data": {
      "text/html": [
       "<div>\n",
       "<style>\n",
       "    .dataframe thead tr:only-child th {\n",
       "        text-align: right;\n",
       "    }\n",
       "\n",
       "    .dataframe thead th {\n",
       "        text-align: left;\n",
       "    }\n",
       "\n",
       "    .dataframe tbody tr th {\n",
       "        vertical-align: top;\n",
       "    }\n",
       "</style>\n",
       "<table border=\"1\" class=\"dataframe\">\n",
       "  <thead>\n",
       "    <tr style=\"text-align: right;\">\n",
       "      <th></th>\n",
       "      <th>dataFileHandleId</th>\n",
       "      <th>device</th>\n",
       "      <th>patient</th>\n",
       "      <th>session</th>\n",
       "      <th>site</th>\n",
       "      <th>task</th>\n",
       "      <th>visit</th>\n",
       "      <th>deviceSide</th>\n",
       "      <th>tremorScore</th>\n",
       "      <th>dyskinesiaScore</th>\n",
       "      <th>bradykinesiaScore</th>\n",
       "    </tr>\n",
       "  </thead>\n",
       "  <tbody>\n",
       "    <tr>\n",
       "      <th>25819_22</th>\n",
       "      <td>17286028</td>\n",
       "      <td>GENEActiv</td>\n",
       "      <td>13_BOS</td>\n",
       "      <td>1</td>\n",
       "      <td>Boston</td>\n",
       "      <td>drnkg</td>\n",
       "      <td>1</td>\n",
       "      <td>Right</td>\n",
       "      <td>1</td>\n",
       "      <td>NaN</td>\n",
       "      <td>1.0</td>\n",
       "    </tr>\n",
       "    <tr>\n",
       "      <th>25820_22</th>\n",
       "      <td>17286030</td>\n",
       "      <td>Pebble</td>\n",
       "      <td>13_BOS</td>\n",
       "      <td>1</td>\n",
       "      <td>Boston</td>\n",
       "      <td>drnkg</td>\n",
       "      <td>1</td>\n",
       "      <td>Left</td>\n",
       "      <td>1</td>\n",
       "      <td>NaN</td>\n",
       "      <td>1.0</td>\n",
       "    </tr>\n",
       "    <tr>\n",
       "      <th>25821_22</th>\n",
       "      <td>17286034</td>\n",
       "      <td>GENEActiv</td>\n",
       "      <td>13_BOS</td>\n",
       "      <td>1</td>\n",
       "      <td>Boston</td>\n",
       "      <td>fldng</td>\n",
       "      <td>1</td>\n",
       "      <td>Right</td>\n",
       "      <td>2</td>\n",
       "      <td>NaN</td>\n",
       "      <td>1.0</td>\n",
       "    </tr>\n",
       "    <tr>\n",
       "      <th>25822_22</th>\n",
       "      <td>17286036</td>\n",
       "      <td>Pebble</td>\n",
       "      <td>13_BOS</td>\n",
       "      <td>1</td>\n",
       "      <td>Boston</td>\n",
       "      <td>fldng</td>\n",
       "      <td>1</td>\n",
       "      <td>Left</td>\n",
       "      <td>1</td>\n",
       "      <td>NaN</td>\n",
       "      <td>1.0</td>\n",
       "    </tr>\n",
       "    <tr>\n",
       "      <th>25824_22</th>\n",
       "      <td>17286042</td>\n",
       "      <td>Pebble</td>\n",
       "      <td>13_BOS</td>\n",
       "      <td>1</td>\n",
       "      <td>Boston</td>\n",
       "      <td>ftnl1</td>\n",
       "      <td>1</td>\n",
       "      <td>Left</td>\n",
       "      <td>2</td>\n",
       "      <td>NaN</td>\n",
       "      <td>1.0</td>\n",
       "    </tr>\n",
       "  </tbody>\n",
       "</table>\n",
       "</div>"
      ],
      "text/plain": [
       "          dataFileHandleId     device patient  session    site   task  visit  \\\n",
       "25819_22          17286028  GENEActiv  13_BOS        1  Boston  drnkg      1   \n",
       "25820_22          17286030     Pebble  13_BOS        1  Boston  drnkg      1   \n",
       "25821_22          17286034  GENEActiv  13_BOS        1  Boston  fldng      1   \n",
       "25822_22          17286036     Pebble  13_BOS        1  Boston  fldng      1   \n",
       "25824_22          17286042     Pebble  13_BOS        1  Boston  ftnl1      1   \n",
       "\n",
       "         deviceSide  tremorScore  dyskinesiaScore  bradykinesiaScore  \n",
       "25819_22      Right            1              NaN                1.0  \n",
       "25820_22       Left            1              NaN                1.0  \n",
       "25821_22      Right            2              NaN                1.0  \n",
       "25822_22       Left            1              NaN                1.0  \n",
       "25824_22       Left            2              NaN                1.0  "
      ]
     },
     "execution_count": 40,
     "metadata": {},
     "output_type": "execute_result"
    }
   ],
   "source": [
    "Train_tremor.head()"
   ]
  },
  {
   "cell_type": "code",
   "execution_count": 56,
   "metadata": {
    "collapsed": false
   },
   "outputs": [],
   "source": [
    "data = {}\n",
    "for file_handle_id, path in paths_train.items():\n",
    "        with open(path) as f:\n",
    "            data[file_handle_id] = f.read()"
   ]
  },
  {
   "cell_type": "code",
   "execution_count": 4,
   "metadata": {
    "collapsed": false
   },
   "outputs": [
    {
     "name": "stdout",
     "output_type": "stream",
     "text": [
      "Downloading 100 files, 0 cached locally\n"
     ]
    }
   ],
   "source": [
    "# q = syn.tableQuery(\"SELECT * from syn10495809 where tremorScore > 3\")\n",
    "q = syn.tableQuery(\"SELECT * from syn10495809 LIMIT 100\")\n",
    "paths_train = syn.downloadTableColumns(q,'dataFileHandleId')"
   ]
  },
  {
   "cell_type": "code",
   "execution_count": 5,
   "metadata": {
    "collapsed": false
   },
   "outputs": [],
   "source": [
    "df_train = q.asDataFrame()\n",
    "df_train['path']=df_train.dataFileHandleId.astype(str).map(paths_train)"
   ]
  },
  {
   "cell_type": "code",
   "execution_count": 6,
   "metadata": {
    "collapsed": false
   },
   "outputs": [
    {
     "data": {
      "text/html": [
       "<div>\n",
       "<style>\n",
       "    .dataframe thead tr:only-child th {\n",
       "        text-align: right;\n",
       "    }\n",
       "\n",
       "    .dataframe thead th {\n",
       "        text-align: left;\n",
       "    }\n",
       "\n",
       "    .dataframe tbody tr th {\n",
       "        vertical-align: top;\n",
       "    }\n",
       "</style>\n",
       "<table border=\"1\" class=\"dataframe\">\n",
       "  <thead>\n",
       "    <tr style=\"text-align: right;\">\n",
       "      <th></th>\n",
       "      <th>dataFileHandleId</th>\n",
       "      <th>device</th>\n",
       "      <th>patient</th>\n",
       "      <th>session</th>\n",
       "      <th>site</th>\n",
       "      <th>task</th>\n",
       "      <th>visit</th>\n",
       "      <th>deviceSide</th>\n",
       "      <th>tremorScore</th>\n",
       "      <th>dyskinesiaScore</th>\n",
       "      <th>bradykinesiaScore</th>\n",
       "      <th>path</th>\n",
       "    </tr>\n",
       "  </thead>\n",
       "  <tbody>\n",
       "    <tr>\n",
       "      <th>25819_22</th>\n",
       "      <td>17286028</td>\n",
       "      <td>GENEActiv</td>\n",
       "      <td>13_BOS</td>\n",
       "      <td>1</td>\n",
       "      <td>Boston</td>\n",
       "      <td>drnkg</td>\n",
       "      <td>1</td>\n",
       "      <td>Right</td>\n",
       "      <td>1.0</td>\n",
       "      <td>NaN</td>\n",
       "      <td>1.0</td>\n",
       "      <td>Data/28/17286028/drnkg_GENEActiv.tsv</td>\n",
       "    </tr>\n",
       "    <tr>\n",
       "      <th>25820_22</th>\n",
       "      <td>17286030</td>\n",
       "      <td>Pebble</td>\n",
       "      <td>13_BOS</td>\n",
       "      <td>1</td>\n",
       "      <td>Boston</td>\n",
       "      <td>drnkg</td>\n",
       "      <td>1</td>\n",
       "      <td>Left</td>\n",
       "      <td>1.0</td>\n",
       "      <td>NaN</td>\n",
       "      <td>1.0</td>\n",
       "      <td>Data/30/17286030/drnkg_Pebble.tsv</td>\n",
       "    </tr>\n",
       "    <tr>\n",
       "      <th>25821_22</th>\n",
       "      <td>17286034</td>\n",
       "      <td>GENEActiv</td>\n",
       "      <td>13_BOS</td>\n",
       "      <td>1</td>\n",
       "      <td>Boston</td>\n",
       "      <td>fldng</td>\n",
       "      <td>1</td>\n",
       "      <td>Right</td>\n",
       "      <td>2.0</td>\n",
       "      <td>NaN</td>\n",
       "      <td>1.0</td>\n",
       "      <td>Data/34/17286034/fldng_GENEActiv.tsv</td>\n",
       "    </tr>\n",
       "    <tr>\n",
       "      <th>25822_22</th>\n",
       "      <td>17286036</td>\n",
       "      <td>Pebble</td>\n",
       "      <td>13_BOS</td>\n",
       "      <td>1</td>\n",
       "      <td>Boston</td>\n",
       "      <td>fldng</td>\n",
       "      <td>1</td>\n",
       "      <td>Left</td>\n",
       "      <td>1.0</td>\n",
       "      <td>NaN</td>\n",
       "      <td>1.0</td>\n",
       "      <td>Data/36/17286036/fldng_Pebble.tsv</td>\n",
       "    </tr>\n",
       "    <tr>\n",
       "      <th>25823_22</th>\n",
       "      <td>17286039</td>\n",
       "      <td>GENEActiv</td>\n",
       "      <td>13_BOS</td>\n",
       "      <td>1</td>\n",
       "      <td>Boston</td>\n",
       "      <td>ftnl1</td>\n",
       "      <td>1</td>\n",
       "      <td>Right</td>\n",
       "      <td>NaN</td>\n",
       "      <td>0.0</td>\n",
       "      <td>NaN</td>\n",
       "      <td>Data/39/17286039/ftnl1_GENEActiv.tsv</td>\n",
       "    </tr>\n",
       "  </tbody>\n",
       "</table>\n",
       "</div>"
      ],
      "text/plain": [
       "          dataFileHandleId     device patient  session    site   task  visit  \\\n",
       "25819_22          17286028  GENEActiv  13_BOS        1  Boston  drnkg      1   \n",
       "25820_22          17286030     Pebble  13_BOS        1  Boston  drnkg      1   \n",
       "25821_22          17286034  GENEActiv  13_BOS        1  Boston  fldng      1   \n",
       "25822_22          17286036     Pebble  13_BOS        1  Boston  fldng      1   \n",
       "25823_22          17286039  GENEActiv  13_BOS        1  Boston  ftnl1      1   \n",
       "\n",
       "         deviceSide  tremorScore  dyskinesiaScore  bradykinesiaScore  \\\n",
       "25819_22      Right          1.0              NaN                1.0   \n",
       "25820_22       Left          1.0              NaN                1.0   \n",
       "25821_22      Right          2.0              NaN                1.0   \n",
       "25822_22       Left          1.0              NaN                1.0   \n",
       "25823_22      Right          NaN              0.0                NaN   \n",
       "\n",
       "                                          path  \n",
       "25819_22  Data/28/17286028/drnkg_GENEActiv.tsv  \n",
       "25820_22     Data/30/17286030/drnkg_Pebble.tsv  \n",
       "25821_22  Data/34/17286034/fldng_GENEActiv.tsv  \n",
       "25822_22     Data/36/17286036/fldng_Pebble.tsv  \n",
       "25823_22  Data/39/17286039/ftnl1_GENEActiv.tsv  "
      ]
     },
     "execution_count": 6,
     "metadata": {},
     "output_type": "execute_result"
    }
   ],
   "source": [
    "df_train.head()"
   ]
  },
  {
   "cell_type": "code",
   "execution_count": null,
   "metadata": {
    "collapsed": true
   },
   "outputs": [],
   "source": []
  },
  {
   "cell_type": "code",
   "execution_count": 15,
   "metadata": {
    "collapsed": false
   },
   "outputs": [],
   "source": [
    "p1 = df_train.path[0]"
   ]
  },
  {
   "cell_type": "code",
   "execution_count": 20,
   "metadata": {
    "collapsed": false
   },
   "outputs": [],
   "source": [
    "rawdata = pd.read_csv(p1,sep='\\t')"
   ]
  },
  {
   "cell_type": "code",
   "execution_count": 24,
   "metadata": {
    "collapsed": false
   },
   "outputs": [
    {
     "data": {
      "text/plain": [
       "<matplotlib.axes._subplots.AxesSubplot at 0x104539ba8>"
      ]
     },
     "execution_count": 24,
     "metadata": {},
     "output_type": "execute_result"
    },
    {
     "data": {
      "image/png": "[encoded data removed]",
      "text/plain": [
       "<matplotlib.figure.Figure at 0x110a2b080>"
      ]
     },
     "metadata": {},
     "output_type": "display_data"
    }
   ],
   "source": [
    "rawdata.iloc[:,1:4].plot()"
   ]
  },
  {
   "cell_type": "code",
   "execution_count": 25,
   "metadata": {
    "collapsed": false
   },
   "outputs": [
    {
     "data": {
      "text/html": [
       "<div>\n",
       "<style>\n",
       "    .dataframe thead tr:only-child th {\n",
       "        text-align: right;\n",
       "    }\n",
       "\n",
       "    .dataframe thead th {\n",
       "        text-align: left;\n",
       "    }\n",
       "\n",
       "    .dataframe tbody tr th {\n",
       "        vertical-align: top;\n",
       "    }\n",
       "</style>\n",
       "<table border=\"1\" class=\"dataframe\">\n",
       "  <thead>\n",
       "    <tr style=\"text-align: right;\">\n",
       "      <th></th>\n",
       "      <th>timestamp</th>\n",
       "      <th>GENEActiv_X</th>\n",
       "      <th>GENEActiv_Y</th>\n",
       "      <th>GENEActiv_Z</th>\n",
       "      <th>GENEActiv_Magnitude</th>\n",
       "    </tr>\n",
       "  </thead>\n",
       "  <tbody>\n",
       "    <tr>\n",
       "      <th>0</th>\n",
       "      <td>1.434973e+09</td>\n",
       "      <td>-7.51189</td>\n",
       "      <td>-3.56766</td>\n",
       "      <td>-4.28453</td>\n",
       "      <td>9.35489</td>\n",
       "    </tr>\n",
       "    <tr>\n",
       "      <th>1</th>\n",
       "      <td>1.434973e+09</td>\n",
       "      <td>-7.55112</td>\n",
       "      <td>-3.95894</td>\n",
       "      <td>-4.05407</td>\n",
       "      <td>9.44077</td>\n",
       "    </tr>\n",
       "    <tr>\n",
       "      <th>2</th>\n",
       "      <td>1.434973e+09</td>\n",
       "      <td>-7.86689</td>\n",
       "      <td>-4.15409</td>\n",
       "      <td>-3.78537</td>\n",
       "      <td>9.66817</td>\n",
       "    </tr>\n",
       "    <tr>\n",
       "      <th>3</th>\n",
       "      <td>1.434973e+09</td>\n",
       "      <td>-7.86690</td>\n",
       "      <td>-4.27178</td>\n",
       "      <td>-4.13055</td>\n",
       "      <td>9.85889</td>\n",
       "    </tr>\n",
       "    <tr>\n",
       "      <th>4</th>\n",
       "      <td>1.434973e+09</td>\n",
       "      <td>-7.90612</td>\n",
       "      <td>-3.88050</td>\n",
       "      <td>-4.36101</td>\n",
       "      <td>9.82769</td>\n",
       "    </tr>\n",
       "  </tbody>\n",
       "</table>\n",
       "</div>"
      ],
      "text/plain": [
       "      timestamp  GENEActiv_X  GENEActiv_Y  GENEActiv_Z  GENEActiv_Magnitude\n",
       "0  1.434973e+09     -7.51189     -3.56766     -4.28453              9.35489\n",
       "1  1.434973e+09     -7.55112     -3.95894     -4.05407              9.44077\n",
       "2  1.434973e+09     -7.86689     -4.15409     -3.78537              9.66817\n",
       "3  1.434973e+09     -7.86690     -4.27178     -4.13055              9.85889\n",
       "4  1.434973e+09     -7.90612     -3.88050     -4.36101              9.82769"
      ]
     },
     "execution_count": 25,
     "metadata": {},
     "output_type": "execute_result"
    }
   ],
   "source": [
    "rawdata.head()"
   ]
  },
  {
   "cell_type": "code",
   "execution_count": null,
   "metadata": {
    "collapsed": true
   },
   "outputs": [],
   "source": []
  }
 ],
 "metadata": {
  "anaconda-cloud": {},
  "kernelspec": {
   "display_name": "Python [conda env:py35_pd20]",
   "language": "python",
   "name": "conda-env-py35_pd20-py"
  },
  "language_info": {
   "codemirror_mode": {
    "name": "ipython",
    "version": 3
   },
   "file_extension": ".py",
   "mimetype": "text/x-python",
   "name": "python",
   "nbconvert_exporter": "python",
   "pygments_lexer": "ipython3",
   "version": "3.5.2"
  }
 },
 "nbformat": 4,
 "nbformat_minor": 1
}
