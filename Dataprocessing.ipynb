{
 "cells": [
  {
   "cell_type": "markdown",
   "metadata": {},
   "source": [
    "# Data extraction and processing\n",
    "see here for API tutorial on selecting data\n",
    "http://docs.synapse.org/rest/org/sagebionetworks/repo/web/controller/TableExamples.html"
   ]
  },
  {
   "cell_type": "code",
   "execution_count": 2,
   "metadata": {
    "collapsed": false
   },
   "outputs": [],
   "source": [
    "# # %load sc2FitModels.py"
   ]
  },
  {
   "cell_type": "code",
   "execution_count": 404,
   "metadata": {
    "collapsed": true
   },
   "outputs": [],
   "source": [
    "import pandas as pd\n",
    "import json\n",
    "import numpy as np\n",
    "import pickle #to save files\n",
    "from scipy.stats import skew, kurtosis, pearsonr\n",
    "from scipy.signal import butter, welch, filtfilt\n",
    "from sklearn.preprocessing import StandardScaler\n",
    "from sklearn.model_selection import LeaveOneGroupOut\n",
    "import xgboost as xgb\n",
    "from xgboost.sklearn import XGBClassifier #this is the SKlearn wrapper\n",
    "import nolds\n",
    "import time\n",
    "import matplotlib.pyplot as plt\n",
    "import seaborn as sns\n",
    "%matplotlib inline"
   ]
  },
  {
   "cell_type": "code",
   "execution_count": 2,
   "metadata": {
    "collapsed": true
   },
   "outputs": [],
   "source": [
    "from IPython.core.debugger import Tracer"
   ]
  },
  {
   "cell_type": "code",
   "execution_count": 3,
   "metadata": {
    "collapsed": false
   },
   "outputs": [],
   "source": [
    "import synapseclient"
   ]
  },
  {
   "cell_type": "code",
   "execution_count": 4,
   "metadata": {
    "collapsed": false,
    "scrolled": true
   },
   "outputs": [
    {
     "name": "stdout",
     "output_type": "stream",
     "text": [
      "Welcome, Luca Lonini!\n",
      "\n"
     ]
    }
   ],
   "source": [
    "syn=synapseclient.login()"
   ]
  },
  {
   "cell_type": "markdown",
   "metadata": {},
   "source": [
    "### Helper fcns - Feature extraction and clip generation"
   ]
  },
  {
   "cell_type": "code",
   "execution_count": 358,
   "metadata": {
    "collapsed": false
   },
   "outputs": [],
   "source": [
    "#feature extraction\n",
    "#INPUT: raw x,y,z accelerometer data (dataframe)\n",
    "def feature_extraction(rawdata):\n",
    "    \n",
    "    #drop time and magnitude feature\n",
    "    rawdata_wtime = rawdata.copy()\n",
    "    rawdata=rawdata.iloc[:,1:4]\n",
    "    \n",
    "    features_list = ['EX','EY','EZ','rangeX','rangeY','rangeZ','meanX','meanY','meanZ','varX','varY','varZ',\n",
    "                    'skewX','skewY','skewZ','kurtX','kurtY','kurtZ','xcor_peakXY','xcorr_peakXZ','xcorr_peakYZ',\n",
    "                    'xcorr_lagXY','xcorr_lagXZ','xcorr_lagYZ','Dom_freq','Pdom_rel','PSD_mean','PSD_std','PSD_skew',\n",
    "                    'PSD_kur','jerk_mean','jerk_std','jerk_skew','jerk_kur']\n",
    "    \n",
    "\n",
    "    #cycle through all clips for current trial and save dataframe of features for current trial and sensor\n",
    "    features = []\n",
    "\n",
    "    #extract features on current clip\n",
    "\n",
    "    #Energy of signal on each axis\n",
    "    E = np.asarray(np.sum(rawdata**2,axis=0))\n",
    "\n",
    "    #range on each axis\n",
    "    min_xyz = np.min(rawdata,axis=0)\n",
    "    max_xyz = np.max(rawdata,axis=0)\n",
    "    r = np.asarray(max_xyz-min_xyz)\n",
    "\n",
    "    #Moments on each axis\n",
    "    mean = np.asarray(np.mean(rawdata,axis=0))\n",
    "    var = np.asarray(np.std(rawdata,axis=0))\n",
    "    sk = skew(rawdata)\n",
    "    kurt = kurtosis(rawdata)\n",
    "\n",
    "    #Cross-correlation between axes pairs\n",
    "    xcorr_xy = np.correlate(rawdata.iloc[:,0],rawdata.iloc[:,1],mode='same')\n",
    "    xcorr_xy = xcorr_xy/np.sum(xcorr_xy) #normalize values\n",
    "    xcorr_peak_xy = np.max(xcorr_xy)\n",
    "    xcorr_lag_xy = (np.argmax(xcorr_xy))/len(xcorr_xy) #normalized lag\n",
    "\n",
    "    xcorr_xz = np.correlate(rawdata.iloc[:,0],rawdata.iloc[:,2],mode='same')\n",
    "    xcorr_xz = xcorr_xz/np.sum(xcorr_xz) #normalize values\n",
    "    xcorr_peak_xz = np.max(xcorr_xz)\n",
    "    xcorr_lag_xz = (np.argmax(xcorr_xz))/len(xcorr_xz)\n",
    "\n",
    "    xcorr_yz = np.correlate(rawdata.iloc[:,1],rawdata.iloc[:,2],mode='same')\n",
    "    xcorr_yz = xcorr_yz/np.sum(xcorr_yz) #normalize values\n",
    "    xcorr_peak_yz = np.max(xcorr_yz)\n",
    "    xcorr_lag_yz = (np.argmax(xcorr_yz))/len(xcorr_yz)\n",
    "\n",
    "    #pack xcorr features\n",
    "    xcorr_peak = np.array([xcorr_peak_xy,xcorr_peak_xz,xcorr_peak_yz])\n",
    "    xcorr_lag = np.array([xcorr_lag_xy,xcorr_lag_xz,xcorr_lag_yz])\n",
    "    \n",
    "    #jerk moments on magnitude\n",
    "    jerk = rawdata.iloc[:,-1].diff().values\n",
    "    jerk_moments = np.array([np.nanmean(jerk),np.nanstd(jerk),skew(jerk[~np.isnan(jerk)]),kurtosis(jerk[~np.isnan(jerk)])])\n",
    "\n",
    "    #Dominant freq and relative magnitude (on acc magnitude)\n",
    "    Pxx = power_spectra_welch(rawdata_wtime,fm=1,fM=10)\n",
    "    domfreq = np.asarray([Pxx.iloc[:,-1].argmax()]) \n",
    "    Pdom_rel = Pxx.loc[domfreq].iloc[:,-1].values/Pxx.iloc[:,-1].sum() #power at dominant freq rel to total\n",
    "    \n",
    "    #moments of PSD\n",
    "    Pxx_moments = np.array([np.nanmean(Pxx.values),np.nanstd(Pxx.values),skew(Pxx.values),kurtosis(Pxx.values)])\n",
    "\n",
    "    #sample entropy raw data and FFT - COMPUTATIONALLY EXPENSIVE - TAKE OUT FOR NOW\n",
    "#     sH_raw = []; sH_fft = []\n",
    "#     for a in range(3):\n",
    "#         x = rawdata.iloc[:,a]\n",
    "#         n = len(x) #number of samples in clip\n",
    "#         Fs = np.mean(1/(np.diff(x.index)/1000)) #sampling rate in clip\n",
    "#         sH_raw.append(nolds.sampen(x)) #samp entr raw data\n",
    "#         f,Pxx_den = welch(x,Fs,nperseg=min(256,n/4))\n",
    "#         sH_fft.append(nolds.sampen(Pxx_den)) #samp entr fft\n",
    "\n",
    "    #Assemble features in array\n",
    "    X = np.concatenate((E,r,mean,var,sk,kurt,xcorr_peak,xcorr_lag,domfreq,Pdom_rel,Pxx_moments,jerk_moments))\n",
    "#                 X = X.reshape(1,X.shape[0])\n",
    "    features.append(X)\n",
    "\n",
    "    F = np.asarray(features) #feature matrix for all clips from current trial\n",
    "    return F,features_list\n",
    "\n",
    "\n",
    "def gen_clips(rawdata,clipsize=5,overlap=0,interp=True):\n",
    "    \n",
    "    len_tol = 0.8   #% of the intended clipsize below which clip is not used (deprecated for now)\n",
    "    #reindex time (relative to start)\n",
    "    t = rawdata.timestamp\n",
    "    t = t-t.iloc[0]\n",
    "    rawdata.timestamp = t\n",
    "    #create clips data\n",
    "    deltat = np.median(np.diff(rawdata.timestamp))\n",
    "    idx = np.arange(0,rawdata.timestamp.iloc[-1],clipsize*(1-overlap))\n",
    "    clips = []\n",
    "    for i in idx:\n",
    "        c = rawdata[(rawdata.timestamp>=i) & (rawdata.timestamp<i+clipsize)]\n",
    "        if interp:\n",
    "            if len(c) == 250:\n",
    "                clips.append(c)\n",
    "            #resample clip if not enough samples are there\n",
    "            elif (len(c) >200) & (len(c)<250): #for now hard code clip size (enforce 250 samples)\n",
    "                t = c.timestamp.values\n",
    "                tnew = np.linspace(t[0],t[-1],250)  \n",
    "                x_res = resample(c.iloc[:,1].values,num,tnew)[0]\n",
    "                y_res = resample(c.iloc[:,2].values,num,tnew)[0]\n",
    "                z_res = resample(c.iloc[:,3].values,num,tnew)[0]\n",
    "                mag_res = resample(c.iloc[:,4].values,num,tnew)[0]\n",
    "                cres = pd.DataFrame(data=np.vstack((tnew,x_res,y_res,z_res,mag_res)).T,columns=list(c.columns))\n",
    "                clips.append(cres)\n",
    "        else:\n",
    "            if len(c) > 10: #at least n data points in clip\n",
    "                clips.append(c)\n",
    "#         if len(c) > 0.8*int(clipsize/deltat): #discard clips whose length is less than len_tol% of the window size\n",
    "    return clips\n",
    "\n",
    "#returns power spectra of the signal over each channel between min and max freq at given resolution (nbins)\n",
    "#returns the labels for each bin; #if nbins = -1 does not bin the data\n",
    "#if binavg is True it averages the PSD within bins to reduce PSD noise\n",
    "#**DO NOT USE - NEED TO FIX BUG*** \n",
    "def powerspectra(x,fm,fM,nbins=-1,relative=False,binavg=True):\n",
    "    \n",
    "    #feature labels (if binned)\n",
    "    labels=[]\n",
    "    if nbins > 0:\n",
    "        s = np.linspace(fm,fM,nbins)\n",
    "        lax = ['X','Y','Z']\n",
    "        for l in lax:\n",
    "            for i in s:\n",
    "                labels.append('fft'+l+str(int(i)))\n",
    "        \n",
    "    #signal features\n",
    "    n = len(x) #number of samples in clip\n",
    "    Fs = np.nanmean(1/(np.diff(x.timestamp))) #sampling rate in clip\n",
    "    timestep = 1/Fs \n",
    "    freq = np.fft.fftfreq(n,d=timestep) #frequency bins\n",
    "\n",
    "    #run FFT on each channel \n",
    "    x = x.drop('timestamp',axis=1)\n",
    "    Xf = x.apply(np.fft.fft)\n",
    "    Xf.index = np.round(freq,decimals=1) #reindex w frequency bin\n",
    "    Pxx = Xf.apply(np.abs)\n",
    "    Pxx = Pxx**2 #power spectra\n",
    "    \n",
    "    if relative:\n",
    "        Pxx = Pxx/np.sum(Pxx,axis=0) #power relative to total\n",
    "        \n",
    "    if nbins > 0:\n",
    "        #power spectra between fm-fM Hz\n",
    "        bin1 = int(timestep*n*fm)\n",
    "        bin2 = int(timestep*n*fM)\n",
    "        bins = np.linspace(bin1,bin2,nbins,dtype=int)\n",
    "    #     print(bins/(round(timestep*n)))\n",
    "\n",
    "        #average power spectra within bins - CHECK FOR BUG!\n",
    "        if binavg:\n",
    "            deltab = int(0.5*np.diff(bins)[0]) #half the size of a bin (in samples)\n",
    "            Pxxm = []\n",
    "            for i in bins:\n",
    "                start = int(max(i-deltab,bins[0]))\n",
    "                end = int(min(i+deltab,bins[-1]))\n",
    "                Pxxm.append(np.nanmean(Pxx.iloc[start:end,:].values,axis=0))            \n",
    "            Pxxm = np.asarray(Pxxm)\n",
    "            Pxx = pd.DataFrame(data=Pxxm,index=Pxx.index[bins],columns=Pxx.columns)\n",
    "            return Pxx, labels\n",
    "\n",
    "        else:\n",
    "            return Pxx.iloc[bins,:], labels\n",
    "    #no binning\n",
    "    else:\n",
    "        return Pxx\n",
    "\n",
    "    \n",
    "#PSD on magnitude using Welch\n",
    "def power_spectra_welch(rawdata,fm,fM):\n",
    "    x = rawdata.iloc[:,-1]\n",
    "    n = len(x) #number of samples in clip\n",
    "    Fs = np.mean(1/(np.diff(rawdata.timestamp))) #sampling rate in clip\n",
    "    f,Pxx_den = welch(x,Fs,nperseg=min(256,n))\n",
    "    #return PSD in desired interval of freq\n",
    "    inds = (f<=fM)&(f>=fm)\n",
    "    f=f[inds]\n",
    "    Pxx_den=Pxx_den[inds]\n",
    "    Pxxdf = pd.DataFrame(data=Pxx_den,index=f,columns=['PSD_magnitude'])\n",
    "\n",
    "    return Pxxdf\n",
    "\n",
    "    \n",
    "#highpass (or lowpass) filter data. HP to remove gravity (offset - limb orientation) from accelerometer data from each visit (trial)\n",
    "def filter_signal(rawdata,cutoff=0.75,ftype='highpass',order=4):\n",
    "\n",
    "    t = rawdata.timestamp\n",
    "    t = t-t.iloc[0]\n",
    "    rawdata.timestamp = t\n",
    "    x = rawdata.iloc[:,1:].values\n",
    "    Fs = np.mean(1/(np.diff(rawdata.timestamp))) #sampling rate    \n",
    "    #filter design\n",
    "    cutoff_norm = cutoff/(0.5*Fs)\n",
    "    b,a = butter(order,cutoff_norm,btype=ftype,analog=False)\n",
    "    #filter data\n",
    "    xfilt = filtfilt(b,a,x,axis=0)\n",
    "    t = np.expand_dims(t,axis=1)\n",
    "    rawdatafilt = pd.DataFrame(data=np.hstack((t,xfilt)),columns=rawdata.columns)\n",
    "    return rawdatafilt\n"
   ]
  },
  {
   "cell_type": "code",
   "execution_count": 25,
   "metadata": {
    "collapsed": true
   },
   "outputs": [],
   "source": [
    "#X,y are numpy arrays with features and target\n",
    "#returns mean feature importance\n",
    "def LOSOCV(X,y,groups,models):\n",
    "\n",
    "    subj = LeaveOneGroupOut() \n",
    "\n",
    "    #train multiple classifiers\n",
    "    for m in models:\n",
    "        Sens_all=[]; Spec_all=[]; acc_all=[]; acc_train=[] #sens and spec for current model and all subject\n",
    "        fi_all=[]\n",
    "\n",
    "        clf = m[0]; model_name = m[1]            \n",
    "        print('Training %s'%model_name)\n",
    "        \n",
    "        #LOSO CV for current classifier\n",
    "        for train_index, test_index in subj.split(X, y, groups):\n",
    "            Xtr, Xte = X[train_index], X[test_index]\n",
    "            ytr, yte = y[train_index], y[test_index]\n",
    "            clf.fit(Xtr,ytr)\n",
    "            ypred = clf.predict(Xte)\n",
    "            yscore = clf.predict_proba(Xte)\n",
    "            yscore = yscore[:,1]\n",
    "            \n",
    "            #accuracy on train set\n",
    "            ypred_train = clf.predict(Xtr)\n",
    "            acc_train.append(sum(ypred_train==ytr)/len(ytr))\n",
    "\n",
    "            #compute Sens and Spec for current subject and classifier\n",
    "            if np.sum(yte==1)>0:                    \n",
    "                Sens = sum((ypred==1)&( yte==1))/sum(yte==1)\n",
    "            else:\n",
    "                print('no positive examples for current test subj')\n",
    "                Sens = np.nan\n",
    "            if np.sum(yte==0)>0:\n",
    "                Spec = sum((ypred==0) & (yte==0))/sum(yte==0)\n",
    "            else:\n",
    "                Spec = np.nan\n",
    "                print('no negative examples for current test subj')\n",
    "            Sens_all.append(Sens); Spec_all.append(Spec)\n",
    "            #compute accuracy\n",
    "            acc = sum(ypred==yte)/len(yte)\n",
    "            acc_all.append(acc)\n",
    "            #save fimp\n",
    "            fi_all.append(clf.feature_importances_)\n",
    "        \n",
    "        #mean across all subjects\n",
    "        print(('%s, mean Acc on training set = %.3f (+/- %0.3f)')%(model_name,np.nanmean(acc_train),2*np.nanstd(acc_train)/np.sqrt(len(acc_train))))\n",
    "        print(('%s, mean Sens = %.3f (+/- %0.3f)')%(model_name,np.nanmean(Sens_all),2*np.nanstd(Sens_all)/np.sqrt(len(Sens_all))))\n",
    "        print(('%s, mean Spec = %.3f (+/- %0.3f)')%(model_name,np.nanmean(Spec_all),2*np.nanstd(Spec_all)/np.sqrt(len(Spec_all))))\n",
    "        print(('%s, mean Acc = %.3f (+/- %0.3f)')%(model_name,np.nanmean(acc_all),2*np.nanstd(acc_all)/np.sqrt(len(acc_all))))\n",
    "\n",
    "    return fi_all"
   ]
  },
  {
   "cell_type": "code",
   "execution_count": 7,
   "metadata": {
    "collapsed": true
   },
   "outputs": [],
   "source": [
    "syntable = syn.tableQuery(\"SELECT * from syn10495809\")"
   ]
  },
  {
   "cell_type": "code",
   "execution_count": 5,
   "metadata": {
    "collapsed": false
   },
   "outputs": [],
   "source": [
    "table = syntable.asDataFrame()"
   ]
  },
  {
   "cell_type": "code",
   "execution_count": 6,
   "metadata": {
    "collapsed": false
   },
   "outputs": [
    {
     "name": "stdout",
     "output_type": "stream",
     "text": [
      "<class 'pandas.core.frame.DataFrame'>\n",
      "Index: 5168 entries, 25819_22 to 30986_23\n",
      "Data columns (total 11 columns):\n",
      "dataFileHandleId     5168 non-null int64\n",
      "device               5168 non-null object\n",
      "patient              5168 non-null object\n",
      "session              5168 non-null int64\n",
      "site                 5168 non-null object\n",
      "task                 5168 non-null object\n",
      "visit                5168 non-null int64\n",
      "deviceSide           5168 non-null object\n",
      "tremorScore          3667 non-null float64\n",
      "dyskinesiaScore      1556 non-null float64\n",
      "bradykinesiaScore    3016 non-null float64\n",
      "dtypes: float64(3), int64(3), object(5)\n",
      "memory usage: 484.5+ KB\n"
     ]
    }
   ],
   "source": [
    "table.info()"
   ]
  },
  {
   "cell_type": "code",
   "execution_count": 7,
   "metadata": {
    "collapsed": false
   },
   "outputs": [
    {
     "data": {
      "text/html": [
       "<div>\n",
       "<style>\n",
       "    .dataframe thead tr:only-child th {\n",
       "        text-align: right;\n",
       "    }\n",
       "\n",
       "    .dataframe thead th {\n",
       "        text-align: left;\n",
       "    }\n",
       "\n",
       "    .dataframe tbody tr th {\n",
       "        vertical-align: top;\n",
       "    }\n",
       "</style>\n",
       "<table border=\"1\" class=\"dataframe\">\n",
       "  <thead>\n",
       "    <tr style=\"text-align: right;\">\n",
       "      <th></th>\n",
       "      <th>dataFileHandleId</th>\n",
       "      <th>device</th>\n",
       "      <th>patient</th>\n",
       "      <th>session</th>\n",
       "      <th>site</th>\n",
       "      <th>task</th>\n",
       "      <th>visit</th>\n",
       "      <th>deviceSide</th>\n",
       "      <th>tremorScore</th>\n",
       "      <th>dyskinesiaScore</th>\n",
       "      <th>bradykinesiaScore</th>\n",
       "    </tr>\n",
       "  </thead>\n",
       "  <tbody>\n",
       "    <tr>\n",
       "      <th>25819_22</th>\n",
       "      <td>17286028</td>\n",
       "      <td>GENEActiv</td>\n",
       "      <td>13_BOS</td>\n",
       "      <td>1</td>\n",
       "      <td>Boston</td>\n",
       "      <td>drnkg</td>\n",
       "      <td>1</td>\n",
       "      <td>Right</td>\n",
       "      <td>1.0</td>\n",
       "      <td>NaN</td>\n",
       "      <td>1.0</td>\n",
       "    </tr>\n",
       "    <tr>\n",
       "      <th>25820_22</th>\n",
       "      <td>17286030</td>\n",
       "      <td>Pebble</td>\n",
       "      <td>13_BOS</td>\n",
       "      <td>1</td>\n",
       "      <td>Boston</td>\n",
       "      <td>drnkg</td>\n",
       "      <td>1</td>\n",
       "      <td>Left</td>\n",
       "      <td>1.0</td>\n",
       "      <td>NaN</td>\n",
       "      <td>1.0</td>\n",
       "    </tr>\n",
       "    <tr>\n",
       "      <th>25821_22</th>\n",
       "      <td>17286034</td>\n",
       "      <td>GENEActiv</td>\n",
       "      <td>13_BOS</td>\n",
       "      <td>1</td>\n",
       "      <td>Boston</td>\n",
       "      <td>fldng</td>\n",
       "      <td>1</td>\n",
       "      <td>Right</td>\n",
       "      <td>2.0</td>\n",
       "      <td>NaN</td>\n",
       "      <td>1.0</td>\n",
       "    </tr>\n",
       "    <tr>\n",
       "      <th>25822_22</th>\n",
       "      <td>17286036</td>\n",
       "      <td>Pebble</td>\n",
       "      <td>13_BOS</td>\n",
       "      <td>1</td>\n",
       "      <td>Boston</td>\n",
       "      <td>fldng</td>\n",
       "      <td>1</td>\n",
       "      <td>Left</td>\n",
       "      <td>1.0</td>\n",
       "      <td>NaN</td>\n",
       "      <td>1.0</td>\n",
       "    </tr>\n",
       "    <tr>\n",
       "      <th>25823_22</th>\n",
       "      <td>17286039</td>\n",
       "      <td>GENEActiv</td>\n",
       "      <td>13_BOS</td>\n",
       "      <td>1</td>\n",
       "      <td>Boston</td>\n",
       "      <td>ftnl1</td>\n",
       "      <td>1</td>\n",
       "      <td>Right</td>\n",
       "      <td>NaN</td>\n",
       "      <td>0.0</td>\n",
       "      <td>NaN</td>\n",
       "    </tr>\n",
       "  </tbody>\n",
       "</table>\n",
       "</div>"
      ],
      "text/plain": [
       "          dataFileHandleId     device patient  session    site   task  visit  \\\n",
       "25819_22          17286028  GENEActiv  13_BOS        1  Boston  drnkg      1   \n",
       "25820_22          17286030     Pebble  13_BOS        1  Boston  drnkg      1   \n",
       "25821_22          17286034  GENEActiv  13_BOS        1  Boston  fldng      1   \n",
       "25822_22          17286036     Pebble  13_BOS        1  Boston  fldng      1   \n",
       "25823_22          17286039  GENEActiv  13_BOS        1  Boston  ftnl1      1   \n",
       "\n",
       "         deviceSide  tremorScore  dyskinesiaScore  bradykinesiaScore  \n",
       "25819_22      Right          1.0              NaN                1.0  \n",
       "25820_22       Left          1.0              NaN                1.0  \n",
       "25821_22      Right          2.0              NaN                1.0  \n",
       "25822_22       Left          1.0              NaN                1.0  \n",
       "25823_22      Right          NaN              0.0                NaN  "
      ]
     },
     "execution_count": 7,
     "metadata": {},
     "output_type": "execute_result"
    }
   ],
   "source": [
    "table.head()"
   ]
  },
  {
   "cell_type": "code",
   "execution_count": 8,
   "metadata": {
    "collapsed": false
   },
   "outputs": [
    {
     "data": {
      "text/plain": [
       "<matplotlib.text.Text at 0x10ff46400>"
      ]
     },
     "execution_count": 8,
     "metadata": {},
     "output_type": "execute_result"
    },
    {
     "data": {
      "image/png": "[encoded data removed]",
      "text/plain": [
       "<matplotlib.figure.Figure at 0x1034dc7b8>"
      ]
     },
     "metadata": {},
     "output_type": "display_data"
    }
   ],
   "source": [
    "fig = plt.figure(figsize=(12,4))\n",
    "ax = fig.add_subplot(131)\n",
    "plt.title('tremor')\n",
    "table.tremorScore.hist()\n",
    "ax = fig.add_subplot(132)\n",
    "table.dyskinesiaScore.hist()\n",
    "plt.title('dyskinesia')\n",
    "ax = fig.add_subplot(133)\n",
    "table.bradykinesiaScore.hist()\n",
    "plt.title('bradykinesia')"
   ]
  },
  {
   "cell_type": "code",
   "execution_count": 9,
   "metadata": {
    "collapsed": false
   },
   "outputs": [
    {
     "data": {
      "text/plain": [
       "array(['drnkg', 'fldng', 'ftnl1', 'ftnl2', 'ftnr1', 'ftnr2', 'ntblt',\n",
       "       'orgpa', 'raml1', 'raml2', 'ramr1', 'ramr2'], dtype=object)"
      ]
     },
     "execution_count": 9,
     "metadata": {},
     "output_type": "execute_result"
    }
   ],
   "source": [
    "table.task.unique()"
   ]
  },
  {
   "cell_type": "code",
   "execution_count": 10,
   "metadata": {
    "collapsed": false
   },
   "outputs": [
    {
     "data": {
      "text/plain": [
       "12"
      ]
     },
     "execution_count": 10,
     "metadata": {},
     "output_type": "execute_result"
    }
   ],
   "source": [
    "sum(table.tremorScore==4)"
   ]
  },
  {
   "cell_type": "markdown",
   "metadata": {},
   "source": [
    "# Bradykinesia"
   ]
  },
  {
   "cell_type": "code",
   "execution_count": 5,
   "metadata": {
    "collapsed": true
   },
   "outputs": [],
   "source": [
    "q_brady_train = syn.tableQuery(\"SELECT * from syn10495809 where bradykinesiaScore is not null\")"
   ]
  },
  {
   "cell_type": "code",
   "execution_count": 6,
   "metadata": {
    "collapsed": false
   },
   "outputs": [
    {
     "name": "stdout",
     "output_type": "stream",
     "text": [
      "Downloading 0 files, 3016 cached locally\n"
     ]
    }
   ],
   "source": [
    "paths_train = syn.downloadTableColumns(q_brady_train,'dataFileHandleId')"
   ]
  },
  {
   "cell_type": "code",
   "execution_count": 7,
   "metadata": {
    "collapsed": true
   },
   "outputs": [],
   "source": [
    "df_train = q_brady_train.asDataFrame()"
   ]
  },
  {
   "cell_type": "code",
   "execution_count": 8,
   "metadata": {
    "collapsed": false
   },
   "outputs": [],
   "source": [
    "df_train['path']=df_train.dataFileHandleId.astype(str).map(paths_train)"
   ]
  },
  {
   "cell_type": "code",
   "execution_count": 9,
   "metadata": {
    "collapsed": false
   },
   "outputs": [
    {
     "data": {
      "text/html": [
       "<div>\n",
       "<style>\n",
       "    .dataframe thead tr:only-child th {\n",
       "        text-align: right;\n",
       "    }\n",
       "\n",
       "    .dataframe thead th {\n",
       "        text-align: left;\n",
       "    }\n",
       "\n",
       "    .dataframe tbody tr th {\n",
       "        vertical-align: top;\n",
       "    }\n",
       "</style>\n",
       "<table border=\"1\" class=\"dataframe\">\n",
       "  <thead>\n",
       "    <tr style=\"text-align: right;\">\n",
       "      <th></th>\n",
       "      <th>dataFileHandleId</th>\n",
       "      <th>device</th>\n",
       "      <th>patient</th>\n",
       "      <th>session</th>\n",
       "      <th>site</th>\n",
       "      <th>task</th>\n",
       "      <th>visit</th>\n",
       "      <th>deviceSide</th>\n",
       "      <th>tremorScore</th>\n",
       "      <th>dyskinesiaScore</th>\n",
       "      <th>bradykinesiaScore</th>\n",
       "      <th>path</th>\n",
       "    </tr>\n",
       "  </thead>\n",
       "  <tbody>\n",
       "    <tr>\n",
       "      <th>25819_22</th>\n",
       "      <td>17286028</td>\n",
       "      <td>GENEActiv</td>\n",
       "      <td>13_BOS</td>\n",
       "      <td>1</td>\n",
       "      <td>Boston</td>\n",
       "      <td>drnkg</td>\n",
       "      <td>1</td>\n",
       "      <td>Right</td>\n",
       "      <td>1</td>\n",
       "      <td>NaN</td>\n",
       "      <td>1</td>\n",
       "      <td>/Users/luca/Projects/DREAM_PD/Data/28/17286028...</td>\n",
       "    </tr>\n",
       "    <tr>\n",
       "      <th>25820_22</th>\n",
       "      <td>17286030</td>\n",
       "      <td>Pebble</td>\n",
       "      <td>13_BOS</td>\n",
       "      <td>1</td>\n",
       "      <td>Boston</td>\n",
       "      <td>drnkg</td>\n",
       "      <td>1</td>\n",
       "      <td>Left</td>\n",
       "      <td>1</td>\n",
       "      <td>NaN</td>\n",
       "      <td>1</td>\n",
       "      <td>/Users/luca/Projects/DREAM_PD/Data/30/17286030...</td>\n",
       "    </tr>\n",
       "    <tr>\n",
       "      <th>25821_22</th>\n",
       "      <td>17286034</td>\n",
       "      <td>GENEActiv</td>\n",
       "      <td>13_BOS</td>\n",
       "      <td>1</td>\n",
       "      <td>Boston</td>\n",
       "      <td>fldng</td>\n",
       "      <td>1</td>\n",
       "      <td>Right</td>\n",
       "      <td>2</td>\n",
       "      <td>NaN</td>\n",
       "      <td>1</td>\n",
       "      <td>/Users/luca/Projects/DREAM_PD/Data/34/17286034...</td>\n",
       "    </tr>\n",
       "    <tr>\n",
       "      <th>25822_22</th>\n",
       "      <td>17286036</td>\n",
       "      <td>Pebble</td>\n",
       "      <td>13_BOS</td>\n",
       "      <td>1</td>\n",
       "      <td>Boston</td>\n",
       "      <td>fldng</td>\n",
       "      <td>1</td>\n",
       "      <td>Left</td>\n",
       "      <td>1</td>\n",
       "      <td>NaN</td>\n",
       "      <td>1</td>\n",
       "      <td>/Users/luca/Projects/DREAM_PD/Data/36/17286036...</td>\n",
       "    </tr>\n",
       "    <tr>\n",
       "      <th>25824_22</th>\n",
       "      <td>17286042</td>\n",
       "      <td>Pebble</td>\n",
       "      <td>13_BOS</td>\n",
       "      <td>1</td>\n",
       "      <td>Boston</td>\n",
       "      <td>ftnl1</td>\n",
       "      <td>1</td>\n",
       "      <td>Left</td>\n",
       "      <td>2</td>\n",
       "      <td>NaN</td>\n",
       "      <td>1</td>\n",
       "      <td>/Users/luca/Projects/DREAM_PD/Data/42/17286042...</td>\n",
       "    </tr>\n",
       "  </tbody>\n",
       "</table>\n",
       "</div>"
      ],
      "text/plain": [
       "          dataFileHandleId     device patient  session    site   task  visit  \\\n",
       "25819_22          17286028  GENEActiv  13_BOS        1  Boston  drnkg      1   \n",
       "25820_22          17286030     Pebble  13_BOS        1  Boston  drnkg      1   \n",
       "25821_22          17286034  GENEActiv  13_BOS        1  Boston  fldng      1   \n",
       "25822_22          17286036     Pebble  13_BOS        1  Boston  fldng      1   \n",
       "25824_22          17286042     Pebble  13_BOS        1  Boston  ftnl1      1   \n",
       "\n",
       "         deviceSide  tremorScore  dyskinesiaScore  bradykinesiaScore  \\\n",
       "25819_22      Right            1              NaN                  1   \n",
       "25820_22       Left            1              NaN                  1   \n",
       "25821_22      Right            2              NaN                  1   \n",
       "25822_22       Left            1              NaN                  1   \n",
       "25824_22       Left            2              NaN                  1   \n",
       "\n",
       "                                                       path  \n",
       "25819_22  /Users/luca/Projects/DREAM_PD/Data/28/17286028...  \n",
       "25820_22  /Users/luca/Projects/DREAM_PD/Data/30/17286030...  \n",
       "25821_22  /Users/luca/Projects/DREAM_PD/Data/34/17286034...  \n",
       "25822_22  /Users/luca/Projects/DREAM_PD/Data/36/17286036...  \n",
       "25824_22  /Users/luca/Projects/DREAM_PD/Data/42/17286042...  "
      ]
     },
     "execution_count": 9,
     "metadata": {},
     "output_type": "execute_result"
    }
   ],
   "source": [
    "df_train.head(5)"
   ]
  },
  {
   "cell_type": "code",
   "execution_count": 10,
   "metadata": {
    "collapsed": true
   },
   "outputs": [],
   "source": [
    "df_train_brady = df_train"
   ]
  },
  {
   "cell_type": "code",
   "execution_count": 385,
   "metadata": {
    "collapsed": false
   },
   "outputs": [],
   "source": [
    "y_train = df_train['bradykinesiaScore'].values"
   ]
  },
  {
   "cell_type": "code",
   "execution_count": 386,
   "metadata": {
    "collapsed": false
   },
   "outputs": [
    {
     "data": {
      "text/plain": [
       "array([1, 1, 1, ..., 0, 0, 0])"
      ]
     },
     "execution_count": 386,
     "metadata": {},
     "output_type": "execute_result"
    }
   ],
   "source": [
    "y_train"
   ]
  },
  {
   "cell_type": "markdown",
   "metadata": {},
   "source": [
    "## Train a baseline classifier using the metadata only"
   ]
  },
  {
   "cell_type": "code",
   "execution_count": 11,
   "metadata": {
    "collapsed": false
   },
   "outputs": [
    {
     "data": {
      "text/plain": [
       "19"
      ]
     },
     "execution_count": 11,
     "metadata": {},
     "output_type": "execute_result"
    }
   ],
   "source": [
    "len(df_train.patient.unique())"
   ]
  },
  {
   "cell_type": "code",
   "execution_count": 182,
   "metadata": {
    "collapsed": false
   },
   "outputs": [],
   "source": [
    "X_meta = df_train[['dataFileHandleId','device','patient','session','site','task','visit','deviceSide']]\n",
    "y_meta = df_train['bradykinesiaScore']"
   ]
  },
  {
   "cell_type": "markdown",
   "metadata": {},
   "source": [
    "## Encode categorical variables with dummy values"
   ]
  },
  {
   "cell_type": "code",
   "execution_count": 183,
   "metadata": {
    "collapsed": true
   },
   "outputs": [],
   "source": [
    "from sklearn import preprocessing\n",
    "le = preprocessing.LabelEncoder()"
   ]
  },
  {
   "cell_type": "code",
   "execution_count": 184,
   "metadata": {
    "collapsed": false
   },
   "outputs": [
    {
     "data": {
      "text/html": [
       "<div>\n",
       "<style>\n",
       "    .dataframe thead tr:only-child th {\n",
       "        text-align: right;\n",
       "    }\n",
       "\n",
       "    .dataframe thead th {\n",
       "        text-align: left;\n",
       "    }\n",
       "\n",
       "    .dataframe tbody tr th {\n",
       "        vertical-align: top;\n",
       "    }\n",
       "</style>\n",
       "<table border=\"1\" class=\"dataframe\">\n",
       "  <thead>\n",
       "    <tr style=\"text-align: right;\">\n",
       "      <th></th>\n",
       "      <th>dataFileHandleId</th>\n",
       "      <th>device</th>\n",
       "      <th>patient</th>\n",
       "      <th>session</th>\n",
       "      <th>site</th>\n",
       "      <th>task</th>\n",
       "      <th>visit</th>\n",
       "      <th>deviceSide</th>\n",
       "    </tr>\n",
       "  </thead>\n",
       "  <tbody>\n",
       "    <tr>\n",
       "      <th>25819_22</th>\n",
       "      <td>17286028</td>\n",
       "      <td>GENEActiv</td>\n",
       "      <td>13_BOS</td>\n",
       "      <td>1</td>\n",
       "      <td>Boston</td>\n",
       "      <td>drnkg</td>\n",
       "      <td>1</td>\n",
       "      <td>Right</td>\n",
       "    </tr>\n",
       "    <tr>\n",
       "      <th>25820_22</th>\n",
       "      <td>17286030</td>\n",
       "      <td>Pebble</td>\n",
       "      <td>13_BOS</td>\n",
       "      <td>1</td>\n",
       "      <td>Boston</td>\n",
       "      <td>drnkg</td>\n",
       "      <td>1</td>\n",
       "      <td>Left</td>\n",
       "    </tr>\n",
       "    <tr>\n",
       "      <th>25821_22</th>\n",
       "      <td>17286034</td>\n",
       "      <td>GENEActiv</td>\n",
       "      <td>13_BOS</td>\n",
       "      <td>1</td>\n",
       "      <td>Boston</td>\n",
       "      <td>fldng</td>\n",
       "      <td>1</td>\n",
       "      <td>Right</td>\n",
       "    </tr>\n",
       "    <tr>\n",
       "      <th>25822_22</th>\n",
       "      <td>17286036</td>\n",
       "      <td>Pebble</td>\n",
       "      <td>13_BOS</td>\n",
       "      <td>1</td>\n",
       "      <td>Boston</td>\n",
       "      <td>fldng</td>\n",
       "      <td>1</td>\n",
       "      <td>Left</td>\n",
       "    </tr>\n",
       "    <tr>\n",
       "      <th>25824_22</th>\n",
       "      <td>17286042</td>\n",
       "      <td>Pebble</td>\n",
       "      <td>13_BOS</td>\n",
       "      <td>1</td>\n",
       "      <td>Boston</td>\n",
       "      <td>ftnl1</td>\n",
       "      <td>1</td>\n",
       "      <td>Left</td>\n",
       "    </tr>\n",
       "  </tbody>\n",
       "</table>\n",
       "</div>"
      ],
      "text/plain": [
       "          dataFileHandleId     device patient  session    site   task  visit  \\\n",
       "25819_22          17286028  GENEActiv  13_BOS        1  Boston  drnkg      1   \n",
       "25820_22          17286030     Pebble  13_BOS        1  Boston  drnkg      1   \n",
       "25821_22          17286034  GENEActiv  13_BOS        1  Boston  fldng      1   \n",
       "25822_22          17286036     Pebble  13_BOS        1  Boston  fldng      1   \n",
       "25824_22          17286042     Pebble  13_BOS        1  Boston  ftnl1      1   \n",
       "\n",
       "         deviceSide  \n",
       "25819_22      Right  \n",
       "25820_22       Left  \n",
       "25821_22      Right  \n",
       "25822_22       Left  \n",
       "25824_22       Left  "
      ]
     },
     "execution_count": 184,
     "metadata": {},
     "output_type": "execute_result"
    }
   ],
   "source": [
    "X_meta.head()"
   ]
  },
  {
   "cell_type": "code",
   "execution_count": 185,
   "metadata": {
    "collapsed": false
   },
   "outputs": [],
   "source": [
    "X_meta_copy = X_meta.copy()\n",
    "cat_cols = X_meta.select_dtypes(['object']).columns\n",
    "for c in cat_cols:\n",
    "    X_meta_copy[c]=le.fit_transform(X_meta[c])"
   ]
  },
  {
   "cell_type": "code",
   "execution_count": 186,
   "metadata": {
    "collapsed": false
   },
   "outputs": [
    {
     "data": {
      "text/html": [
       "<div>\n",
       "<style>\n",
       "    .dataframe thead tr:only-child th {\n",
       "        text-align: right;\n",
       "    }\n",
       "\n",
       "    .dataframe thead th {\n",
       "        text-align: left;\n",
       "    }\n",
       "\n",
       "    .dataframe tbody tr th {\n",
       "        vertical-align: top;\n",
       "    }\n",
       "</style>\n",
       "<table border=\"1\" class=\"dataframe\">\n",
       "  <thead>\n",
       "    <tr style=\"text-align: right;\">\n",
       "      <th></th>\n",
       "      <th>dataFileHandleId</th>\n",
       "      <th>device</th>\n",
       "      <th>patient</th>\n",
       "      <th>session</th>\n",
       "      <th>site</th>\n",
       "      <th>task</th>\n",
       "      <th>visit</th>\n",
       "      <th>deviceSide</th>\n",
       "    </tr>\n",
       "  </thead>\n",
       "  <tbody>\n",
       "    <tr>\n",
       "      <th>25819_22</th>\n",
       "      <td>17286028</td>\n",
       "      <td>0</td>\n",
       "      <td>2</td>\n",
       "      <td>1</td>\n",
       "      <td>0</td>\n",
       "      <td>0</td>\n",
       "      <td>1</td>\n",
       "      <td>1</td>\n",
       "    </tr>\n",
       "    <tr>\n",
       "      <th>25820_22</th>\n",
       "      <td>17286030</td>\n",
       "      <td>1</td>\n",
       "      <td>2</td>\n",
       "      <td>1</td>\n",
       "      <td>0</td>\n",
       "      <td>0</td>\n",
       "      <td>1</td>\n",
       "      <td>0</td>\n",
       "    </tr>\n",
       "    <tr>\n",
       "      <th>25821_22</th>\n",
       "      <td>17286034</td>\n",
       "      <td>0</td>\n",
       "      <td>2</td>\n",
       "      <td>1</td>\n",
       "      <td>0</td>\n",
       "      <td>1</td>\n",
       "      <td>1</td>\n",
       "      <td>1</td>\n",
       "    </tr>\n",
       "    <tr>\n",
       "      <th>25822_22</th>\n",
       "      <td>17286036</td>\n",
       "      <td>1</td>\n",
       "      <td>2</td>\n",
       "      <td>1</td>\n",
       "      <td>0</td>\n",
       "      <td>1</td>\n",
       "      <td>1</td>\n",
       "      <td>0</td>\n",
       "    </tr>\n",
       "    <tr>\n",
       "      <th>25824_22</th>\n",
       "      <td>17286042</td>\n",
       "      <td>1</td>\n",
       "      <td>2</td>\n",
       "      <td>1</td>\n",
       "      <td>0</td>\n",
       "      <td>2</td>\n",
       "      <td>1</td>\n",
       "      <td>0</td>\n",
       "    </tr>\n",
       "  </tbody>\n",
       "</table>\n",
       "</div>"
      ],
      "text/plain": [
       "          dataFileHandleId  device  patient  session  site  task  visit  \\\n",
       "25819_22          17286028       0        2        1     0     0      1   \n",
       "25820_22          17286030       1        2        1     0     0      1   \n",
       "25821_22          17286034       0        2        1     0     1      1   \n",
       "25822_22          17286036       1        2        1     0     1      1   \n",
       "25824_22          17286042       1        2        1     0     2      1   \n",
       "\n",
       "          deviceSide  \n",
       "25819_22           1  \n",
       "25820_22           0  \n",
       "25821_22           1  \n",
       "25822_22           0  \n",
       "25824_22           0  "
      ]
     },
     "execution_count": 186,
     "metadata": {},
     "output_type": "execute_result"
    }
   ],
   "source": [
    "X_meta_copy.head()"
   ]
  },
  {
   "cell_type": "code",
   "execution_count": 187,
   "metadata": {
    "collapsed": true
   },
   "outputs": [],
   "source": [
    "X_meta=X_meta_copy"
   ]
  },
  {
   "cell_type": "markdown",
   "metadata": {},
   "source": [
    "# Make dummy submission file to test score fcn"
   ]
  },
  {
   "cell_type": "code",
   "execution_count": 28,
   "metadata": {
    "collapsed": false
   },
   "outputs": [],
   "source": [
    "X_meta.to_csv('DummySubmission.csv',index=False)"
   ]
  },
  {
   "cell_type": "code",
   "execution_count": 29,
   "metadata": {
    "collapsed": false,
    "scrolled": false
   },
   "outputs": [
    {
     "name": "stdout",
     "output_type": "stream",
     "text": [
      "Welcome, Luca Lonini!\n",
      "\n",
      "AUPRC: 0.9898671060750107\n"
     ]
    }
   ],
   "source": [
    "%run sc2FitModels.py 'bradykinesia' DummySubmission.csv"
   ]
  },
  {
   "cell_type": "markdown",
   "metadata": {},
   "source": [
    "## Explore data"
   ]
  },
  {
   "cell_type": "code",
   "execution_count": 18,
   "metadata": {
    "collapsed": false
   },
   "outputs": [
    {
     "name": "stdout",
     "output_type": "stream",
     "text": [
      "dataFileHandleId                                              17286072\n",
      "device                                                          Pebble\n",
      "patient                                                         13_BOS\n",
      "session                                                              1\n",
      "site                                                            Boston\n",
      "task                                                             orgpa\n",
      "visit                                                                1\n",
      "deviceSide                                                        Left\n",
      "tremorScore                                                          1\n",
      "dyskinesiaScore                                                    NaN\n",
      "bradykinesiaScore                                                    1\n",
      "path                 /Users/luca/Projects/DREAM_PD/Data/72/17286072...\n",
      "Name: 25834_22, dtype: object\n"
     ]
    },
    {
     "data": {
      "text/plain": [
       "<matplotlib.axes._subplots.AxesSubplot at 0x1132157b8>"
      ]
     },
     "execution_count": 18,
     "metadata": {},
     "output_type": "execute_result"
    },
    {
     "data": {
      "image/png": "[encoded data removed]",
      "text/plain": [
       "<matplotlib.figure.Figure at 0x11060f9e8>"
      ]
     },
     "metadata": {},
     "output_type": "display_data"
    }
   ],
   "source": [
    "#plot task\n",
    "idx=9\n",
    "print(df_train.iloc[idx,:]) \n",
    "p1 = df_train.path[idx]\n",
    "rawdata = pd.read_csv(p1,sep='\\t')\n",
    "rawdata.iloc[:,1:4].plot()"
   ]
  },
  {
   "cell_type": "code",
   "execution_count": 19,
   "metadata": {
    "collapsed": false
   },
   "outputs": [],
   "source": [
    "#durations of tasks\n",
    "c = 0\n",
    "Dur = []\n",
    "for f in df_train.path:\n",
    "    rawdata = pd.read_csv(f,sep='\\t')\n",
    "    t = rawdata.timestamp\n",
    "    t = t-t[0]\n",
    "    rawdata.timestamp = t\n",
    "    Dur.append(rawdata.timestamp.iloc[-1])\n",
    "    c+=1\n",
    "Dur = np.asarray(Dur)"
   ]
  },
  {
   "cell_type": "code",
   "execution_count": 20,
   "metadata": {
    "collapsed": false
   },
   "outputs": [
    {
     "data": {
      "text/plain": [
       "<matplotlib.figure.Figure at 0x113a3fdd8>"
      ]
     },
     "metadata": {},
     "output_type": "display_data"
    },
    {
     "data": {
      "image/png": "[encoded data removed]",
      "text/plain": [
       "<matplotlib.figure.Figure at 0x11065acc0>"
      ]
     },
     "metadata": {},
     "output_type": "display_data"
    }
   ],
   "source": [
    "plt.figure(figsize=(12,4))\n",
    "df_train['Duration']=Dur\n",
    "ax = df_train.hist(column='Duration',by='task',figsize=(12,9))"
   ]
  },
  {
   "cell_type": "code",
   "execution_count": 21,
   "metadata": {
    "collapsed": false
   },
   "outputs": [
    {
     "data": {
      "text/html": [
       "<div>\n",
       "<style>\n",
       "    .dataframe thead tr:only-child th {\n",
       "        text-align: right;\n",
       "    }\n",
       "\n",
       "    .dataframe thead th {\n",
       "        text-align: left;\n",
       "    }\n",
       "\n",
       "    .dataframe tbody tr th {\n",
       "        vertical-align: top;\n",
       "    }\n",
       "</style>\n",
       "<table border=\"1\" class=\"dataframe\">\n",
       "  <thead>\n",
       "    <tr style=\"text-align: right;\">\n",
       "      <th></th>\n",
       "      <th>dataFileHandleId</th>\n",
       "      <th>device</th>\n",
       "      <th>patient</th>\n",
       "      <th>session</th>\n",
       "      <th>site</th>\n",
       "      <th>task</th>\n",
       "      <th>visit</th>\n",
       "      <th>deviceSide</th>\n",
       "      <th>tremorScore</th>\n",
       "      <th>dyskinesiaScore</th>\n",
       "      <th>bradykinesiaScore</th>\n",
       "      <th>path</th>\n",
       "      <th>Duration</th>\n",
       "    </tr>\n",
       "  </thead>\n",
       "  <tbody>\n",
       "    <tr>\n",
       "      <th>25819_22</th>\n",
       "      <td>17286028</td>\n",
       "      <td>GENEActiv</td>\n",
       "      <td>13_BOS</td>\n",
       "      <td>1</td>\n",
       "      <td>Boston</td>\n",
       "      <td>drnkg</td>\n",
       "      <td>1</td>\n",
       "      <td>Right</td>\n",
       "      <td>1</td>\n",
       "      <td>NaN</td>\n",
       "      <td>1</td>\n",
       "      <td>/Users/luca/Projects/DREAM_PD/Data/28/17286028...</td>\n",
       "      <td>38.98</td>\n",
       "    </tr>\n",
       "    <tr>\n",
       "      <th>25820_22</th>\n",
       "      <td>17286030</td>\n",
       "      <td>Pebble</td>\n",
       "      <td>13_BOS</td>\n",
       "      <td>1</td>\n",
       "      <td>Boston</td>\n",
       "      <td>drnkg</td>\n",
       "      <td>1</td>\n",
       "      <td>Left</td>\n",
       "      <td>1</td>\n",
       "      <td>NaN</td>\n",
       "      <td>1</td>\n",
       "      <td>/Users/luca/Projects/DREAM_PD/Data/30/17286030...</td>\n",
       "      <td>38.98</td>\n",
       "    </tr>\n",
       "    <tr>\n",
       "      <th>25821_22</th>\n",
       "      <td>17286034</td>\n",
       "      <td>GENEActiv</td>\n",
       "      <td>13_BOS</td>\n",
       "      <td>1</td>\n",
       "      <td>Boston</td>\n",
       "      <td>fldng</td>\n",
       "      <td>1</td>\n",
       "      <td>Right</td>\n",
       "      <td>2</td>\n",
       "      <td>NaN</td>\n",
       "      <td>1</td>\n",
       "      <td>/Users/luca/Projects/DREAM_PD/Data/34/17286034...</td>\n",
       "      <td>101.98</td>\n",
       "    </tr>\n",
       "    <tr>\n",
       "      <th>25822_22</th>\n",
       "      <td>17286036</td>\n",
       "      <td>Pebble</td>\n",
       "      <td>13_BOS</td>\n",
       "      <td>1</td>\n",
       "      <td>Boston</td>\n",
       "      <td>fldng</td>\n",
       "      <td>1</td>\n",
       "      <td>Left</td>\n",
       "      <td>1</td>\n",
       "      <td>NaN</td>\n",
       "      <td>1</td>\n",
       "      <td>/Users/luca/Projects/DREAM_PD/Data/36/17286036...</td>\n",
       "      <td>101.98</td>\n",
       "    </tr>\n",
       "    <tr>\n",
       "      <th>25824_22</th>\n",
       "      <td>17286042</td>\n",
       "      <td>Pebble</td>\n",
       "      <td>13_BOS</td>\n",
       "      <td>1</td>\n",
       "      <td>Boston</td>\n",
       "      <td>ftnl1</td>\n",
       "      <td>1</td>\n",
       "      <td>Left</td>\n",
       "      <td>2</td>\n",
       "      <td>NaN</td>\n",
       "      <td>1</td>\n",
       "      <td>/Users/luca/Projects/DREAM_PD/Data/42/17286042...</td>\n",
       "      <td>17.98</td>\n",
       "    </tr>\n",
       "  </tbody>\n",
       "</table>\n",
       "</div>"
      ],
      "text/plain": [
       "          dataFileHandleId     device patient  session    site   task  visit  \\\n",
       "25819_22          17286028  GENEActiv  13_BOS        1  Boston  drnkg      1   \n",
       "25820_22          17286030     Pebble  13_BOS        1  Boston  drnkg      1   \n",
       "25821_22          17286034  GENEActiv  13_BOS        1  Boston  fldng      1   \n",
       "25822_22          17286036     Pebble  13_BOS        1  Boston  fldng      1   \n",
       "25824_22          17286042     Pebble  13_BOS        1  Boston  ftnl1      1   \n",
       "\n",
       "         deviceSide  tremorScore  dyskinesiaScore  bradykinesiaScore  \\\n",
       "25819_22      Right            1              NaN                  1   \n",
       "25820_22       Left            1              NaN                  1   \n",
       "25821_22      Right            2              NaN                  1   \n",
       "25822_22       Left            1              NaN                  1   \n",
       "25824_22       Left            2              NaN                  1   \n",
       "\n",
       "                                                       path  Duration  \n",
       "25819_22  /Users/luca/Projects/DREAM_PD/Data/28/17286028...     38.98  \n",
       "25820_22  /Users/luca/Projects/DREAM_PD/Data/30/17286030...     38.98  \n",
       "25821_22  /Users/luca/Projects/DREAM_PD/Data/34/17286034...    101.98  \n",
       "25822_22  /Users/luca/Projects/DREAM_PD/Data/36/17286036...    101.98  \n",
       "25824_22  /Users/luca/Projects/DREAM_PD/Data/42/17286042...     17.98  "
      ]
     },
     "execution_count": 21,
     "metadata": {},
     "output_type": "execute_result"
    }
   ],
   "source": [
    "df_train.head()"
   ]
  },
  {
   "cell_type": "code",
   "execution_count": 22,
   "metadata": {
    "collapsed": true
   },
   "outputs": [],
   "source": [
    "#save dataframe with numerical metadata\n",
    "df_train.to_csv('./DataFrames/df_train_brady.csv')"
   ]
  },
  {
   "cell_type": "code",
   "execution_count": 124,
   "metadata": {
    "collapsed": false,
    "scrolled": true
   },
   "outputs": [],
   "source": [
    "# #display duration based on presence of bradykinesia\n",
    "# for t in df_train.task.unique():\n",
    "#     fig = plt.figure()\n",
    "#     for i in range(2):\n",
    "#         d = df_train[(df_train['bradykinesiaScore']==i) & (df_train['task']==t)]\n",
    "#         if ~d.empty:\n",
    "#             try:\n",
    "#                 sns.distplot(d['Duration'])\n",
    "#             except(ZeroDivisionError):\n",
    "#                 print(d.empty)\n",
    "#     plt.title(t)"
   ]
  },
  {
   "cell_type": "markdown",
   "metadata": {},
   "source": [
    "## Try Metadata features + Duration feature"
   ]
  },
  {
   "cell_type": "code",
   "execution_count": 24,
   "metadata": {
    "collapsed": false
   },
   "outputs": [],
   "source": [
    "X_meta['Duration']=df_train['Duration']"
   ]
  },
  {
   "cell_type": "code",
   "execution_count": 25,
   "metadata": {
    "collapsed": false
   },
   "outputs": [
    {
     "data": {
      "text/html": [
       "<div>\n",
       "<style>\n",
       "    .dataframe thead tr:only-child th {\n",
       "        text-align: right;\n",
       "    }\n",
       "\n",
       "    .dataframe thead th {\n",
       "        text-align: left;\n",
       "    }\n",
       "\n",
       "    .dataframe tbody tr th {\n",
       "        vertical-align: top;\n",
       "    }\n",
       "</style>\n",
       "<table border=\"1\" class=\"dataframe\">\n",
       "  <thead>\n",
       "    <tr style=\"text-align: right;\">\n",
       "      <th></th>\n",
       "      <th>dataFileHandleId</th>\n",
       "      <th>device</th>\n",
       "      <th>patient</th>\n",
       "      <th>session</th>\n",
       "      <th>site</th>\n",
       "      <th>task</th>\n",
       "      <th>visit</th>\n",
       "      <th>deviceSide</th>\n",
       "      <th>Duration</th>\n",
       "    </tr>\n",
       "  </thead>\n",
       "  <tbody>\n",
       "    <tr>\n",
       "      <th>25819_22</th>\n",
       "      <td>17286028</td>\n",
       "      <td>0</td>\n",
       "      <td>2</td>\n",
       "      <td>1</td>\n",
       "      <td>0</td>\n",
       "      <td>0</td>\n",
       "      <td>1</td>\n",
       "      <td>1</td>\n",
       "      <td>38.98</td>\n",
       "    </tr>\n",
       "    <tr>\n",
       "      <th>25820_22</th>\n",
       "      <td>17286030</td>\n",
       "      <td>1</td>\n",
       "      <td>2</td>\n",
       "      <td>1</td>\n",
       "      <td>0</td>\n",
       "      <td>0</td>\n",
       "      <td>1</td>\n",
       "      <td>0</td>\n",
       "      <td>38.98</td>\n",
       "    </tr>\n",
       "    <tr>\n",
       "      <th>25821_22</th>\n",
       "      <td>17286034</td>\n",
       "      <td>0</td>\n",
       "      <td>2</td>\n",
       "      <td>1</td>\n",
       "      <td>0</td>\n",
       "      <td>1</td>\n",
       "      <td>1</td>\n",
       "      <td>1</td>\n",
       "      <td>101.98</td>\n",
       "    </tr>\n",
       "    <tr>\n",
       "      <th>25822_22</th>\n",
       "      <td>17286036</td>\n",
       "      <td>1</td>\n",
       "      <td>2</td>\n",
       "      <td>1</td>\n",
       "      <td>0</td>\n",
       "      <td>1</td>\n",
       "      <td>1</td>\n",
       "      <td>0</td>\n",
       "      <td>101.98</td>\n",
       "    </tr>\n",
       "    <tr>\n",
       "      <th>25824_22</th>\n",
       "      <td>17286042</td>\n",
       "      <td>1</td>\n",
       "      <td>2</td>\n",
       "      <td>1</td>\n",
       "      <td>0</td>\n",
       "      <td>2</td>\n",
       "      <td>1</td>\n",
       "      <td>0</td>\n",
       "      <td>17.98</td>\n",
       "    </tr>\n",
       "  </tbody>\n",
       "</table>\n",
       "</div>"
      ],
      "text/plain": [
       "          dataFileHandleId  device  patient  session  site  task  visit  \\\n",
       "25819_22          17286028       0        2        1     0     0      1   \n",
       "25820_22          17286030       1        2        1     0     0      1   \n",
       "25821_22          17286034       0        2        1     0     1      1   \n",
       "25822_22          17286036       1        2        1     0     1      1   \n",
       "25824_22          17286042       1        2        1     0     2      1   \n",
       "\n",
       "          deviceSide  Duration  \n",
       "25819_22           1     38.98  \n",
       "25820_22           0     38.98  \n",
       "25821_22           1    101.98  \n",
       "25822_22           0    101.98  \n",
       "25824_22           0     17.98  "
      ]
     },
     "execution_count": 25,
     "metadata": {},
     "output_type": "execute_result"
    }
   ],
   "source": [
    "X_meta.head()"
   ]
  },
  {
   "cell_type": "code",
   "execution_count": 963,
   "metadata": {
    "collapsed": true
   },
   "outputs": [],
   "source": [
    "X = X_meta\n",
    "scaler = StandardScaler()\n",
    "X.iloc[:,-1]=scaler.fit_transform(X.iloc[:,8:])"
   ]
  },
  {
   "cell_type": "code",
   "execution_count": 965,
   "metadata": {
    "collapsed": false
   },
   "outputs": [],
   "source": [
    "X.to_csv('Meta_wDur.csv',index=False)"
   ]
  },
  {
   "cell_type": "code",
   "execution_count": 966,
   "metadata": {
    "collapsed": false,
    "scrolled": false
   },
   "outputs": [
    {
     "name": "stdout",
     "output_type": "stream",
     "text": [
      "Welcome, Luca Lonini!\n",
      "\n",
      "AUPRC: [0.94398336312474074, 0.1478882617202292, 0.94182279342107333, 0.96200299957554858, 0.77537483776358485, 0.99019019019019017, 0.99118165784832446, 0.9531456387497157, 0.41141654065110317, 0.98894009216589862, 0.34097351815805521, 0.4423668371328594, 0.18253298531557141, 0.90168575227823167, 0.75958758503401358, 0.4158965898076592, 0.95355067798597348, 0.28619378306878307, 0.98987841405218802]\n"
     ]
    }
   ],
   "source": [
    "%run sc2FitModels_LOSOCV.py 'bradykinesia' Meta_wDur.csv"
   ]
  },
  {
   "cell_type": "code",
   "execution_count": 840,
   "metadata": {
    "collapsed": false
   },
   "outputs": [
    {
     "name": "stdout",
     "output_type": "stream",
     "text": [
      "Welcome, Luca Lonini!\n",
      "\n",
      "AUPRC: [0.96418540805444453, 0.14027760685472601, 0.93497830075740962, 0.95911290159512474, 0.88405791313831983, 0.99019019019019017, 0.99118165784832446, 0.95310487912775166, 0.53794863427354733, 0.98894009216589862, 0.3443364414391421, 0.43842766253874399, 0.20572814485384885, 0.90425993036445451, 0.81553996598639455, 0.48223919859596359, 0.97285450032294607, 0.23109434865900383, 0.98636489479512734]\n"
     ]
    }
   ],
   "source": [
    "%run sc2FitModels_LOSOCV.py 'bradykinesia' DummySubmission.csv"
   ]
  },
  {
   "cell_type": "code",
   "execution_count": 964,
   "metadata": {
    "collapsed": false,
    "scrolled": true
   },
   "outputs": [
    {
     "data": {
      "text/html": [
       "<div>\n",
       "<style>\n",
       "    .dataframe thead tr:only-child th {\n",
       "        text-align: right;\n",
       "    }\n",
       "\n",
       "    .dataframe thead th {\n",
       "        text-align: left;\n",
       "    }\n",
       "\n",
       "    .dataframe tbody tr th {\n",
       "        vertical-align: top;\n",
       "    }\n",
       "</style>\n",
       "<table border=\"1\" class=\"dataframe\">\n",
       "  <thead>\n",
       "    <tr style=\"text-align: right;\">\n",
       "      <th></th>\n",
       "      <th>dataFileHandleId</th>\n",
       "      <th>device</th>\n",
       "      <th>patient</th>\n",
       "      <th>session</th>\n",
       "      <th>site</th>\n",
       "      <th>task</th>\n",
       "      <th>visit</th>\n",
       "      <th>deviceSide</th>\n",
       "      <th>Duration</th>\n",
       "    </tr>\n",
       "  </thead>\n",
       "  <tbody>\n",
       "    <tr>\n",
       "      <th>25819_22</th>\n",
       "      <td>17286028</td>\n",
       "      <td>0</td>\n",
       "      <td>2</td>\n",
       "      <td>1</td>\n",
       "      <td>0</td>\n",
       "      <td>0</td>\n",
       "      <td>1</td>\n",
       "      <td>1</td>\n",
       "      <td>1.042534</td>\n",
       "    </tr>\n",
       "    <tr>\n",
       "      <th>25820_22</th>\n",
       "      <td>17286030</td>\n",
       "      <td>1</td>\n",
       "      <td>2</td>\n",
       "      <td>1</td>\n",
       "      <td>0</td>\n",
       "      <td>0</td>\n",
       "      <td>1</td>\n",
       "      <td>0</td>\n",
       "      <td>1.042534</td>\n",
       "    </tr>\n",
       "    <tr>\n",
       "      <th>25821_22</th>\n",
       "      <td>17286034</td>\n",
       "      <td>0</td>\n",
       "      <td>2</td>\n",
       "      <td>1</td>\n",
       "      <td>0</td>\n",
       "      <td>1</td>\n",
       "      <td>1</td>\n",
       "      <td>1</td>\n",
       "      <td>6.784089</td>\n",
       "    </tr>\n",
       "    <tr>\n",
       "      <th>25822_22</th>\n",
       "      <td>17286036</td>\n",
       "      <td>1</td>\n",
       "      <td>2</td>\n",
       "      <td>1</td>\n",
       "      <td>0</td>\n",
       "      <td>1</td>\n",
       "      <td>1</td>\n",
       "      <td>0</td>\n",
       "      <td>6.784089</td>\n",
       "    </tr>\n",
       "    <tr>\n",
       "      <th>25824_22</th>\n",
       "      <td>17286042</td>\n",
       "      <td>1</td>\n",
       "      <td>2</td>\n",
       "      <td>1</td>\n",
       "      <td>0</td>\n",
       "      <td>2</td>\n",
       "      <td>1</td>\n",
       "      <td>0</td>\n",
       "      <td>-0.871318</td>\n",
       "    </tr>\n",
       "  </tbody>\n",
       "</table>\n",
       "</div>"
      ],
      "text/plain": [
       "          dataFileHandleId  device  patient  session  site  task  visit  \\\n",
       "25819_22          17286028       0        2        1     0     0      1   \n",
       "25820_22          17286030       1        2        1     0     0      1   \n",
       "25821_22          17286034       0        2        1     0     1      1   \n",
       "25822_22          17286036       1        2        1     0     1      1   \n",
       "25824_22          17286042       1        2        1     0     2      1   \n",
       "\n",
       "          deviceSide  Duration  \n",
       "25819_22           1  1.042534  \n",
       "25820_22           0  1.042534  \n",
       "25821_22           1  6.784089  \n",
       "25822_22           0  6.784089  \n",
       "25824_22           0 -0.871318  "
      ]
     },
     "execution_count": 964,
     "metadata": {},
     "output_type": "execute_result"
    }
   ],
   "source": [
    "X.head()"
   ]
  },
  {
   "cell_type": "markdown",
   "metadata": {},
   "source": [
    "## Clips generation and feature extraction"
   ]
  },
  {
   "cell_type": "markdown",
   "metadata": {},
   "source": [
    "### Test fcns"
   ]
  },
  {
   "cell_type": "code",
   "execution_count": 568,
   "metadata": {
    "collapsed": false
   },
   "outputs": [
    {
     "name": "stdout",
     "output_type": "stream",
     "text": [
      "dataFileHandleId                                              17286028\n",
      "device                                                       GENEActiv\n",
      "patient                                                         13_BOS\n",
      "session                                                              1\n",
      "site                                                            Boston\n",
      "task                                                             drnkg\n",
      "visit                                                                1\n",
      "deviceSide                                                       Right\n",
      "tremorScore                                                          1\n",
      "dyskinesiaScore                                                    NaN\n",
      "bradykinesiaScore                                                    1\n",
      "path                 /Users/luca/Projects/DREAM_PD/Data/28/17286028...\n",
      "Duration                                                         38.98\n",
      "Name: 25819_22, dtype: object\n"
     ]
    },
    {
     "data": {
      "image/png": "[encoded data removed]",
      "text/plain": [
       "<matplotlib.figure.Figure at 0x142158a58>"
      ]
     },
     "metadata": {},
     "output_type": "display_data"
    }
   ],
   "source": [
    "#plot task\n",
    "idx=0\n",
    "print(df_train.iloc[idx,:]) \n",
    "p1 = df_train.path[idx]\n",
    "rawdata = pd.read_csv(p1,sep='\\t')\n",
    "rawdata = filter_signal(rawdata,order=2)\n",
    "ax = rawdata.plot(x='timestamp')"
   ]
  },
  {
   "cell_type": "code",
   "execution_count": 138,
   "metadata": {
    "collapsed": false
   },
   "outputs": [],
   "source": [
    "# #TEST FEATURE EXTRACTION\n",
    "# #cycle through all clips for current trial and save dataframe of features for current trial and sensor\n",
    "# features = []\n",
    "\n",
    "# #drop time and magnitude feature\n",
    "# rawdata_wtime = rawdata.copy()\n",
    "# rawdata=rawdata.iloc[:,1:4]\n",
    "\n",
    "\n",
    "# #extract features on current clip\n",
    "\n",
    "# #Energy of signal on each axis\n",
    "# E = np.asarray(np.sum(rawdata**2,axis=0))\n",
    "\n",
    "# #range on each axis\n",
    "# min_xyz = np.min(rawdata,axis=0)\n",
    "# max_xyz = np.max(rawdata,axis=0)\n",
    "# r = np.asarray(max_xyz-min_xyz)\n",
    "\n",
    "# #Moments on each axis\n",
    "# mean = np.asarray(np.mean(rawdata,axis=0))\n",
    "# var = np.asarray(np.std(rawdata,axis=0))\n",
    "# sk = skew(rawdata)\n",
    "# kurt = kurtosis(rawdata)\n",
    "\n",
    "# #Cross-correlation between axes pairs\n",
    "# xcorr_xy = np.correlate(rawdata.iloc[:,0],rawdata.iloc[:,1],mode='same')\n",
    "# xcorr_xy = xcorr_xy/np.sum(xcorr_xy) #normalize values\n",
    "# xcorr_peak_xy = np.max(xcorr_xy)\n",
    "# xcorr_lag_xy = (np.argmax(xcorr_xy))/len(xcorr_xy) #normalized lag\n",
    "\n",
    "# xcorr_xz = np.correlate(rawdata.iloc[:,0],rawdata.iloc[:,2],mode='same')\n",
    "# xcorr_xz = xcorr_xz/np.sum(xcorr_xz) #normalize values\n",
    "# xcorr_peak_xz = np.max(xcorr_xz)\n",
    "# xcorr_lag_xz = (np.argmax(xcorr_xz))/len(xcorr_xz)\n",
    "\n",
    "# xcorr_yz = np.correlate(rawdata.iloc[:,1],rawdata.iloc[:,2],mode='same')\n",
    "# xcorr_yz = xcorr_yz/np.sum(xcorr_yz) #normalize values\n",
    "# xcorr_peak_yz = np.max(xcorr_yz)\n",
    "# xcorr_lag_yz = (np.argmax(xcorr_yz))/len(xcorr_yz)\n",
    "\n",
    "# #pack xcorr features\n",
    "# xcorr_peak = np.array([xcorr_peak_xy,xcorr_peak_xz,xcorr_peak_yz])\n",
    "# xcorr_lag = np.array([xcorr_lag_xy,xcorr_lag_xz,xcorr_lag_yz])\n",
    "\n",
    "# #jerk moments on magnitude\n",
    "# jerk = np.asarray(rawdata.iloc[:,-1].diff())\n",
    "# jerk_moments = np.array([np.nanmean(jerk),np.nanstd(jerk),skew(jerk[~np.isnan(jerk)]),kurtosis(jerk[~np.isnan(jerk)])])\n",
    "\n",
    "# #Dominant freq and relative magnitude (on acc magnitude)\n",
    "# Pxx = power_spectra_welch(rawdata_wtime,fm=1,fM=10)\n",
    "# domfreq = np.asarray([Pxx.iloc[:,-1].argmax()]) \n",
    "# Pdom_rel = Pxx.loc[domfreq].iloc[:,-1].values/Pxx.iloc[:,-1].sum() #power at dominant freq rel to total\n",
    "\n",
    "# #moments of PSD\n",
    "# Pxx_moments = np.array([np.nanmean(Pxx.values),np.nanstd(Pxx.values),skew(Pxx.values),kurtosis(Pxx.values)])\n",
    "\n",
    "# #Assemble features in array\n",
    "# X = np.concatenate((E,r,mean,var,sk,kurt,xcorr_peak,xcorr_lag,domfreq,Pdom_rel,jerk_moments,Pxx_moments))\n",
    "# #                 X = X.reshape(1,X.shape[0])\n",
    "# features.append(X)\n",
    "\n",
    "# F = np.asarray(features) #feature matrix for all clips from current trial"
   ]
  },
  {
   "cell_type": "code",
   "execution_count": 48,
   "metadata": {
    "collapsed": false
   },
   "outputs": [],
   "source": [
    "Pxx = power_spectra_welch(rawdata,fm=1,fM=10)\n",
    "domfreq = np.asarray([Pxx.iloc[:,-1].argmax()]) \n",
    "Pdom_rel = Pxx.loc[domfreq].iloc[:,-1].values/Pxx.iloc[:,-1].sum() #power at dominant freq rel to total"
   ]
  },
  {
   "cell_type": "code",
   "execution_count": 27,
   "metadata": {
    "collapsed": false
   },
   "outputs": [
    {
     "data": {
      "image/png": "[encoded data removed]",
      "text/plain": [
       "<matplotlib.figure.Figure at 0x116f3bef0>"
      ]
     },
     "metadata": {},
     "output_type": "display_data"
    }
   ],
   "source": [
    "Pxx,fl=powerspectra(rawdata,1,10,nbins=10)\n",
    "ax = Pxx.plot(subplots=True)"
   ]
  },
  {
   "cell_type": "code",
   "execution_count": 28,
   "metadata": {
    "collapsed": false,
    "scrolled": true
   },
   "outputs": [
    {
     "data": {
      "image/png": "[encoded data removed]",
      "text/plain": [
       "<matplotlib.figure.Figure at 0x116f3b898>"
      ]
     },
     "metadata": {},
     "output_type": "display_data"
    }
   ],
   "source": [
    "Pxx,fl=powerspectra(rawdata,1,10,nbins=50)\n",
    "ax = Pxx.plot(subplots=True)"
   ]
  },
  {
   "cell_type": "code",
   "execution_count": 26,
   "metadata": {
    "collapsed": false
   },
   "outputs": [
    {
     "data": {
      "text/plain": [
       "array([ 1.3])"
      ]
     },
     "execution_count": 26,
     "metadata": {},
     "output_type": "execute_result"
    }
   ],
   "source": [
    "domfreq = np.asarray([Pxx.iloc[:,-1].argmax()])\n",
    "domfreq"
   ]
  },
  {
   "cell_type": "code",
   "execution_count": 27,
   "metadata": {
    "collapsed": false
   },
   "outputs": [
    {
     "data": {
      "text/plain": [
       "array([ 0.47673788])"
      ]
     },
     "execution_count": 27,
     "metadata": {},
     "output_type": "execute_result"
    }
   ],
   "source": [
    "Pxx.loc[domfreq].iloc[:,-1].values/Pxx.iloc[:,-1].sum()"
   ]
  },
  {
   "cell_type": "markdown",
   "metadata": {},
   "source": [
    "## Compute features on all rows and time it"
   ]
  },
  {
   "cell_type": "markdown",
   "metadata": {},
   "source": [
    "#### Test on 1 row"
   ]
  },
  {
   "cell_type": "code",
   "execution_count": 133,
   "metadata": {
    "collapsed": false
   },
   "outputs": [],
   "source": [
    "F,flist = feature_extraction(rawdata)"
   ]
  },
  {
   "cell_type": "code",
   "execution_count": 134,
   "metadata": {
    "collapsed": false
   },
   "outputs": [
    {
     "data": {
      "text/plain": [
       "(1, 34)"
      ]
     },
     "execution_count": 134,
     "metadata": {},
     "output_type": "execute_result"
    }
   ],
   "source": [
    "F.shape"
   ]
  },
  {
   "cell_type": "code",
   "execution_count": 139,
   "metadata": {
    "collapsed": false,
    "scrolled": true
   },
   "outputs": [
    {
     "name": "stdout",
     "output_type": "stream",
     "text": [
      "0\n",
      "1000\n",
      "2000\n",
      "3000\n",
      "Elapsed Time:[s] 50.8\n",
      "Files w nans: 190\n",
      "Files w 0 non-nan rows 103\n",
      "Tot rows: 3016\n"
     ]
    }
   ],
   "source": [
    "row = 0\n",
    "nans_found=0; n_empty=0\n",
    "Features = []\n",
    "t1 = time.time()\n",
    "# for f in df_train.path:\n",
    "for i in range(len(df_train)):\n",
    "\n",
    "    f = df_train.iloc[i,:].path\n",
    "    if row%1000==0:\n",
    "        print(row)\n",
    "    rawdata = pd.read_csv(f,sep='\\t') #load file\n",
    "   \n",
    "    #remove nans\n",
    "    rawdata = rawdata.astype('float64') #make sure everything is float\n",
    "    if sum(np.sum(rawdata.isnull())) > 0:\n",
    "        nans_found+=1 # of files w nans\n",
    "        rawdata = rawdata.dropna() #drop nans\n",
    "        \n",
    "    #compute features if at least one data point is there\n",
    "    if rawdata.empty != True:\n",
    "        #reindex timestamp data relative to start \n",
    "        t = rawdata.timestamp\n",
    "        t = t-t.iloc[0]\n",
    "        rawdata.timestamp = t\n",
    "\n",
    "        #HP filter data (remove gravity)\n",
    "        rawdata = filter_signal(rawdata,order=2)\n",
    "\n",
    "        #compute features on entire recording\n",
    "        try:\n",
    "            F,flist = feature_extraction(rawdata)\n",
    "            Features.append(F)\n",
    "        except(TypeError):\n",
    "            print('found incompatible datatype')\n",
    "    else:\n",
    "        F = np.empty((1,len(flist))) #empty array of features\n",
    "        F[:]=np.nan\n",
    "        Features.append(F)\n",
    "        n_empty+=1\n",
    "\n",
    "    row+=1\n",
    "        \n",
    "elapsed = time.time()-t1\n",
    "print('Elapsed Time:[s] %.1f'%elapsed)\n",
    "print('Files w nans: %d'%nans_found)\n",
    "print('Files w 0 non-nan rows %d'%n_empty)\n",
    "print('Tot rows: %d'%row)"
   ]
  },
  {
   "cell_type": "code",
   "execution_count": 140,
   "metadata": {
    "collapsed": false
   },
   "outputs": [
    {
     "name": "stdout",
     "output_type": "stream",
     "text": [
      "(3016, 34)\n"
     ]
    }
   ],
   "source": [
    "Features = np.asarray(Features)\n",
    "Features = Features.squeeze(axis=1)\n",
    "print(Features.shape)"
   ]
  },
  {
   "cell_type": "markdown",
   "metadata": {},
   "source": [
    "## Compute features on windows and take stats over windows"
   ]
  },
  {
   "cell_type": "code",
   "execution_count": 692,
   "metadata": {
    "collapsed": false
   },
   "outputs": [
    {
     "name": "stdout",
     "output_type": "stream",
     "text": [
      "0\n",
      "1000\n",
      "2000\n",
      "3000\n",
      "Elapsed Time:[s] 134.1\n",
      "Files w nans: 190\n",
      "Files w 0 non-nan rows 103\n",
      "Tot rows: 3016\n"
     ]
    }
   ],
   "source": [
    "row = 0\n",
    "nans_found=0; n_empty=0\n",
    "max_nans = []\n",
    "Features = []; \n",
    "t1 = time.time()\n",
    "# for f in df_train.path:\n",
    "for i in range(len(df_train)):\n",
    "\n",
    "    f = df_train.iloc[i,:].path\n",
    "    if row%1000==0:\n",
    "        print(row)\n",
    "    rawdata = pd.read_csv(f,sep='\\t') #load file\n",
    "   \n",
    "    #remove nans\n",
    "    rawdata = rawdata.astype('float64') #make sure everything is float\n",
    "    if sum(np.sum(rawdata.isnull())) > 0:\n",
    "        nans_found+=1 # of files w nans\n",
    "        if np.sum(rawdata.isnull()).max() < len(rawdata):\n",
    "            max_nans.append((np.sum(rawdata.isnull()).max())/len(rawdata))\n",
    "        rawdata = rawdata.dropna() #drop nans\n",
    "        \n",
    "    #compute features if at least one data point is there\n",
    "    if rawdata.empty != True:\n",
    "        #reindex timestamp data relative to start \n",
    "        t = rawdata.timestamp\n",
    "        t = t-t.iloc[0]\n",
    "        rawdata.timestamp = t\n",
    "\n",
    "        #HP filter data (remove gravity)\n",
    "        rawdata = filter_signal(rawdata,order=2)\n",
    "\n",
    "        #compute features on each clip and stats over clips\n",
    "        try:\n",
    "            Fclips=[]\n",
    "            clips = gen_clips(rawdata,overlap=0) #take clips\n",
    "            for clip in clips:\n",
    "                F,flist = feature_extraction(clip)\n",
    "                Fclips.append(F) #the features from all the clips\n",
    "            #stack mean and std over clips\n",
    "            flist = flist+['s_'+n for n in flist] #update feature list w std\n",
    "            Fmean = np.mean(Fclips,axis=0)\n",
    "            Fstd = np.std(Fclips,axis=0)\n",
    "            F = np.hstack((Fmean,Fstd))\n",
    "            if F.size != 52:\n",
    "                print(F.shape)\n",
    "                sys.exit()\n",
    "            Features.append(F)\n",
    "        except(TypeError):\n",
    "            print('found incompatible datatype')\n",
    "            \n",
    "    else:\n",
    "        F = np.empty((1,len(flist))) #empty array of features\n",
    "        F[:]=np.nan\n",
    "        Features.append(F)\n",
    "        n_empty+=1\n",
    "\n",
    "    row+=1\n",
    "        \n",
    "elapsed = time.time()-t1\n",
    "print('Elapsed Time:[s] %.1f'%elapsed)\n",
    "print('Files w nans: %d'%nans_found)\n",
    "print('Files w 0 non-nan rows %d'%n_empty)\n",
    "print('Tot rows: %d'%row)"
   ]
  },
  {
   "cell_type": "code",
   "execution_count": 630,
   "metadata": {
    "collapsed": false,
    "scrolled": true
   },
   "outputs": [
    {
     "data": {
      "text/plain": [
       "(array([ 44.,   8.,   7.,   5.,   4.,   2.,   2.,   5.,   7.,   3.]),\n",
       " array([  4.87804878e-04,   9.77467167e-02,   1.95005629e-01,\n",
       "          2.92264540e-01,   3.89523452e-01,   4.86782364e-01,\n",
       "          5.84041276e-01,   6.81300188e-01,   7.78559099e-01,\n",
       "          8.75818011e-01,   9.73076923e-01]),\n",
       " <a list of 10 Patch objects>)"
      ]
     },
     "execution_count": 630,
     "metadata": {},
     "output_type": "execute_result"
    },
    {
     "data": {
      "image/png": "[encoded data removed]",
      "text/plain": [
       "<matplotlib.figure.Figure at 0x11eb33dd8>"
      ]
     },
     "metadata": {},
     "output_type": "display_data"
    }
   ],
   "source": [
    "plt.hist(np.asarray(max_nans))"
   ]
  },
  {
   "cell_type": "code",
   "execution_count": 696,
   "metadata": {
    "collapsed": false
   },
   "outputs": [
    {
     "name": "stdout",
     "output_type": "stream",
     "text": [
      "(3016, 52)\n"
     ]
    }
   ],
   "source": [
    "Features = np.asarray(Features)\n",
    "Features = Features.squeeze(axis=1)\n",
    "print(Features.shape)"
   ]
  },
  {
   "cell_type": "markdown",
   "metadata": {},
   "source": [
    "### append feature to df_train"
   ]
  },
  {
   "cell_type": "code",
   "execution_count": 141,
   "metadata": {
    "collapsed": false
   },
   "outputs": [],
   "source": [
    "df_feat = pd.DataFrame(data=Features,columns=flist,dtype='float64')\n",
    "df_feat.index = df_train.index\n",
    "df_train = pd.concat((df_train,df_feat),axis=1)"
   ]
  },
  {
   "cell_type": "code",
   "execution_count": 188,
   "metadata": {
    "collapsed": false
   },
   "outputs": [
    {
     "data": {
      "text/html": [
       "<div>\n",
       "<style>\n",
       "    .dataframe thead tr:only-child th {\n",
       "        text-align: right;\n",
       "    }\n",
       "\n",
       "    .dataframe thead th {\n",
       "        text-align: left;\n",
       "    }\n",
       "\n",
       "    .dataframe tbody tr th {\n",
       "        vertical-align: top;\n",
       "    }\n",
       "</style>\n",
       "<table border=\"1\" class=\"dataframe\">\n",
       "  <thead>\n",
       "    <tr style=\"text-align: right;\">\n",
       "      <th></th>\n",
       "      <th>dataFileHandleId</th>\n",
       "      <th>device</th>\n",
       "      <th>patient</th>\n",
       "      <th>session</th>\n",
       "      <th>site</th>\n",
       "      <th>task</th>\n",
       "      <th>visit</th>\n",
       "      <th>deviceSide</th>\n",
       "      <th>tremorScore</th>\n",
       "      <th>dyskinesiaScore</th>\n",
       "      <th>...</th>\n",
       "      <th>Dom_freq</th>\n",
       "      <th>Pdom_rel</th>\n",
       "      <th>PSD_mean</th>\n",
       "      <th>PSD_std</th>\n",
       "      <th>PSD_skew</th>\n",
       "      <th>PSD_kur</th>\n",
       "      <th>jerk_mean</th>\n",
       "      <th>jerk_std</th>\n",
       "      <th>jerk_skew</th>\n",
       "      <th>jerk_kur</th>\n",
       "    </tr>\n",
       "  </thead>\n",
       "  <tbody>\n",
       "    <tr>\n",
       "      <th>25819_22</th>\n",
       "      <td>17286028</td>\n",
       "      <td>GENEActiv</td>\n",
       "      <td>13_BOS</td>\n",
       "      <td>1</td>\n",
       "      <td>Boston</td>\n",
       "      <td>drnkg</td>\n",
       "      <td>1</td>\n",
       "      <td>Right</td>\n",
       "      <td>1</td>\n",
       "      <td>NaN</td>\n",
       "      <td>...</td>\n",
       "      <td>1.562500</td>\n",
       "      <td>0.043495</td>\n",
       "      <td>0.003869</td>\n",
       "      <td>0.001502</td>\n",
       "      <td>0.245445</td>\n",
       "      <td>-0.344417</td>\n",
       "      <td>0.000017</td>\n",
       "      <td>0.360148</td>\n",
       "      <td>1.344217</td>\n",
       "      <td>51.836805</td>\n",
       "    </tr>\n",
       "    <tr>\n",
       "      <th>25820_22</th>\n",
       "      <td>17286030</td>\n",
       "      <td>Pebble</td>\n",
       "      <td>13_BOS</td>\n",
       "      <td>1</td>\n",
       "      <td>Boston</td>\n",
       "      <td>drnkg</td>\n",
       "      <td>1</td>\n",
       "      <td>Left</td>\n",
       "      <td>1</td>\n",
       "      <td>NaN</td>\n",
       "      <td>...</td>\n",
       "      <td>1.367187</td>\n",
       "      <td>0.143907</td>\n",
       "      <td>0.050698</td>\n",
       "      <td>0.072788</td>\n",
       "      <td>2.379819</td>\n",
       "      <td>5.293353</td>\n",
       "      <td>-0.000185</td>\n",
       "      <td>0.508781</td>\n",
       "      <td>0.701911</td>\n",
       "      <td>10.937510</td>\n",
       "    </tr>\n",
       "    <tr>\n",
       "      <th>25821_22</th>\n",
       "      <td>17286034</td>\n",
       "      <td>GENEActiv</td>\n",
       "      <td>13_BOS</td>\n",
       "      <td>1</td>\n",
       "      <td>Boston</td>\n",
       "      <td>fldng</td>\n",
       "      <td>1</td>\n",
       "      <td>Right</td>\n",
       "      <td>2</td>\n",
       "      <td>NaN</td>\n",
       "      <td>...</td>\n",
       "      <td>2.343750</td>\n",
       "      <td>0.045680</td>\n",
       "      <td>0.042349</td>\n",
       "      <td>0.016684</td>\n",
       "      <td>1.081894</td>\n",
       "      <td>0.570791</td>\n",
       "      <td>-0.000019</td>\n",
       "      <td>0.410676</td>\n",
       "      <td>-0.106500</td>\n",
       "      <td>4.133854</td>\n",
       "    </tr>\n",
       "    <tr>\n",
       "      <th>25822_22</th>\n",
       "      <td>17286036</td>\n",
       "      <td>Pebble</td>\n",
       "      <td>13_BOS</td>\n",
       "      <td>1</td>\n",
       "      <td>Boston</td>\n",
       "      <td>fldng</td>\n",
       "      <td>1</td>\n",
       "      <td>Left</td>\n",
       "      <td>1</td>\n",
       "      <td>NaN</td>\n",
       "      <td>...</td>\n",
       "      <td>1.562500</td>\n",
       "      <td>0.089059</td>\n",
       "      <td>0.039644</td>\n",
       "      <td>0.040317</td>\n",
       "      <td>1.566515</td>\n",
       "      <td>1.400621</td>\n",
       "      <td>0.000006</td>\n",
       "      <td>0.470394</td>\n",
       "      <td>-0.767359</td>\n",
       "      <td>13.588961</td>\n",
       "    </tr>\n",
       "    <tr>\n",
       "      <th>25824_22</th>\n",
       "      <td>17286042</td>\n",
       "      <td>Pebble</td>\n",
       "      <td>13_BOS</td>\n",
       "      <td>1</td>\n",
       "      <td>Boston</td>\n",
       "      <td>ftnl1</td>\n",
       "      <td>1</td>\n",
       "      <td>Left</td>\n",
       "      <td>2</td>\n",
       "      <td>NaN</td>\n",
       "      <td>...</td>\n",
       "      <td>1.757812</td>\n",
       "      <td>0.303718</td>\n",
       "      <td>0.021948</td>\n",
       "      <td>0.050055</td>\n",
       "      <td>4.377813</td>\n",
       "      <td>20.632291</td>\n",
       "      <td>-0.000066</td>\n",
       "      <td>0.304035</td>\n",
       "      <td>-0.280895</td>\n",
       "      <td>0.818470</td>\n",
       "    </tr>\n",
       "  </tbody>\n",
       "</table>\n",
       "<p>5 rows × 47 columns</p>\n",
       "</div>"
      ],
      "text/plain": [
       "          dataFileHandleId     device patient  session    site   task  visit  \\\n",
       "25819_22          17286028  GENEActiv  13_BOS        1  Boston  drnkg      1   \n",
       "25820_22          17286030     Pebble  13_BOS        1  Boston  drnkg      1   \n",
       "25821_22          17286034  GENEActiv  13_BOS        1  Boston  fldng      1   \n",
       "25822_22          17286036     Pebble  13_BOS        1  Boston  fldng      1   \n",
       "25824_22          17286042     Pebble  13_BOS        1  Boston  ftnl1      1   \n",
       "\n",
       "         deviceSide  tremorScore  dyskinesiaScore    ...      Dom_freq  \\\n",
       "25819_22      Right            1              NaN    ...      1.562500   \n",
       "25820_22       Left            1              NaN    ...      1.367187   \n",
       "25821_22      Right            2              NaN    ...      2.343750   \n",
       "25822_22       Left            1              NaN    ...      1.562500   \n",
       "25824_22       Left            2              NaN    ...      1.757812   \n",
       "\n",
       "          Pdom_rel  PSD_mean   PSD_std  PSD_skew    PSD_kur  jerk_mean  \\\n",
       "25819_22  0.043495  0.003869  0.001502  0.245445  -0.344417   0.000017   \n",
       "25820_22  0.143907  0.050698  0.072788  2.379819   5.293353  -0.000185   \n",
       "25821_22  0.045680  0.042349  0.016684  1.081894   0.570791  -0.000019   \n",
       "25822_22  0.089059  0.039644  0.040317  1.566515   1.400621   0.000006   \n",
       "25824_22  0.303718  0.021948  0.050055  4.377813  20.632291  -0.000066   \n",
       "\n",
       "          jerk_std  jerk_skew   jerk_kur  \n",
       "25819_22  0.360148   1.344217  51.836805  \n",
       "25820_22  0.508781   0.701911  10.937510  \n",
       "25821_22  0.410676  -0.106500   4.133854  \n",
       "25822_22  0.470394  -0.767359  13.588961  \n",
       "25824_22  0.304035  -0.280895   0.818470  \n",
       "\n",
       "[5 rows x 47 columns]"
      ]
     },
     "execution_count": 188,
     "metadata": {},
     "output_type": "execute_result"
    }
   ],
   "source": [
    "df_train.head()"
   ]
  },
  {
   "cell_type": "markdown",
   "metadata": {},
   "source": [
    "### Test performance"
   ]
  },
  {
   "cell_type": "code",
   "execution_count": 191,
   "metadata": {
    "collapsed": false
   },
   "outputs": [],
   "source": [
    "X = pd.concat((X_meta,df_train.iloc[:,12:]),axis=1) #12 includes duration - 13 starts from features"
   ]
  },
  {
   "cell_type": "code",
   "execution_count": 192,
   "metadata": {
    "collapsed": true
   },
   "outputs": [],
   "source": [
    "X['bradykinesiaScore']=df_train['bradykinesiaScore']"
   ]
  },
  {
   "cell_type": "code",
   "execution_count": 193,
   "metadata": {
    "collapsed": false
   },
   "outputs": [
    {
     "data": {
      "text/html": [
       "<div>\n",
       "<style>\n",
       "    .dataframe thead tr:only-child th {\n",
       "        text-align: right;\n",
       "    }\n",
       "\n",
       "    .dataframe thead th {\n",
       "        text-align: left;\n",
       "    }\n",
       "\n",
       "    .dataframe tbody tr th {\n",
       "        vertical-align: top;\n",
       "    }\n",
       "</style>\n",
       "<table border=\"1\" class=\"dataframe\">\n",
       "  <thead>\n",
       "    <tr style=\"text-align: right;\">\n",
       "      <th></th>\n",
       "      <th>dataFileHandleId</th>\n",
       "      <th>device</th>\n",
       "      <th>patient</th>\n",
       "      <th>session</th>\n",
       "      <th>site</th>\n",
       "      <th>task</th>\n",
       "      <th>visit</th>\n",
       "      <th>deviceSide</th>\n",
       "      <th>Duration</th>\n",
       "      <th>EX</th>\n",
       "      <th>...</th>\n",
       "      <th>Pdom_rel</th>\n",
       "      <th>PSD_mean</th>\n",
       "      <th>PSD_std</th>\n",
       "      <th>PSD_skew</th>\n",
       "      <th>PSD_kur</th>\n",
       "      <th>jerk_mean</th>\n",
       "      <th>jerk_std</th>\n",
       "      <th>jerk_skew</th>\n",
       "      <th>jerk_kur</th>\n",
       "      <th>bradykinesiaScore</th>\n",
       "    </tr>\n",
       "  </thead>\n",
       "  <tbody>\n",
       "    <tr>\n",
       "      <th>25819_22</th>\n",
       "      <td>17286028</td>\n",
       "      <td>0</td>\n",
       "      <td>2</td>\n",
       "      <td>1</td>\n",
       "      <td>0</td>\n",
       "      <td>0</td>\n",
       "      <td>1</td>\n",
       "      <td>1</td>\n",
       "      <td>38.98</td>\n",
       "      <td>261.944772</td>\n",
       "      <td>...</td>\n",
       "      <td>0.043495</td>\n",
       "      <td>0.003869</td>\n",
       "      <td>0.001502</td>\n",
       "      <td>0.245445</td>\n",
       "      <td>-0.344417</td>\n",
       "      <td>0.000017</td>\n",
       "      <td>0.360148</td>\n",
       "      <td>1.344217</td>\n",
       "      <td>51.836805</td>\n",
       "      <td>1</td>\n",
       "    </tr>\n",
       "    <tr>\n",
       "      <th>25820_22</th>\n",
       "      <td>17286030</td>\n",
       "      <td>1</td>\n",
       "      <td>2</td>\n",
       "      <td>1</td>\n",
       "      <td>0</td>\n",
       "      <td>0</td>\n",
       "      <td>1</td>\n",
       "      <td>0</td>\n",
       "      <td>38.98</td>\n",
       "      <td>1140.053894</td>\n",
       "      <td>...</td>\n",
       "      <td>0.143907</td>\n",
       "      <td>0.050698</td>\n",
       "      <td>0.072788</td>\n",
       "      <td>2.379819</td>\n",
       "      <td>5.293353</td>\n",
       "      <td>-0.000185</td>\n",
       "      <td>0.508781</td>\n",
       "      <td>0.701911</td>\n",
       "      <td>10.937510</td>\n",
       "      <td>1</td>\n",
       "    </tr>\n",
       "    <tr>\n",
       "      <th>25821_22</th>\n",
       "      <td>17286034</td>\n",
       "      <td>0</td>\n",
       "      <td>2</td>\n",
       "      <td>1</td>\n",
       "      <td>0</td>\n",
       "      <td>1</td>\n",
       "      <td>1</td>\n",
       "      <td>1</td>\n",
       "      <td>101.98</td>\n",
       "      <td>2710.009059</td>\n",
       "      <td>...</td>\n",
       "      <td>0.045680</td>\n",
       "      <td>0.042349</td>\n",
       "      <td>0.016684</td>\n",
       "      <td>1.081894</td>\n",
       "      <td>0.570791</td>\n",
       "      <td>-0.000019</td>\n",
       "      <td>0.410676</td>\n",
       "      <td>-0.106500</td>\n",
       "      <td>4.133854</td>\n",
       "      <td>1</td>\n",
       "    </tr>\n",
       "    <tr>\n",
       "      <th>25822_22</th>\n",
       "      <td>17286036</td>\n",
       "      <td>1</td>\n",
       "      <td>2</td>\n",
       "      <td>1</td>\n",
       "      <td>0</td>\n",
       "      <td>1</td>\n",
       "      <td>1</td>\n",
       "      <td>0</td>\n",
       "      <td>101.98</td>\n",
       "      <td>2380.027757</td>\n",
       "      <td>...</td>\n",
       "      <td>0.089059</td>\n",
       "      <td>0.039644</td>\n",
       "      <td>0.040317</td>\n",
       "      <td>1.566515</td>\n",
       "      <td>1.400621</td>\n",
       "      <td>0.000006</td>\n",
       "      <td>0.470394</td>\n",
       "      <td>-0.767359</td>\n",
       "      <td>13.588961</td>\n",
       "      <td>1</td>\n",
       "    </tr>\n",
       "    <tr>\n",
       "      <th>25824_22</th>\n",
       "      <td>17286042</td>\n",
       "      <td>1</td>\n",
       "      <td>2</td>\n",
       "      <td>1</td>\n",
       "      <td>0</td>\n",
       "      <td>2</td>\n",
       "      <td>1</td>\n",
       "      <td>0</td>\n",
       "      <td>17.98</td>\n",
       "      <td>339.931766</td>\n",
       "      <td>...</td>\n",
       "      <td>0.303718</td>\n",
       "      <td>0.021948</td>\n",
       "      <td>0.050055</td>\n",
       "      <td>4.377813</td>\n",
       "      <td>20.632291</td>\n",
       "      <td>-0.000066</td>\n",
       "      <td>0.304035</td>\n",
       "      <td>-0.280895</td>\n",
       "      <td>0.818470</td>\n",
       "      <td>1</td>\n",
       "    </tr>\n",
       "  </tbody>\n",
       "</table>\n",
       "<p>5 rows × 44 columns</p>\n",
       "</div>"
      ],
      "text/plain": [
       "          dataFileHandleId  device  patient  session  site  task  visit  \\\n",
       "25819_22          17286028       0        2        1     0     0      1   \n",
       "25820_22          17286030       1        2        1     0     0      1   \n",
       "25821_22          17286034       0        2        1     0     1      1   \n",
       "25822_22          17286036       1        2        1     0     1      1   \n",
       "25824_22          17286042       1        2        1     0     2      1   \n",
       "\n",
       "          deviceSide  Duration           EX        ...          Pdom_rel  \\\n",
       "25819_22           1     38.98   261.944772        ...          0.043495   \n",
       "25820_22           0     38.98  1140.053894        ...          0.143907   \n",
       "25821_22           1    101.98  2710.009059        ...          0.045680   \n",
       "25822_22           0    101.98  2380.027757        ...          0.089059   \n",
       "25824_22           0     17.98   339.931766        ...          0.303718   \n",
       "\n",
       "          PSD_mean   PSD_std  PSD_skew    PSD_kur  jerk_mean  jerk_std  \\\n",
       "25819_22  0.003869  0.001502  0.245445  -0.344417   0.000017  0.360148   \n",
       "25820_22  0.050698  0.072788  2.379819   5.293353  -0.000185  0.508781   \n",
       "25821_22  0.042349  0.016684  1.081894   0.570791  -0.000019  0.410676   \n",
       "25822_22  0.039644  0.040317  1.566515   1.400621   0.000006  0.470394   \n",
       "25824_22  0.021948  0.050055  4.377813  20.632291  -0.000066  0.304035   \n",
       "\n",
       "          jerk_skew   jerk_kur  bradykinesiaScore  \n",
       "25819_22   1.344217  51.836805                  1  \n",
       "25820_22   0.701911  10.937510                  1  \n",
       "25821_22  -0.106500   4.133854                  1  \n",
       "25822_22  -0.767359  13.588961                  1  \n",
       "25824_22  -0.280895   0.818470                  1  \n",
       "\n",
       "[5 rows x 44 columns]"
      ]
     },
     "execution_count": 193,
     "metadata": {},
     "output_type": "execute_result"
    }
   ],
   "source": [
    "X.head()"
   ]
  },
  {
   "cell_type": "code",
   "execution_count": 194,
   "metadata": {
    "collapsed": false
   },
   "outputs": [
    {
     "data": {
      "text/plain": [
       "(3016, 44)"
      ]
     },
     "execution_count": 194,
     "metadata": {},
     "output_type": "execute_result"
    }
   ],
   "source": [
    "X.shape"
   ]
  },
  {
   "cell_type": "code",
   "execution_count": 195,
   "metadata": {
    "collapsed": false
   },
   "outputs": [
    {
     "data": {
      "text/plain": [
       "Index(['dataFileHandleId', 'device', 'patient', 'session', 'site', 'task',\n",
       "       'visit', 'deviceSide', 'Duration', 'EX', 'EY', 'EZ', 'rangeX', 'rangeY',\n",
       "       'rangeZ', 'meanX', 'meanY', 'meanZ', 'varX', 'varY', 'varZ', 'skewX',\n",
       "       'skewY', 'skewZ', 'kurtX', 'kurtY', 'kurtZ', 'xcor_peakXY',\n",
       "       'xcorr_peakXZ', 'xcorr_peakYZ', 'xcorr_lagXY', 'xcorr_lagXZ',\n",
       "       'xcorr_lagYZ', 'Dom_freq', 'Pdom_rel', 'PSD_mean', 'PSD_std',\n",
       "       'PSD_skew', 'PSD_kur', 'jerk_mean', 'jerk_std', 'jerk_skew', 'jerk_kur',\n",
       "       'bradykinesiaScore'],\n",
       "      dtype='object')"
      ]
     },
     "execution_count": 195,
     "metadata": {},
     "output_type": "execute_result"
    }
   ],
   "source": [
    "X.columns"
   ]
  },
  {
   "cell_type": "code",
   "execution_count": 196,
   "metadata": {
    "collapsed": false
   },
   "outputs": [],
   "source": [
    "X=X.dropna()"
   ]
  },
  {
   "cell_type": "code",
   "execution_count": 197,
   "metadata": {
    "collapsed": false
   },
   "outputs": [],
   "source": [
    "#drop target col\n",
    "y = X['bradykinesiaScore'].values\n",
    "X = X.drop('bradykinesiaScore',axis=1)"
   ]
  },
  {
   "cell_type": "markdown",
   "metadata": {},
   "source": [
    "** Standardize features **"
   ]
  },
  {
   "cell_type": "code",
   "execution_count": 198,
   "metadata": {
    "collapsed": true
   },
   "outputs": [],
   "source": [
    "#standardize features\n",
    "scaler = StandardScaler()\n",
    "X.iloc[:,8:]=scaler.fit_transform(X.iloc[:,8:])"
   ]
  },
  {
   "cell_type": "code",
   "execution_count": 199,
   "metadata": {
    "collapsed": false
   },
   "outputs": [
    {
     "data": {
      "text/html": [
       "<div>\n",
       "<style>\n",
       "    .dataframe thead tr:only-child th {\n",
       "        text-align: right;\n",
       "    }\n",
       "\n",
       "    .dataframe thead th {\n",
       "        text-align: left;\n",
       "    }\n",
       "\n",
       "    .dataframe tbody tr th {\n",
       "        vertical-align: top;\n",
       "    }\n",
       "</style>\n",
       "<table border=\"1\" class=\"dataframe\">\n",
       "  <thead>\n",
       "    <tr style=\"text-align: right;\">\n",
       "      <th></th>\n",
       "      <th>dataFileHandleId</th>\n",
       "      <th>device</th>\n",
       "      <th>patient</th>\n",
       "      <th>session</th>\n",
       "      <th>site</th>\n",
       "      <th>task</th>\n",
       "      <th>visit</th>\n",
       "      <th>deviceSide</th>\n",
       "      <th>Duration</th>\n",
       "      <th>EX</th>\n",
       "      <th>...</th>\n",
       "      <th>Dom_freq</th>\n",
       "      <th>Pdom_rel</th>\n",
       "      <th>PSD_mean</th>\n",
       "      <th>PSD_std</th>\n",
       "      <th>PSD_skew</th>\n",
       "      <th>PSD_kur</th>\n",
       "      <th>jerk_mean</th>\n",
       "      <th>jerk_std</th>\n",
       "      <th>jerk_skew</th>\n",
       "      <th>jerk_kur</th>\n",
       "    </tr>\n",
       "  </thead>\n",
       "  <tbody>\n",
       "    <tr>\n",
       "      <th>25819_22</th>\n",
       "      <td>17286028</td>\n",
       "      <td>0</td>\n",
       "      <td>2</td>\n",
       "      <td>1</td>\n",
       "      <td>0</td>\n",
       "      <td>0</td>\n",
       "      <td>1</td>\n",
       "      <td>1</td>\n",
       "      <td>1.022774</td>\n",
       "      <td>-0.460739</td>\n",
       "      <td>...</td>\n",
       "      <td>-0.545353</td>\n",
       "      <td>-1.170413</td>\n",
       "      <td>-0.729816</td>\n",
       "      <td>-0.622104</td>\n",
       "      <td>-1.911450</td>\n",
       "      <td>-0.983782</td>\n",
       "      <td>0.010024</td>\n",
       "      <td>-0.847169</td>\n",
       "      <td>1.285868</td>\n",
       "      <td>0.546600</td>\n",
       "    </tr>\n",
       "    <tr>\n",
       "      <th>25820_22</th>\n",
       "      <td>17286030</td>\n",
       "      <td>1</td>\n",
       "      <td>2</td>\n",
       "      <td>1</td>\n",
       "      <td>0</td>\n",
       "      <td>0</td>\n",
       "      <td>1</td>\n",
       "      <td>0</td>\n",
       "      <td>1.022774</td>\n",
       "      <td>-0.406806</td>\n",
       "      <td>...</td>\n",
       "      <td>-0.673378</td>\n",
       "      <td>0.172239</td>\n",
       "      <td>-0.631879</td>\n",
       "      <td>-0.531417</td>\n",
       "      <td>0.065927</td>\n",
       "      <td>-0.141123</td>\n",
       "      <td>-0.111706</td>\n",
       "      <td>-0.685110</td>\n",
       "      <td>0.717222</td>\n",
       "      <td>-0.154402</td>\n",
       "    </tr>\n",
       "  </tbody>\n",
       "</table>\n",
       "<p>2 rows × 43 columns</p>\n",
       "</div>"
      ],
      "text/plain": [
       "          dataFileHandleId  device  patient  session  site  task  visit  \\\n",
       "25819_22          17286028       0        2        1     0     0      1   \n",
       "25820_22          17286030       1        2        1     0     0      1   \n",
       "\n",
       "          deviceSide  Duration        EX    ...     Dom_freq  Pdom_rel  \\\n",
       "25819_22           1  1.022774 -0.460739    ...    -0.545353 -1.170413   \n",
       "25820_22           0  1.022774 -0.406806    ...    -0.673378  0.172239   \n",
       "\n",
       "          PSD_mean   PSD_std  PSD_skew   PSD_kur  jerk_mean  jerk_std  \\\n",
       "25819_22 -0.729816 -0.622104 -1.911450 -0.983782   0.010024 -0.847169   \n",
       "25820_22 -0.631879 -0.531417  0.065927 -0.141123  -0.111706 -0.685110   \n",
       "\n",
       "          jerk_skew  jerk_kur  \n",
       "25819_22   1.285868  0.546600  \n",
       "25820_22   0.717222 -0.154402  \n",
       "\n",
       "[2 rows x 43 columns]"
      ]
     },
     "execution_count": 199,
     "metadata": {},
     "output_type": "execute_result"
    }
   ],
   "source": [
    "X.head(2)"
   ]
  },
  {
   "cell_type": "code",
   "execution_count": 200,
   "metadata": {
    "collapsed": true
   },
   "outputs": [],
   "source": [
    "#Save a copy for later use\n",
    "X_copy = X.copy()"
   ]
  },
  {
   "cell_type": "markdown",
   "metadata": {},
   "source": [
    "## Check feature importance with XGBoost classifier"
   ]
  },
  {
   "cell_type": "code",
   "execution_count": 154,
   "metadata": {
    "collapsed": true
   },
   "outputs": [],
   "source": [
    "#LOSO CV\n",
    "groups = X.patient.as_matrix()"
   ]
  },
  {
   "cell_type": "code",
   "execution_count": 155,
   "metadata": {
    "collapsed": true
   },
   "outputs": [],
   "source": [
    "models = [XGBClassifier()]\n",
    "model_name = ['XGB']\n",
    "models = list(zip(models,model_name))"
   ]
  },
  {
   "cell_type": "code",
   "execution_count": 156,
   "metadata": {
    "collapsed": false
   },
   "outputs": [],
   "source": [
    "X = X.drop('patient',axis=1)"
   ]
  },
  {
   "cell_type": "code",
   "execution_count": null,
   "metadata": {
    "collapsed": false
   },
   "outputs": [],
   "source": [
    "fimp_all = LOSOCV(X.iloc[:,1:].as_matrix(),y,groups,models)"
   ]
  },
  {
   "cell_type": "code",
   "execution_count": 713,
   "metadata": {
    "collapsed": false
   },
   "outputs": [],
   "source": [
    "fimp_all=np.asarray(fimp_all)"
   ]
  },
  {
   "cell_type": "code",
   "execution_count": 714,
   "metadata": {
    "collapsed": false
   },
   "outputs": [],
   "source": [
    "fimp_mean=np.mean(fimp_all,axis=0)"
   ]
  },
  {
   "cell_type": "code",
   "execution_count": 715,
   "metadata": {
    "collapsed": false
   },
   "outputs": [
    {
     "data": {
      "text/plain": [
       "<matplotlib.text.Text at 0x11e573e48>"
      ]
     },
     "execution_count": 715,
     "metadata": {},
     "output_type": "execute_result"
    },
    {
     "data": {
      "image/png": "[encoded data removed]",
      "text/plain": [
       "<matplotlib.figure.Figure at 0x120bc3160>"
      ]
     },
     "metadata": {},
     "output_type": "display_data"
    }
   ],
   "source": [
    "clf = models[0][0]\n",
    "fimp = pd.Series(index=X.columns[1:],data=fimp_mean)\n",
    "plt.figure(figsize=(20,8))\n",
    "ax = sns.barplot(x=fimp.index,y=fimp.values)\n",
    "_ = plt.xticks(rotation=75)\n",
    "plt.title('XGBoost w windowed features')"
   ]
  },
  {
   "cell_type": "code",
   "execution_count": 169,
   "metadata": {
    "collapsed": false
   },
   "outputs": [
    {
     "data": {
      "text/plain": [
       "<matplotlib.text.Text at 0x116c17160>"
      ]
     },
     "execution_count": 169,
     "metadata": {},
     "output_type": "execute_result"
    },
    {
     "data": {
      "image/png": "[encoded data removed]",
      "text/plain": [
       "<matplotlib.figure.Figure at 0x1031f5978>"
      ]
     },
     "metadata": {},
     "output_type": "display_data"
    }
   ],
   "source": [
    "clf = models[0][0]\n",
    "fimp = pd.Series(index=X.columns[1:],data=fimp_mean)\n",
    "plt.figure(figsize=(20,8))\n",
    "ax = sns.barplot(x=fimp.index,y=fimp.values)\n",
    "_ = plt.xticks(rotation=75)\n",
    "plt.title('XGBoost')"
   ]
  },
  {
   "cell_type": "markdown",
   "metadata": {},
   "source": [
    "## Deep nets"
   ]
  },
  {
   "cell_type": "code",
   "execution_count": 206,
   "metadata": {
    "collapsed": false
   },
   "outputs": [
    {
     "name": "stderr",
     "output_type": "stream",
     "text": [
      "Using Theano backend.\n"
     ]
    }
   ],
   "source": [
    "import keras\n",
    "from keras.models import Sequential\n",
    "from keras.layers import Conv2D, MaxPooling2D, LSTM, Dense, Dropout, Flatten\n",
    "from keras.layers.core import Permute, Reshape\n",
    "from keras import backend as K"
   ]
  },
  {
   "cell_type": "code",
   "execution_count": 740,
   "metadata": {
    "collapsed": true
   },
   "outputs": [],
   "source": [
    "# useful functions\n",
    "def _data_reshaping(X_train, X_valid, network_type):\n",
    "    _, win_len, dim = X_train.shape\n",
    "    print(network_type)\n",
    "    if network_type=='CNN' or network_type=='ConvLSTM':\n",
    "\n",
    "        # make it into (frame_number, dimension, window_size, channel=1) for convNet\n",
    "        X_train = np.swapaxes(X_train,1,2)\n",
    "        X_valid = np.swapaxes(X_valid,1,2)\n",
    "\n",
    "        X_train = np.reshape(X_train, (-1, dim, win_len, 1))\n",
    "        X_valid = np.reshape(X_valid, (-1, dim, win_len, 1))\n",
    "    if network_type=='MLP':\n",
    "        X_train = np.reshape(X_train, (-1, dim*win_len))\n",
    "        X_valid = np.reshape(X_valid, (-1, dim*win_len))\n",
    "\n",
    "    return X_train, X_valid\n",
    "\n",
    "def model_variant(model, network_type):\n",
    "    print(network_type)\n",
    "    if network_type == 'ConvLSTM':\n",
    "\n",
    "\n",
    "        model.add(Permute((2, 1, 3))) # for swap-dimension\n",
    "        model.add(Reshape((-1,feat_map_num*dim)))\n",
    "        model.add(LSTM(32, return_sequences=False, stateful=False))\n",
    "        model.add(Dropout(0.5))\n",
    "    if network_type == 'CNN':\n",
    "\n",
    "        model.add(Flatten())\n",
    "        model.add(Dense(32, activation='relu'))\n",
    "        model.add(Dropout(0.5))\n",
    "\n",
    "\n",
    "def model_conv(model):\n",
    "    model.add(Conv2D(feat_map_num, kernel_size=(1, 5),\n",
    "                 activation='relu',\n",
    "                 input_shape=(dim, win_len, 1),\n",
    "                 padding='same'))\n",
    "    model.add(MaxPooling2D(pool_size=(1, 2)))\n",
    "    model.add(Dropout(0.5))\n",
    "    model.add(Conv2D(feat_map_num, kernel_size=(1, 5), activation='relu',padding='same'))\n",
    "    model.add(MaxPooling2D(pool_size=(1, 2)))\n",
    "    model.add(Dropout(0.5))\n",
    "\n",
    "def model_LSTM(model):\n",
    "    model.add(LSTM(64,\n",
    "               input_shape=(win_len,dim),\n",
    "               return_sequences=True,\n",
    "               stateful=False))\n",
    "    model.add(Dropout(0.5))\n",
    "    model.add(LSTM(64, return_sequences=False, stateful=False))\n",
    "    model.add(Dropout(0.5))\n",
    "\n",
    "def model_MLP(model,num1,drop1,num2,drop2):\n",
    "    model.add(Dense(num1, activation='relu', input_shape=(dim*win_len,)))\n",
    "    model.add(Dropout(drop1))\n",
    "    model.add(Dense(num2, activation='relu'))\n",
    "    model.add(Dropout(drop2))\n"
   ]
  },
  {
   "cell_type": "code",
   "execution_count": 698,
   "metadata": {
    "collapsed": false
   },
   "outputs": [
    {
     "data": {
      "text/html": [
       "<div>\n",
       "<style>\n",
       "    .dataframe thead tr:only-child th {\n",
       "        text-align: right;\n",
       "    }\n",
       "\n",
       "    .dataframe thead th {\n",
       "        text-align: left;\n",
       "    }\n",
       "\n",
       "    .dataframe tbody tr th {\n",
       "        vertical-align: top;\n",
       "    }\n",
       "</style>\n",
       "<table border=\"1\" class=\"dataframe\">\n",
       "  <thead>\n",
       "    <tr style=\"text-align: right;\">\n",
       "      <th></th>\n",
       "      <th>dataFileHandleId</th>\n",
       "      <th>device</th>\n",
       "      <th>patient</th>\n",
       "      <th>session</th>\n",
       "      <th>site</th>\n",
       "      <th>task</th>\n",
       "      <th>visit</th>\n",
       "      <th>deviceSide</th>\n",
       "      <th>tremorScore</th>\n",
       "      <th>dyskinesiaScore</th>\n",
       "      <th>bradykinesiaScore</th>\n",
       "      <th>path</th>\n",
       "      <th>Duration</th>\n",
       "    </tr>\n",
       "  </thead>\n",
       "  <tbody>\n",
       "    <tr>\n",
       "      <th>25819_22</th>\n",
       "      <td>17286028</td>\n",
       "      <td>GENEActiv</td>\n",
       "      <td>13_BOS</td>\n",
       "      <td>1</td>\n",
       "      <td>Boston</td>\n",
       "      <td>drnkg</td>\n",
       "      <td>1</td>\n",
       "      <td>Right</td>\n",
       "      <td>1</td>\n",
       "      <td>NaN</td>\n",
       "      <td>1</td>\n",
       "      <td>/Users/luca/Projects/DREAM_PD/Data/28/17286028...</td>\n",
       "      <td>38.98</td>\n",
       "    </tr>\n",
       "    <tr>\n",
       "      <th>25820_22</th>\n",
       "      <td>17286030</td>\n",
       "      <td>Pebble</td>\n",
       "      <td>13_BOS</td>\n",
       "      <td>1</td>\n",
       "      <td>Boston</td>\n",
       "      <td>drnkg</td>\n",
       "      <td>1</td>\n",
       "      <td>Left</td>\n",
       "      <td>1</td>\n",
       "      <td>NaN</td>\n",
       "      <td>1</td>\n",
       "      <td>/Users/luca/Projects/DREAM_PD/Data/30/17286030...</td>\n",
       "      <td>38.98</td>\n",
       "    </tr>\n",
       "    <tr>\n",
       "      <th>25821_22</th>\n",
       "      <td>17286034</td>\n",
       "      <td>GENEActiv</td>\n",
       "      <td>13_BOS</td>\n",
       "      <td>1</td>\n",
       "      <td>Boston</td>\n",
       "      <td>fldng</td>\n",
       "      <td>1</td>\n",
       "      <td>Right</td>\n",
       "      <td>2</td>\n",
       "      <td>NaN</td>\n",
       "      <td>1</td>\n",
       "      <td>/Users/luca/Projects/DREAM_PD/Data/34/17286034...</td>\n",
       "      <td>101.98</td>\n",
       "    </tr>\n",
       "    <tr>\n",
       "      <th>25822_22</th>\n",
       "      <td>17286036</td>\n",
       "      <td>Pebble</td>\n",
       "      <td>13_BOS</td>\n",
       "      <td>1</td>\n",
       "      <td>Boston</td>\n",
       "      <td>fldng</td>\n",
       "      <td>1</td>\n",
       "      <td>Left</td>\n",
       "      <td>1</td>\n",
       "      <td>NaN</td>\n",
       "      <td>1</td>\n",
       "      <td>/Users/luca/Projects/DREAM_PD/Data/36/17286036...</td>\n",
       "      <td>101.98</td>\n",
       "    </tr>\n",
       "    <tr>\n",
       "      <th>25824_22</th>\n",
       "      <td>17286042</td>\n",
       "      <td>Pebble</td>\n",
       "      <td>13_BOS</td>\n",
       "      <td>1</td>\n",
       "      <td>Boston</td>\n",
       "      <td>ftnl1</td>\n",
       "      <td>1</td>\n",
       "      <td>Left</td>\n",
       "      <td>2</td>\n",
       "      <td>NaN</td>\n",
       "      <td>1</td>\n",
       "      <td>/Users/luca/Projects/DREAM_PD/Data/42/17286042...</td>\n",
       "      <td>17.98</td>\n",
       "    </tr>\n",
       "  </tbody>\n",
       "</table>\n",
       "</div>"
      ],
      "text/plain": [
       "          dataFileHandleId     device patient  session    site   task  visit  \\\n",
       "25819_22          17286028  GENEActiv  13_BOS        1  Boston  drnkg      1   \n",
       "25820_22          17286030     Pebble  13_BOS        1  Boston  drnkg      1   \n",
       "25821_22          17286034  GENEActiv  13_BOS        1  Boston  fldng      1   \n",
       "25822_22          17286036     Pebble  13_BOS        1  Boston  fldng      1   \n",
       "25824_22          17286042     Pebble  13_BOS        1  Boston  ftnl1      1   \n",
       "\n",
       "         deviceSide  tremorScore  dyskinesiaScore  bradykinesiaScore  \\\n",
       "25819_22      Right            1              NaN                  1   \n",
       "25820_22       Left            1              NaN                  1   \n",
       "25821_22      Right            2              NaN                  1   \n",
       "25822_22       Left            1              NaN                  1   \n",
       "25824_22       Left            2              NaN                  1   \n",
       "\n",
       "                                                       path  Duration  \n",
       "25819_22  /Users/luca/Projects/DREAM_PD/Data/28/17286028...     38.98  \n",
       "25820_22  /Users/luca/Projects/DREAM_PD/Data/30/17286030...     38.98  \n",
       "25821_22  /Users/luca/Projects/DREAM_PD/Data/34/17286034...    101.98  \n",
       "25822_22  /Users/luca/Projects/DREAM_PD/Data/36/17286036...    101.98  \n",
       "25824_22  /Users/luca/Projects/DREAM_PD/Data/42/17286042...     17.98  "
      ]
     },
     "execution_count": 698,
     "metadata": {},
     "output_type": "execute_result"
    }
   ],
   "source": [
    "df_train.head()"
   ]
  },
  {
   "cell_type": "code",
   "execution_count": 699,
   "metadata": {
    "collapsed": false
   },
   "outputs": [
    {
     "name": "stdout",
     "output_type": "stream",
     "text": [
      "0\n",
      "1000\n",
      "2000\n",
      "3000\n",
      "Elapsed Time:[s] 75.6\n",
      "Files w nans: 190\n",
      "Files w 0 non-nan rows 103\n",
      "Tot rows: 3016\n"
     ]
    }
   ],
   "source": [
    "#gen raw data clips and store them in format (clip,time,channel)\n",
    "row = 0\n",
    "nans_found=0; n_empty=0\n",
    "max_nans = []\n",
    "t1 = time.time()\n",
    "# data = np.empty((1,250,3)) #empty array storing all clips data (for nowassumes 5 sec clips sampled at 50 Hz)\n",
    "data = []\n",
    "targetscore = [] #store target score\n",
    "subj = [] #store subj for CV \n",
    "task = [] #store task\n",
    "\n",
    "for i in range(len(df_train)):\n",
    "\n",
    "    f = df_train.iloc[i,:].path\n",
    "    if row%1000==0:\n",
    "        print(row)\n",
    "    rawdata = pd.read_csv(f,sep='\\t') #load file\n",
    "   \n",
    "    #remove nans\n",
    "    rawdata = rawdata.astype('float64') #make sure everything is float\n",
    "    if sum(np.sum(rawdata.isnull())) > 0:\n",
    "        nans_found+=1 # of files w nans\n",
    "        if np.sum(rawdata.isnull()).max() < len(rawdata):\n",
    "            max_nans.append((np.sum(rawdata.isnull()).max())/len(rawdata))\n",
    "        rawdata = rawdata.dropna() #drop nans\n",
    "        \n",
    "    #attempt extracting clips if at least one data point is there\n",
    "    if rawdata.empty != True:\n",
    "        #reindex timestamp data relative to start \n",
    "        t = rawdata.timestamp\n",
    "        t = t-t.iloc[0]\n",
    "        rawdata.timestamp = t\n",
    "\n",
    "        #HP filter data (remove gravity)\n",
    "        rawdata = filter_signal(rawdata,order=2)\n",
    "\n",
    "        #extract and concatenate clips data\n",
    "        clips = gen_clips(rawdata,overlap=0.5) #take clips over recording\n",
    "        for clip in clips:\n",
    "            datac = np.expand_dims(clips[0].iloc[:,1:4].values,axis=0)\n",
    "            data.append(datac)\n",
    "            targetscore.append(df_train.iloc[i].bradykinesiaScore) #the score for the current clip\n",
    "            subj.append(X_meta.iloc[i].patient)\n",
    "            task.append(X_meta.iloc[i].task)\n",
    "#             data=np.concatenate((data,datac),axis=0)\n",
    "            \n",
    "    else:\n",
    "        n_empty+=1\n",
    "\n",
    "    row+=1\n",
    "        \n",
    "elapsed = time.time()-t1\n",
    "print('Elapsed Time:[s] %.1f'%elapsed)\n",
    "print('Files w nans: %d'%nans_found)\n",
    "print('Files w 0 non-nan rows %d'%n_empty)\n",
    "print('Tot rows: %d'%row)"
   ]
  },
  {
   "cell_type": "code",
   "execution_count": 700,
   "metadata": {
    "collapsed": false
   },
   "outputs": [],
   "source": [
    "#save clips\n",
    "features = np.asarray(data).squeeze()"
   ]
  },
  {
   "cell_type": "code",
   "execution_count": 701,
   "metadata": {
    "collapsed": false
   },
   "outputs": [
    {
     "data": {
      "text/plain": [
       "(28156, 250, 3)"
      ]
     },
     "execution_count": 701,
     "metadata": {},
     "output_type": "execute_result"
    }
   ],
   "source": [
    "features.shape"
   ]
  },
  {
   "cell_type": "code",
   "execution_count": 702,
   "metadata": {
    "collapsed": false
   },
   "outputs": [
    {
     "data": {
      "text/plain": [
       "28156"
      ]
     },
     "execution_count": 702,
     "metadata": {},
     "output_type": "execute_result"
    }
   ],
   "source": [
    "#split into train, validation and test\n",
    "len(subj)"
   ]
  },
  {
   "cell_type": "code",
   "execution_count": 703,
   "metadata": {
    "collapsed": true
   },
   "outputs": [],
   "source": [
    "CNN_clips = {'X':features, 'y':np.asarray(targetscore),'Subj':subj,'Task':task}"
   ]
  },
  {
   "cell_type": "code",
   "execution_count": 704,
   "metadata": {
    "collapsed": false
   },
   "outputs": [
    {
     "data": {
      "text/plain": [
       "(28156, 250, 3)"
      ]
     },
     "execution_count": 704,
     "metadata": {},
     "output_type": "execute_result"
    }
   ],
   "source": [
    "CNN_clips['X'].shape"
   ]
  },
  {
   "cell_type": "code",
   "execution_count": 705,
   "metadata": {
    "collapsed": true
   },
   "outputs": [],
   "source": [
    "#save clips\n",
    "filename = 'CNNclips_train_bradyk.pkl'\n",
    "f = open(filename,'wb')\n",
    "pickle.dump(CNN_clips,f)\n",
    "f.close()"
   ]
  },
  {
   "cell_type": "code",
   "execution_count": 753,
   "metadata": {
    "collapsed": false
   },
   "outputs": [],
   "source": [
    "#load clips\n",
    "filename = 'CNNclips_train_bradyk.pkl'\n",
    "f = open(filename, 'rb')\n",
    "CNN_clips = pickle.load(f)\n",
    "f.close()"
   ]
  },
  {
   "cell_type": "code",
   "execution_count": 754,
   "metadata": {
    "collapsed": false
   },
   "outputs": [],
   "source": [
    "X = CNN_clips['X']\n",
    "y = CNN_clips['y']\n",
    "groups = np.asarray(CNN_clips['Subj'])\n",
    "task = np.asarray(CNN_clips['Task'])"
   ]
  },
  {
   "cell_type": "code",
   "execution_count": 708,
   "metadata": {
    "collapsed": false
   },
   "outputs": [],
   "source": [
    "#select only one task\n",
    "ind = task==0\n",
    "X=X[ind,:,:]\n",
    "y=y[ind]\n",
    "groups=groups[ind]"
   ]
  },
  {
   "cell_type": "markdown",
   "metadata": {},
   "source": [
    "## standardize data by subject"
   ]
  },
  {
   "cell_type": "code",
   "execution_count": 755,
   "metadata": {
    "collapsed": false
   },
   "outputs": [],
   "source": [
    "#normalize by subject (mean 0, std 1)\n",
    "Xscaler = StandardScaler()\n",
    "\n",
    "for s in np.unique(groups):\n",
    "    ind = groups==s\n",
    "    for a in range(3):        \n",
    "        X[ind,:,a]= Xscaler.fit_transform(X[ind,:,a])"
   ]
  },
  {
   "cell_type": "code",
   "execution_count": 756,
   "metadata": {
    "collapsed": false
   },
   "outputs": [
    {
     "data": {
      "text/plain": [
       "[<matplotlib.lines.Line2D at 0x140241cf8>,\n",
       " <matplotlib.lines.Line2D at 0x140241ba8>,\n",
       " <matplotlib.lines.Line2D at 0x1402415f8>]"
      ]
     },
     "execution_count": 756,
     "metadata": {},
     "output_type": "execute_result"
    },
    {
     "data": {
      "image/png": "[encoded data removed]",
      "text/plain": [
       "<matplotlib.figure.Figure at 0x1443aae10>"
      ]
     },
     "metadata": {},
     "output_type": "display_data"
    }
   ],
   "source": [
    "plt.plot(X[1000])"
   ]
  },
  {
   "cell_type": "markdown",
   "metadata": {},
   "source": [
    "## Train a deep net (NLP or Convnet)"
   ]
  },
  {
   "cell_type": "code",
   "execution_count": 711,
   "metadata": {
    "collapsed": false
   },
   "outputs": [],
   "source": [
    "#perform a random train_valid split first to test approach\n",
    "from sklearn.model_selection import train_test_split\n",
    "X_train,X_valid,y_train,y_valid = train_test_split(X,y,test_size=0.33,random_state=32)\n"
   ]
  },
  {
   "cell_type": "code",
   "execution_count": 712,
   "metadata": {
    "collapsed": false
   },
   "outputs": [
    {
     "data": {
      "text/plain": [
       "(2122,)"
      ]
     },
     "execution_count": 712,
     "metadata": {},
     "output_type": "execute_result"
    }
   ],
   "source": [
    "y_valid.shape"
   ]
  },
  {
   "cell_type": "code",
   "execution_count": 713,
   "metadata": {
    "collapsed": false
   },
   "outputs": [
    {
     "data": {
      "text/plain": [
       "(4307,)"
      ]
     },
     "execution_count": 713,
     "metadata": {},
     "output_type": "execute_result"
    }
   ],
   "source": [
    "y_train.shape"
   ]
  },
  {
   "cell_type": "code",
   "execution_count": 714,
   "metadata": {
    "collapsed": true
   },
   "outputs": [],
   "source": [
    "num_classes = 2 # \n",
    "# convert class vectors to binary class matrices\n",
    "y_train = keras.utils.to_categorical(y_train, num_classes)\n",
    "y_valid = keras.utils.to_categorical(y_valid, num_classes)\n"
   ]
  },
  {
   "cell_type": "code",
   "execution_count": 717,
   "metadata": {
    "collapsed": false
   },
   "outputs": [],
   "source": [
    "#specifying hyper-parameters\n",
    "batch_size = 128\n",
    "feat_map_num = 16\n",
    "_, win_len, dim = X.shape\n",
    "# network_type = 'CNN'\n",
    "network_type = 'MLP'"
   ]
  },
  {
   "cell_type": "code",
   "execution_count": 718,
   "metadata": {
    "collapsed": false
   },
   "outputs": [
    {
     "name": "stdout",
     "output_type": "stream",
     "text": [
      "reshaping data for different models ...\n",
      "MLP\n"
     ]
    }
   ],
   "source": [
    "print('reshaping data for different models ...')\n",
    "X_train, X_valid = _data_reshaping(X_train, X_valid, network_type)\n"
   ]
  },
  {
   "cell_type": "code",
   "execution_count": 736,
   "metadata": {
    "collapsed": false
   },
   "outputs": [
    {
     "name": "stdout",
     "output_type": "stream",
     "text": [
      "building the model ...\n",
      "_________________________________________________________________\n",
      "Layer (type)                 Output Shape              Param #   \n",
      "=================================================================\n",
      "dense_270 (Dense)            (None, 4)                 3004      \n",
      "_________________________________________________________________\n",
      "dropout_207 (Dropout)        (None, 4)                 0         \n",
      "_________________________________________________________________\n",
      "dense_271 (Dense)            (None, 4)                 20        \n",
      "_________________________________________________________________\n",
      "dropout_208 (Dropout)        (None, 4)                 0         \n",
      "_________________________________________________________________\n",
      "dense_272 (Dense)            (None, 2)                 10        \n",
      "=================================================================\n",
      "Total params: 3,034\n",
      "Trainable params: 3,034\n",
      "Non-trainable params: 0\n",
      "_________________________________________________________________\n"
     ]
    }
   ],
   "source": [
    "print('building the model ...')\n",
    "model = Sequential()\n",
    "if network_type=='CNN' or network_type=='ConvLSTM':\n",
    "    model_conv(model)\n",
    "    model_variant(model, network_type)\n",
    "if network_type=='LSTM':\n",
    "    model_LSTM(model)\n",
    "if network_type=='MLP':\n",
    "    model_MLP(model)\n",
    "model.add(Dense(num_classes, activation='softmax'))\n",
    "model.summary()\n"
   ]
  },
  {
   "cell_type": "code",
   "execution_count": 721,
   "metadata": {
    "collapsed": false,
    "scrolled": true
   },
   "outputs": [
    {
     "name": "stdout",
     "output_type": "stream",
     "text": [
      "model training ...\n",
      "Train on 4307 samples, validate on 2122 samples\n",
      "Epoch 1/20\n",
      "4307/4307 [==============================] - 0s - loss: 0.3610 - acc: 0.8786 - val_loss: 0.2080 - val_acc: 0.9029\n",
      "Epoch 2/20\n",
      "4307/4307 [==============================] - 0s - loss: 0.2161 - acc: 0.9057 - val_loss: 0.1244 - val_acc: 0.9581\n",
      "Epoch 3/20\n",
      "4307/4307 [==============================] - 0s - loss: 0.1344 - acc: 0.9396 - val_loss: 0.0651 - val_acc: 0.9892\n",
      "Epoch 4/20\n",
      "4307/4307 [==============================] - 0s - loss: 0.0852 - acc: 0.9675 - val_loss: 0.0328 - val_acc: 0.9953\n",
      "Epoch 5/20\n",
      "4307/4307 [==============================] - 0s - loss: 0.0598 - acc: 0.9821 - val_loss: 0.0168 - val_acc: 1.0000\n",
      "Epoch 6/20\n",
      "4307/4307 [==============================] - 0s - loss: 0.0353 - acc: 0.9921 - val_loss: 0.0095 - val_acc: 1.0000\n",
      "Epoch 7/20\n",
      "4307/4307 [==============================] - 0s - loss: 0.0251 - acc: 0.9944 - val_loss: 0.0048 - val_acc: 1.0000\n",
      "Epoch 8/20\n",
      "4307/4307 [==============================] - 0s - loss: 0.0217 - acc: 0.9944 - val_loss: 0.0032 - val_acc: 1.0000\n",
      "Epoch 9/20\n",
      "4307/4307 [==============================] - 0s - loss: 0.0166 - acc: 0.9961 - val_loss: 0.0023 - val_acc: 1.0000\n",
      "Epoch 10/20\n",
      "4307/4307 [==============================] - 0s - loss: 0.0110 - acc: 0.9986 - val_loss: 0.0015 - val_acc: 1.0000\n",
      "Epoch 11/20\n",
      "4307/4307 [==============================] - 0s - loss: 0.0122 - acc: 0.9979 - val_loss: 0.0011 - val_acc: 1.0000\n",
      "Epoch 12/20\n",
      "4307/4307 [==============================] - 0s - loss: 0.0110 - acc: 0.9972 - val_loss: 0.0012 - val_acc: 1.0000\n",
      "Epoch 13/20\n",
      "4307/4307 [==============================] - 0s - loss: 0.0124 - acc: 0.9986 - val_loss: 0.0011 - val_acc: 1.0000\n",
      "Epoch 14/20\n",
      "4307/4307 [==============================] - 0s - loss: 0.0082 - acc: 0.9977 - val_loss: 7.7778e-04 - val_acc: 1.0000\n",
      "Epoch 15/20\n",
      "4307/4307 [==============================] - 0s - loss: 0.0077 - acc: 0.9986 - val_loss: 5.8796e-04 - val_acc: 1.0000\n",
      "Epoch 16/20\n",
      "4307/4307 [==============================] - 0s - loss: 0.0064 - acc: 0.9993 - val_loss: 4.3021e-04 - val_acc: 1.0000\n",
      "Epoch 17/20\n",
      "4307/4307 [==============================] - 0s - loss: 0.0055 - acc: 0.9988 - val_loss: 3.1040e-04 - val_acc: 1.0000\n",
      "Epoch 18/20\n",
      "4307/4307 [==============================] - 0s - loss: 0.0094 - acc: 0.9986 - val_loss: 3.7018e-04 - val_acc: 1.0000\n",
      "Epoch 19/20\n",
      "4307/4307 [==============================] - 0s - loss: 0.0040 - acc: 0.9998 - val_loss: 2.2088e-04 - val_acc: 1.0000\n",
      "Epoch 20/20\n",
      "4307/4307 [==============================] - 0s - loss: 0.0063 - acc: 0.9993 - val_loss: 2.3947e-04 - val_acc: 1.0000\n"
     ]
    },
    {
     "data": {
      "text/plain": [
       "<keras.callbacks.History at 0x14342dcf8>"
      ]
     },
     "execution_count": 721,
     "metadata": {},
     "output_type": "execute_result"
    }
   ],
   "source": [
    "print('model training ...')\n",
    "epochs = 20\n",
    "model.compile(loss=keras.losses.categorical_crossentropy,\n",
    "              optimizer='adam',\n",
    "              metrics=['accuracy'])\n",
    "\n",
    "model.fit(X_train, y_train,\n",
    "          batch_size=batch_size,\n",
    "          epochs=epochs,\n",
    "          verbose=1,\n",
    "          shuffle=True,\n",
    "          validation_data=(X_valid, y_valid))\n"
   ]
  },
  {
   "cell_type": "code",
   "execution_count": 722,
   "metadata": {
    "collapsed": false
   },
   "outputs": [
    {
     "name": "stdout",
     "output_type": "stream",
     "text": [
      "calculating confusion matrix ... \n",
      "[[1881    0]\n",
      " [   0  241]]\n",
      "the mean f1 score:1.00\n"
     ]
    }
   ],
   "source": [
    "#performance eval\n",
    "from sklearn.metrics import confusion_matrix\n",
    "from sklearn.metrics import f1_score\n",
    "\n",
    "y_pred = np.argmax(model.predict(X_valid), axis=1)\n",
    "y_true = np.argmax(y_valid, axis=1)\n",
    "print('calculating confusion matrix ... ')\n",
    "cf_matrix = confusion_matrix(y_true, y_pred)\n",
    "print(cf_matrix)\n",
    "class_wise_f1 = np.round(f1_score(y_true, y_pred, average=None)*100)*0.01\n",
    "print('the mean f1 score:{:.2f}'.format(np.mean(class_wise_f1)))\n"
   ]
  },
  {
   "cell_type": "code",
   "execution_count": 533,
   "metadata": {
    "collapsed": false
   },
   "outputs": [
    {
     "data": {
      "text/plain": [
       "(18864, 3, 250, 1)"
      ]
     },
     "execution_count": 533,
     "metadata": {},
     "output_type": "execute_result"
    }
   ],
   "source": [
    "X_train.shape"
   ]
  },
  {
   "cell_type": "code",
   "execution_count": 534,
   "metadata": {
    "collapsed": false
   },
   "outputs": [],
   "source": [
    "#check that the mean of each data point is 0\n",
    "# ax = plt.boxplot(np.mean(X_train,axis=1))"
   ]
  },
  {
   "cell_type": "code",
   "execution_count": 604,
   "metadata": {
    "collapsed": false
   },
   "outputs": [
    {
     "name": "stdout",
     "output_type": "stream",
     "text": [
      "_________________________________________________________________\n",
      "Layer (type)                 Output Shape              Param #   \n",
      "=================================================================\n",
      "conv2d_21 (Conv2D)           (None, 3, 250, 16)        96        \n",
      "_________________________________________________________________\n",
      "max_pooling2d_21 (MaxPooling (None, 3, 125, 16)        0         \n",
      "_________________________________________________________________\n",
      "dropout_107 (Dropout)        (None, 3, 125, 16)        0         \n",
      "_________________________________________________________________\n",
      "conv2d_22 (Conv2D)           (None, 3, 125, 16)        1296      \n",
      "_________________________________________________________________\n",
      "max_pooling2d_22 (MaxPooling (None, 3, 62, 16)         0         \n",
      "_________________________________________________________________\n",
      "dropout_108 (Dropout)        (None, 3, 62, 16)         0         \n",
      "_________________________________________________________________\n",
      "flatten_11 (Flatten)         (None, 2976)              0         \n",
      "_________________________________________________________________\n",
      "dense_135 (Dense)            (None, 32)                95264     \n",
      "_________________________________________________________________\n",
      "dropout_109 (Dropout)        (None, 32)                0         \n",
      "_________________________________________________________________\n",
      "dense_136 (Dense)            (None, 2)                 66        \n",
      "=================================================================\n",
      "Total params: 96,722\n",
      "Trainable params: 96,722\n",
      "Non-trainable params: 0\n",
      "_________________________________________________________________\n"
     ]
    }
   ],
   "source": [
    "model.summary()"
   ]
  },
  {
   "cell_type": "code",
   "execution_count": 757,
   "metadata": {
    "collapsed": false,
    "scrolled": false
   },
   "outputs": [
    {
     "name": "stdout",
     "output_type": "stream",
     "text": [
      "MLP\n",
      "building the model ...\n",
      "model training ...\n",
      "Train on 26678 samples, validate on 1478 samples\n",
      "Epoch 1/5\n",
      "26678/26678 [==============================] - 0s - loss: 0.6408 - acc: 0.7776 - val_loss: 0.5787 - val_acc: 0.8241\n",
      "Epoch 2/5\n",
      "26678/26678 [==============================] - 0s - loss: 0.5762 - acc: 0.7776 - val_loss: 0.5253 - val_acc: 0.8241\n",
      "Epoch 3/5\n",
      "26678/26678 [==============================] - 0s - loss: 0.5490 - acc: 0.7776 - val_loss: 0.5000 - val_acc: 0.8241\n",
      "Epoch 4/5\n",
      "26678/26678 [==============================] - 0s - loss: 0.5367 - acc: 0.7776 - val_loss: 0.4850 - val_acc: 0.8241\n",
      "Epoch 5/5\n",
      "26678/26678 [==============================] - 0s - loss: 0.5324 - acc: 0.7776 - val_loss: 0.4787 - val_acc: 0.8241\n",
      "calculating confusion matrix ... \n",
      "[[1218    0]\n",
      " [ 260    0]]\n",
      "the mean f1 score:0.45\n",
      "MLP\n",
      "building the model ...\n"
     ]
    },
    {
     "name": "stderr",
     "output_type": "stream",
     "text": [
      "/Users/luca/anaconda/envs/py35_pd20/lib/python3.5/site-packages/sklearn/metrics/classification.py:1135: UndefinedMetricWarning: F-score is ill-defined and being set to 0.0 in labels with no predicted samples.\n",
      "  'precision', 'predicted', average, warn_for)\n"
     ]
    },
    {
     "name": "stdout",
     "output_type": "stream",
     "text": [
      "model training ...\n",
      "Train on 26591 samples, validate on 1565 samples\n",
      "Epoch 1/5\n",
      "26591/26591 [==============================] - 0s - loss: 0.6446 - acc: 0.7717 - val_loss: 0.5461 - val_acc: 0.9214\n",
      "Epoch 2/5\n",
      "26591/26591 [==============================] - 0s - loss: 0.5834 - acc: 0.7717 - val_loss: 0.4654 - val_acc: 0.9214\n",
      "Epoch 3/5\n",
      "26591/26591 [==============================] - 0s - loss: 0.5555 - acc: 0.7717 - val_loss: 0.4163 - val_acc: 0.9214\n",
      "Epoch 4/5\n",
      "26591/26591 [==============================] - 0s - loss: 0.5438 - acc: 0.7717 - val_loss: 0.3874 - val_acc: 0.9214\n",
      "Epoch 5/5\n",
      "26591/26591 [==============================] - 0s - loss: 0.5394 - acc: 0.7717 - val_loss: 0.3713 - val_acc: 0.9214\n",
      "calculating confusion matrix ... \n",
      "[[1442    0]\n",
      " [ 123    0]]\n",
      "the mean f1 score:0.48\n",
      "MLP\n",
      "building the model ...\n",
      "model training ...\n",
      "Train on 26264 samples, validate on 1892 samples\n",
      "Epoch 1/5\n",
      "26264/26264 [==============================] - 0s - loss: 0.7573 - acc: 0.7791 - val_loss: 0.6946 - val_acc: 0.5444\n",
      "Epoch 2/5\n",
      "26264/26264 [==============================] - 0s - loss: 0.5951 - acc: 0.7897 - val_loss: 0.7196 - val_acc: 0.5518\n",
      "Epoch 3/5\n",
      "26264/26264 [==============================] - 0s - loss: 0.5445 - acc: 0.7938 - val_loss: 0.7458 - val_acc: 0.5518\n",
      "Epoch 4/5\n",
      "26264/26264 [==============================] - 0s - loss: 0.5210 - acc: 0.7963 - val_loss: 0.7741 - val_acc: 0.5518\n",
      "Epoch 5/5\n",
      "26264/26264 [==============================] - 0s - loss: 0.5130 - acc: 0.7968 - val_loss: 0.7975 - val_acc: 0.5518\n",
      "calculating confusion matrix ... \n",
      "[[1044    0]\n",
      " [ 848    0]]\n",
      "the mean f1 score:0.35\n",
      "MLP\n",
      "building the model ...\n",
      "model training ...\n",
      "Train on 26154 samples, validate on 2002 samples\n",
      "Epoch 1/5\n",
      "26154/26154 [==============================] - 0s - loss: 0.6531 - acc: 0.8071 - val_loss: 0.7881 - val_acc: 0.3047\n",
      "Epoch 2/5\n",
      "26154/26154 [==============================] - 0s - loss: 0.5603 - acc: 0.8147 - val_loss: 0.8878 - val_acc: 0.3047\n",
      "Epoch 3/5\n",
      "26154/26154 [==============================] - 0s - loss: 0.5168 - acc: 0.8163 - val_loss: 0.9811 - val_acc: 0.3047\n",
      "Epoch 4/5\n",
      "26154/26154 [==============================] - 0s - loss: 0.4947 - acc: 0.8165 - val_loss: 1.0600 - val_acc: 0.3047\n",
      "Epoch 5/5\n",
      "26154/26154 [==============================] - 0s - loss: 0.4842 - acc: 0.8165 - val_loss: 1.1219 - val_acc: 0.3047\n",
      "calculating confusion matrix ... \n",
      "[[ 610    0]\n",
      " [1392    0]]\n",
      "the mean f1 score:0.24\n",
      "MLP\n",
      "building the model ...\n",
      "model training ...\n",
      "Train on 26926 samples, validate on 1230 samples\n",
      "Epoch 1/5\n",
      "26926/26926 [==============================] - 0s - loss: 0.6727 - acc: 0.7703 - val_loss: 0.5578 - val_acc: 0.8732\n",
      "Epoch 2/5\n",
      "26926/26926 [==============================] - 0s - loss: 0.5877 - acc: 0.7751 - val_loss: 0.4929 - val_acc: 0.8732\n",
      "Epoch 3/5\n",
      "26926/26926 [==============================] - 0s - loss: 0.5599 - acc: 0.7759 - val_loss: 0.4541 - val_acc: 0.8732\n",
      "Epoch 4/5\n",
      "26926/26926 [==============================] - 0s - loss: 0.5422 - acc: 0.7758 - val_loss: 0.4344 - val_acc: 0.8732\n",
      "Epoch 5/5\n",
      "26926/26926 [==============================] - 0s - loss: 0.5358 - acc: 0.7761 - val_loss: 0.4228 - val_acc: 0.8732\n",
      "calculating confusion matrix ... \n",
      "[[1074    0]\n",
      " [ 156    0]]\n",
      "the mean f1 score:0.47\n",
      "MLP\n",
      "building the model ...\n",
      "model training ...\n",
      "Train on 27224 samples, validate on 932 samples\n",
      "Epoch 1/5\n",
      "27224/27224 [==============================] - 0s - loss: 0.8360 - acc: 0.7650 - val_loss: 0.6023 - val_acc: 0.7811\n",
      "Epoch 2/5\n",
      "27224/27224 [==============================] - 0s - loss: 0.6336 - acc: 0.7731 - val_loss: 0.5798 - val_acc: 0.7790\n",
      "Epoch 3/5\n",
      "27224/27224 [==============================] - 0s - loss: 0.5782 - acc: 0.7773 - val_loss: 0.5468 - val_acc: 0.7790\n",
      "Epoch 4/5\n",
      "27224/27224 [==============================] - 0s - loss: 0.5491 - acc: 0.7797 - val_loss: 0.5349 - val_acc: 0.7790\n",
      "Epoch 5/5\n",
      "27224/27224 [==============================] - 0s - loss: 0.5400 - acc: 0.7801 - val_loss: 0.5323 - val_acc: 0.7790\n",
      "calculating confusion matrix ... \n",
      "[[726   0]\n",
      " [206   0]]\n",
      "the mean f1 score:0.44\n",
      "MLP\n",
      "building the model ...\n",
      "model training ...\n",
      "Train on 26779 samples, validate on 1377 samples\n",
      "Epoch 1/5\n",
      "26779/26779 [==============================] - 0s - loss: 0.6779 - acc: 0.7780 - val_loss: 0.6053 - val_acc: 0.8206\n",
      "Epoch 2/5\n",
      "26779/26779 [==============================] - 0s - loss: 0.6032 - acc: 0.7780 - val_loss: 0.5348 - val_acc: 0.8206\n",
      "Epoch 3/5\n",
      "26779/26779 [==============================] - 0s - loss: 0.5657 - acc: 0.7780 - val_loss: 0.5028 - val_acc: 0.8206\n",
      "Epoch 4/5\n",
      "26779/26779 [==============================] - 0s - loss: 0.5464 - acc: 0.7780 - val_loss: 0.4878 - val_acc: 0.8206\n",
      "Epoch 5/5\n",
      "26779/26779 [==============================] - 0s - loss: 0.5397 - acc: 0.7779 - val_loss: 0.4804 - val_acc: 0.8206\n",
      "calculating confusion matrix ... \n",
      "[[1130    0]\n",
      " [ 247    0]]\n",
      "the mean f1 score:0.45\n",
      "MLP\n",
      "building the model ...\n",
      "model training ...\n",
      "Train on 26432 samples, validate on 1724 samples\n",
      "Epoch 1/5\n",
      "26432/26432 [==============================] - 0s - loss: 0.6377 - acc: 0.7851 - val_loss: 0.6490 - val_acc: 0.6578\n",
      "Epoch 2/5\n",
      "26432/26432 [==============================] - 0s - loss: 0.5729 - acc: 0.7880 - val_loss: 0.6417 - val_acc: 0.6578\n",
      "Epoch 3/5\n",
      "26432/26432 [==============================] - 0s - loss: 0.5405 - acc: 0.7880 - val_loss: 0.6504 - val_acc: 0.6578\n",
      "Epoch 4/5\n",
      "26432/26432 [==============================] - 0s - loss: 0.5268 - acc: 0.7880 - val_loss: 0.6586 - val_acc: 0.6578\n",
      "Epoch 5/5\n",
      "26432/26432 [==============================] - 0s - loss: 0.5201 - acc: 0.7880 - val_loss: 0.6711 - val_acc: 0.6578\n",
      "calculating confusion matrix ... \n",
      "[[1134    0]\n",
      " [ 590    0]]\n",
      "the mean f1 score:0.40\n",
      "MLP\n",
      "building the model ...\n",
      "model training ...\n",
      "Train on 26506 samples, validate on 1650 samples\n",
      "Epoch 1/5\n",
      "26506/26506 [==============================] - 0s - loss: 0.6815 - acc: 0.7660 - val_loss: 0.5431 - val_acc: 0.8885\n",
      "Epoch 2/5\n",
      "26506/26506 [==============================] - 0s - loss: 0.5892 - acc: 0.7733 - val_loss: 0.4838 - val_acc: 0.8885\n",
      "Epoch 3/5\n",
      "26506/26506 [==============================] - 0s - loss: 0.5557 - acc: 0.7733 - val_loss: 0.4427 - val_acc: 0.8885\n",
      "Epoch 4/5\n",
      "26506/26506 [==============================] - 0s - loss: 0.5423 - acc: 0.7734 - val_loss: 0.4219 - val_acc: 0.8885\n",
      "Epoch 5/5\n",
      "26506/26506 [==============================] - 0s - loss: 0.5369 - acc: 0.7733 - val_loss: 0.4062 - val_acc: 0.8885\n",
      "calculating confusion matrix ... \n",
      "[[1466    0]\n",
      " [ 184    0]]\n",
      "the mean f1 score:0.47\n",
      "MLP\n",
      "building the model ...\n",
      "model training ...\n",
      "Train on 26507 samples, validate on 1649 samples\n",
      "Epoch 1/5\n",
      "26507/26507 [==============================] - 0s - loss: 0.6942 - acc: 0.7735 - val_loss: 0.5587 - val_acc: 0.8751\n",
      "Epoch 2/5\n",
      "26507/26507 [==============================] - 0s - loss: 0.5995 - acc: 0.7741 - val_loss: 0.4948 - val_acc: 0.8751\n",
      "Epoch 3/5\n",
      "26507/26507 [==============================] - 0s - loss: 0.5546 - acc: 0.7741 - val_loss: 0.4557 - val_acc: 0.8751\n",
      "Epoch 4/5\n",
      "26507/26507 [==============================] - 0s - loss: 0.5410 - acc: 0.7741 - val_loss: 0.4328 - val_acc: 0.8751\n",
      "Epoch 5/5\n",
      "26507/26507 [==============================] - 0s - loss: 0.5362 - acc: 0.7741 - val_loss: 0.4202 - val_acc: 0.8751\n",
      "calculating confusion matrix ... \n",
      "[[1443    0]\n",
      " [ 206    0]]\n",
      "the mean f1 score:0.47\n",
      "MLP\n",
      "building the model ...\n",
      "model training ...\n"
     ]
    },
    {
     "ename": "KeyboardInterrupt",
     "evalue": "",
     "output_type": "error",
     "traceback": [
      "\u001b[0;31m---------------------------------------------------------------------------\u001b[0m",
      "\u001b[0;31mKeyboardInterrupt\u001b[0m                         Traceback (most recent call last)",
      "\u001b[0;32m<ipython-input-757-7f1bf940f7b9>\u001b[0m in \u001b[0;36m<module>\u001b[0;34m()\u001b[0m\n\u001b[1;32m     40\u001b[0m               \u001b[0mverbose\u001b[0m\u001b[0;34m=\u001b[0m\u001b[0;36m1\u001b[0m\u001b[0;34m,\u001b[0m\u001b[0;34m\u001b[0m\u001b[0m\n\u001b[1;32m     41\u001b[0m               \u001b[0mshuffle\u001b[0m\u001b[0;34m=\u001b[0m\u001b[0;32mTrue\u001b[0m\u001b[0;34m,\u001b[0m\u001b[0;34m\u001b[0m\u001b[0m\n\u001b[0;32m---> 42\u001b[0;31m               validation_data=(X_valid, y_valid))\n\u001b[0m\u001b[1;32m     43\u001b[0m     \u001b[0;31m#EVAL\u001b[0m\u001b[0;34m\u001b[0m\u001b[0;34m\u001b[0m\u001b[0m\n\u001b[1;32m     44\u001b[0m     \u001b[0my_pred\u001b[0m \u001b[0;34m=\u001b[0m \u001b[0mnp\u001b[0m\u001b[0;34m.\u001b[0m\u001b[0margmax\u001b[0m\u001b[0;34m(\u001b[0m\u001b[0mmodel\u001b[0m\u001b[0;34m.\u001b[0m\u001b[0mpredict\u001b[0m\u001b[0;34m(\u001b[0m\u001b[0mX_valid\u001b[0m\u001b[0;34m)\u001b[0m\u001b[0;34m,\u001b[0m \u001b[0maxis\u001b[0m\u001b[0;34m=\u001b[0m\u001b[0;36m1\u001b[0m\u001b[0;34m)\u001b[0m\u001b[0;34m\u001b[0m\u001b[0m\n",
      "\u001b[0;32m/Users/luca/anaconda/envs/py35_pd20/lib/python3.5/site-packages/keras/models.py\u001b[0m in \u001b[0;36mfit\u001b[0;34m(self, x, y, batch_size, epochs, verbose, callbacks, validation_split, validation_data, shuffle, class_weight, sample_weight, initial_epoch, **kwargs)\u001b[0m\n\u001b[1;32m    865\u001b[0m                               \u001b[0mclass_weight\u001b[0m\u001b[0;34m=\u001b[0m\u001b[0mclass_weight\u001b[0m\u001b[0;34m,\u001b[0m\u001b[0;34m\u001b[0m\u001b[0m\n\u001b[1;32m    866\u001b[0m                               \u001b[0msample_weight\u001b[0m\u001b[0;34m=\u001b[0m\u001b[0msample_weight\u001b[0m\u001b[0;34m,\u001b[0m\u001b[0;34m\u001b[0m\u001b[0m\n\u001b[0;32m--> 867\u001b[0;31m                               initial_epoch=initial_epoch)\n\u001b[0m\u001b[1;32m    868\u001b[0m \u001b[0;34m\u001b[0m\u001b[0m\n\u001b[1;32m    869\u001b[0m     def evaluate(self, x, y, batch_size=32, verbose=1,\n",
      "\u001b[0;32m/Users/luca/anaconda/envs/py35_pd20/lib/python3.5/site-packages/keras/engine/training.py\u001b[0m in \u001b[0;36mfit\u001b[0;34m(self, x, y, batch_size, epochs, verbose, callbacks, validation_split, validation_data, shuffle, class_weight, sample_weight, initial_epoch, steps_per_epoch, validation_steps, **kwargs)\u001b[0m\n\u001b[1;32m   1573\u001b[0m         \u001b[0;32melse\u001b[0m\u001b[0;34m:\u001b[0m\u001b[0;34m\u001b[0m\u001b[0m\n\u001b[1;32m   1574\u001b[0m             \u001b[0mins\u001b[0m \u001b[0;34m=\u001b[0m \u001b[0mx\u001b[0m \u001b[0;34m+\u001b[0m \u001b[0my\u001b[0m \u001b[0;34m+\u001b[0m \u001b[0msample_weights\u001b[0m\u001b[0;34m\u001b[0m\u001b[0m\n\u001b[0;32m-> 1575\u001b[0;31m         \u001b[0mself\u001b[0m\u001b[0;34m.\u001b[0m\u001b[0m_make_train_function\u001b[0m\u001b[0;34m(\u001b[0m\u001b[0;34m)\u001b[0m\u001b[0;34m\u001b[0m\u001b[0m\n\u001b[0m\u001b[1;32m   1576\u001b[0m         \u001b[0mf\u001b[0m \u001b[0;34m=\u001b[0m \u001b[0mself\u001b[0m\u001b[0;34m.\u001b[0m\u001b[0mtrain_function\u001b[0m\u001b[0;34m\u001b[0m\u001b[0m\n\u001b[1;32m   1577\u001b[0m \u001b[0;34m\u001b[0m\u001b[0m\n",
      "\u001b[0;32m/Users/luca/anaconda/envs/py35_pd20/lib/python3.5/site-packages/keras/engine/training.py\u001b[0m in \u001b[0;36m_make_train_function\u001b[0;34m(self)\u001b[0m\n\u001b[1;32m    965\u001b[0m                                                  \u001b[0mupdates\u001b[0m\u001b[0;34m=\u001b[0m\u001b[0mupdates\u001b[0m\u001b[0;34m,\u001b[0m\u001b[0;34m\u001b[0m\u001b[0m\n\u001b[1;32m    966\u001b[0m                                                  \u001b[0mname\u001b[0m\u001b[0;34m=\u001b[0m\u001b[0;34m'train_function'\u001b[0m\u001b[0;34m,\u001b[0m\u001b[0;34m\u001b[0m\u001b[0m\n\u001b[0;32m--> 967\u001b[0;31m                                                  **self._function_kwargs)\n\u001b[0m\u001b[1;32m    968\u001b[0m \u001b[0;34m\u001b[0m\u001b[0m\n\u001b[1;32m    969\u001b[0m     \u001b[0;32mdef\u001b[0m \u001b[0m_make_test_function\u001b[0m\u001b[0;34m(\u001b[0m\u001b[0mself\u001b[0m\u001b[0;34m)\u001b[0m\u001b[0;34m:\u001b[0m\u001b[0;34m\u001b[0m\u001b[0m\n",
      "\u001b[0;32m/Users/luca/anaconda/envs/py35_pd20/lib/python3.5/site-packages/keras/backend/theano_backend.py\u001b[0m in \u001b[0;36mfunction\u001b[0;34m(inputs, outputs, updates, **kwargs)\u001b[0m\n\u001b[1;32m   1229\u001b[0m                 \u001b[0mmsg\u001b[0m \u001b[0;34m=\u001b[0m \u001b[0;34m'Invalid argument \"%s\" passed to K.function with Theano backend'\u001b[0m \u001b[0;34m%\u001b[0m \u001b[0mkey\u001b[0m\u001b[0;34m\u001b[0m\u001b[0m\n\u001b[1;32m   1230\u001b[0m                 \u001b[0;32mraise\u001b[0m \u001b[0mValueError\u001b[0m\u001b[0;34m(\u001b[0m\u001b[0mmsg\u001b[0m\u001b[0;34m)\u001b[0m\u001b[0;34m\u001b[0m\u001b[0m\n\u001b[0;32m-> 1231\u001b[0;31m     \u001b[0;32mreturn\u001b[0m \u001b[0mFunction\u001b[0m\u001b[0;34m(\u001b[0m\u001b[0minputs\u001b[0m\u001b[0;34m,\u001b[0m \u001b[0moutputs\u001b[0m\u001b[0;34m,\u001b[0m \u001b[0mupdates\u001b[0m\u001b[0;34m=\u001b[0m\u001b[0mupdates\u001b[0m\u001b[0;34m,\u001b[0m \u001b[0;34m**\u001b[0m\u001b[0mkwargs\u001b[0m\u001b[0;34m)\u001b[0m\u001b[0;34m\u001b[0m\u001b[0m\n\u001b[0m\u001b[1;32m   1232\u001b[0m \u001b[0;34m\u001b[0m\u001b[0m\n\u001b[1;32m   1233\u001b[0m \u001b[0;34m\u001b[0m\u001b[0m\n",
      "\u001b[0;32m/Users/luca/anaconda/envs/py35_pd20/lib/python3.5/site-packages/keras/backend/theano_backend.py\u001b[0m in \u001b[0;36m__init__\u001b[0;34m(self, inputs, outputs, updates, name, **kwargs)\u001b[0m\n\u001b[1;32m   1215\u001b[0m                                         \u001b[0mon_unused_input\u001b[0m\u001b[0;34m=\u001b[0m\u001b[0;34m'ignore'\u001b[0m\u001b[0;34m,\u001b[0m\u001b[0;34m\u001b[0m\u001b[0m\n\u001b[1;32m   1216\u001b[0m                                         \u001b[0mname\u001b[0m\u001b[0;34m=\u001b[0m\u001b[0mname\u001b[0m\u001b[0;34m,\u001b[0m\u001b[0;34m\u001b[0m\u001b[0m\n\u001b[0;32m-> 1217\u001b[0;31m                                         **kwargs)\n\u001b[0m\u001b[1;32m   1218\u001b[0m         \u001b[0mself\u001b[0m\u001b[0;34m.\u001b[0m\u001b[0mname\u001b[0m \u001b[0;34m=\u001b[0m \u001b[0mname\u001b[0m\u001b[0;34m\u001b[0m\u001b[0m\n\u001b[1;32m   1219\u001b[0m \u001b[0;34m\u001b[0m\u001b[0m\n",
      "\u001b[0;32m/Users/luca/anaconda/envs/py35_pd20/lib/python3.5/site-packages/theano/compile/function.py\u001b[0m in \u001b[0;36mfunction\u001b[0;34m(inputs, outputs, mode, updates, givens, no_default_updates, accept_inplace, name, rebuild_strict, allow_input_downcast, profile, on_unused_input)\u001b[0m\n\u001b[1;32m    324\u001b[0m                    \u001b[0mon_unused_input\u001b[0m\u001b[0;34m=\u001b[0m\u001b[0mon_unused_input\u001b[0m\u001b[0;34m,\u001b[0m\u001b[0;34m\u001b[0m\u001b[0m\n\u001b[1;32m    325\u001b[0m                    \u001b[0mprofile\u001b[0m\u001b[0;34m=\u001b[0m\u001b[0mprofile\u001b[0m\u001b[0;34m,\u001b[0m\u001b[0;34m\u001b[0m\u001b[0m\n\u001b[0;32m--> 326\u001b[0;31m                    output_keys=output_keys)\n\u001b[0m\u001b[1;32m    327\u001b[0m     \u001b[0;31m# We need to add the flag check_aliased inputs if we have any mutable or\u001b[0m\u001b[0;34m\u001b[0m\u001b[0;34m\u001b[0m\u001b[0m\n\u001b[1;32m    328\u001b[0m     \u001b[0;31m# borrowed used defined inputs\u001b[0m\u001b[0;34m\u001b[0m\u001b[0;34m\u001b[0m\u001b[0m\n",
      "\u001b[0;32m/Users/luca/anaconda/envs/py35_pd20/lib/python3.5/site-packages/theano/compile/pfunc.py\u001b[0m in \u001b[0;36mpfunc\u001b[0;34m(params, outputs, mode, updates, givens, no_default_updates, accept_inplace, name, rebuild_strict, allow_input_downcast, profile, on_unused_input, output_keys)\u001b[0m\n\u001b[1;32m    484\u001b[0m                          \u001b[0maccept_inplace\u001b[0m\u001b[0;34m=\u001b[0m\u001b[0maccept_inplace\u001b[0m\u001b[0;34m,\u001b[0m \u001b[0mname\u001b[0m\u001b[0;34m=\u001b[0m\u001b[0mname\u001b[0m\u001b[0;34m,\u001b[0m\u001b[0;34m\u001b[0m\u001b[0m\n\u001b[1;32m    485\u001b[0m                          \u001b[0mprofile\u001b[0m\u001b[0;34m=\u001b[0m\u001b[0mprofile\u001b[0m\u001b[0;34m,\u001b[0m \u001b[0mon_unused_input\u001b[0m\u001b[0;34m=\u001b[0m\u001b[0mon_unused_input\u001b[0m\u001b[0;34m,\u001b[0m\u001b[0;34m\u001b[0m\u001b[0m\n\u001b[0;32m--> 486\u001b[0;31m                          output_keys=output_keys)\n\u001b[0m\u001b[1;32m    487\u001b[0m \u001b[0;34m\u001b[0m\u001b[0m\n\u001b[1;32m    488\u001b[0m \u001b[0;34m\u001b[0m\u001b[0m\n",
      "\u001b[0;32m/Users/luca/anaconda/envs/py35_pd20/lib/python3.5/site-packages/theano/compile/function_module.py\u001b[0m in \u001b[0;36morig_function\u001b[0;34m(inputs, outputs, mode, accept_inplace, name, profile, on_unused_input, output_keys)\u001b[0m\n\u001b[1;32m   1792\u001b[0m                    \u001b[0mprofile\u001b[0m\u001b[0;34m=\u001b[0m\u001b[0mprofile\u001b[0m\u001b[0;34m,\u001b[0m\u001b[0;34m\u001b[0m\u001b[0m\n\u001b[1;32m   1793\u001b[0m                    \u001b[0mon_unused_input\u001b[0m\u001b[0;34m=\u001b[0m\u001b[0mon_unused_input\u001b[0m\u001b[0;34m,\u001b[0m\u001b[0;34m\u001b[0m\u001b[0m\n\u001b[0;32m-> 1794\u001b[0;31m                    \u001b[0moutput_keys\u001b[0m\u001b[0;34m=\u001b[0m\u001b[0moutput_keys\u001b[0m\u001b[0;34m)\u001b[0m\u001b[0;34m.\u001b[0m\u001b[0mcreate\u001b[0m\u001b[0;34m(\u001b[0m\u001b[0;34m\u001b[0m\u001b[0m\n\u001b[0m\u001b[1;32m   1795\u001b[0m             defaults)\n\u001b[1;32m   1796\u001b[0m \u001b[0;34m\u001b[0m\u001b[0m\n",
      "\u001b[0;32m/Users/luca/anaconda/envs/py35_pd20/lib/python3.5/site-packages/theano/compile/function_module.py\u001b[0m in \u001b[0;36m__init__\u001b[0;34m(self, inputs, outputs, mode, accept_inplace, function_builder, profile, on_unused_input, fgraph, output_keys)\u001b[0m\n\u001b[1;32m   1472\u001b[0m                         optimizer, inputs, outputs)\n\u001b[1;32m   1473\u001b[0m                 \u001b[0;32melse\u001b[0m\u001b[0;34m:\u001b[0m\u001b[0;34m\u001b[0m\u001b[0m\n\u001b[0;32m-> 1474\u001b[0;31m                     \u001b[0moptimizer_profile\u001b[0m \u001b[0;34m=\u001b[0m \u001b[0moptimizer\u001b[0m\u001b[0;34m(\u001b[0m\u001b[0mfgraph\u001b[0m\u001b[0;34m)\u001b[0m\u001b[0;34m\u001b[0m\u001b[0m\n\u001b[0m\u001b[1;32m   1475\u001b[0m \u001b[0;34m\u001b[0m\u001b[0m\n\u001b[1;32m   1476\u001b[0m                 \u001b[0mend_optimizer\u001b[0m \u001b[0;34m=\u001b[0m \u001b[0mtime\u001b[0m\u001b[0;34m.\u001b[0m\u001b[0mtime\u001b[0m\u001b[0;34m(\u001b[0m\u001b[0;34m)\u001b[0m\u001b[0;34m\u001b[0m\u001b[0m\n",
      "\u001b[0;32m/Users/luca/anaconda/envs/py35_pd20/lib/python3.5/site-packages/theano/gof/opt.py\u001b[0m in \u001b[0;36m__call__\u001b[0;34m(self, fgraph)\u001b[0m\n\u001b[1;32m     96\u001b[0m \u001b[0;34m\u001b[0m\u001b[0m\n\u001b[1;32m     97\u001b[0m         \"\"\"\n\u001b[0;32m---> 98\u001b[0;31m         \u001b[0;32mreturn\u001b[0m \u001b[0mself\u001b[0m\u001b[0;34m.\u001b[0m\u001b[0moptimize\u001b[0m\u001b[0;34m(\u001b[0m\u001b[0mfgraph\u001b[0m\u001b[0;34m)\u001b[0m\u001b[0;34m\u001b[0m\u001b[0m\n\u001b[0m\u001b[1;32m     99\u001b[0m \u001b[0;34m\u001b[0m\u001b[0m\n\u001b[1;32m    100\u001b[0m     \u001b[0;32mdef\u001b[0m \u001b[0madd_requirements\u001b[0m\u001b[0;34m(\u001b[0m\u001b[0mself\u001b[0m\u001b[0;34m,\u001b[0m \u001b[0mfgraph\u001b[0m\u001b[0;34m)\u001b[0m\u001b[0;34m:\u001b[0m\u001b[0;34m\u001b[0m\u001b[0m\n",
      "\u001b[0;32m/Users/luca/anaconda/envs/py35_pd20/lib/python3.5/site-packages/theano/gof/opt.py\u001b[0m in \u001b[0;36moptimize\u001b[0;34m(self, fgraph, *args, **kwargs)\u001b[0m\n\u001b[1;32m     85\u001b[0m             \u001b[0morig\u001b[0m \u001b[0;34m=\u001b[0m \u001b[0mtheano\u001b[0m\u001b[0;34m.\u001b[0m\u001b[0mtensor\u001b[0m\u001b[0;34m.\u001b[0m\u001b[0mbasic\u001b[0m\u001b[0;34m.\u001b[0m\u001b[0mconstant\u001b[0m\u001b[0;34m.\u001b[0m\u001b[0menable\u001b[0m\u001b[0;34m\u001b[0m\u001b[0m\n\u001b[1;32m     86\u001b[0m             \u001b[0mtheano\u001b[0m\u001b[0;34m.\u001b[0m\u001b[0mtensor\u001b[0m\u001b[0;34m.\u001b[0m\u001b[0mbasic\u001b[0m\u001b[0;34m.\u001b[0m\u001b[0mconstant\u001b[0m\u001b[0;34m.\u001b[0m\u001b[0menable\u001b[0m \u001b[0;34m=\u001b[0m \u001b[0;32mFalse\u001b[0m\u001b[0;34m\u001b[0m\u001b[0m\n\u001b[0;32m---> 87\u001b[0;31m             \u001b[0mret\u001b[0m \u001b[0;34m=\u001b[0m \u001b[0mself\u001b[0m\u001b[0;34m.\u001b[0m\u001b[0mapply\u001b[0m\u001b[0;34m(\u001b[0m\u001b[0mfgraph\u001b[0m\u001b[0;34m,\u001b[0m \u001b[0;34m*\u001b[0m\u001b[0margs\u001b[0m\u001b[0;34m,\u001b[0m \u001b[0;34m**\u001b[0m\u001b[0mkwargs\u001b[0m\u001b[0;34m)\u001b[0m\u001b[0;34m\u001b[0m\u001b[0m\n\u001b[0m\u001b[1;32m     88\u001b[0m         \u001b[0;32mfinally\u001b[0m\u001b[0;34m:\u001b[0m\u001b[0;34m\u001b[0m\u001b[0m\n\u001b[1;32m     89\u001b[0m             \u001b[0mtheano\u001b[0m\u001b[0;34m.\u001b[0m\u001b[0mtensor\u001b[0m\u001b[0;34m.\u001b[0m\u001b[0mbasic\u001b[0m\u001b[0;34m.\u001b[0m\u001b[0mconstant\u001b[0m\u001b[0;34m.\u001b[0m\u001b[0menable\u001b[0m \u001b[0;34m=\u001b[0m \u001b[0morig\u001b[0m\u001b[0;34m\u001b[0m\u001b[0m\n",
      "\u001b[0;32m/Users/luca/anaconda/envs/py35_pd20/lib/python3.5/site-packages/theano/gof/opt.py\u001b[0m in \u001b[0;36mapply\u001b[0;34m(self, fgraph)\u001b[0m\n\u001b[1;32m    233\u001b[0m                 \u001b[0mnb_nodes_before\u001b[0m \u001b[0;34m=\u001b[0m \u001b[0mlen\u001b[0m\u001b[0;34m(\u001b[0m\u001b[0mfgraph\u001b[0m\u001b[0;34m.\u001b[0m\u001b[0mapply_nodes\u001b[0m\u001b[0;34m)\u001b[0m\u001b[0;34m\u001b[0m\u001b[0m\n\u001b[1;32m    234\u001b[0m                 \u001b[0mt0\u001b[0m \u001b[0;34m=\u001b[0m \u001b[0mtime\u001b[0m\u001b[0;34m.\u001b[0m\u001b[0mtime\u001b[0m\u001b[0;34m(\u001b[0m\u001b[0;34m)\u001b[0m\u001b[0;34m\u001b[0m\u001b[0m\n\u001b[0;32m--> 235\u001b[0;31m                 \u001b[0msub_prof\u001b[0m \u001b[0;34m=\u001b[0m \u001b[0moptimizer\u001b[0m\u001b[0;34m.\u001b[0m\u001b[0moptimize\u001b[0m\u001b[0;34m(\u001b[0m\u001b[0mfgraph\u001b[0m\u001b[0;34m)\u001b[0m\u001b[0;34m\u001b[0m\u001b[0m\n\u001b[0m\u001b[1;32m    236\u001b[0m                 \u001b[0ml\u001b[0m\u001b[0;34m.\u001b[0m\u001b[0mappend\u001b[0m\u001b[0;34m(\u001b[0m\u001b[0mfloat\u001b[0m\u001b[0;34m(\u001b[0m\u001b[0mtime\u001b[0m\u001b[0;34m.\u001b[0m\u001b[0mtime\u001b[0m\u001b[0;34m(\u001b[0m\u001b[0;34m)\u001b[0m \u001b[0;34m-\u001b[0m \u001b[0mt0\u001b[0m\u001b[0;34m)\u001b[0m\u001b[0;34m)\u001b[0m\u001b[0;34m\u001b[0m\u001b[0m\n\u001b[1;32m    237\u001b[0m                 \u001b[0msub_profs\u001b[0m\u001b[0;34m.\u001b[0m\u001b[0mappend\u001b[0m\u001b[0;34m(\u001b[0m\u001b[0msub_prof\u001b[0m\u001b[0;34m)\u001b[0m\u001b[0;34m\u001b[0m\u001b[0m\n",
      "\u001b[0;32m/Users/luca/anaconda/envs/py35_pd20/lib/python3.5/site-packages/theano/gof/opt.py\u001b[0m in \u001b[0;36moptimize\u001b[0;34m(self, fgraph, *args, **kwargs)\u001b[0m\n\u001b[1;32m     85\u001b[0m             \u001b[0morig\u001b[0m \u001b[0;34m=\u001b[0m \u001b[0mtheano\u001b[0m\u001b[0;34m.\u001b[0m\u001b[0mtensor\u001b[0m\u001b[0;34m.\u001b[0m\u001b[0mbasic\u001b[0m\u001b[0;34m.\u001b[0m\u001b[0mconstant\u001b[0m\u001b[0;34m.\u001b[0m\u001b[0menable\u001b[0m\u001b[0;34m\u001b[0m\u001b[0m\n\u001b[1;32m     86\u001b[0m             \u001b[0mtheano\u001b[0m\u001b[0;34m.\u001b[0m\u001b[0mtensor\u001b[0m\u001b[0;34m.\u001b[0m\u001b[0mbasic\u001b[0m\u001b[0;34m.\u001b[0m\u001b[0mconstant\u001b[0m\u001b[0;34m.\u001b[0m\u001b[0menable\u001b[0m \u001b[0;34m=\u001b[0m \u001b[0;32mFalse\u001b[0m\u001b[0;34m\u001b[0m\u001b[0m\n\u001b[0;32m---> 87\u001b[0;31m             \u001b[0mret\u001b[0m \u001b[0;34m=\u001b[0m \u001b[0mself\u001b[0m\u001b[0;34m.\u001b[0m\u001b[0mapply\u001b[0m\u001b[0;34m(\u001b[0m\u001b[0mfgraph\u001b[0m\u001b[0;34m,\u001b[0m \u001b[0;34m*\u001b[0m\u001b[0margs\u001b[0m\u001b[0;34m,\u001b[0m \u001b[0;34m**\u001b[0m\u001b[0mkwargs\u001b[0m\u001b[0;34m)\u001b[0m\u001b[0;34m\u001b[0m\u001b[0m\n\u001b[0m\u001b[1;32m     88\u001b[0m         \u001b[0;32mfinally\u001b[0m\u001b[0;34m:\u001b[0m\u001b[0;34m\u001b[0m\u001b[0m\n\u001b[1;32m     89\u001b[0m             \u001b[0mtheano\u001b[0m\u001b[0;34m.\u001b[0m\u001b[0mtensor\u001b[0m\u001b[0;34m.\u001b[0m\u001b[0mbasic\u001b[0m\u001b[0;34m.\u001b[0m\u001b[0mconstant\u001b[0m\u001b[0;34m.\u001b[0m\u001b[0menable\u001b[0m \u001b[0;34m=\u001b[0m \u001b[0morig\u001b[0m\u001b[0;34m\u001b[0m\u001b[0m\n",
      "\u001b[0;32m/Users/luca/anaconda/envs/py35_pd20/lib/python3.5/site-packages/theano/gof/opt.py\u001b[0m in \u001b[0;36mapply\u001b[0;34m(self, fgraph, start_from)\u001b[0m\n\u001b[1;32m   2468\u001b[0m                         \u001b[0mnb\u001b[0m \u001b[0;34m=\u001b[0m \u001b[0mchange_tracker\u001b[0m\u001b[0;34m.\u001b[0m\u001b[0mnb_imported\u001b[0m\u001b[0;34m\u001b[0m\u001b[0m\n\u001b[1;32m   2469\u001b[0m                         \u001b[0mt_opt\u001b[0m \u001b[0;34m=\u001b[0m \u001b[0mtime\u001b[0m\u001b[0;34m.\u001b[0m\u001b[0mtime\u001b[0m\u001b[0;34m(\u001b[0m\u001b[0;34m)\u001b[0m\u001b[0;34m\u001b[0m\u001b[0m\n\u001b[0;32m-> 2470\u001b[0;31m                         \u001b[0mlopt_change\u001b[0m \u001b[0;34m=\u001b[0m \u001b[0mself\u001b[0m\u001b[0;34m.\u001b[0m\u001b[0mprocess_node\u001b[0m\u001b[0;34m(\u001b[0m\u001b[0mfgraph\u001b[0m\u001b[0;34m,\u001b[0m \u001b[0mnode\u001b[0m\u001b[0;34m,\u001b[0m \u001b[0mlopt\u001b[0m\u001b[0;34m)\u001b[0m\u001b[0;34m\u001b[0m\u001b[0m\n\u001b[0m\u001b[1;32m   2471\u001b[0m                         \u001b[0mtime_opts\u001b[0m\u001b[0;34m[\u001b[0m\u001b[0mlopt\u001b[0m\u001b[0;34m]\u001b[0m \u001b[0;34m+=\u001b[0m \u001b[0mtime\u001b[0m\u001b[0;34m.\u001b[0m\u001b[0mtime\u001b[0m\u001b[0;34m(\u001b[0m\u001b[0;34m)\u001b[0m \u001b[0;34m-\u001b[0m \u001b[0mt_opt\u001b[0m\u001b[0;34m\u001b[0m\u001b[0m\n\u001b[1;32m   2472\u001b[0m                         \u001b[0;32mif\u001b[0m \u001b[0;32mnot\u001b[0m \u001b[0mlopt_change\u001b[0m\u001b[0;34m:\u001b[0m\u001b[0;34m\u001b[0m\u001b[0m\n",
      "\u001b[0;32m/Users/luca/anaconda/envs/py35_pd20/lib/python3.5/site-packages/theano/gof/opt.py\u001b[0m in \u001b[0;36mprocess_node\u001b[0;34m(self, fgraph, node, lopt)\u001b[0m\n\u001b[1;32m   2020\u001b[0m             fgraph.replace_all_validate_remove(repl_pairs,\n\u001b[1;32m   2021\u001b[0m                                                \u001b[0mreason\u001b[0m\u001b[0;34m=\u001b[0m\u001b[0mlopt\u001b[0m\u001b[0;34m,\u001b[0m\u001b[0;34m\u001b[0m\u001b[0m\n\u001b[0;32m-> 2022\u001b[0;31m                                                remove=remove)\n\u001b[0m\u001b[1;32m   2023\u001b[0m             \u001b[0;32mreturn\u001b[0m \u001b[0;32mTrue\u001b[0m\u001b[0;34m\u001b[0m\u001b[0m\n\u001b[1;32m   2024\u001b[0m         \u001b[0;32mexcept\u001b[0m \u001b[0mException\u001b[0m \u001b[0;32mas\u001b[0m \u001b[0me\u001b[0m\u001b[0;34m:\u001b[0m\u001b[0;34m\u001b[0m\u001b[0m\n",
      "\u001b[0;32m/Users/luca/anaconda/envs/py35_pd20/lib/python3.5/site-packages/theano/gof/toolbox.py\u001b[0m in \u001b[0;36mreplace_all_validate_remove\u001b[0;34m(self, fgraph, replacements, remove, reason, warn)\u001b[0m\n\u001b[1;32m    389\u001b[0m \u001b[0;34m\u001b[0m\u001b[0m\n\u001b[1;32m    390\u001b[0m         \"\"\"\n\u001b[0;32m--> 391\u001b[0;31m         \u001b[0mchk\u001b[0m \u001b[0;34m=\u001b[0m \u001b[0mfgraph\u001b[0m\u001b[0;34m.\u001b[0m\u001b[0mreplace_all_validate\u001b[0m\u001b[0;34m(\u001b[0m\u001b[0mreplacements\u001b[0m\u001b[0;34m,\u001b[0m \u001b[0mreason\u001b[0m\u001b[0;34m)\u001b[0m\u001b[0;34m\u001b[0m\u001b[0m\n\u001b[0m\u001b[1;32m    392\u001b[0m         \u001b[0mself\u001b[0m\u001b[0;34m.\u001b[0m\u001b[0m_nodes_removed\u001b[0m\u001b[0;34m.\u001b[0m\u001b[0mupdate\u001b[0m\u001b[0;34m(\u001b[0m\u001b[0mremove\u001b[0m\u001b[0;34m)\u001b[0m\u001b[0;34m\u001b[0m\u001b[0m\n\u001b[1;32m    393\u001b[0m         \u001b[0;32mfor\u001b[0m \u001b[0mrm\u001b[0m \u001b[0;32min\u001b[0m \u001b[0mremove\u001b[0m\u001b[0;34m:\u001b[0m\u001b[0;34m\u001b[0m\u001b[0m\n",
      "\u001b[0;32m/Users/luca/anaconda/envs/py35_pd20/lib/python3.5/site-packages/theano/gof/toolbox.py\u001b[0m in \u001b[0;36mreplace_all_validate\u001b[0;34m(self, fgraph, replacements, reason, verbose)\u001b[0m\n\u001b[1;32m    338\u001b[0m         \u001b[0;32mfor\u001b[0m \u001b[0mr\u001b[0m\u001b[0;34m,\u001b[0m \u001b[0mnew_r\u001b[0m \u001b[0;32min\u001b[0m \u001b[0mreplacements\u001b[0m\u001b[0;34m:\u001b[0m\u001b[0;34m\u001b[0m\u001b[0m\n\u001b[1;32m    339\u001b[0m             \u001b[0;32mtry\u001b[0m\u001b[0;34m:\u001b[0m\u001b[0;34m\u001b[0m\u001b[0m\n\u001b[0;32m--> 340\u001b[0;31m                 \u001b[0mfgraph\u001b[0m\u001b[0;34m.\u001b[0m\u001b[0mreplace\u001b[0m\u001b[0;34m(\u001b[0m\u001b[0mr\u001b[0m\u001b[0;34m,\u001b[0m \u001b[0mnew_r\u001b[0m\u001b[0;34m,\u001b[0m \u001b[0mreason\u001b[0m\u001b[0;34m=\u001b[0m\u001b[0mreason\u001b[0m\u001b[0;34m,\u001b[0m \u001b[0mverbose\u001b[0m\u001b[0;34m=\u001b[0m\u001b[0;32mFalse\u001b[0m\u001b[0;34m)\u001b[0m\u001b[0;34m\u001b[0m\u001b[0m\n\u001b[0m\u001b[1;32m    341\u001b[0m             \u001b[0;32mexcept\u001b[0m \u001b[0mException\u001b[0m \u001b[0;32mas\u001b[0m \u001b[0me\u001b[0m\u001b[0;34m:\u001b[0m\u001b[0;34m\u001b[0m\u001b[0m\n\u001b[1;32m    342\u001b[0m                 \u001b[0mmsg\u001b[0m \u001b[0;34m=\u001b[0m \u001b[0mstr\u001b[0m\u001b[0;34m(\u001b[0m\u001b[0me\u001b[0m\u001b[0;34m)\u001b[0m\u001b[0;34m\u001b[0m\u001b[0m\n",
      "\u001b[0;32m/Users/luca/anaconda/envs/py35_pd20/lib/python3.5/site-packages/theano/gof/fg.py\u001b[0m in \u001b[0;36mreplace\u001b[0;34m(self, r, new_r, reason, verbose)\u001b[0m\n\u001b[1;32m    507\u001b[0m         \u001b[0;32mfor\u001b[0m \u001b[0mnode\u001b[0m\u001b[0;34m,\u001b[0m \u001b[0mi\u001b[0m \u001b[0;32min\u001b[0m \u001b[0mlist\u001b[0m\u001b[0;34m(\u001b[0m\u001b[0mr\u001b[0m\u001b[0;34m.\u001b[0m\u001b[0mclients\u001b[0m\u001b[0;34m)\u001b[0m\u001b[0;34m:\u001b[0m  \u001b[0;31m# copy the client list for iteration\u001b[0m\u001b[0;34m\u001b[0m\u001b[0m\n\u001b[1;32m    508\u001b[0m             \u001b[0;32massert\u001b[0m \u001b[0;34m(\u001b[0m\u001b[0mnode\u001b[0m \u001b[0;34m==\u001b[0m \u001b[0;34m'output'\u001b[0m \u001b[0;32mand\u001b[0m \u001b[0mself\u001b[0m\u001b[0;34m.\u001b[0m\u001b[0moutputs\u001b[0m\u001b[0;34m[\u001b[0m\u001b[0mi\u001b[0m\u001b[0;34m]\u001b[0m \u001b[0;32mis\u001b[0m \u001b[0mr\u001b[0m\u001b[0;34m)\u001b[0m \u001b[0;32mor\u001b[0m \u001b[0;34m(\u001b[0m\u001b[0mnode\u001b[0m\u001b[0;34m.\u001b[0m\u001b[0minputs\u001b[0m\u001b[0;34m[\u001b[0m\u001b[0mi\u001b[0m\u001b[0;34m]\u001b[0m \u001b[0;32mis\u001b[0m \u001b[0mr\u001b[0m\u001b[0;34m)\u001b[0m\u001b[0;34m\u001b[0m\u001b[0m\n\u001b[0;32m--> 509\u001b[0;31m             \u001b[0mself\u001b[0m\u001b[0;34m.\u001b[0m\u001b[0mchange_input\u001b[0m\u001b[0;34m(\u001b[0m\u001b[0mnode\u001b[0m\u001b[0;34m,\u001b[0m \u001b[0mi\u001b[0m\u001b[0;34m,\u001b[0m \u001b[0mnew_r\u001b[0m\u001b[0;34m,\u001b[0m \u001b[0mreason\u001b[0m\u001b[0;34m=\u001b[0m\u001b[0mreason\u001b[0m\u001b[0;34m)\u001b[0m\u001b[0;34m\u001b[0m\u001b[0m\n\u001b[0m\u001b[1;32m    510\u001b[0m \u001b[0;34m\u001b[0m\u001b[0m\n\u001b[1;32m    511\u001b[0m         \u001b[0;31m# sometimes the following is triggered.  If you understand why, please explain to James.\u001b[0m\u001b[0;34m\u001b[0m\u001b[0;34m\u001b[0m\u001b[0m\n",
      "\u001b[0;32m/Users/luca/anaconda/envs/py35_pd20/lib/python3.5/site-packages/theano/gof/fg.py\u001b[0m in \u001b[0;36mchange_input\u001b[0;34m(self, node, i, new_r, reason)\u001b[0m\n\u001b[1;32m    449\u001b[0m             \u001b[0;32mreturn\u001b[0m\u001b[0;34m\u001b[0m\u001b[0m\n\u001b[1;32m    450\u001b[0m \u001b[0;34m\u001b[0m\u001b[0m\n\u001b[0;32m--> 451\u001b[0;31m         \u001b[0mself\u001b[0m\u001b[0;34m.\u001b[0m\u001b[0m__import_r__\u001b[0m\u001b[0;34m(\u001b[0m\u001b[0mnew_r\u001b[0m\u001b[0;34m,\u001b[0m \u001b[0mreason\u001b[0m\u001b[0;34m=\u001b[0m\u001b[0mreason\u001b[0m\u001b[0;34m)\u001b[0m\u001b[0;34m\u001b[0m\u001b[0m\n\u001b[0m\u001b[1;32m    452\u001b[0m         \u001b[0mself\u001b[0m\u001b[0;34m.\u001b[0m\u001b[0m__add_client__\u001b[0m\u001b[0;34m(\u001b[0m\u001b[0mnew_r\u001b[0m\u001b[0;34m,\u001b[0m \u001b[0;34m(\u001b[0m\u001b[0mnode\u001b[0m\u001b[0;34m,\u001b[0m \u001b[0mi\u001b[0m\u001b[0;34m)\u001b[0m\u001b[0;34m)\u001b[0m\u001b[0;34m\u001b[0m\u001b[0m\n\u001b[1;32m    453\u001b[0m         \u001b[0mself\u001b[0m\u001b[0;34m.\u001b[0m\u001b[0m__remove_client__\u001b[0m\u001b[0;34m(\u001b[0m\u001b[0mr\u001b[0m\u001b[0;34m,\u001b[0m \u001b[0;34m(\u001b[0m\u001b[0mnode\u001b[0m\u001b[0;34m,\u001b[0m \u001b[0mi\u001b[0m\u001b[0;34m)\u001b[0m\u001b[0;34m,\u001b[0m \u001b[0mreason\u001b[0m\u001b[0;34m=\u001b[0m\u001b[0mreason\u001b[0m\u001b[0;34m)\u001b[0m\u001b[0;34m\u001b[0m\u001b[0m\n",
      "\u001b[0;32m/Users/luca/anaconda/envs/py35_pd20/lib/python3.5/site-packages/theano/gof/fg.py\u001b[0m in \u001b[0;36m__import_r__\u001b[0;34m(self, variable, reason)\u001b[0m\n\u001b[1;32m    349\u001b[0m         \u001b[0;31m# Imports the owners of the variables\u001b[0m\u001b[0;34m\u001b[0m\u001b[0;34m\u001b[0m\u001b[0m\n\u001b[1;32m    350\u001b[0m         \u001b[0;32mif\u001b[0m \u001b[0mvariable\u001b[0m\u001b[0;34m.\u001b[0m\u001b[0mowner\u001b[0m \u001b[0;32mand\u001b[0m \u001b[0mvariable\u001b[0m\u001b[0;34m.\u001b[0m\u001b[0mowner\u001b[0m \u001b[0;32mnot\u001b[0m \u001b[0;32min\u001b[0m \u001b[0mself\u001b[0m\u001b[0;34m.\u001b[0m\u001b[0mapply_nodes\u001b[0m\u001b[0;34m:\u001b[0m\u001b[0;34m\u001b[0m\u001b[0m\n\u001b[0;32m--> 351\u001b[0;31m                 \u001b[0mself\u001b[0m\u001b[0;34m.\u001b[0m\u001b[0m__import__\u001b[0m\u001b[0;34m(\u001b[0m\u001b[0mvariable\u001b[0m\u001b[0;34m.\u001b[0m\u001b[0mowner\u001b[0m\u001b[0;34m,\u001b[0m \u001b[0mreason\u001b[0m\u001b[0;34m=\u001b[0m\u001b[0mreason\u001b[0m\u001b[0;34m)\u001b[0m\u001b[0;34m\u001b[0m\u001b[0m\n\u001b[0m\u001b[1;32m    352\u001b[0m         elif (variable.owner is None and\n\u001b[1;32m    353\u001b[0m                 \u001b[0;32mnot\u001b[0m \u001b[0misinstance\u001b[0m\u001b[0;34m(\u001b[0m\u001b[0mvariable\u001b[0m\u001b[0;34m,\u001b[0m \u001b[0mgraph\u001b[0m\u001b[0;34m.\u001b[0m\u001b[0mConstant\u001b[0m\u001b[0;34m)\u001b[0m \u001b[0;32mand\u001b[0m\u001b[0;34m\u001b[0m\u001b[0m\n",
      "\u001b[0;32m/Users/luca/anaconda/envs/py35_pd20/lib/python3.5/site-packages/theano/gof/fg.py\u001b[0m in \u001b[0;36m__import__\u001b[0;34m(self, apply_node, check, reason)\u001b[0m\n\u001b[1;32m    405\u001b[0m             \u001b[0mnode\u001b[0m\u001b[0;34m.\u001b[0m\u001b[0mtag\u001b[0m\u001b[0;34m.\u001b[0m\u001b[0mimported_by\u001b[0m\u001b[0;34m.\u001b[0m\u001b[0mappend\u001b[0m\u001b[0;34m(\u001b[0m\u001b[0mstr\u001b[0m\u001b[0;34m(\u001b[0m\u001b[0mreason\u001b[0m\u001b[0;34m)\u001b[0m\u001b[0;34m)\u001b[0m\u001b[0;34m\u001b[0m\u001b[0m\n\u001b[1;32m    406\u001b[0m             \u001b[0;32mfor\u001b[0m \u001b[0moutput\u001b[0m \u001b[0;32min\u001b[0m \u001b[0mnode\u001b[0m\u001b[0;34m.\u001b[0m\u001b[0moutputs\u001b[0m\u001b[0;34m:\u001b[0m\u001b[0;34m\u001b[0m\u001b[0m\n\u001b[0;32m--> 407\u001b[0;31m                 \u001b[0mself\u001b[0m\u001b[0;34m.\u001b[0m\u001b[0m__setup_r__\u001b[0m\u001b[0;34m(\u001b[0m\u001b[0moutput\u001b[0m\u001b[0;34m)\u001b[0m\u001b[0;34m\u001b[0m\u001b[0m\n\u001b[0m\u001b[1;32m    408\u001b[0m                 \u001b[0mself\u001b[0m\u001b[0;34m.\u001b[0m\u001b[0mvariables\u001b[0m\u001b[0;34m.\u001b[0m\u001b[0madd\u001b[0m\u001b[0;34m(\u001b[0m\u001b[0moutput\u001b[0m\u001b[0;34m)\u001b[0m\u001b[0;34m\u001b[0m\u001b[0m\n\u001b[1;32m    409\u001b[0m             \u001b[0;32mfor\u001b[0m \u001b[0mi\u001b[0m\u001b[0;34m,\u001b[0m \u001b[0minput\u001b[0m \u001b[0;32min\u001b[0m \u001b[0menumerate\u001b[0m\u001b[0;34m(\u001b[0m\u001b[0mnode\u001b[0m\u001b[0;34m.\u001b[0m\u001b[0minputs\u001b[0m\u001b[0;34m)\u001b[0m\u001b[0;34m:\u001b[0m\u001b[0;34m\u001b[0m\u001b[0m\n",
      "\u001b[0;31mKeyboardInterrupt\u001b[0m: "
     ]
    }
   ],
   "source": [
    "#Now Train model by splitting into train and validation based on subject\n",
    "logo = LeaveOneGroupOut() \n",
    "\n",
    "for train_index, test_index in logo.split(X, y, groups):\n",
    "\n",
    "    X_train, X_valid = X[train_index], X[test_index]\n",
    "    y_train, y_valid = y[train_index], y[test_index]\n",
    "    \n",
    "    #normalize data\n",
    "#     Xscaler = StandardScaler()\n",
    "#     X_train=Xscaler.fit_transform(X_train)\n",
    "#     X_valid=Xscaler.transform(X_valid)\n",
    "    \n",
    "    X_train, X_valid = _data_reshaping(X_train, X_valid, network_type)\n",
    "\n",
    "    # convert class vectors to binary class matrices\n",
    "    y_train = keras.utils.to_categorical(y_train, num_classes)\n",
    "    y_valid = keras.utils.to_categorical(y_valid, num_classes)\n",
    "    \n",
    "    #build model\n",
    "    print('building the model ...')\n",
    "    model = Sequential()\n",
    "    if network_type=='CNN' or network_type=='ConvLSTM':\n",
    "        model_conv(model)\n",
    "        model_variant(model, network_type)\n",
    "    if network_type=='LSTM':\n",
    "        model_LSTM(model)\n",
    "    if network_type=='MLP':\n",
    "        model_MLP(model,4,0.6,2,0.9)\n",
    "    model.add(Dense(num_classes, activation='softmax'))\n",
    "\n",
    "    print('model training ...')\n",
    "    epochs = 5\n",
    "    model.compile(loss=keras.losses.categorical_crossentropy,\n",
    "                  optimizer='adam',\n",
    "                  metrics=['accuracy'])\n",
    "    model.fit(X_train, y_train,\n",
    "              batch_size=batch_size,\n",
    "              epochs=epochs,\n",
    "              verbose=1,\n",
    "              shuffle=True,\n",
    "              validation_data=(X_valid, y_valid))\n",
    "    #EVAL\n",
    "    y_pred = np.argmax(model.predict(X_valid), axis=1)\n",
    "    y_true = np.argmax(y_valid, axis=1)\n",
    "    print('calculating confusion matrix ... ')\n",
    "    cf_matrix = confusion_matrix(y_true, y_pred)\n",
    "    print(cf_matrix)\n",
    "    class_wise_f1 = np.round(f1_score(y_true, y_pred, average=None)*100)*0.01\n",
    "    print('the mean f1 score:{:.2f}'.format(np.mean(class_wise_f1)))\n"
   ]
  },
  {
   "cell_type": "code",
   "execution_count": 507,
   "metadata": {
    "collapsed": false
   },
   "outputs": [
    {
     "data": {
      "image/png": "[encoded data removed]",
      "text/plain": [
       "<matplotlib.figure.Figure at 0x1564c95f8>"
      ]
     },
     "metadata": {},
     "output_type": "display_data"
    }
   ],
   "source": [
    "ax = plt.boxplot(np.std(X_train,axis=1))"
   ]
  },
  {
   "cell_type": "markdown",
   "metadata": {},
   "source": [
    "## Submission"
   ]
  },
  {
   "cell_type": "code",
   "execution_count": 201,
   "metadata": {
    "collapsed": true
   },
   "outputs": [],
   "source": [
    "X = X_copy"
   ]
  },
  {
   "cell_type": "code",
   "execution_count": 204,
   "metadata": {
    "collapsed": false
   },
   "outputs": [],
   "source": [
    "X.to_csv('Submission_NewFeat.csv',index=False)"
   ]
  },
  {
   "cell_type": "code",
   "execution_count": 205,
   "metadata": {
    "collapsed": false
   },
   "outputs": [
    {
     "name": "stdout",
     "output_type": "stream",
     "text": [
      "Welcome, Luca Lonini!\n",
      "\n",
      "AUPRC: 0.889\n"
     ]
    }
   ],
   "source": [
    "%run sc2FitModels_LOSOCV.py 'bradykinesia' Submission_NewFeat.csv"
   ]
  },
  {
   "cell_type": "code",
   "execution_count": 163,
   "metadata": {
    "collapsed": false
   },
   "outputs": [
    {
     "name": "stdout",
     "output_type": "stream",
     "text": [
      "Welcome, Luca Lonini!\n",
      "\n",
      "AUPRC: 0.891\n"
     ]
    }
   ],
   "source": [
    "%run sc2FitModels_LOSOCV.py 'bradykinesia' Submission_basicFeat.csv"
   ]
  },
  {
   "cell_type": "code",
   "execution_count": 4,
   "metadata": {
    "collapsed": false,
    "scrolled": false
   },
   "outputs": [
    {
     "name": "stdout",
     "output_type": "stream",
     "text": [
      "Welcome, Luca Lonini!\n",
      "\n",
      "AUPRC: 0.868\n"
     ]
    }
   ],
   "source": [
    "%run sc2FitModels_LOSOCV.py 'bradykinesia' Submission_winFeat.csv"
   ]
  },
  {
   "cell_type": "code",
   "execution_count": 721,
   "metadata": {
    "collapsed": false,
    "scrolled": false
   },
   "outputs": [
    {
     "name": "stdout",
     "output_type": "stream",
     "text": [
      "Welcome, Luca Lonini!\n",
      "\n",
      "AUPRC: 0.823\n"
     ]
    }
   ],
   "source": [
    "%run sc2FitModels_LOSOCV.py 'bradykinesia' Meta_wDur.csv"
   ]
  },
  {
   "cell_type": "code",
   "execution_count": 716,
   "metadata": {
    "collapsed": false
   },
   "outputs": [
    {
     "name": "stdout",
     "output_type": "stream",
     "text": [
      "Welcome, Luca Lonini!\n",
      "\n",
      "AUPRC: 0.814\n"
     ]
    }
   ],
   "source": [
    "%run sc2FitModels_LOSOCV.py 'bradykinesia' DummySubmission.csv "
   ]
  },
  {
   "cell_type": "code",
   "execution_count": 875,
   "metadata": {
    "collapsed": false
   },
   "outputs": [],
   "source": [
    "coldrop=list(X.columns)[1:8]\n",
    "coldrop.remove('patient')"
   ]
  },
  {
   "cell_type": "code",
   "execution_count": 877,
   "metadata": {
    "collapsed": false
   },
   "outputs": [],
   "source": [
    "X_featonly=X.drop(coldrop,axis=1)"
   ]
  },
  {
   "cell_type": "code",
   "execution_count": 878,
   "metadata": {
    "collapsed": true
   },
   "outputs": [],
   "source": [
    "X_featonly.to_csv('Featonly.csv',index=False)"
   ]
  },
  {
   "cell_type": "code",
   "execution_count": 879,
   "metadata": {
    "collapsed": false
   },
   "outputs": [
    {
     "name": "stdout",
     "output_type": "stream",
     "text": [
      "Welcome, Luca Lonini!\n",
      "\n",
      "AUPRC: [0.92813597493628708, 0.10489913015856153, 0.93836956015802164, 0.95887173606110998, 0.79884693703799836, 0.95417932750479961, 0.87578096294956786, 0.51731107929267139, 0.16323291374897519, 0.89098782593317161, 0.1532074956641859, 0.19316931567203727, 0.093671750656162539, 0.81906306768680603, 0.060397277662888209, 0.35731165553082878, 0.96290579105755925, 0.01161578417073357, 0.97793564316195969]\n"
     ]
    }
   ],
   "source": [
    "%run sc2FitModels_LOSOCV.py 'bradykinesia' Featonly.csv"
   ]
  },
  {
   "cell_type": "markdown",
   "metadata": {},
   "source": [
    "** Feature computation time on 1 clip **"
   ]
  },
  {
   "cell_type": "code",
   "execution_count": 323,
   "metadata": {
    "collapsed": false
   },
   "outputs": [
    {
     "name": "stdout",
     "output_type": "stream",
     "text": [
      "0.003940105438232422\n",
      "0.009171009063720703\n"
     ]
    }
   ],
   "source": [
    "t1 = time.time()\n",
    "rawdata = pd.read_csv(f,sep='\\t')\n",
    "print(time.time()-t1)\n",
    "t1 = time.time()\n",
    "F,flist = feature_extraction(rawdata)\n",
    "print(time.time()-t1)\n"
   ]
  },
  {
   "cell_type": "markdown",
   "metadata": {},
   "source": [
    "# Dyskinesia"
   ]
  },
  {
   "cell_type": "code",
   "execution_count": 9,
   "metadata": {
    "collapsed": false
   },
   "outputs": [
    {
     "name": "stdout",
     "output_type": "stream",
     "text": [
      "Downloading 0 files, 1556 cached locally\n"
     ]
    }
   ],
   "source": [
    "q_dysk_train = syn.tableQuery(\"SELECT * from syn10495809 where dyskinesiaScore is not null\")\n",
    "paths_train = syn.downloadTableColumns(q_dysk_train,'dataFileHandleId')"
   ]
  },
  {
   "cell_type": "code",
   "execution_count": 10,
   "metadata": {
    "collapsed": true
   },
   "outputs": [],
   "source": [
    "df_train_dysk = q_dysk_train.asDataFrame()"
   ]
  },
  {
   "cell_type": "code",
   "execution_count": 11,
   "metadata": {
    "collapsed": true
   },
   "outputs": [],
   "source": [
    "df_train_dysk['path']=df_train_dysk.dataFileHandleId.astype(str).map(paths_train)"
   ]
  },
  {
   "cell_type": "code",
   "execution_count": 12,
   "metadata": {
    "collapsed": false
   },
   "outputs": [
    {
     "data": {
      "text/html": [
       "<div>\n",
       "<table border=\"1\" class=\"dataframe\">\n",
       "  <thead>\n",
       "    <tr style=\"text-align: right;\">\n",
       "      <th></th>\n",
       "      <th>dataFileHandleId</th>\n",
       "      <th>device</th>\n",
       "      <th>patient</th>\n",
       "      <th>session</th>\n",
       "      <th>site</th>\n",
       "      <th>task</th>\n",
       "      <th>visit</th>\n",
       "      <th>deviceSide</th>\n",
       "      <th>tremorScore</th>\n",
       "      <th>dyskinesiaScore</th>\n",
       "      <th>bradykinesiaScore</th>\n",
       "      <th>path</th>\n",
       "    </tr>\n",
       "  </thead>\n",
       "  <tbody>\n",
       "    <tr>\n",
       "      <th>25823_22</th>\n",
       "      <td>17286039</td>\n",
       "      <td>GENEActiv</td>\n",
       "      <td>13_BOS</td>\n",
       "      <td>1</td>\n",
       "      <td>Boston</td>\n",
       "      <td>ftnl1</td>\n",
       "      <td>1</td>\n",
       "      <td>Right</td>\n",
       "      <td>NaN</td>\n",
       "      <td>0</td>\n",
       "      <td>NaN</td>\n",
       "      <td>/Users/luca/Projects/DREAM_PD/Data/39/17286039...</td>\n",
       "    </tr>\n",
       "    <tr>\n",
       "      <th>25825_22</th>\n",
       "      <td>17286045</td>\n",
       "      <td>GENEActiv</td>\n",
       "      <td>13_BOS</td>\n",
       "      <td>1</td>\n",
       "      <td>Boston</td>\n",
       "      <td>ftnl2</td>\n",
       "      <td>1</td>\n",
       "      <td>Right</td>\n",
       "      <td>NaN</td>\n",
       "      <td>0</td>\n",
       "      <td>NaN</td>\n",
       "      <td>/Users/luca/Projects/DREAM_PD/Data/45/17286045...</td>\n",
       "    </tr>\n",
       "  </tbody>\n",
       "</table>\n",
       "</div>"
      ],
      "text/plain": [
       "          dataFileHandleId     device patient  session    site   task  visit  \\\n",
       "25823_22          17286039  GENEActiv  13_BOS        1  Boston  ftnl1      1   \n",
       "25825_22          17286045  GENEActiv  13_BOS        1  Boston  ftnl2      1   \n",
       "\n",
       "         deviceSide  tremorScore  dyskinesiaScore  bradykinesiaScore  \\\n",
       "25823_22      Right          NaN                0                NaN   \n",
       "25825_22      Right          NaN                0                NaN   \n",
       "\n",
       "                                                       path  \n",
       "25823_22  /Users/luca/Projects/DREAM_PD/Data/39/17286039...  \n",
       "25825_22  /Users/luca/Projects/DREAM_PD/Data/45/17286045...  "
      ]
     },
     "execution_count": 12,
     "metadata": {},
     "output_type": "execute_result"
    }
   ],
   "source": [
    "df_train_dysk.head(2)"
   ]
  },
  {
   "cell_type": "code",
   "execution_count": 886,
   "metadata": {
    "collapsed": true
   },
   "outputs": [],
   "source": [
    "df_train = df_train_dysk"
   ]
  },
  {
   "cell_type": "code",
   "execution_count": 887,
   "metadata": {
    "collapsed": false
   },
   "outputs": [
    {
     "name": "stdout",
     "output_type": "stream",
     "text": [
      "0\n"
     ]
    },
    {
     "name": "stderr",
     "output_type": "stream",
     "text": [
      "/Users/luca/anaconda/envs/py35_pd20/lib/python3.5/site-packages/ipykernel/__main__.py:42: RuntimeWarning: Mean of empty slice\n"
     ]
    },
    {
     "name": "stdout",
     "output_type": "stream",
     "text": [
      "1000\n",
      "Elapsed Time:[s] 38.7\n",
      "Files w nans: 88\n",
      "Files w 0 non-nan rows 56\n"
     ]
    }
   ],
   "source": [
    "row = 0\n",
    "nans_found=0; n_empty=0\n",
    "Features = []\n",
    "t1 = time.time()\n",
    "# for f in df_train.path:\n",
    "for i in range(len(df_train)):\n",
    "\n",
    "    f = df_train.iloc[i,:].path\n",
    "    if row%1000==0:\n",
    "        print(row)\n",
    "    rawdata = pd.read_csv(f,sep='\\t') #load file\n",
    "   \n",
    "    #remove nans\n",
    "    rawdata = rawdata.astype('float64') #make sure everything is float\n",
    "    if sum(np.sum(rawdata.isnull())) > 0:\n",
    "        nans_found+=1 # of files w nans\n",
    "        rawdata = rawdata.dropna() #drop nans\n",
    "        \n",
    "    #compute features if at least one data point is there\n",
    "    if rawdata.empty != True:\n",
    "        #reindex timestamp data relative to start \n",
    "        t = rawdata.timestamp\n",
    "        t = t-t.iloc[0]\n",
    "        rawdata.timestamp = t\n",
    "\n",
    "        #HP filter data (remove gravity)\n",
    "        rawdata = filter_signal(rawdata,order=2)\n",
    "\n",
    "        #compute features on entire recording\n",
    "        try:\n",
    "            F,flist = feature_extraction(rawdata)\n",
    "            Features.append(F)\n",
    "        except(TypeError):\n",
    "            print('found incompatible datatype')\n",
    "    else:\n",
    "        F = np.empty((1,len(flist))) #empty array of features\n",
    "        F[:]=np.nan\n",
    "        Features.append(F)\n",
    "        n_empty+=1\n",
    "\n",
    "    row+=1\n",
    "        \n",
    "elapsed = time.time()-t1\n",
    "print('Elapsed Time:[s] %.1f'%elapsed)\n",
    "print('Files w nans: %d'%nans_found)\n",
    "print('Files w 0 non-nan rows %d'%n_empty)"
   ]
  },
  {
   "cell_type": "code",
   "execution_count": 891,
   "metadata": {
    "collapsed": false
   },
   "outputs": [
    {
     "name": "stdout",
     "output_type": "stream",
     "text": [
      "(1556, 26)\n"
     ]
    }
   ],
   "source": [
    "Features = np.asarray(Features)\n",
    "Features = Features.squeeze(axis=1)\n",
    "print(Features.shape)"
   ]
  },
  {
   "cell_type": "code",
   "execution_count": 893,
   "metadata": {
    "collapsed": false
   },
   "outputs": [],
   "source": [
    "df_feat = pd.DataFrame(data=Features,columns=flist,dtype='float64')\n",
    "df_feat.index = df_train.index\n",
    "df_train = pd.concat((df_train,df_feat),axis=1)"
   ]
  },
  {
   "cell_type": "code",
   "execution_count": 894,
   "metadata": {
    "collapsed": false
   },
   "outputs": [
    {
     "data": {
      "text/html": [
       "<div>\n",
       "<style>\n",
       "    .dataframe thead tr:only-child th {\n",
       "        text-align: right;\n",
       "    }\n",
       "\n",
       "    .dataframe thead th {\n",
       "        text-align: left;\n",
       "    }\n",
       "\n",
       "    .dataframe tbody tr th {\n",
       "        vertical-align: top;\n",
       "    }\n",
       "</style>\n",
       "<table border=\"1\" class=\"dataframe\">\n",
       "  <thead>\n",
       "    <tr style=\"text-align: right;\">\n",
       "      <th></th>\n",
       "      <th>dataFileHandleId</th>\n",
       "      <th>device</th>\n",
       "      <th>patient</th>\n",
       "      <th>session</th>\n",
       "      <th>site</th>\n",
       "      <th>task</th>\n",
       "      <th>visit</th>\n",
       "      <th>deviceSide</th>\n",
       "      <th>tremorScore</th>\n",
       "      <th>dyskinesiaScore</th>\n",
       "      <th>...</th>\n",
       "      <th>kurtY</th>\n",
       "      <th>kurtZ</th>\n",
       "      <th>xcor_peakXY</th>\n",
       "      <th>xcorr_peakXZ</th>\n",
       "      <th>xcorr_peakYZ</th>\n",
       "      <th>xcorr_lagXY</th>\n",
       "      <th>xcorr_lagXZ</th>\n",
       "      <th>xcorr_lagYZ</th>\n",
       "      <th>Dom_freq</th>\n",
       "      <th>Pdom_rel</th>\n",
       "    </tr>\n",
       "  </thead>\n",
       "  <tbody>\n",
       "    <tr>\n",
       "      <th>25823_22</th>\n",
       "      <td>17286039</td>\n",
       "      <td>GENEActiv</td>\n",
       "      <td>13_BOS</td>\n",
       "      <td>1</td>\n",
       "      <td>Boston</td>\n",
       "      <td>ftnl1</td>\n",
       "      <td>1</td>\n",
       "      <td>Right</td>\n",
       "      <td>NaN</td>\n",
       "      <td>0</td>\n",
       "      <td>...</td>\n",
       "      <td>0.162701</td>\n",
       "      <td>-0.079857</td>\n",
       "      <td>4.745927</td>\n",
       "      <td>0.734146</td>\n",
       "      <td>0.546572</td>\n",
       "      <td>0.506667</td>\n",
       "      <td>0.503333</td>\n",
       "      <td>0.497778</td>\n",
       "      <td>8.1</td>\n",
       "      <td>0.072784</td>\n",
       "    </tr>\n",
       "    <tr>\n",
       "      <th>25825_22</th>\n",
       "      <td>17286045</td>\n",
       "      <td>GENEActiv</td>\n",
       "      <td>13_BOS</td>\n",
       "      <td>1</td>\n",
       "      <td>Boston</td>\n",
       "      <td>ftnl2</td>\n",
       "      <td>1</td>\n",
       "      <td>Right</td>\n",
       "      <td>NaN</td>\n",
       "      <td>0</td>\n",
       "      <td>...</td>\n",
       "      <td>0.134648</td>\n",
       "      <td>-0.026859</td>\n",
       "      <td>1.458933</td>\n",
       "      <td>1.109415</td>\n",
       "      <td>41.765466</td>\n",
       "      <td>0.515556</td>\n",
       "      <td>0.503333</td>\n",
       "      <td>0.496667</td>\n",
       "      <td>6.1</td>\n",
       "      <td>0.058848</td>\n",
       "    </tr>\n",
       "    <tr>\n",
       "      <th>25828_22</th>\n",
       "      <td>17286054</td>\n",
       "      <td>Pebble</td>\n",
       "      <td>13_BOS</td>\n",
       "      <td>1</td>\n",
       "      <td>Boston</td>\n",
       "      <td>ftnr1</td>\n",
       "      <td>1</td>\n",
       "      <td>Left</td>\n",
       "      <td>NaN</td>\n",
       "      <td>0</td>\n",
       "      <td>...</td>\n",
       "      <td>7.689771</td>\n",
       "      <td>1.385359</td>\n",
       "      <td>0.359814</td>\n",
       "      <td>0.669308</td>\n",
       "      <td>0.856794</td>\n",
       "      <td>0.505556</td>\n",
       "      <td>0.543333</td>\n",
       "      <td>0.485556</td>\n",
       "      <td>1.3</td>\n",
       "      <td>0.083133</td>\n",
       "    </tr>\n",
       "    <tr>\n",
       "      <th>25830_22</th>\n",
       "      <td>17286060</td>\n",
       "      <td>Pebble</td>\n",
       "      <td>13_BOS</td>\n",
       "      <td>1</td>\n",
       "      <td>Boston</td>\n",
       "      <td>ftnr2</td>\n",
       "      <td>1</td>\n",
       "      <td>Left</td>\n",
       "      <td>NaN</td>\n",
       "      <td>0</td>\n",
       "      <td>...</td>\n",
       "      <td>11.841003</td>\n",
       "      <td>3.249798</td>\n",
       "      <td>2.058724</td>\n",
       "      <td>1.980309</td>\n",
       "      <td>0.381623</td>\n",
       "      <td>0.498947</td>\n",
       "      <td>0.521053</td>\n",
       "      <td>0.500000</td>\n",
       "      <td>1.0</td>\n",
       "      <td>0.145483</td>\n",
       "    </tr>\n",
       "    <tr>\n",
       "      <th>25835_22</th>\n",
       "      <td>17286076</td>\n",
       "      <td>GENEActiv</td>\n",
       "      <td>13_BOS</td>\n",
       "      <td>1</td>\n",
       "      <td>Boston</td>\n",
       "      <td>raml1</td>\n",
       "      <td>1</td>\n",
       "      <td>Right</td>\n",
       "      <td>NaN</td>\n",
       "      <td>0</td>\n",
       "      <td>...</td>\n",
       "      <td>0.566197</td>\n",
       "      <td>0.002158</td>\n",
       "      <td>1.541055</td>\n",
       "      <td>2.828754</td>\n",
       "      <td>31.930616</td>\n",
       "      <td>0.482105</td>\n",
       "      <td>0.549474</td>\n",
       "      <td>0.557895</td>\n",
       "      <td>5.7</td>\n",
       "      <td>0.515168</td>\n",
       "    </tr>\n",
       "  </tbody>\n",
       "</table>\n",
       "<p>5 rows × 38 columns</p>\n",
       "</div>"
      ],
      "text/plain": [
       "          dataFileHandleId     device patient  session    site   task  visit  \\\n",
       "25823_22          17286039  GENEActiv  13_BOS        1  Boston  ftnl1      1   \n",
       "25825_22          17286045  GENEActiv  13_BOS        1  Boston  ftnl2      1   \n",
       "25828_22          17286054     Pebble  13_BOS        1  Boston  ftnr1      1   \n",
       "25830_22          17286060     Pebble  13_BOS        1  Boston  ftnr2      1   \n",
       "25835_22          17286076  GENEActiv  13_BOS        1  Boston  raml1      1   \n",
       "\n",
       "         deviceSide  tremorScore  dyskinesiaScore    ...         kurtY  \\\n",
       "25823_22      Right          NaN                0    ...      0.162701   \n",
       "25825_22      Right          NaN                0    ...      0.134648   \n",
       "25828_22       Left          NaN                0    ...      7.689771   \n",
       "25830_22       Left          NaN                0    ...     11.841003   \n",
       "25835_22      Right          NaN                0    ...      0.566197   \n",
       "\n",
       "             kurtZ  xcor_peakXY  xcorr_peakXZ  xcorr_peakYZ  xcorr_lagXY  \\\n",
       "25823_22 -0.079857     4.745927      0.734146      0.546572     0.506667   \n",
       "25825_22 -0.026859     1.458933      1.109415     41.765466     0.515556   \n",
       "25828_22  1.385359     0.359814      0.669308      0.856794     0.505556   \n",
       "25830_22  3.249798     2.058724      1.980309      0.381623     0.498947   \n",
       "25835_22  0.002158     1.541055      2.828754     31.930616     0.482105   \n",
       "\n",
       "          xcorr_lagXZ  xcorr_lagYZ  Dom_freq  Pdom_rel  \n",
       "25823_22     0.503333     0.497778       8.1  0.072784  \n",
       "25825_22     0.503333     0.496667       6.1  0.058848  \n",
       "25828_22     0.543333     0.485556       1.3  0.083133  \n",
       "25830_22     0.521053     0.500000       1.0  0.145483  \n",
       "25835_22     0.549474     0.557895       5.7  0.515168  \n",
       "\n",
       "[5 rows x 38 columns]"
      ]
     },
     "execution_count": 894,
     "metadata": {},
     "output_type": "execute_result"
    }
   ],
   "source": [
    "df_train.head()"
   ]
  },
  {
   "cell_type": "code",
   "execution_count": 911,
   "metadata": {
    "collapsed": true
   },
   "outputs": [],
   "source": [
    "X = df_train.copy()\n",
    "cat_cols = df_train.select_dtypes(['object']).columns\n",
    "for c in cat_cols:\n",
    "    X[c]=le.fit_transform(df_train[c])"
   ]
  },
  {
   "cell_type": "code",
   "execution_count": 913,
   "metadata": {
    "collapsed": false
   },
   "outputs": [],
   "source": [
    "#drop scores cols\n",
    "X = X.drop(['tremorScore','dyskinesiaScore','bradykinesiaScore','path'],axis=1)\n",
    "#drop nans\n",
    "X=X.dropna()"
   ]
  },
  {
   "cell_type": "code",
   "execution_count": 939,
   "metadata": {
    "collapsed": false
   },
   "outputs": [],
   "source": [
    "#normalize features\n",
    "from sklearn.preprocessing import StandardScaler\n",
    "scaler = StandardScaler()\n",
    "X.iloc[:,8:]=scaler.fit_transform(X.iloc[:,8:])"
   ]
  },
  {
   "cell_type": "code",
   "execution_count": 940,
   "metadata": {
    "collapsed": false
   },
   "outputs": [
    {
     "data": {
      "text/html": [
       "<div>\n",
       "<style>\n",
       "    .dataframe thead tr:only-child th {\n",
       "        text-align: right;\n",
       "    }\n",
       "\n",
       "    .dataframe thead th {\n",
       "        text-align: left;\n",
       "    }\n",
       "\n",
       "    .dataframe tbody tr th {\n",
       "        vertical-align: top;\n",
       "    }\n",
       "</style>\n",
       "<table border=\"1\" class=\"dataframe\">\n",
       "  <thead>\n",
       "    <tr style=\"text-align: right;\">\n",
       "      <th></th>\n",
       "      <th>dataFileHandleId</th>\n",
       "      <th>device</th>\n",
       "      <th>patient</th>\n",
       "      <th>session</th>\n",
       "      <th>site</th>\n",
       "      <th>task</th>\n",
       "      <th>visit</th>\n",
       "      <th>deviceSide</th>\n",
       "      <th>EX</th>\n",
       "      <th>EY</th>\n",
       "      <th>...</th>\n",
       "      <th>kurtY</th>\n",
       "      <th>kurtZ</th>\n",
       "      <th>xcor_peakXY</th>\n",
       "      <th>xcorr_peakXZ</th>\n",
       "      <th>xcorr_peakYZ</th>\n",
       "      <th>xcorr_lagXY</th>\n",
       "      <th>xcorr_lagXZ</th>\n",
       "      <th>xcorr_lagYZ</th>\n",
       "      <th>Dom_freq</th>\n",
       "      <th>Pdom_rel</th>\n",
       "    </tr>\n",
       "  </thead>\n",
       "  <tbody>\n",
       "    <tr>\n",
       "      <th>25823_22</th>\n",
       "      <td>17286039</td>\n",
       "      <td>0</td>\n",
       "      <td>2</td>\n",
       "      <td>1</td>\n",
       "      <td>0</td>\n",
       "      <td>0</td>\n",
       "      <td>1</td>\n",
       "      <td>1</td>\n",
       "      <td>-0.295024</td>\n",
       "      <td>-0.155948</td>\n",
       "      <td>...</td>\n",
       "      <td>-0.360872</td>\n",
       "      <td>-0.366179</td>\n",
       "      <td>-0.048514</td>\n",
       "      <td>-0.032020</td>\n",
       "      <td>-0.177740</td>\n",
       "      <td>0.156770</td>\n",
       "      <td>0.029291</td>\n",
       "      <td>-0.042929</td>\n",
       "      <td>1.964716</td>\n",
       "      <td>-0.667609</td>\n",
       "    </tr>\n",
       "    <tr>\n",
       "      <th>25825_22</th>\n",
       "      <td>17286045</td>\n",
       "      <td>0</td>\n",
       "      <td>2</td>\n",
       "      <td>1</td>\n",
       "      <td>0</td>\n",
       "      <td>1</td>\n",
       "      <td>1</td>\n",
       "      <td>1</td>\n",
       "      <td>-0.294555</td>\n",
       "      <td>-0.155654</td>\n",
       "      <td>...</td>\n",
       "      <td>-0.361554</td>\n",
       "      <td>-0.365204</td>\n",
       "      <td>-0.059190</td>\n",
       "      <td>-0.031821</td>\n",
       "      <td>0.641065</td>\n",
       "      <td>0.323521</td>\n",
       "      <td>0.029291</td>\n",
       "      <td>-0.061885</td>\n",
       "      <td>1.084997</td>\n",
       "      <td>-0.812262</td>\n",
       "    </tr>\n",
       "    <tr>\n",
       "      <th>25828_22</th>\n",
       "      <td>17286054</td>\n",
       "      <td>1</td>\n",
       "      <td>2</td>\n",
       "      <td>1</td>\n",
       "      <td>0</td>\n",
       "      <td>2</td>\n",
       "      <td>1</td>\n",
       "      <td>0</td>\n",
       "      <td>-0.291026</td>\n",
       "      <td>-0.150657</td>\n",
       "      <td>...</td>\n",
       "      <td>-0.177960</td>\n",
       "      <td>-0.339220</td>\n",
       "      <td>-0.062759</td>\n",
       "      <td>-0.032054</td>\n",
       "      <td>-0.171578</td>\n",
       "      <td>0.135926</td>\n",
       "      <td>0.667479</td>\n",
       "      <td>-0.251452</td>\n",
       "      <td>-1.026329</td>\n",
       "      <td>-0.560191</td>\n",
       "    </tr>\n",
       "    <tr>\n",
       "      <th>25830_22</th>\n",
       "      <td>17286060</td>\n",
       "      <td>1</td>\n",
       "      <td>2</td>\n",
       "      <td>1</td>\n",
       "      <td>0</td>\n",
       "      <td>3</td>\n",
       "      <td>1</td>\n",
       "      <td>0</td>\n",
       "      <td>-0.285960</td>\n",
       "      <td>-0.131261</td>\n",
       "      <td>...</td>\n",
       "      <td>-0.077083</td>\n",
       "      <td>-0.304915</td>\n",
       "      <td>-0.057242</td>\n",
       "      <td>-0.031361</td>\n",
       "      <td>-0.181017</td>\n",
       "      <td>0.011959</td>\n",
       "      <td>0.311997</td>\n",
       "      <td>-0.005015</td>\n",
       "      <td>-1.158287</td>\n",
       "      <td>0.086963</td>\n",
       "    </tr>\n",
       "    <tr>\n",
       "      <th>25835_22</th>\n",
       "      <td>17286076</td>\n",
       "      <td>0</td>\n",
       "      <td>2</td>\n",
       "      <td>1</td>\n",
       "      <td>0</td>\n",
       "      <td>4</td>\n",
       "      <td>1</td>\n",
       "      <td>1</td>\n",
       "      <td>-0.287749</td>\n",
       "      <td>-0.157567</td>\n",
       "      <td>...</td>\n",
       "      <td>-0.351067</td>\n",
       "      <td>-0.364670</td>\n",
       "      <td>-0.058923</td>\n",
       "      <td>-0.030912</td>\n",
       "      <td>0.445698</td>\n",
       "      <td>-0.303991</td>\n",
       "      <td>0.765446</td>\n",
       "      <td>0.982726</td>\n",
       "      <td>0.909053</td>\n",
       "      <td>3.924082</td>\n",
       "    </tr>\n",
       "  </tbody>\n",
       "</table>\n",
       "<p>5 rows × 34 columns</p>\n",
       "</div>"
      ],
      "text/plain": [
       "          dataFileHandleId  device  patient  session  site  task  visit  \\\n",
       "25823_22          17286039       0        2        1     0     0      1   \n",
       "25825_22          17286045       0        2        1     0     1      1   \n",
       "25828_22          17286054       1        2        1     0     2      1   \n",
       "25830_22          17286060       1        2        1     0     3      1   \n",
       "25835_22          17286076       0        2        1     0     4      1   \n",
       "\n",
       "          deviceSide        EX        EY    ...        kurtY     kurtZ  \\\n",
       "25823_22           1 -0.295024 -0.155948    ...    -0.360872 -0.366179   \n",
       "25825_22           1 -0.294555 -0.155654    ...    -0.361554 -0.365204   \n",
       "25828_22           0 -0.291026 -0.150657    ...    -0.177960 -0.339220   \n",
       "25830_22           0 -0.285960 -0.131261    ...    -0.077083 -0.304915   \n",
       "25835_22           1 -0.287749 -0.157567    ...    -0.351067 -0.364670   \n",
       "\n",
       "          xcor_peakXY  xcorr_peakXZ  xcorr_peakYZ  xcorr_lagXY  xcorr_lagXZ  \\\n",
       "25823_22    -0.048514     -0.032020     -0.177740     0.156770     0.029291   \n",
       "25825_22    -0.059190     -0.031821      0.641065     0.323521     0.029291   \n",
       "25828_22    -0.062759     -0.032054     -0.171578     0.135926     0.667479   \n",
       "25830_22    -0.057242     -0.031361     -0.181017     0.011959     0.311997   \n",
       "25835_22    -0.058923     -0.030912      0.445698    -0.303991     0.765446   \n",
       "\n",
       "          xcorr_lagYZ  Dom_freq  Pdom_rel  \n",
       "25823_22    -0.042929  1.964716 -0.667609  \n",
       "25825_22    -0.061885  1.084997 -0.812262  \n",
       "25828_22    -0.251452 -1.026329 -0.560191  \n",
       "25830_22    -0.005015 -1.158287  0.086963  \n",
       "25835_22     0.982726  0.909053  3.924082  \n",
       "\n",
       "[5 rows x 34 columns]"
      ]
     },
     "execution_count": 940,
     "metadata": {},
     "output_type": "execute_result"
    }
   ],
   "source": [
    "X.head()"
   ]
  },
  {
   "cell_type": "code",
   "execution_count": 916,
   "metadata": {
    "collapsed": true
   },
   "outputs": [],
   "source": [
    "#only meta features\n",
    "X_meta = X.iloc[:,1:7]"
   ]
  },
  {
   "cell_type": "code",
   "execution_count": 928,
   "metadata": {
    "collapsed": false
   },
   "outputs": [],
   "source": [
    "X_meta['dataFileHandleId'] = X['dataFileHandleId']"
   ]
  },
  {
   "cell_type": "code",
   "execution_count": 930,
   "metadata": {
    "collapsed": true
   },
   "outputs": [],
   "source": [
    "X_meta.to_csv('Submission_Dysk_meta.csv',index=False)"
   ]
  },
  {
   "cell_type": "code",
   "execution_count": 931,
   "metadata": {
    "collapsed": false
   },
   "outputs": [
    {
     "name": "stdout",
     "output_type": "stream",
     "text": [
      "Welcome, Luca Lonini!\n",
      "\n",
      "AUPRC: 0.9871336130604139\n"
     ]
    }
   ],
   "source": [
    "%run sc2FitModels.py 'dyskinesia' Submission_Dysk_meta.csv"
   ]
  },
  {
   "cell_type": "code",
   "execution_count": 941,
   "metadata": {
    "collapsed": false
   },
   "outputs": [],
   "source": [
    "X.to_csv('Submission_Dysk.csv',index=False)"
   ]
  },
  {
   "cell_type": "code",
   "execution_count": 942,
   "metadata": {
    "collapsed": false,
    "scrolled": false
   },
   "outputs": [
    {
     "name": "stdout",
     "output_type": "stream",
     "text": [
      "Welcome, Luca Lonini!\n",
      "\n",
      "AUPRC: [0.17473357112568672, nan, 0.64130760600690595, nan, 0.75690683126336022, 0.96273329545072728, 0.35635302180995548, 0.33691768312514736, nan, 0.95759631691876423, nan, nan, nan, 0.088568145949117549, 0.042427884615384617, 0.12694342694342695, 0.005208333333333333, nan, 0.099259911942920886]\n"
     ]
    }
   ],
   "source": [
    "%run sc2FitModels_LOSOCV.py 'dyskinesia' Submission_Dysk.csv"
   ]
  },
  {
   "cell_type": "code",
   "execution_count": 943,
   "metadata": {
    "collapsed": false
   },
   "outputs": [
    {
     "name": "stdout",
     "output_type": "stream",
     "text": [
      "Welcome, Luca Lonini!\n",
      "\n",
      "AUPRC: 0.9640081852084357\n"
     ]
    }
   ],
   "source": [
    "%run sc2FitModels.py 'dyskinesia' Submission_Dysk.csv"
   ]
  },
  {
   "cell_type": "markdown",
   "metadata": {},
   "source": [
    "# Tremor"
   ]
  },
  {
   "cell_type": "code",
   "execution_count": 38,
   "metadata": {
    "collapsed": true
   },
   "outputs": [],
   "source": [
    "q_tremor = syn.tableQuery(\"SELECT * from syn10495809 where tremorScore is not null\")"
   ]
  },
  {
   "cell_type": "code",
   "execution_count": 39,
   "metadata": {
    "collapsed": true
   },
   "outputs": [],
   "source": [
    "Train_tremor = q_tremor.asDataFrame()"
   ]
  },
  {
   "cell_type": "code",
   "execution_count": 40,
   "metadata": {
    "collapsed": false
   },
   "outputs": [
    {
     "data": {
      "text/html": [
       "<div>\n",
       "<style>\n",
       "    .dataframe thead tr:only-child th {\n",
       "        text-align: right;\n",
       "    }\n",
       "\n",
       "    .dataframe thead th {\n",
       "        text-align: left;\n",
       "    }\n",
       "\n",
       "    .dataframe tbody tr th {\n",
       "        vertical-align: top;\n",
       "    }\n",
       "</style>\n",
       "<table border=\"1\" class=\"dataframe\">\n",
       "  <thead>\n",
       "    <tr style=\"text-align: right;\">\n",
       "      <th></th>\n",
       "      <th>dataFileHandleId</th>\n",
       "      <th>device</th>\n",
       "      <th>patient</th>\n",
       "      <th>session</th>\n",
       "      <th>site</th>\n",
       "      <th>task</th>\n",
       "      <th>visit</th>\n",
       "      <th>deviceSide</th>\n",
       "      <th>tremorScore</th>\n",
       "      <th>dyskinesiaScore</th>\n",
       "      <th>bradykinesiaScore</th>\n",
       "    </tr>\n",
       "  </thead>\n",
       "  <tbody>\n",
       "    <tr>\n",
       "      <th>25819_22</th>\n",
       "      <td>17286028</td>\n",
       "      <td>GENEActiv</td>\n",
       "      <td>13_BOS</td>\n",
       "      <td>1</td>\n",
       "      <td>Boston</td>\n",
       "      <td>drnkg</td>\n",
       "      <td>1</td>\n",
       "      <td>Right</td>\n",
       "      <td>1</td>\n",
       "      <td>NaN</td>\n",
       "      <td>1.0</td>\n",
       "    </tr>\n",
       "    <tr>\n",
       "      <th>25820_22</th>\n",
       "      <td>17286030</td>\n",
       "      <td>Pebble</td>\n",
       "      <td>13_BOS</td>\n",
       "      <td>1</td>\n",
       "      <td>Boston</td>\n",
       "      <td>drnkg</td>\n",
       "      <td>1</td>\n",
       "      <td>Left</td>\n",
       "      <td>1</td>\n",
       "      <td>NaN</td>\n",
       "      <td>1.0</td>\n",
       "    </tr>\n",
       "    <tr>\n",
       "      <th>25821_22</th>\n",
       "      <td>17286034</td>\n",
       "      <td>GENEActiv</td>\n",
       "      <td>13_BOS</td>\n",
       "      <td>1</td>\n",
       "      <td>Boston</td>\n",
       "      <td>fldng</td>\n",
       "      <td>1</td>\n",
       "      <td>Right</td>\n",
       "      <td>2</td>\n",
       "      <td>NaN</td>\n",
       "      <td>1.0</td>\n",
       "    </tr>\n",
       "    <tr>\n",
       "      <th>25822_22</th>\n",
       "      <td>17286036</td>\n",
       "      <td>Pebble</td>\n",
       "      <td>13_BOS</td>\n",
       "      <td>1</td>\n",
       "      <td>Boston</td>\n",
       "      <td>fldng</td>\n",
       "      <td>1</td>\n",
       "      <td>Left</td>\n",
       "      <td>1</td>\n",
       "      <td>NaN</td>\n",
       "      <td>1.0</td>\n",
       "    </tr>\n",
       "    <tr>\n",
       "      <th>25824_22</th>\n",
       "      <td>17286042</td>\n",
       "      <td>Pebble</td>\n",
       "      <td>13_BOS</td>\n",
       "      <td>1</td>\n",
       "      <td>Boston</td>\n",
       "      <td>ftnl1</td>\n",
       "      <td>1</td>\n",
       "      <td>Left</td>\n",
       "      <td>2</td>\n",
       "      <td>NaN</td>\n",
       "      <td>1.0</td>\n",
       "    </tr>\n",
       "  </tbody>\n",
       "</table>\n",
       "</div>"
      ],
      "text/plain": [
       "          dataFileHandleId     device patient  session    site   task  visit  \\\n",
       "25819_22          17286028  GENEActiv  13_BOS        1  Boston  drnkg      1   \n",
       "25820_22          17286030     Pebble  13_BOS        1  Boston  drnkg      1   \n",
       "25821_22          17286034  GENEActiv  13_BOS        1  Boston  fldng      1   \n",
       "25822_22          17286036     Pebble  13_BOS        1  Boston  fldng      1   \n",
       "25824_22          17286042     Pebble  13_BOS        1  Boston  ftnl1      1   \n",
       "\n",
       "         deviceSide  tremorScore  dyskinesiaScore  bradykinesiaScore  \n",
       "25819_22      Right            1              NaN                1.0  \n",
       "25820_22       Left            1              NaN                1.0  \n",
       "25821_22      Right            2              NaN                1.0  \n",
       "25822_22       Left            1              NaN                1.0  \n",
       "25824_22       Left            2              NaN                1.0  "
      ]
     },
     "execution_count": 40,
     "metadata": {},
     "output_type": "execute_result"
    }
   ],
   "source": [
    "Train_tremor.head()"
   ]
  },
  {
   "cell_type": "code",
   "execution_count": 56,
   "metadata": {
    "collapsed": false
   },
   "outputs": [],
   "source": [
    "data = {}\n",
    "for file_handle_id, path in paths_train.items():\n",
    "        with open(path) as f:\n",
    "            data[file_handle_id] = f.read()"
   ]
  },
  {
   "cell_type": "code",
   "execution_count": 4,
   "metadata": {
    "collapsed": false
   },
   "outputs": [
    {
     "name": "stdout",
     "output_type": "stream",
     "text": [
      "Downloading 100 files, 0 cached locally\n"
     ]
    }
   ],
   "source": [
    "# q = syn.tableQuery(\"SELECT * from syn10495809 where tremorScore > 3\")\n",
    "q = syn.tableQuery(\"SELECT * from syn10495809 LIMIT 100\")\n",
    "paths_train = syn.downloadTableColumns(q,'dataFileHandleId')"
   ]
  },
  {
   "cell_type": "code",
   "execution_count": 5,
   "metadata": {
    "collapsed": false
   },
   "outputs": [],
   "source": [
    "df_train = q.asDataFrame()\n",
    "df_train['path']=df_train.dataFileHandleId.astype(str).map(paths_train)"
   ]
  },
  {
   "cell_type": "code",
   "execution_count": 6,
   "metadata": {
    "collapsed": false
   },
   "outputs": [
    {
     "data": {
      "text/html": [
       "<div>\n",
       "<style>\n",
       "    .dataframe thead tr:only-child th {\n",
       "        text-align: right;\n",
       "    }\n",
       "\n",
       "    .dataframe thead th {\n",
       "        text-align: left;\n",
       "    }\n",
       "\n",
       "    .dataframe tbody tr th {\n",
       "        vertical-align: top;\n",
       "    }\n",
       "</style>\n",
       "<table border=\"1\" class=\"dataframe\">\n",
       "  <thead>\n",
       "    <tr style=\"text-align: right;\">\n",
       "      <th></th>\n",
       "      <th>dataFileHandleId</th>\n",
       "      <th>device</th>\n",
       "      <th>patient</th>\n",
       "      <th>session</th>\n",
       "      <th>site</th>\n",
       "      <th>task</th>\n",
       "      <th>visit</th>\n",
       "      <th>deviceSide</th>\n",
       "      <th>tremorScore</th>\n",
       "      <th>dyskinesiaScore</th>\n",
       "      <th>bradykinesiaScore</th>\n",
       "      <th>path</th>\n",
       "    </tr>\n",
       "  </thead>\n",
       "  <tbody>\n",
       "    <tr>\n",
       "      <th>25819_22</th>\n",
       "      <td>17286028</td>\n",
       "      <td>GENEActiv</td>\n",
       "      <td>13_BOS</td>\n",
       "      <td>1</td>\n",
       "      <td>Boston</td>\n",
       "      <td>drnkg</td>\n",
       "      <td>1</td>\n",
       "      <td>Right</td>\n",
       "      <td>1.0</td>\n",
       "      <td>NaN</td>\n",
       "      <td>1.0</td>\n",
       "      <td>Data/28/17286028/drnkg_GENEActiv.tsv</td>\n",
       "    </tr>\n",
       "    <tr>\n",
       "      <th>25820_22</th>\n",
       "      <td>17286030</td>\n",
       "      <td>Pebble</td>\n",
       "      <td>13_BOS</td>\n",
       "      <td>1</td>\n",
       "      <td>Boston</td>\n",
       "      <td>drnkg</td>\n",
       "      <td>1</td>\n",
       "      <td>Left</td>\n",
       "      <td>1.0</td>\n",
       "      <td>NaN</td>\n",
       "      <td>1.0</td>\n",
       "      <td>Data/30/17286030/drnkg_Pebble.tsv</td>\n",
       "    </tr>\n",
       "    <tr>\n",
       "      <th>25821_22</th>\n",
       "      <td>17286034</td>\n",
       "      <td>GENEActiv</td>\n",
       "      <td>13_BOS</td>\n",
       "      <td>1</td>\n",
       "      <td>Boston</td>\n",
       "      <td>fldng</td>\n",
       "      <td>1</td>\n",
       "      <td>Right</td>\n",
       "      <td>2.0</td>\n",
       "      <td>NaN</td>\n",
       "      <td>1.0</td>\n",
       "      <td>Data/34/17286034/fldng_GENEActiv.tsv</td>\n",
       "    </tr>\n",
       "    <tr>\n",
       "      <th>25822_22</th>\n",
       "      <td>17286036</td>\n",
       "      <td>Pebble</td>\n",
       "      <td>13_BOS</td>\n",
       "      <td>1</td>\n",
       "      <td>Boston</td>\n",
       "      <td>fldng</td>\n",
       "      <td>1</td>\n",
       "      <td>Left</td>\n",
       "      <td>1.0</td>\n",
       "      <td>NaN</td>\n",
       "      <td>1.0</td>\n",
       "      <td>Data/36/17286036/fldng_Pebble.tsv</td>\n",
       "    </tr>\n",
       "    <tr>\n",
       "      <th>25823_22</th>\n",
       "      <td>17286039</td>\n",
       "      <td>GENEActiv</td>\n",
       "      <td>13_BOS</td>\n",
       "      <td>1</td>\n",
       "      <td>Boston</td>\n",
       "      <td>ftnl1</td>\n",
       "      <td>1</td>\n",
       "      <td>Right</td>\n",
       "      <td>NaN</td>\n",
       "      <td>0.0</td>\n",
       "      <td>NaN</td>\n",
       "      <td>Data/39/17286039/ftnl1_GENEActiv.tsv</td>\n",
       "    </tr>\n",
       "  </tbody>\n",
       "</table>\n",
       "</div>"
      ],
      "text/plain": [
       "          dataFileHandleId     device patient  session    site   task  visit  \\\n",
       "25819_22          17286028  GENEActiv  13_BOS        1  Boston  drnkg      1   \n",
       "25820_22          17286030     Pebble  13_BOS        1  Boston  drnkg      1   \n",
       "25821_22          17286034  GENEActiv  13_BOS        1  Boston  fldng      1   \n",
       "25822_22          17286036     Pebble  13_BOS        1  Boston  fldng      1   \n",
       "25823_22          17286039  GENEActiv  13_BOS        1  Boston  ftnl1      1   \n",
       "\n",
       "         deviceSide  tremorScore  dyskinesiaScore  bradykinesiaScore  \\\n",
       "25819_22      Right          1.0              NaN                1.0   \n",
       "25820_22       Left          1.0              NaN                1.0   \n",
       "25821_22      Right          2.0              NaN                1.0   \n",
       "25822_22       Left          1.0              NaN                1.0   \n",
       "25823_22      Right          NaN              0.0                NaN   \n",
       "\n",
       "                                          path  \n",
       "25819_22  Data/28/17286028/drnkg_GENEActiv.tsv  \n",
       "25820_22     Data/30/17286030/drnkg_Pebble.tsv  \n",
       "25821_22  Data/34/17286034/fldng_GENEActiv.tsv  \n",
       "25822_22     Data/36/17286036/fldng_Pebble.tsv  \n",
       "25823_22  Data/39/17286039/ftnl1_GENEActiv.tsv  "
      ]
     },
     "execution_count": 6,
     "metadata": {},
     "output_type": "execute_result"
    }
   ],
   "source": [
    "df_train.head()"
   ]
  },
  {
   "cell_type": "code",
   "execution_count": null,
   "metadata": {
    "collapsed": true
   },
   "outputs": [],
   "source": []
  },
  {
   "cell_type": "code",
   "execution_count": 15,
   "metadata": {
    "collapsed": false
   },
   "outputs": [],
   "source": [
    "p1 = df_train.path[0]"
   ]
  },
  {
   "cell_type": "code",
   "execution_count": 20,
   "metadata": {
    "collapsed": false
   },
   "outputs": [],
   "source": [
    "rawdata = pd.read_csv(p1,sep='\\t')"
   ]
  },
  {
   "cell_type": "code",
   "execution_count": 24,
   "metadata": {
    "collapsed": false
   },
   "outputs": [
    {
     "data": {
      "text/plain": [
       "<matplotlib.axes._subplots.AxesSubplot at 0x104539ba8>"
      ]
     },
     "execution_count": 24,
     "metadata": {},
     "output_type": "execute_result"
    },
    {
     "data": {
      "image/png": "[encoded data removed]",
      "text/plain": [
       "<matplotlib.figure.Figure at 0x110a2b080>"
      ]
     },
     "metadata": {},
     "output_type": "display_data"
    }
   ],
   "source": [
    "rawdata.iloc[:,1:4].plot()"
   ]
  },
  {
   "cell_type": "code",
   "execution_count": 25,
   "metadata": {
    "collapsed": false
   },
   "outputs": [
    {
     "data": {
      "text/html": [
       "<div>\n",
       "<style>\n",
       "    .dataframe thead tr:only-child th {\n",
       "        text-align: right;\n",
       "    }\n",
       "\n",
       "    .dataframe thead th {\n",
       "        text-align: left;\n",
       "    }\n",
       "\n",
       "    .dataframe tbody tr th {\n",
       "        vertical-align: top;\n",
       "    }\n",
       "</style>\n",
       "<table border=\"1\" class=\"dataframe\">\n",
       "  <thead>\n",
       "    <tr style=\"text-align: right;\">\n",
       "      <th></th>\n",
       "      <th>timestamp</th>\n",
       "      <th>GENEActiv_X</th>\n",
       "      <th>GENEActiv_Y</th>\n",
       "      <th>GENEActiv_Z</th>\n",
       "      <th>GENEActiv_Magnitude</th>\n",
       "    </tr>\n",
       "  </thead>\n",
       "  <tbody>\n",
       "    <tr>\n",
       "      <th>0</th>\n",
       "      <td>1.434973e+09</td>\n",
       "      <td>-7.51189</td>\n",
       "      <td>-3.56766</td>\n",
       "      <td>-4.28453</td>\n",
       "      <td>9.35489</td>\n",
       "    </tr>\n",
       "    <tr>\n",
       "      <th>1</th>\n",
       "      <td>1.434973e+09</td>\n",
       "      <td>-7.55112</td>\n",
       "      <td>-3.95894</td>\n",
       "      <td>-4.05407</td>\n",
       "      <td>9.44077</td>\n",
       "    </tr>\n",
       "    <tr>\n",
       "      <th>2</th>\n",
       "      <td>1.434973e+09</td>\n",
       "      <td>-7.86689</td>\n",
       "      <td>-4.15409</td>\n",
       "      <td>-3.78537</td>\n",
       "      <td>9.66817</td>\n",
       "    </tr>\n",
       "    <tr>\n",
       "      <th>3</th>\n",
       "      <td>1.434973e+09</td>\n",
       "      <td>-7.86690</td>\n",
       "      <td>-4.27178</td>\n",
       "      <td>-4.13055</td>\n",
       "      <td>9.85889</td>\n",
       "    </tr>\n",
       "    <tr>\n",
       "      <th>4</th>\n",
       "      <td>1.434973e+09</td>\n",
       "      <td>-7.90612</td>\n",
       "      <td>-3.88050</td>\n",
       "      <td>-4.36101</td>\n",
       "      <td>9.82769</td>\n",
       "    </tr>\n",
       "  </tbody>\n",
       "</table>\n",
       "</div>"
      ],
      "text/plain": [
       "      timestamp  GENEActiv_X  GENEActiv_Y  GENEActiv_Z  GENEActiv_Magnitude\n",
       "0  1.434973e+09     -7.51189     -3.56766     -4.28453              9.35489\n",
       "1  1.434973e+09     -7.55112     -3.95894     -4.05407              9.44077\n",
       "2  1.434973e+09     -7.86689     -4.15409     -3.78537              9.66817\n",
       "3  1.434973e+09     -7.86690     -4.27178     -4.13055              9.85889\n",
       "4  1.434973e+09     -7.90612     -3.88050     -4.36101              9.82769"
      ]
     },
     "execution_count": 25,
     "metadata": {},
     "output_type": "execute_result"
    }
   ],
   "source": [
    "rawdata.head()"
   ]
  },
  {
   "cell_type": "code",
   "execution_count": null,
   "metadata": {
    "collapsed": true
   },
   "outputs": [],
   "source": []
  }
 ],
 "metadata": {
  "anaconda-cloud": {},
  "kernelspec": {
   "display_name": "Python [conda env:py35_pd20]",
   "language": "python",
   "name": "conda-env-py35_pd20-py"
  },
  "language_info": {
   "codemirror_mode": {
    "name": "ipython",
    "version": 3
   },
   "file_extension": ".py",
   "mimetype": "text/x-python",
   "name": "python",
   "nbconvert_exporter": "python",
   "pygments_lexer": "ipython3",
   "version": "3.5.2"
  }
 },
 "nbformat": 4,
 "nbformat_minor": 1
}
